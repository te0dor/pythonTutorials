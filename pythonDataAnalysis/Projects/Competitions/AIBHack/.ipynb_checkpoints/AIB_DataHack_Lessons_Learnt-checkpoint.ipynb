{
 "cells": [
  {
   "cell_type": "markdown",
   "metadata": {},
   "source": [
    "Yesterday I attended my first Datathon at AIB. It was my first live 6 hours data hackathon. This notebook contains some of the lessons I learnt while working on a complicated, large dataset and little time. \n",
    "\n",
    "I have taken part in few Kaggle Competitions. However, I have to say the experience in a single day or 8 hours to be precise hackathon are completely different. Few steps I took later,I wish I had taken earlier."
   ]
  },
  {
   "cell_type": "markdown",
   "metadata": {},
   "source": [
    "###### The lessons learnt from time poor , large dataset hackathon provide a completely different approach than kaggle competitions.\n",
    "\n",
    "I have some starter submission scripts which I use in data competitions. I decided to start with analysing and running the scripts. \n",
    "\n",
    "However, it turned out to be a bad idea for a simple reason I got comitted to make my scripts work rather than trying something new. "
   ]
  },
  {
   "cell_type": "code",
   "execution_count": 1,
   "metadata": {
    "collapsed": true
   },
   "outputs": [],
   "source": [
    "import pandas as pd\n",
    "import numpy as np\n",
    "import matplotlib.pyplot as plt\n",
    "%matplotlib inline\n",
    "import seaborn as sns\n",
    "\n",
    "# Supress unnecessary warnings so that presentation looks clean\n",
    "import warnings\n",
    "warnings.filterwarnings('ignore')\n"
   ]
  },
  {
   "cell_type": "markdown",
   "metadata": {},
   "source": [
    "It was my first time working with text file and to take care of encoding error , I used iso-8859-1 or it could be latin1 . "
   ]
  },
  {
   "cell_type": "code",
   "execution_count": 2,
   "metadata": {
    "collapsed": false
   },
   "outputs": [],
   "source": [
    "train = pd.read_csv(r\"C:\\Users\\piush\\Desktop\\Dataset\\AibHack\\data\\training.txt\", sep=\"\\t\", encoding = 'iso-8859-1')\n",
    "test = pd.read_csv(r\"C:\\Users\\piush\\Desktop\\Dataset\\AibHack\\data\\testing.txt\", sep=\"\\t\",encoding = 'iso-8859-1')"
   ]
  },
  {
   "cell_type": "markdown",
   "metadata": {},
   "source": [
    "One thing which I should have done was set index as BuildingID. Reason less steps to type and execute further along. One important lesson I learnt is to keep everything simple."
   ]
  },
  {
   "cell_type": "code",
   "execution_count": 3,
   "metadata": {
    "collapsed": true
   },
   "outputs": [],
   "source": [
    "train = train.set_index('BuildingID')\n",
    "test = test.set_index('BuildingID')"
   ]
  },
  {
   "cell_type": "code",
   "execution_count": 4,
   "metadata": {
    "collapsed": false
   },
   "outputs": [
    {
     "data": {
      "text/html": [
       "<div>\n",
       "<table border=\"1\" class=\"dataframe\">\n",
       "  <thead>\n",
       "    <tr style=\"text-align: right;\">\n",
       "      <th></th>\n",
       "      <th>County</th>\n",
       "      <th>Type</th>\n",
       "      <th>Year</th>\n",
       "      <th>RatingType</th>\n",
       "      <th>EnergyRatingCat</th>\n",
       "      <th>EnergyRatingCont</th>\n",
       "      <th>GroundFloorArea</th>\n",
       "      <th>AvgWallU</th>\n",
       "      <th>AvgRoofU</th>\n",
       "      <th>AvgFloorU</th>\n",
       "      <th>...</th>\n",
       "      <th>EffSecondHeatGenPlant</th>\n",
       "      <th>PercSecondHeat</th>\n",
       "      <th>FuelTypeThirdBoiler</th>\n",
       "      <th>EffThirdHeatGenPlant</th>\n",
       "      <th>PercThirdHeat</th>\n",
       "      <th>HeatingSystemSolarSpace</th>\n",
       "      <th>TotPrimaryEnergyFac</th>\n",
       "      <th>TotCO2Emissions</th>\n",
       "      <th>PrimaryEnergySecondarySpace</th>\n",
       "      <th>EnergyMainWater</th>\n",
       "    </tr>\n",
       "    <tr>\n",
       "      <th>BuildingID</th>\n",
       "      <th></th>\n",
       "      <th></th>\n",
       "      <th></th>\n",
       "      <th></th>\n",
       "      <th></th>\n",
       "      <th></th>\n",
       "      <th></th>\n",
       "      <th></th>\n",
       "      <th></th>\n",
       "      <th></th>\n",
       "      <th></th>\n",
       "      <th></th>\n",
       "      <th></th>\n",
       "      <th></th>\n",
       "      <th></th>\n",
       "      <th></th>\n",
       "      <th></th>\n",
       "      <th></th>\n",
       "      <th></th>\n",
       "      <th></th>\n",
       "      <th></th>\n",
       "    </tr>\n",
       "  </thead>\n",
       "  <tbody>\n",
       "    <tr>\n",
       "      <th>190835</th>\n",
       "      <td>Co. Wexford</td>\n",
       "      <td>Mid-terrace house</td>\n",
       "      <td>Y1890.0</td>\n",
       "      <td>Existing</td>\n",
       "      <td>F</td>\n",
       "      <td>418.42</td>\n",
       "      <td>52.04 sq. m</td>\n",
       "      <td>2.10</td>\n",
       "      <td>2.30</td>\n",
       "      <td>0.61</td>\n",
       "      <td>...</td>\n",
       "      <td>NaN</td>\n",
       "      <td>NaN</td>\n",
       "      <td>NaN</td>\n",
       "      <td>NaN</td>\n",
       "      <td>NaN</td>\n",
       "      <td>NaN</td>\n",
       "      <td>NaN</td>\n",
       "      <td>NaN</td>\n",
       "      <td>0.000</td>\n",
       "      <td>2335.6809</td>\n",
       "    </tr>\n",
       "    <tr>\n",
       "      <th>523113</th>\n",
       "      <td>Co. Clare</td>\n",
       "      <td>Detached house</td>\n",
       "      <td>Y1901.0</td>\n",
       "      <td>Existing</td>\n",
       "      <td>G</td>\n",
       "      <td>520.35</td>\n",
       "      <td>147.44 sq. m</td>\n",
       "      <td>2.01</td>\n",
       "      <td>0.75</td>\n",
       "      <td>0.94</td>\n",
       "      <td>...</td>\n",
       "      <td>NaN</td>\n",
       "      <td>NaN</td>\n",
       "      <td>NaN</td>\n",
       "      <td>NaN</td>\n",
       "      <td>NaN</td>\n",
       "      <td>NaN</td>\n",
       "      <td>NaN</td>\n",
       "      <td>NaN</td>\n",
       "      <td>7144.838</td>\n",
       "      <td>4470.0759</td>\n",
       "    </tr>\n",
       "  </tbody>\n",
       "</table>\n",
       "<p>2 rows × 140 columns</p>\n",
       "</div>"
      ],
      "text/plain": [
       "                 County               Type     Year       RatingType  \\\n",
       "BuildingID                                                             \n",
       "190835      Co. Wexford  Mid-terrace house  Y1890.0  Existing          \n",
       "523113        Co. Clare     Detached house  Y1901.0  Existing          \n",
       "\n",
       "           EnergyRatingCat  EnergyRatingCont GroundFloorArea  AvgWallU  \\\n",
       "BuildingID                                                               \n",
       "190835                  F             418.42     52.04 sq. m      2.10   \n",
       "523113                  G             520.35    147.44 sq. m      2.01   \n",
       "\n",
       "            AvgRoofU  AvgFloorU       ...        EffSecondHeatGenPlant  \\\n",
       "BuildingID                            ...                                \n",
       "190835          2.30       0.61       ...                          NaN   \n",
       "523113          0.75       0.94       ...                          NaN   \n",
       "\n",
       "            PercSecondHeat  FuelTypeThirdBoiler  EffThirdHeatGenPlant  \\\n",
       "BuildingID                                                              \n",
       "190835                 NaN                  NaN                   NaN   \n",
       "523113                 NaN                  NaN                   NaN   \n",
       "\n",
       "            PercThirdHeat  HeatingSystemSolarSpace  TotPrimaryEnergyFac  \\\n",
       "BuildingID                                                                \n",
       "190835                NaN                      NaN                  NaN   \n",
       "523113                NaN                      NaN                  NaN   \n",
       "\n",
       "            TotCO2Emissions PrimaryEnergySecondarySpace EnergyMainWater  \n",
       "BuildingID                                                               \n",
       "190835                  NaN                       0.000       2335.6809  \n",
       "523113                  NaN                    7144.838       4470.0759  \n",
       "\n",
       "[2 rows x 140 columns]"
      ]
     },
     "execution_count": 4,
     "metadata": {},
     "output_type": "execute_result"
    }
   ],
   "source": [
    "train.head(2)"
   ]
  },
  {
   "cell_type": "markdown",
   "metadata": {},
   "source": [
    "I discovered that there were some nan in EnergyRatingCat (the label we were supposed to predict) . So we drop the nan from training set."
   ]
  },
  {
   "cell_type": "code",
   "execution_count": 5,
   "metadata": {
    "collapsed": true
   },
   "outputs": [],
   "source": [
    "train = train[pd.notnull(train['EnergyRatingCat'])]"
   ]
  },
  {
   "cell_type": "markdown",
   "metadata": {},
   "source": [
    "I did some basic descriptive analysis and learnt it was a really challenging dataset. However, I didn't spend more time to check the variables which I could be using for my modelling. There were variables which are not applicable to calculate (BER rating)[http://www.seai.ie/Your_Building/BER/] such as County. Also,there were variables which were important for modelling and needed to be formatted e.g. GroundFloorArea was as object or Year. \n",
    "\n",
    "I decided to convert categorical variables as dummy variable. It was a bad idea because the large datset was getting bigger and my laptop kept running out of memory. "
   ]
  },
  {
   "cell_type": "markdown",
   "metadata": {},
   "source": [
    "#### Formatting objects to numerical variables using strip"
   ]
  },
  {
   "cell_type": "code",
   "execution_count": 5,
   "metadata": {
    "collapsed": false
   },
   "outputs": [],
   "source": [
    "train['GroundFloorArea'] = train['GroundFloorArea'].str.strip('sq. m')"
   ]
  },
  {
   "cell_type": "code",
   "execution_count": 6,
   "metadata": {
    "collapsed": false
   },
   "outputs": [],
   "source": [
    "train['Year'] = train['Year'].str.strip('Y')"
   ]
  },
  {
   "cell_type": "markdown",
   "metadata": {},
   "source": [
    "Using strip is a much faster method than using list comprehension, lamdas, map.\n",
    "I spent a lot of time trying to write the functions successfully. Try to use as many pandas inbuilt functions as possible.\n",
    "\n",
    "http://www.python-course.eu/lambda.php\n",
    "http://python-3-patterns-idioms-test.readthedocs.io/en/latest/Comprehensions.html\n"
   ]
  },
  {
   "cell_type": "markdown",
   "metadata": {},
   "source": [
    "###### Converting object to float"
   ]
  },
  {
   "cell_type": "code",
   "execution_count": 13,
   "metadata": {
    "collapsed": false
   },
   "outputs": [],
   "source": [
    "train['GroundFloorArea'] = train['GroundFloorArea'].astype(float)"
   ]
  },
  {
   "cell_type": "markdown",
   "metadata": {},
   "source": [
    "###### Fill NaN with Zero in numerical variables"
   ]
  },
  {
   "cell_type": "code",
   "execution_count": 18,
   "metadata": {
    "collapsed": false
   },
   "outputs": [],
   "source": [
    "train['GroundFloorArea'] = train['GroundFloorArea'].fillna(0)"
   ]
  },
  {
   "cell_type": "markdown",
   "metadata": {},
   "source": [
    "###### Check any NaN values"
   ]
  },
  {
   "cell_type": "code",
   "execution_count": 19,
   "metadata": {
    "collapsed": false
   },
   "outputs": [
    {
     "data": {
      "text/plain": [
       "False"
      ]
     },
     "execution_count": 19,
     "metadata": {},
     "output_type": "execute_result"
    }
   ],
   "source": [
    "train['GroundFloorArea'].isnull().values.any()"
   ]
  },
  {
   "cell_type": "markdown",
   "metadata": {},
   "source": [
    "##### Data Visualisation"
   ]
  },
  {
   "cell_type": "markdown",
   "metadata": {},
   "source": [
    "I started with data visualisation and after seeing few variables I assumed I knew enough to feature engineer. In hindsight I should have spent more time to understand the dataset."
   ]
  },
  {
   "cell_type": "code",
   "execution_count": 7,
   "metadata": {
    "collapsed": false
   },
   "outputs": [
    {
     "data": {
      "text/plain": [
       "Index(['County', 'Type', 'Year', 'RatingType', 'EnergyRatingCat',\n",
       "       'EnergyRatingCont', 'GroundFloorArea', 'AvgWallU', 'AvgRoofU',\n",
       "       'AvgFloorU',\n",
       "       ...\n",
       "       'EffSecondHeatGenPlant', 'PercSecondHeat', 'FuelTypeThirdBoiler',\n",
       "       'EffThirdHeatGenPlant', 'PercThirdHeat', 'HeatingSystemSolarSpace',\n",
       "       'TotPrimaryEnergyFac', 'TotCO2Emissions', 'PrimaryEnergySecondarySpace',\n",
       "       'EnergyMainWater'],\n",
       "      dtype='object', length=140)"
      ]
     },
     "execution_count": 7,
     "metadata": {},
     "output_type": "execute_result"
    }
   ],
   "source": [
    "train.columns"
   ]
  },
  {
   "cell_type": "code",
   "execution_count": 8,
   "metadata": {
    "collapsed": false
   },
   "outputs": [
    {
     "data": {
      "text/plain": [
       "<matplotlib.axes._subplots.AxesSubplot at 0x2435fc4ab38>"
      ]
     },
     "execution_count": 8,
     "metadata": {},
     "output_type": "execute_result"
    },
    {
     "data": {
      "image/png": "[encoded data removed]",
      "text/plain": [
       "<matplotlib.figure.Figure at 0x24360d0fe80>"
      ]
     },
     "metadata": {},
     "output_type": "display_data"
    }
   ],
   "source": [
    "train['EnergyRatingCat'].value_counts().plot.bar()"
   ]
  },
  {
   "cell_type": "code",
   "execution_count": 20,
   "metadata": {
    "collapsed": false
   },
   "outputs": [
    {
     "data": {
      "text/plain": [
       "<matplotlib.axes._subplots.AxesSubplot at 0x24339a6a748>"
      ]
     },
     "execution_count": 20,
     "metadata": {},
     "output_type": "execute_result"
    },
    {
     "data": {
      "image/png": "[encoded data removed]",
      "text/plain": [
       "<matplotlib.figure.Figure at 0x2433f2c57b8>"
      ]
     },
     "metadata": {},
     "output_type": "display_data"
    }
   ],
   "source": [
    "#draw a histogram and not fit a kernel density estimate (KDE).\n",
    "sns.distplot(train['GroundFloorArea'], kde = True, color = 'b', hist_kws={'alpha': 0.9})"
   ]
  },
  {
   "cell_type": "markdown",
   "metadata": {},
   "source": [
    "Most of the variables were skewed,missing values or not formatted. \n",
    "So I decided to feature engineer the varaibles with fill, median etc. I spent a long time to feature engineer thinking about feature selection and normaize the data. It turned out to be my biggest mistake.Mostly every column needed something to be done. Also, it was really time consuming. I should have taken an approach with selecting only few variables which I thought were important and easy to manipulate. "
   ]
  },
  {
   "cell_type": "markdown",
   "metadata": {},
   "source": [
    "#### Join the two datasets"
   ]
  },
  {
   "cell_type": "code",
   "execution_count": 6,
   "metadata": {
    "collapsed": true
   },
   "outputs": [],
   "source": [
    "df = train.append(test, ignore_index = True)"
   ]
  },
  {
   "cell_type": "markdown",
   "metadata": {},
   "source": [
    "###### Selecting only few columns to start modelling\n",
    "\n",
    "I started with dropping columns which had NaN , however I was scared I will loose valuable information. However, I feel that I should have gone with the idea of dropping the columns to simplify the dataset and make a quick submission for benchmark puposes.\n",
    "\n",
    "Some variables such as MainWHFuel or VentMethod contained space, brackets or two to 6 words, I spent my time in proving formatting them or trusting dummyvariables or label encoder(scikit-learn) to do the job for me. However,Label encoder does not work on unformatted text and large datasets mean either errors or memory errors. \n",
    "\n",
    "All this led to turning on or off my laptop on numerous occasions.\n",
    "\n",
    "With only 2 hours left, I decided to use only the numerical variables but I guess I left it quiet late. \n",
    "\n",
    "In hindsight I believe a better approach would have been selecting few columns which needed less feature engineering or those which I considered important after reading the descriptions of the variables."
   ]
  },
  {
   "cell_type": "markdown",
   "metadata": {},
   "source": [
    "###### Selecting a smaller dataset to model"
   ]
  },
  {
   "cell_type": "code",
   "execution_count": 13,
   "metadata": {
    "collapsed": true
   },
   "outputs": [],
   "source": [
    "#http://stackoverflow.com/questions/11285613/selecting-columns\n",
    "df1 = df[['RatingType','TotFloorArea','GroundFloorArea','Type','EnergyRatingCont','AvgWallU','AvgRoofU','AvgFloorU','AvgWindowU','AvgDoorU','ExposedWallArea','ExposedRoofArea','NStoreys','SharedMPRN','BuildingReg','NChimneys','DLobby','WallStructure','PermTest','WarmAir','StorageLoss','EnergyRatingCat']]"
   ]
  },
  {
   "cell_type": "code",
   "execution_count": 14,
   "metadata": {
    "collapsed": false
   },
   "outputs": [
    {
     "data": {
      "text/plain": [
       "Index(['RatingType', 'TotFloorArea', 'GroundFloorArea', 'Type',\n",
       "       'EnergyRatingCont', 'AvgWallU', 'AvgRoofU', 'AvgFloorU', 'AvgWindowU',\n",
       "       'AvgDoorU', 'ExposedWallArea', 'ExposedRoofArea', 'NStoreys',\n",
       "       'SharedMPRN', 'BuildingReg', 'NChimneys', 'DLobby', 'WallStructure',\n",
       "       'PermTest', 'WarmAir', 'StorageLoss', 'EnergyRatingCat'],\n",
       "      dtype='object')"
      ]
     },
     "execution_count": 14,
     "metadata": {},
     "output_type": "execute_result"
    }
   ],
   "source": [
    "df1.columns"
   ]
  },
  {
   "cell_type": "markdown",
   "metadata": {},
   "source": [
    "###### Changing GroundFloorArea to numercial variable"
   ]
  },
  {
   "cell_type": "code",
   "execution_count": 15,
   "metadata": {
    "collapsed": true
   },
   "outputs": [],
   "source": [
    "df1['GroundFloorArea'] = df1['GroundFloorArea'].str.strip('sq. m')\n",
    "df1['GroundFloorArea'] = df1['GroundFloorArea'].astype(float)"
   ]
  },
  {
   "cell_type": "code",
   "execution_count": 19,
   "metadata": {
    "collapsed": false
   },
   "outputs": [
    {
     "data": {
      "text/plain": [
       "RatingType          True\n",
       "TotFloorArea        True\n",
       "GroundFloorArea     True\n",
       "Type                True\n",
       "EnergyRatingCont    True\n",
       "AvgWallU            True\n",
       "AvgRoofU            True\n",
       "AvgFloorU           True\n",
       "AvgWindowU          True\n",
       "AvgDoorU            True\n",
       "ExposedWallArea     True\n",
       "ExposedRoofArea     True\n",
       "NStoreys            True\n",
       "SharedMPRN          True\n",
       "BuildingReg         True\n",
       "NChimneys           True\n",
       "DLobby              True\n",
       "WallStructure       True\n",
       "PermTest            True\n",
       "WarmAir             True\n",
       "StorageLoss         True\n",
       "EnergyRatingCat     True\n",
       "dtype: bool"
      ]
     },
     "execution_count": 19,
     "metadata": {},
     "output_type": "execute_result"
    }
   ],
   "source": [
    "#Check columns with null values\n",
    "df1.isnull().any()"
   ]
  },
  {
   "cell_type": "markdown",
   "metadata": {},
   "source": [
    "###### Feature Enginerring"
   ]
  },
  {
   "cell_type": "code",
   "execution_count": 22,
   "metadata": {
    "collapsed": true
   },
   "outputs": [],
   "source": [
    "#Imputing all numerical values with median or zero\n",
    "df1.loc[:, \"TotFloorArea\"] = df1.loc[:, \"TotFloorArea\"].fillna(df1['TotFloorArea'].median())\n",
    "df1.loc[:, \"GroundFloorArea\"] = df1.loc[:, \"GroundFloorArea\"].fillna(df1['GroundFloorArea'].median())\n",
    "df1.loc[:, \"EnergyRatingCont\"] = df1.loc[:, \"EnergyRatingCont\"].fillna(df1['EnergyRatingCont'].median())\n",
    "df1.loc[:, \"AvgWallU\"] = df1.loc[:, \"AvgWallU\"].fillna(df1['AvgWallU'].median())\n",
    "df1.loc[:, \"AvgRoofU\"] = df1.loc[:, \"AvgRoofU\"].fillna(df1['AvgRoofU'].median())\n",
    "df1.loc[:, \"AvgFloorU\"] = df1.loc[:, \"AvgFloorU\"].fillna(df1['AvgFloorU'].median())\n",
    "df1.loc[:, \"AvgWindowU\"] = df1.loc[:, \"AvgWindowU\"].fillna(df1['AvgWindowU'].median())\n",
    "df1.loc[:, \"AvgDoorU\"] = df1.loc[:, \"AvgDoorU\"].fillna(df1['AvgDoorU'].median())\n",
    "df1.loc[:, \"ExposedWallArea\"] = df1.loc[:, \"ExposedWallArea\"].fillna(df1['ExposedWallArea'].median())\n",
    "df1.loc[:, \"ExposedRoofArea\"] = df1.loc[:, \"ExposedRoofArea\"].fillna(df1['ExposedRoofArea'].median())\n",
    "df1.loc[:, \"NStoreys\"] = df1.loc[:, \"NStoreys\"].fillna(0)\n",
    "df1.loc[:, \"BuildingReg\"] = df1.loc[:, \"BuildingReg\"].fillna(df1['BuildingReg'].median())\n",
    "df1.loc[:, \"NChimneys\"] = df1.loc[:, \"NChimneys\"].fillna(0)\n"
   ]
  },
  {
   "cell_type": "code",
   "execution_count": 23,
   "metadata": {
    "collapsed": false
   },
   "outputs": [
    {
     "data": {
      "text/plain": [
       "RatingType           object\n",
       "TotFloorArea        float64\n",
       "GroundFloorArea     float64\n",
       "Type                 object\n",
       "EnergyRatingCont    float64\n",
       "AvgWallU            float64\n",
       "AvgRoofU            float64\n",
       "AvgFloorU           float64\n",
       "AvgWindowU          float64\n",
       "AvgDoorU            float64\n",
       "ExposedWallArea     float64\n",
       "ExposedRoofArea     float64\n",
       "NStoreys            float64\n",
       "SharedMPRN           object\n",
       "BuildingReg         float64\n",
       "NChimneys           float64\n",
       "DLobby               object\n",
       "WallStructure        object\n",
       "PermTest             object\n",
       "WarmAir              object\n",
       "StorageLoss          object\n",
       "EnergyRatingCat      object\n",
       "dtype: object"
      ]
     },
     "execution_count": 23,
     "metadata": {},
     "output_type": "execute_result"
    }
   ],
   "source": [
    "df1.dtypes"
   ]
  },
  {
   "cell_type": "code",
   "execution_count": 24,
   "metadata": {
    "collapsed": true
   },
   "outputs": [],
   "source": [
    "#Filling all Nan Categorical except EnergyRatingCat (which is our target variable) values\n",
    "df1.loc[:, \"RatingType\"] = df1.loc[:, \"RatingType\"].fillna(\"None\")\n",
    "df1.loc[:, \"Type\"] = df1.loc[:, \"Type\"].fillna(\"None\")\n",
    "df1.loc[:, \"SharedMPRN\"] = df1.loc[:, \"SharedMPRN\"].fillna(\"No\")\n",
    "df1.loc[:, \"DLobby\"] = df1.loc[:, \"DLobby\"].fillna(\"No\")\n",
    "df1.loc[:, \"WallStructure\"] = df1.loc[:, \"WallStructure\"].fillna(\"None\")\n",
    "df1.loc[:, \"PermTest\"] = df1.loc[:, \"PermTest\"].fillna(\"No\")\n",
    "df1.loc[:, \"WarmAir\"] = df1.loc[:, \"WarmAir\"].fillna(\"No\")\n",
    "df1.loc[:, \"StorageLoss\"] = df1.loc[:, \"StorageLoss\"].fillna(\"No\")"
   ]
  },
  {
   "cell_type": "code",
   "execution_count": 27,
   "metadata": {
    "collapsed": false
   },
   "outputs": [],
   "source": [
    "df_M = df1.ix[:, df1.columns != 'EnergyRatingCat']"
   ]
  },
  {
   "cell_type": "code",
   "execution_count": 52,
   "metadata": {
    "collapsed": false
   },
   "outputs": [
    {
     "data": {
      "text/plain": [
       "False"
      ]
     },
     "execution_count": 52,
     "metadata": {},
     "output_type": "execute_result"
    }
   ],
   "source": [
    "target = train[pd.notnull(train['EnergyRatingCat'])]\n",
    "target = train['EnergyRatingCat']\n",
    "target.isnull().any()"
   ]
  },
  {
   "cell_type": "markdown",
   "metadata": {},
   "source": [
    "###### Label encode all categorical variables"
   ]
  },
  {
   "cell_type": "code",
   "execution_count": 56,
   "metadata": {
    "collapsed": false
   },
   "outputs": [],
   "source": [
    "#http://stackoverflow.com/questions/24458645/label-encoding-across-multiple-columns-in-scikit-learn\n",
    "from sklearn.preprocessing import LabelEncoder\n",
    "class_le = LabelEncoder()\n",
    "df_M['RatingType'] = class_le.fit_transform(df_M['RatingType'].values)\n",
    "df_M['Type'] = class_le.fit_transform(df_M['Type'].values)\n",
    "df_M['SharedMPRN'] = class_le.fit_transform(df_M['SharedMPRN'].values)\n",
    "df_M['DLobby'] = class_le.fit_transform(df_M['DLobby'].values)\n",
    "df_M['WallStructure'] = class_le.fit_transform(df_M['WallStructure'].values)\n",
    "df_M['PermTest'] = class_le.fit_transform(df_M['PermTest'].values)\n",
    "df_M['WarmAir'] = class_le.fit_transform(df_M['WarmAir'].values)\n"
   ]
  },
  {
   "cell_type": "markdown",
   "metadata": {},
   "source": [
    "StorageLoss had space as well as some had small letters and some Uppercase. LabelEncode doesnot work with this. "
   ]
  },
  {
   "cell_type": "code",
   "execution_count": 57,
   "metadata": {
    "collapsed": false
   },
   "outputs": [],
   "source": [
    "df_M['StorageLoss'] = df_M['StorageLoss'].str.strip(' ')"
   ]
  },
  {
   "cell_type": "code",
   "execution_count": 58,
   "metadata": {
    "collapsed": false
   },
   "outputs": [],
   "source": [
    "df_M['StorageLoss'] = df_M['StorageLoss'].str.upper()"
   ]
  },
  {
   "cell_type": "code",
   "execution_count": 59,
   "metadata": {
    "collapsed": false
   },
   "outputs": [],
   "source": [
    "df_M['StorageLoss'] = class_le.fit_transform(df_M['StorageLoss'].values)"
   ]
  },
  {
   "cell_type": "code",
   "execution_count": 72,
   "metadata": {
    "collapsed": false
   },
   "outputs": [
    {
     "data": {
      "text/plain": [
       "array([13, 14, 10, ...,  7,  5,  9], dtype=int64)"
      ]
     },
     "execution_count": 72,
     "metadata": {},
     "output_type": "execute_result"
    }
   ],
   "source": [
    "#Encoding target variable\n",
    "y = class_le.fit_transform(target.values)\n",
    "y"
   ]
  },
  {
   "cell_type": "markdown",
   "metadata": {},
   "source": [
    "###### Separate the target variable and separate the training and test data set"
   ]
  },
  {
   "cell_type": "code",
   "execution_count": 60,
   "metadata": {
    "collapsed": true
   },
   "outputs": [],
   "source": [
    "X = df_M[:train.shape[0]]\n",
    "test = df_M[train.shape[0]:]"
   ]
  },
  {
   "cell_type": "code",
   "execution_count": 61,
   "metadata": {
    "collapsed": false
   },
   "outputs": [
    {
     "name": "stdout",
     "output_type": "stream",
     "text": [
      "464502 rows for training set\n",
      "159262 rows for test set\n",
      "464502 rows for target\n"
     ]
    }
   ],
   "source": [
    "print (str(len(train))+\" rows for training set\")\n",
    "print (str(len(test))+\" rows for test set\")\n",
    "print (str(len(target))+\" rows for target\")"
   ]
  },
  {
   "cell_type": "markdown",
   "metadata": {},
   "source": [
    "###### Modelling"
   ]
  },
  {
   "cell_type": "code",
   "execution_count": 54,
   "metadata": {
    "collapsed": false
   },
   "outputs": [
    {
     "data": {
      "text/plain": [
       "RandomForestClassifier(bootstrap=True, class_weight=None, criterion='gini',\n",
       "            max_depth=None, max_features='auto', max_leaf_nodes=None,\n",
       "            min_impurity_split=1e-07, min_samples_leaf=1,\n",
       "            min_samples_split=2, min_weight_fraction_leaf=0.0,\n",
       "            n_estimators=100, n_jobs=1, oob_score=False, random_state=None,\n",
       "            verbose=0, warm_start=False)"
      ]
     },
     "execution_count": 54,
     "metadata": {},
     "output_type": "execute_result"
    }
   ],
   "source": [
    "from sklearn.ensemble import RandomForestClassifier\n",
    "clf = RandomForestClassifier(n_estimators=100)\n",
    "clf.fit(X, y)"
   ]
  },
  {
   "cell_type": "code",
   "execution_count": 73,
   "metadata": {
    "collapsed": false
   },
   "outputs": [
    {
     "data": {
      "text/plain": [
       "array([8, 8, 8, ..., 8, 8, 8], dtype=int64)"
      ]
     },
     "execution_count": 73,
     "metadata": {},
     "output_type": "execute_result"
    }
   ],
   "source": [
    "test_y = clf.predict(test)\n",
    "test_y"
   ]
  },
  {
   "cell_type": "markdown",
   "metadata": {},
   "source": [
    "###### Transform back to labels"
   ]
  },
  {
   "cell_type": "code",
   "execution_count": 74,
   "metadata": {
    "collapsed": false
   },
   "outputs": [],
   "source": [
    "test_y_1 = class_le.inverse_transform(test_y)"
   ]
  },
  {
   "cell_type": "code",
   "execution_count": 75,
   "metadata": {
    "collapsed": false
   },
   "outputs": [
    {
     "data": {
      "text/plain": [
       "array(['C3', 'C3', 'C3', ..., 'C3', 'C3', 'C3'], dtype=object)"
      ]
     },
     "execution_count": 75,
     "metadata": {},
     "output_type": "execute_result"
    }
   ],
   "source": [
    "test_y_1"
   ]
  },
  {
   "cell_type": "markdown",
   "metadata": {},
   "source": [
    "###### Submission"
   ]
  },
  {
   "cell_type": "code",
   "execution_count": 76,
   "metadata": {
    "collapsed": true
   },
   "outputs": [],
   "source": [
    "submission = pd.DataFrame()\n",
    "submission[\"BuildingID\"] = test.index\n",
    "submission[\"EnergyRatingCat\"]= test_y_1\n",
    "\n",
    "submission.to_csv(\"final_result.txt\",index=False,sep =\"\\t\")"
   ]
  },
  {
   "cell_type": "markdown",
   "metadata": {},
   "source": [
    "For next iteration I would have added more columns and extended my model.\n",
    "\n",
    "I would have been able to try different algorithms, cross validation etc. on a smaller dataset.\n",
    "\n",
    "###### I feel this bottom-up approach is better than top-down approach trying to figure out all the data,feature engineering and feature selection when there is limited time and a challenging data.\n",
    "\n",
    "What do you think?\n",
    "\n",
    "Please feel free to leave a comment or suggestions."
   ]
  },
  {
   "cell_type": "code",
   "execution_count": null,
   "metadata": {
    "collapsed": true
   },
   "outputs": [],
   "source": []
  }
 ],
 "metadata": {
  "anaconda-cloud": {},
  "kernelspec": {
   "display_name": "Python [default]",
   "language": "python",
   "name": "python3"
  },
  "language_info": {
   "codemirror_mode": {
    "name": "ipython",
    "version": 3
   },
   "file_extension": ".py",
   "mimetype": "text/x-python",
   "name": "python",
   "nbconvert_exporter": "python",
   "pygments_lexer": "ipython3",
   "version": "3.5.1"
  }
 },
 "nbformat": 4,
 "nbformat_minor": 1
}
