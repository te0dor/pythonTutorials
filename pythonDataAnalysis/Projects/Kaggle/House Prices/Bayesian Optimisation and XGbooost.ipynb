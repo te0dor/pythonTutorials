{
 "cells": [
  {
   "cell_type": "code",
   "execution_count": 22,
   "metadata": {
    "collapsed": false
   },
   "outputs": [],
   "source": [
    "import warnings\n",
    "with warnings.catch_warnings():\n",
    "    warnings.filterwarnings(\"ignore\",category=DeprecationWarning)\n",
    "    import math\n",
    "    import pandas as pd\n",
    "    import numpy as np\n",
    "    from datetime import datetime\n",
    "    from scipy.stats import norm\n",
    "    import xgboost as xgb\n",
    "    from sklearn.preprocessing import StandardScaler\n",
    "    from sklearn.cross_validation import cross_val_score, cross_val_predict\n",
    "    from sklearn.feature_extraction.text import CountVectorizer\n",
    "    from sklearn.svm import SVR, SVC\n",
    "    import matplotlib.pyplot as plt\n",
    "    import scipy.interpolate\n",
    "    from itertools import product, chain\n",
    "    from sklearn.metrics import make_scorer, mean_squared_error\n",
    "\n",
    "    from bayes_opt import BayesianOptimization\n"
   ]
  },
  {
   "cell_type": "code",
   "execution_count": 23,
   "metadata": {
    "collapsed": true
   },
   "outputs": [],
   "source": [
    "def timer(start_time=None):\n",
    "    if not start_time:\n",
    "        start_time = datetime.now()\n",
    "        return start_time\n",
    "    elif start_time:\n",
    "        tmin, tsec = divmod((datetime.now() - start_time).total_seconds(), 60)\n",
    "        print(\" Time taken: %i minutes and %s seconds.\" % (tmin, round(tsec,2)))\n",
    "\n",
    "def XGbcv( max_depth, gamma, min_child_weight, max_delta_step, subsample, colsample_bytree):\n",
    "\n",
    "    global RMSEbest\n",
    "    global ITERbest\n",
    "\n",
    "    paramt = {\n",
    "              'booster' : 'gbtree',\n",
    "              'max_depth' : max_depth.astype(int),\n",
    "              'gamma' : gamma,\n",
    "              'eta' : 0.01,\n",
    "              'objective': 'reg:linear',\n",
    "              'nthread' : 8,\n",
    "              'silent' : True,\n",
    "              'eval_metric': 'rmse',\n",
    "              'subsample' : subsample,\n",
    "              'colsample_bytree' : colsample_bytree,\n",
    "              'min_child_weight' : min_child_weight,\n",
    "              'max_delta_step' : max_delta_step.astype(int),\n",
    "              'seed' : 1001\n",
    "              }\n",
    "\n",
    "    folds = 5\n",
    "\n",
    "    xgbr = xgb.cv(\n",
    "           paramt,\n",
    "           dtrain,\n",
    "           num_boost_round = 100000,\n",
    "#           stratified = True,\n",
    "           nfold = folds,\n",
    "           verbose_eval = False,\n",
    "           early_stopping_rounds = 50,\n",
    "           metrics = \"rmse\",\n",
    "           show_stdv = True\n",
    "          )\n",
    "\n",
    "    cv_score = xgbr['test-rmse-mean'].iloc[-1]\n",
    "    if ( cv_score < RMSEbest ):\n",
    "        RMSEbest = cv_score\n",
    "        ITERbest = len(xgbr)\n",
    "\n",
    "    return (-1.0 * cv_score)\n",
    "\n",
    "if __name__ == \"__main__\":\n",
    "\n",
    "    folds = 5\n",
    "    RMSEbest = 10.\n",
    "    ITERbest = 0\n"
   ]
  },
  {
   "cell_type": "code",
   "execution_count": 24,
   "metadata": {
    "collapsed": true
   },
   "outputs": [],
   "source": [
    "ids = test['Id']"
   ]
  },
  {
   "cell_type": "code",
   "execution_count": 25,
   "metadata": {
    "collapsed": false
   },
   "outputs": [
    {
     "name": "stdout",
     "output_type": "stream",
     "text": [
      "data loaded\n",
      "1456 rows for training set\n",
      "1459 rows for test set\n"
     ]
    }
   ],
   "source": [
    "#Import Data\n",
    "df_train = pd.read_csv(r\"C:\\Users\\piush\\Desktop\\Dataset\\House_Prices\\train.csv\")\n",
    "df_test = pd.read_csv(r\"C:\\Users\\piush\\Desktop\\Dataset\\House_Prices\\test.csv\")\n",
    "print ('data loaded')\n",
    "print (str(len(train))+\" rows for training set\")\n",
    "print (str(len(test))+\" rows for test set\")"
   ]
  },
  {
   "cell_type": "markdown",
   "metadata": {},
   "source": [
    "### Check for duplicates"
   ]
  },
  {
   "cell_type": "code",
   "execution_count": 26,
   "metadata": {
    "collapsed": false
   },
   "outputs": [
    {
     "name": "stdout",
     "output_type": "stream",
     "text": [
      "There are 0 duplicate IDs for 1460 total entries\n"
     ]
    }
   ],
   "source": [
    "idsUnique = len(set(df_train.Id))\n",
    "idsTotal = df_train.shape[0]\n",
    "idsDupli = idsTotal - idsUnique\n",
    "print(\"There are \" + str(idsDupli) + \" duplicate IDs for \" + str(idsTotal) + \" total entries\")\n",
    "\n",
    "# Drop Id column\n",
    "# df_train.drop(\"Id\", axis = 1, inplace = True)"
   ]
  },
  {
   "cell_type": "markdown",
   "metadata": {},
   "source": [
    "### Looking for outliers"
   ]
  },
  {
   "cell_type": "code",
   "execution_count": 27,
   "metadata": {
    "collapsed": false
   },
   "outputs": [
    {
     "data": {
      "image/png": "[encoded data removed]",
      "text/plain": [
       "<matplotlib.figure.Figure at 0x21efdaa15f8>"
      ]
     },
     "metadata": {},
     "output_type": "display_data"
    }
   ],
   "source": [
    "plt.scatter(df_train.GrLivArea, df_train.SalePrice, c = \"blue\", marker = \"s\")\n",
    "plt.title(\"Looking for outliers\")\n",
    "plt.xlabel(\"GrLivArea\")\n",
    "plt.ylabel(\"SalePrice\")\n",
    "plt.show()\n",
    "\n",
    "train = train[train.GrLivArea < 4000]"
   ]
  },
  {
   "cell_type": "markdown",
   "metadata": {},
   "source": [
    "There seems to be 2 extreme outliers on the bottom right, really large houses that sold for really cheap. More generally, the author of the dataset recommends removing 'any houses with more than 4000 square feet' from the dataset."
   ]
  },
  {
   "cell_type": "markdown",
   "metadata": {},
   "source": [
    "### Define Median Absolute Deviation Function"
   ]
  },
  {
   "cell_type": "code",
   "execution_count": 28,
   "metadata": {
    "collapsed": true
   },
   "outputs": [],
   "source": [
    "def is_outlier(points, thresh = 3.5):\n",
    "    if len(points.shape) == 1:\n",
    "        points = points[:,None]\n",
    "    median = np.median(points, axis=0)\n",
    "    diff = np.sum((points - median)**2, axis=-1)\n",
    "    diff = np.sqrt(diff)\n",
    "    med_abs_deviation = np.median(diff)\n",
    "\n",
    "    modified_z_score = 0.6745 * diff / med_abs_deviation\n",
    "\n",
    "    return modified_z_score > thresh"
   ]
  },
  {
   "cell_type": "markdown",
   "metadata": {},
   "source": [
    "### Remove Skew from SalesPrice data as required by the competition\n",
    "Select the last column as target"
   ]
  },
  {
   "cell_type": "code",
   "execution_count": 29,
   "metadata": {
    "collapsed": true
   },
   "outputs": [],
   "source": [
    "target = df_train[df_train.columns.values[-1]]\n",
    "target_log = np.log(target)"
   ]
  },
  {
   "cell_type": "markdown",
   "metadata": {},
   "source": [
    "### Merge Train and Test to evaluate ranges and missing values excluding the last column\n",
    "This was done primarily to ensure that Categorical data in the training and testing data sets were consistent."
   ]
  },
  {
   "cell_type": "code",
   "execution_count": 30,
   "metadata": {
    "collapsed": true
   },
   "outputs": [],
   "source": [
    "df_train = df_train[df_train.columns.values[:-1]]\n",
    "df = df_train.append(df_test, ignore_index = True)"
   ]
  },
  {
   "cell_type": "markdown",
   "metadata": {},
   "source": [
    "### Find all categorical data"
   ]
  },
  {
   "cell_type": "code",
   "execution_count": 31,
   "metadata": {
    "collapsed": true
   },
   "outputs": [],
   "source": [
    "cats = []\n",
    "for col in df.columns.values:\n",
    "    if df[col].dtype == 'object':\n",
    "        cats.append(col)"
   ]
  },
  {
   "cell_type": "markdown",
   "metadata": {},
   "source": [
    "### Create separte datasets for Continuous vs Categorical"
   ]
  },
  {
   "cell_type": "code",
   "execution_count": 32,
   "metadata": {
    "collapsed": true
   },
   "outputs": [],
   "source": [
    "df_cont = df.drop(cats, axis=1)\n",
    "df_cat = df[cats]"
   ]
  },
  {
   "cell_type": "markdown",
   "metadata": {},
   "source": [
    "### Handle Missing Data for continuous data\n",
    "1. If any column contains more than 50 entries of missing data, drop the column\n",
    "2. If any column contains fewer that 50 entries of missing data, replace those missing values with the median for that column (the median imputation used on missing values is very crude. For example, Area features with missing values may be this way because the property does not have that feature (e.g. a pool) so it would make more sense to set this to zero. )\n",
    "3. Remove outliers using Median Absolute Deviation\n",
    "4. Calculate skewness for each variable and if greater than 0.75 transform it\n",
    "5. Apply the sklearn.Normalizer to each column"
   ]
  },
  {
   "cell_type": "code",
   "execution_count": 33,
   "metadata": {
    "collapsed": false
   },
   "outputs": [],
   "source": [
    "from sklearn.preprocessing import Normalizer\n",
    "for col in df_cont.columns.values:\n",
    "    if np.sum(df_cont[col].isnull()) > 50:\n",
    "        #print(\"Removing Column: {}\".format(col))\n",
    "        df_cont = df_cont.drop(col, axis = 1)\n",
    "    elif np.sum(df_cont[col].isnull()) > 0:\n",
    "        #print(\"Replacing with Median: {}\".format(col))\n",
    "        median = df_cont[col].median()\n",
    "        idx = np.where(df_cont[col].isnull())[0]\n",
    "        df_cont[col].iloc[idx] = median\n",
    "        \n",
    "        \n",
    "        outliers = np.where(is_outlier(df_cont[col]))\n",
    "        df_cont[col].iloc[outliers] = median\n",
    "        \n",
    "               \n",
    "        if skew(df_cont[col]) > 0.75:\n",
    "            #print(\"Skewness Detected: {}\".format(col))\n",
    "            df_cont[col] = np.log(df_cont[col])\n",
    "            df_cont[col] = df_cont[col].apply(lambda x: 0 if x == -np.inf else x)\n",
    "        \n",
    "        df_cont[col] = Normalizer().fit_transform(df_cont[col].reshape(1,-1))[0]\n",
    "        "
   ]
  },
  {
   "cell_type": "markdown",
   "metadata": {},
   "source": [
    "### Handle Missing Data for Categorical Data\n",
    "1. If any column contains more than 50 entries of missing data, drop the column\n",
    "2. If any column contains fewer that 50 entries of missing data, replace those values with the 'MIA'\n",
    "3. Apply the sklearn.LabelEncoder\n",
    "4. For each categorical variable determine the number of unique values and for each, create a new column that is binary"
   ]
  },
  {
   "cell_type": "code",
   "execution_count": 34,
   "metadata": {
    "collapsed": false
   },
   "outputs": [],
   "source": [
    "from sklearn.preprocessing import LabelEncoder\n",
    "for col in df_cat.columns.values:\n",
    "    if np.sum(df_cat[col].isnull()) > 50:\n",
    "        df_cat = df_cat.drop(col, axis = 1)\n",
    "        continue\n",
    "    elif np.sum(df_cat[col].isnull()) > 0:\n",
    "        df_cat[col] = df_cat[col].fillna('MIA')\n",
    "        \n",
    "    df_cat[col] = LabelEncoder().fit_transform(df_cat[col])\n",
    "    \n",
    "    num_cols = df_cat[col].max()\n",
    "    for i in range(num_cols):\n",
    "        col_name = col + '_' + str(i)\n",
    "        df_cat[col_name] = df_cat[col].apply(lambda x: 1 if x == i else 0)\n",
    "        \n",
    "    df_cat = df_cat.drop(col, axis = 1)"
   ]
  },
  {
   "cell_type": "markdown",
   "metadata": {},
   "source": [
    "### Merge Numeric and Categorical Datasets and Create Training and Testing Data"
   ]
  },
  {
   "cell_type": "code",
   "execution_count": 36,
   "metadata": {
    "collapsed": false
   },
   "outputs": [],
   "source": [
    "df_new = df_cont.join(df_cat)\n",
    "\n",
    "df_train = df_new.iloc[:len(df_train) - 1]\n",
    "df_train = df_train.join(target_log)\n",
    "\n",
    "df_test = df_new.iloc[len(df_train) + 1:]\n",
    "\n",
    "X_train = df_train[df_train.columns.values[1:-1]]\n",
    "y = df_train[df_train.columns.values[-1]]\n",
    "\n",
    "X_test = df_test[df_test.columns.values[1:]]\n"
   ]
  },
  {
   "cell_type": "markdown",
   "metadata": {},
   "source": [
    "#### Print the length for checking"
   ]
  },
  {
   "cell_type": "code",
   "execution_count": 37,
   "metadata": {
    "collapsed": false
   },
   "outputs": [
    {
     "name": "stdout",
     "output_type": "stream",
     "text": [
      "1459 rows for training set\n",
      "1458 rows for test set\n"
     ]
    }
   ],
   "source": [
    "print (str(len(y_train))+\" rows for training set\")\n",
    "print (str(len(X_train))+\" rows for test set\")"
   ]
  },
  {
   "cell_type": "code",
   "execution_count": 39,
   "metadata": {
    "collapsed": false
   },
   "outputs": [
    {
     "name": "stdout",
     "output_type": "stream",
     "text": [
      "\n",
      " Train Set Matrix Dimensions: 1458 x 205\n",
      "\n",
      " Test Set Matrix Dimensions: 1460 x 205\n",
      "\n",
      "# Global Optimization Search for XGboost Parameters\n",
      "\n",
      " Please note that negative RMSE values will be shown below. This is because\n",
      " RMSE needs to be minimized, while Bayes Optimizer always maximizes the function.\n",
      "\n",
      "\u001b[31mInitialization\u001b[0m\n",
      "\u001b[94m----------------------------------------------------------------------------------------------------------------------------------\u001b[0m\n",
      " Step |   Time |      Value |   colsample_bytree |     gamma |   max_delta_step |   max_depth |   min_child_weight |   subsample | \n",
      "    1 | 00m56s | \u001b[35m  -0.13802\u001b[0m | \u001b[32m            0.2681\u001b[0m | \u001b[32m   0.3620\u001b[0m | \u001b[32m          1.0397\u001b[0m | \u001b[32m     5.9410\u001b[0m | \u001b[32m            1.1258\u001b[0m | \u001b[32m     0.8400\u001b[0m | \n",
      "    2 | 00m42s | \u001b[35m  -0.13721\u001b[0m | \u001b[32m            0.1940\u001b[0m | \u001b[32m   0.3636\u001b[0m | \u001b[32m          1.4011\u001b[0m | \u001b[32m     4.4752\u001b[0m | \u001b[32m            0.1427\u001b[0m | \u001b[32m     0.6598\u001b[0m | \n",
      "    3 | 00m48s | \u001b[35m  -0.12700\u001b[0m | \u001b[32m            0.1492\u001b[0m | \u001b[32m   0.0928\u001b[0m | \u001b[32m          0.8459\u001b[0m | \u001b[32m     3.0763\u001b[0m | \u001b[32m            3.3553\u001b[0m | \u001b[32m     0.6909\u001b[0m | \n",
      "    4 | 00m47s |   -0.13207 |             0.1748 |    0.2231 |           1.7442 |      3.2849 |             0.5065 |      0.6489 | \n",
      "    5 | 01m39s |   -0.14742 |             0.1715 |    0.7987 |           1.9089 |      9.6406 |             3.0748 |      0.8106 | \n",
      "    6 | 01m34s |   -0.14999 |             0.3673 |    0.8611 |           3.8126 |      7.6637 |             4.2730 |      0.5135 | \n",
      "    7 | 00m48s |   -0.15373 |             0.1483 |    0.9811 |           0.9462 |      4.0343 |             0.4503 |      0.5209 | \n",
      "    8 | 00m49s |   -0.12878 |             0.0561 |    0.1111 |           0.5562 |      3.6292 |             4.7576 |      0.7823 | \n",
      "    9 | 01m00s |   -0.15139 |             0.0512 |    0.9171 |           0.3985 |      8.8148 |             4.0323 |      0.8040 | \n",
      "   10 | 00m40s |   -0.15199 |             0.2988 |    0.9178 |           3.3216 |      4.6141 |             2.5134 |      0.5806 | \n",
      "\u001b[31mBayesian Optimization\u001b[0m\n",
      "\u001b[94m----------------------------------------------------------------------------------------------------------------------------------\u001b[0m\n",
      " Step |   Time |      Value |   colsample_bytree |     gamma |   max_delta_step |   max_depth |   min_child_weight |   subsample | \n",
      "   11 | 02m05s |   -0.12738 |             0.1559 |    0.0000 |           4.7071 |      9.2197 |             0.1261 |      0.9000 | \n",
      "   12 | 00m51s | \u001b[35m  -0.12488\u001b[0m | \u001b[32m            0.2316\u001b[0m | \u001b[32m   0.0250\u001b[0m | \u001b[32m          1.2931\u001b[0m | \u001b[32m     9.6373\u001b[0m | \u001b[32m            4.2291\u001b[0m | \u001b[32m     0.5077\u001b[0m | \n",
      "   13 | 00m46s |   -0.12699 |             0.1747 |    0.1178 |           4.3842 |      4.1449 |             4.0371 |      0.6065 | \n",
      "   14 | 00m51s |   -0.12601 |             0.0850 |    0.0620 |           4.7778 |      7.9299 |             2.6298 |      0.6272 | \n",
      "   15 | 01m02s |   -0.12568 |             0.0790 |    0.0338 |           1.2339 |      5.5426 |             4.2120 |      0.8063 | \n",
      "   16 | 01m19s |   -0.13347 |             0.1204 |    0.2453 |           1.3771 |      8.7663 |             1.8161 |      0.5300 | \n",
      "   17 | 01m42s |   -0.13093 |             0.3975 |    0.1941 |           4.6521 |      7.6102 |             4.9827 |      0.7000 | \n",
      "   18 | 01m56s |   -0.12846 |             0.0711 |    0.0053 |           1.7741 |      7.1691 |             0.5947 |      0.8593 | \n",
      "   19 | 01m04s |   -0.12735 |             0.3890 |    0.1103 |           2.0289 |      7.7710 |             4.0781 |      0.6806 | \n",
      "   20 | 01m17s | \u001b[35m  -0.12354\u001b[0m | \u001b[32m            0.2006\u001b[0m | \u001b[32m   0.0392\u001b[0m | \u001b[32m          3.4900\u001b[0m | \u001b[32m     6.2945\u001b[0m | \u001b[32m            2.6560\u001b[0m | \u001b[32m     0.6725\u001b[0m | \n",
      "   21 | 00m46s |   -0.14480 |             0.0606 |    0.6409 |           4.4796 |      4.2981 |             0.1399 |      0.8640 | \n",
      "   22 | 01m16s |   -0.13316 |             0.0701 |    0.2303 |           3.7485 |      9.9232 |             2.3800 |      0.8794 | \n",
      "   23 | 00m37s |   -0.12475 |             0.3284 |    0.0343 |           0.7272 |      4.8615 |             3.6787 |      0.8635 | \n",
      "   24 | 00m36s |   -0.12681 |             0.1413 |    0.0979 |           2.2042 |      4.0807 |             3.1003 |      0.5712 | \n",
      "   25 | 00m39s |   -0.13474 |             0.2863 |    0.2478 |           3.5973 |      4.7680 |             4.6300 |      0.8949 | \n",
      "   26 | 01m22s |   -0.12526 |             0.3828 |    0.0560 |           1.9030 |      6.6636 |             0.0035 |      0.7058 | \n",
      "   27 | 01m38s |   -0.12524 |             0.3829 |    0.0843 |           2.3088 |      9.6195 |             2.6947 |      0.5140 | \n",
      "   28 | 00m59s |   -0.12517 |             0.2296 |    0.0816 |           2.4927 |      6.6814 |             1.1616 |      0.5885 | \n",
      "   29 | 01m38s |   -0.12696 |             0.1504 |    0.1014 |           3.9451 |      9.2391 |             0.0445 |      0.5787 | \n",
      "   30 | 01m22s |   -0.12704 |             0.3758 |    0.0870 |           4.1167 |      8.5413 |             3.8912 |      0.7778 | \n",
      "   31 | 01m14s |   -0.15276 |             0.1412 |    0.9854 |           0.1877 |      9.1365 |             0.4735 |      0.6786 | \n",
      "   32 | 01m10s |   -0.13187 |             0.0653 |    0.2175 |           4.7678 |      5.8455 |             2.7050 |      0.7384 | \n",
      "   33 | 01m59s |   -0.13913 |             0.3737 |    0.3930 |           4.8651 |      8.5080 |             0.7894 |      0.6007 | \n",
      "   34 | 00m43s |   -0.13750 |             0.1457 |    0.3712 |           3.7565 |      3.2744 |             4.2707 |      0.7188 | \n",
      "   35 | 01m26s |   -0.13149 |             0.3055 |    0.2218 |           1.5784 |      7.0366 |             2.7666 |      0.5300 | \n",
      "-----------------------------------------------------\n",
      " Time taken: 40 minutes and 18.96 seconds.\n",
      "\n",
      " Best RMSE value: 0.123536\n",
      " Best XGboost parameters:\n",
      " max_depth=6 gamma=0.039232 min_child_weight=2.655976 max_delta_step=3 subsample=0.672501 colsample_bytree=0.200551\n",
      "\n",
      "# Making Prediction\n"
     ]
    },
    {
     "data": {
      "image/png": "[encoded data removed]",
      "text/plain": [
       "<matplotlib.figure.Figure at 0x21efc31ec88>"
      ]
     },
     "metadata": {},
     "output_type": "display_data"
    },
    {
     "name": "stdout",
     "output_type": "stream",
     "text": [
      "\n",
      " First 10 Lines of Your Prediction:\n",
      "\n",
      "          SalePrice\n",
      "Id                 \n",
      "1461.000 146298.703\n",
      "1462.000 128942.414\n",
      "1463.000 160214.781\n",
      "1464.000 186885.547\n",
      "1465.000 197908.516\n",
      "1466.000 195805.484\n",
      "1467.000 176719.562\n",
      "1468.000 175540.562\n",
      "1469.000 163271.641\n",
      "1470.000 175943.312\n",
      "\n",
      " Writing Submission File: submission_XGb_0.123536_2016-10-16-15-23.csv\n",
      " Time taken: 0 minutes and 14.26 seconds.\n"
     ]
    },
    {
     "data": {
      "image/png": "[encoded data removed]",
      "text/plain": [
       "<matplotlib.figure.Figure at 0x21e80663588>"
      ]
     },
     "metadata": {},
     "output_type": "display_data"
    },
    {
     "name": "stdout",
     "output_type": "stream",
     "text": [
      "\n",
      " Optimization Plot Saved:  HousePrices-XGb-5fold-01-v2.png\n",
      "\n",
      " Grid Search Results Saved:  HousePrices-XGb-5fold-01-v2-grid.csv\n",
      "\n"
     ]
    }
   ],
   "source": [
    "    dtrain = xgb.DMatrix(X_train, label=y)\n",
    "    dtest = xgb.DMatrix(X_test)\n",
    "\n",
    "    print(\"\\n Train Set Matrix Dimensions: %d x %d\" % (X_train.shape[0], X_train.shape[1]))\n",
    "    print(\"\\n Test Set Matrix Dimensions: %d x %d\\n\" % (X_test.shape[0], X_test.shape[1]))\n",
    "\n",
    "    start_time = timer(None)\n",
    "    print(\"# Global Optimization Search for XGboost Parameters\")\n",
    "    print(\"\\n Please note that negative RMSE values will be shown below. This is because\")\n",
    "    print(\" RMSE needs to be minimized, while Bayes Optimizer always maximizes the function.\\n\")\n",
    "\n",
    "    XGbBO = BayesianOptimization(XGbcv, {'max_depth': (3, 10),\n",
    "                                     'gamma': (0.00001, 1.0),\n",
    "                                     'min_child_weight': (0, 5),\n",
    "                                     'max_delta_step': (0, 5),\n",
    "                                     'subsample': (0.5, 0.9),\n",
    "                                     'colsample_bytree' :(0.05, 0.4)\n",
    "                                    })\n",
    "\n",
    "    XGbBO.maximize(init_points=10, n_iter=25, acq=\"ei\", xi=0.01)\n",
    "    print(\"-\" * 53)\n",
    "    timer(start_time)\n",
    "\n",
    "    best_RMSE = round((-1.0 * XGbBO.res['max']['max_val']), 6)\n",
    "    max_depth = XGbBO.res['max']['max_params']['max_depth']\n",
    "    gamma = XGbBO.res['max']['max_params']['gamma']\n",
    "    min_child_weight = XGbBO.res['max']['max_params']['min_child_weight']\n",
    "    max_delta_step = XGbBO.res['max']['max_params']['max_delta_step']\n",
    "    subsample = XGbBO.res['max']['max_params']['subsample']\n",
    "    colsample_bytree = XGbBO.res['max']['max_params']['colsample_bytree']\n",
    "\n",
    "    print(\"\\n Best RMSE value: %f\" % best_RMSE)\n",
    "    print(\" Best XGboost parameters:\")\n",
    "    print(\" max_depth=%d gamma=%f min_child_weight=%f max_delta_step=%d subsample=%f colsample_bytree=%f\" % (int(max_depth), gamma, min_child_weight, int(max_delta_step), subsample, colsample_bytree))\n",
    "\n",
    "    start_time = timer(None)\n",
    "    print(\"\\n# Making Prediction\")\n",
    "\n",
    "    paramt = {\n",
    "              'booster' : 'gbtree',\n",
    "              'max_depth' : max_depth.astype(int),\n",
    "              'gamma' : gamma,\n",
    "              'eta' : 0.01,\n",
    "              'objective': 'reg:linear',\n",
    "              'nthread' : 8,\n",
    "              'silent' : True,\n",
    "              'eval_metric': 'rmse',\n",
    "              'subsample' : subsample,\n",
    "              'colsample_bytree' : colsample_bytree,\n",
    "              'min_child_weight' : min_child_weight,\n",
    "              'max_delta_step' : max_delta_step.astype(int),\n",
    "              'seed' : 1001\n",
    "              }\n",
    "\n",
    "    xgbr = xgb.train(paramt, dtrain, num_boost_round=int(ITERbest*(1+(1/folds))))\n",
    "\n",
    "    x_true = np.expm1(y)\n",
    "    x_pred = np.expm1(xgbr.predict(dtrain))\n",
    "# Normalized prediction error clipped to -20% to 20% range\n",
    "    x_diff = np.clip(100 * ( (x_pred - x_true) / x_true ), -20, 20)\n",
    "    plt.figure(1)\n",
    "    plt.title(\"True vs Predicted Sale Prices\")\n",
    "    plt.scatter(x_true, x_pred, c=x_diff)\n",
    "    plt.colorbar()\n",
    "    plt.plot([x_true.min()-5000, x_true.max()+5000], [x_true.min()-5000, x_true.max()+5000], 'k--', lw=1)\n",
    "    plt.xlabel('Sale Price')\n",
    "    plt.ylabel('Predicted Sale Price')\n",
    "    plt.xlim( 0, 800000 )\n",
    "    plt.ylim( 0, 800000 )\n",
    "    plt.ticklabel_format(style='sci', axis='both', scilimits=(0,0))\n",
    "    plt.savefig('./HousePrices-XGb-' + str(folds) + 'fold-train-predictions-01-v2.png')\n",
    "    plt.show(block=False)\n",
    "\n",
    "    y_pred = np.expm1(xgbr.predict(dtest))\n",
    "    result = pd.DataFrame(y_pred, columns=['SalePrice'])\n",
    "    result[\"Id\"] = ids\n",
    "    result = result.set_index(\"Id\")\n",
    "    print(\"\\n First 10 Lines of Your Prediction:\\n\")\n",
    "    print(result.head(10))\n",
    "    now = datetime.now()\n",
    "    sub_file = 'submission_XGb_' + str(best_RMSE) + '_' + str(now.strftime(\"%Y-%m-%d-%H-%M\")) + '.csv'\n",
    "    print(\"\\n Writing Submission File: %s\" % sub_file)\n",
    "    result.to_csv(sub_file, index=True, index_label='Id')\n",
    "    timer(start_time)\n",
    "\n",
    "    history_df = pd.DataFrame(XGbBO.res['all']['params'])\n",
    "    history_df2 = pd.DataFrame(XGbBO.res['all']['values'])\n",
    "    history_df = pd.concat((history_df, history_df2), axis=1)\n",
    "    history_df.rename(columns = { 0 : 'RMSE'}, inplace=True)\n",
    "    history_df.index.names = ['Iteration']\n",
    "\n",
    "    x, y, z = history_df['subsample'].values, history_df['colsample_bytree'].values, history_df['RMSE'].values\n",
    "    # Set up a regular grid of interpolation points\n",
    "    xi, yi = np.linspace(0.35, 1.05, 100), np.linspace(0, 0.65, 100)\n",
    "    xi, yi = np.meshgrid(xi, yi)\n",
    "\n",
    "    # Interpolate\n",
    "    rbf = scipy.interpolate.Rbf(x, y, z, function='multiquadric', smooth=0.5)\n",
    "    zi = rbf(xi, yi)\n",
    "\n",
    "    plt.figure(2)\n",
    "    plt.title(\"Interpolated density distribution of C vs gamma\")\n",
    "    plt.imshow(zi, vmin=z.min(), vmax=z.max(), origin='lower',\n",
    "           extent=[0.35, 1.05, 0, 0.65], interpolation = 'lanczos')\n",
    "    plt.scatter(x, y, c=z)\n",
    "    plt.colorbar()\n",
    "    plt.xlabel('subsample')\n",
    "    plt.ylabel('colsample_bytree')\n",
    "    plt.savefig('./HousePrices-XGb-' + str(folds) + 'fold-01-v2.png')\n",
    "    plt.show(block=False)\n",
    "    print(\"\\n Optimization Plot Saved:  HousePrices-XGb-%dfold-01-v2.png\" % folds)\n",
    "\n",
    "    history_df['RMSE'] = -1.0 * history_df['RMSE']\n",
    "    history_df.to_csv(\"./HousePrices-XGb-\" + str(folds) + \"fold-01-v2-grid.csv\")\n",
    "    print(\"\\n Grid Search Results Saved:  HousePrices-XGb-%dfold-01-v2-grid.csv\\n\" % folds)"
   ]
  }
 ],
 "metadata": {
  "kernelspec": {
   "display_name": "Python 3",
   "language": "python",
   "name": "python3"
  },
  "language_info": {
   "codemirror_mode": {
    "name": "ipython",
    "version": 3
   },
   "file_extension": ".py",
   "mimetype": "text/x-python",
   "name": "python",
   "nbconvert_exporter": "python",
   "pygments_lexer": "ipython3",
   "version": "3.5.1"
  }
 },
 "nbformat": 4,
 "nbformat_minor": 0
}
