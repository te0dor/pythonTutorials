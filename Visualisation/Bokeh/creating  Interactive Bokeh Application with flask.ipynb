{
 "cells": [
  {
   "cell_type": "markdown",
   "metadata": {},
   "source": [
    "Tutorial from \n",
    "https://summerofhpc.prace-ri.eu/bringing-visualisation-to-the-web-with-python-and-bokeh/\n",
    "\n",
    "Bokeh is a python library for creating interactive plots and figures. With the bokeh server, you can create fully interactive applications with pull-down menus, sliders and other widgets. This has the advantage that you can create fluid and responsive web applications – for example, as you move a slider bar, your plot can respond and update in real-time. However, bokeh plots may only be one part of larger data analysis platform you are trying to build, and once you move beyond a single small application, it can be hard to scale a bokeh server application to accommodate everything you need.\n",
    "\n",
    "The alternative that I recommend is to use Python flask for your overall web application framework, and then use Bokeh as one component within that framework. This enables complete control over the platform, and also enables you to more easily integrate other components (even other plotting components) and libraries from the larger python data ecosystem. In doing so, you lose some of the built-in fluidity and responsiveness of bokeh server, but you gain maximum flexibility over the entire platform. It’s also much simpler, as the flask framework is very easy to pick up."
   ]
  },
  {
   "cell_type": "code",
   "execution_count": 1,
   "metadata": {
    "collapsed": true
   },
   "outputs": [],
   "source": [
    "import numpy as np # Import the numpy numerical library\n",
    "import pandas as pd # Import your pet panda\n",
    "\n",
    "# Build the dataframe\n",
    "df = pd.DataFrame({\n",
    " 'x': 2*np.pi*i/100 ,\n",
    " 'sin': np.sin(2*np.pi*i/100),\n",
    " 'cos': np.cos(2*np.pi*i/100),\n",
    "} for i in range(0,101))"
   ]
  },
  {
   "cell_type": "code",
   "execution_count": 3,
   "metadata": {
    "collapsed": false
   },
   "outputs": [
    {
     "ename": "AttributeError",
     "evalue": "module 'bokeh.io' has no attribute 'Line'",
     "output_type": "error",
     "traceback": [
      "\u001b[0;31m---------------------------------------------------------------------------\u001b[0m",
      "\u001b[0;31mAttributeError\u001b[0m                            Traceback (most recent call last)",
      "\u001b[0;32m<ipython-input-3-288c65c7a2d4>\u001b[0m in \u001b[0;36m<module>\u001b[0;34m()\u001b[0m\n\u001b[1;32m      4\u001b[0m \u001b[0moutput_file\u001b[0m\u001b[1;33m(\u001b[0m\u001b[1;34m'myplot.html'\u001b[0m\u001b[1;33m)\u001b[0m\u001b[1;33m\u001b[0m\u001b[0m\n\u001b[1;32m      5\u001b[0m \u001b[1;33m\u001b[0m\u001b[0m\n\u001b[0;32m----> 6\u001b[0;31m \u001b[0mplot\u001b[0m \u001b[1;33m=\u001b[0m \u001b[0mbc\u001b[0m\u001b[1;33m.\u001b[0m\u001b[0mLine\u001b[0m\u001b[1;33m(\u001b[0m\u001b[0mtitle\u001b[0m\u001b[1;33m=\u001b[0m\u001b[1;34m'Triganometric fun!'\u001b[0m\u001b[1;33m,\u001b[0m \u001b[0mdata\u001b[0m\u001b[1;33m=\u001b[0m\u001b[0mdf\u001b[0m\u001b[1;33m,\u001b[0m \u001b[0mx\u001b[0m\u001b[1;33m=\u001b[0m\u001b[1;34m'x'\u001b[0m\u001b[1;33m,\u001b[0m \u001b[0mylabel\u001b[0m\u001b[1;33m=\u001b[0m\u001b[1;34m'y'\u001b[0m\u001b[1;33m)\u001b[0m\u001b[1;33m\u001b[0m\u001b[0m\n\u001b[0m\u001b[1;32m      7\u001b[0m \u001b[0mshow\u001b[0m\u001b[1;33m(\u001b[0m\u001b[0mplot\u001b[0m\u001b[1;33m)\u001b[0m\u001b[1;33m\u001b[0m\u001b[0m\n",
      "\u001b[0;31mAttributeError\u001b[0m: module 'bokeh.io' has no attribute 'Line'"
     ]
    }
   ],
   "source": [
    "import bokeh.charts as bc\n",
    "from bokeh.plotting import output_file,show\n",
    "\n",
    "output_file('myplot.html')\n",
    "\n",
    "plot = bc.Line(title='Triganometric fun!', data=df, x='x', ylabel='y')\n",
    "show(plot)"
   ]
  },
  {
   "cell_type": "markdown",
   "metadata": {},
   "source": [
    "#### Flask Application"
   ]
  },
  {
   "cell_type": "code",
   "execution_count": null,
   "metadata": {
    "collapsed": false
   },
   "outputs": [],
   "source": [
    "from flask import Flask\n",
    "app = Flask(__name__)\n",
    "\n",
    "import pandas as pd\n",
    "import numpy as np\n",
    "import bokeh.charts as bc\n",
    "from bokeh.resources import CDN\n",
    "from bokeh.embed import components\n",
    "\n",
    "@app.route(\"/\")\n",
    "def visualisation():\n",
    " # Build the dataframe\n",
    " df = pd.DataFrame({\n",
    " 'x': 2*np.pi*i/100,\n",
    " 'sin': np.sin(2*np.pi*i/100),\n",
    " 'cos': np.cos(2*np.pi*i/100),\n",
    " } for i in range(0,101))\n",
    "\n",
    " # Create the plot\n",
    " plot = bc.Line(title='Triganometric fun!',\n",
    " data=df, x='x', ylabel='y')\n",
    "\n",
    " # Generate the script and HTML for the plot\n",
    " script, div = components(plot)\n",
    "\n",
    " # Return the webpage\n",
    " return \"\"\"\n",
    "<!doctype html>\n",
    "<head>\n",
    " <title>My wonderful trigonometric webpage</title>\n",
    " {bokeh_css}\n",
    "</head>\n",
    "<body>\n",
    " <h1>Everyone loves trig!\n",
    " {div}\n",
    "\n",
    " {bokeh_js}\n",
    " {script}\n",
    "</body>\n",
    " \"\"\".format(script=script, div=div, bokeh_css=CDN.render_css(),\n",
    " bokeh_js=CDN.render_js())\n",
    "\n",
    "if __name__ == \"__main__\":\n",
    " app.run(host='0.0.0.0', port=80)"
   ]
  },
  {
   "cell_type": "markdown",
   "metadata": {},
   "source": [
    "### Runs at the address localhost"
   ]
  },
  {
   "cell_type": "code",
   "execution_count": null,
   "metadata": {
    "collapsed": true
   },
   "outputs": [],
   "source": []
  }
 ],
 "metadata": {
  "anaconda-cloud": {},
  "kernelspec": {
   "display_name": "Python [default]",
   "language": "python",
   "name": "python3"
  },
  "language_info": {
   "codemirror_mode": {
    "name": "ipython",
    "version": 3
   },
   "file_extension": ".py",
   "mimetype": "text/x-python",
   "name": "python",
   "nbconvert_exporter": "python",
   "pygments_lexer": "ipython3",
   "version": "3.5.1"
  }
 },
 "nbformat": 4,
 "nbformat_minor": 2
}
