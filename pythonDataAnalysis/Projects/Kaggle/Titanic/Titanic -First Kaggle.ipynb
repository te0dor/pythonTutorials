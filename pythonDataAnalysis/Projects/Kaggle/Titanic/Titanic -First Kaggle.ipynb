{
 "cells": [
  {
   "cell_type": "code",
   "execution_count": 361,
   "metadata": {
    "collapsed": true
   },
   "outputs": [],
   "source": [
    "import pandas as pd\n",
    "import numpy as np"
   ]
  },
  {
   "cell_type": "code",
   "execution_count": 362,
   "metadata": {
    "collapsed": false
   },
   "outputs": [],
   "source": [
    "df_train = pd.read_csv(r'C:\\Users\\piush\\Desktop\\Dataset\\Titanic\\train.csv')"
   ]
  },
  {
   "cell_type": "code",
   "execution_count": 363,
   "metadata": {
    "collapsed": false
   },
   "outputs": [
    {
     "data": {
      "text/html": [
       "<div>\n",
       "<table border=\"1\" class=\"dataframe\">\n",
       "  <thead>\n",
       "    <tr style=\"text-align: right;\">\n",
       "      <th></th>\n",
       "      <th>PassengerId</th>\n",
       "      <th>Survived</th>\n",
       "      <th>Pclass</th>\n",
       "      <th>Name</th>\n",
       "      <th>Sex</th>\n",
       "      <th>Age</th>\n",
       "      <th>SibSp</th>\n",
       "      <th>Parch</th>\n",
       "      <th>Ticket</th>\n",
       "      <th>Fare</th>\n",
       "      <th>Cabin</th>\n",
       "      <th>Embarked</th>\n",
       "    </tr>\n",
       "  </thead>\n",
       "  <tbody>\n",
       "    <tr>\n",
       "      <th>0</th>\n",
       "      <td>1</td>\n",
       "      <td>0</td>\n",
       "      <td>3</td>\n",
       "      <td>Braund, Mr. Owen Harris</td>\n",
       "      <td>male</td>\n",
       "      <td>22.0</td>\n",
       "      <td>1</td>\n",
       "      <td>0</td>\n",
       "      <td>A/5 21171</td>\n",
       "      <td>7.2500</td>\n",
       "      <td>NaN</td>\n",
       "      <td>S</td>\n",
       "    </tr>\n",
       "    <tr>\n",
       "      <th>1</th>\n",
       "      <td>2</td>\n",
       "      <td>1</td>\n",
       "      <td>1</td>\n",
       "      <td>Cumings, Mrs. John Bradley (Florence Briggs Th...</td>\n",
       "      <td>female</td>\n",
       "      <td>38.0</td>\n",
       "      <td>1</td>\n",
       "      <td>0</td>\n",
       "      <td>PC 17599</td>\n",
       "      <td>71.2833</td>\n",
       "      <td>C85</td>\n",
       "      <td>C</td>\n",
       "    </tr>\n",
       "  </tbody>\n",
       "</table>\n",
       "</div>"
      ],
      "text/plain": [
       "   PassengerId  Survived  Pclass  \\\n",
       "0            1         0       3   \n",
       "1            2         1       1   \n",
       "\n",
       "                                                Name     Sex   Age  SibSp  \\\n",
       "0                            Braund, Mr. Owen Harris    male  22.0      1   \n",
       "1  Cumings, Mrs. John Bradley (Florence Briggs Th...  female  38.0      1   \n",
       "\n",
       "   Parch     Ticket     Fare Cabin Embarked  \n",
       "0      0  A/5 21171   7.2500   NaN        S  \n",
       "1      0   PC 17599  71.2833   C85        C  "
      ]
     },
     "execution_count": 363,
     "metadata": {},
     "output_type": "execute_result"
    }
   ],
   "source": [
    "df_train.head(2)"
   ]
  },
  {
   "cell_type": "code",
   "execution_count": 364,
   "metadata": {
    "collapsed": false
   },
   "outputs": [
    {
     "name": "stdout",
     "output_type": "stream",
     "text": [
      "<class 'pandas.core.frame.DataFrame'>\n",
      "RangeIndex: 891 entries, 0 to 890\n",
      "Data columns (total 12 columns):\n",
      "PassengerId    891 non-null int64\n",
      "Survived       891 non-null int64\n",
      "Pclass         891 non-null int64\n",
      "Name           891 non-null object\n",
      "Sex            891 non-null object\n",
      "Age            714 non-null float64\n",
      "SibSp          891 non-null int64\n",
      "Parch          891 non-null int64\n",
      "Ticket         891 non-null object\n",
      "Fare           891 non-null float64\n",
      "Cabin          204 non-null object\n",
      "Embarked       889 non-null object\n",
      "dtypes: float64(2), int64(5), object(5)\n",
      "memory usage: 83.6+ KB\n"
     ]
    }
   ],
   "source": [
    "df_train.info()"
   ]
  },
  {
   "cell_type": "markdown",
   "metadata": {},
   "source": [
    "So the data has 891 rows of survived, however in some columns there is some data missing\n",
    "Age,Cabin,Embarked, Cabin\n",
    "\n",
    "Also, Name,Sex,Cabin,Embarked are objects and rest all are numerical data types."
   ]
  },
  {
   "cell_type": "markdown",
   "metadata": {},
   "source": [
    "We drop PassengerId, Name and Cabin as we do not need it."
   ]
  },
  {
   "cell_type": "code",
   "execution_count": 365,
   "metadata": {
    "collapsed": false
   },
   "outputs": [],
   "source": [
    "df_train = df_train.drop(['Cabin','Name'],axis = 1)"
   ]
  },
  {
   "cell_type": "markdown",
   "metadata": {},
   "source": [
    "There are a number of ways that we could fill in the NaN values of the column Age. For simplicity, we'll do so by taking the median of values of each column."
   ]
  },
  {
   "cell_type": "code",
   "execution_count": 366,
   "metadata": {
    "collapsed": false
   },
   "outputs": [],
   "source": [
    "age_median = df_train['Age'].median()\n",
    "df_train['Age'] = df_train['Age'].fillna(age_median)"
   ]
  },
  {
   "cell_type": "markdown",
   "metadata": {},
   "source": [
    "Taking the average/ median does not make sense for the column Embarked, as it is a categorical value. Instead, we shall replace the NaN values by the mode, or most frequently occurring value."
   ]
  },
  {
   "cell_type": "code",
   "execution_count": 367,
   "metadata": {
    "collapsed": true
   },
   "outputs": [],
   "source": [
    "mode_embarked = df_train['Embarked'].mode().values[0]\n",
    "df_train['Embarked'] = df_train['Embarked'].fillna(mode_embarked)"
   ]
  },
  {
   "cell_type": "markdown",
   "metadata": {},
   "source": [
    "## Converting to numerical variables"
   ]
  },
  {
   "cell_type": "code",
   "execution_count": 368,
   "metadata": {
    "collapsed": false
   },
   "outputs": [],
   "source": [
    "df_train['Gender'] = df_train['Sex'].map({'female': 0, 'male': 1}).astype(int)\n",
    "df_train['Port'] = df_train['Embarked'].map({'C':1, 'S':2, 'Q':3}).astype(int)\n",
    "\n",
    "df_train = df_train.drop(['Sex', 'Embarked'], axis=1)\n",
    "\n",
    "cols = df_train.columns.tolist()\n",
    "cols = [cols[1]] + cols[0:1] + cols[2:]\n",
    "df_train = df_train[cols]"
   ]
  },
  {
   "cell_type": "code",
   "execution_count": 369,
   "metadata": {
    "collapsed": true
   },
   "outputs": [],
   "source": [
    "df_train['Ticket'] = pd.get_dummies(df_train['Ticket'],prefix ='Ticket')"
   ]
  },
  {
   "cell_type": "code",
   "execution_count": 370,
   "metadata": {
    "collapsed": false
   },
   "outputs": [
    {
     "name": "stdout",
     "output_type": "stream",
     "text": [
      "<class 'pandas.core.frame.DataFrame'>\n",
      "RangeIndex: 891 entries, 0 to 890\n",
      "Data columns (total 10 columns):\n",
      "Survived       891 non-null int64\n",
      "PassengerId    891 non-null int64\n",
      "Pclass         891 non-null int64\n",
      "Age            891 non-null float64\n",
      "SibSp          891 non-null int64\n",
      "Parch          891 non-null int64\n",
      "Ticket         891 non-null float64\n",
      "Fare           891 non-null float64\n",
      "Gender         891 non-null int32\n",
      "Port           891 non-null int32\n",
      "dtypes: float64(3), int32(2), int64(5)\n",
      "memory usage: 62.7 KB\n"
     ]
    }
   ],
   "source": [
    "df_train.info()"
   ]
  },
  {
   "cell_type": "markdown",
   "metadata": {},
   "source": [
    "Hence have we have preserved all the rows of our data set, \n",
    "and proceed to create a numerical array for Scikit-learn."
   ]
  },
  {
   "cell_type": "code",
   "execution_count": 371,
   "metadata": {
    "collapsed": false
   },
   "outputs": [
    {
     "name": "stdout",
     "output_type": "stream",
     "text": [
      "         Survived  PassengerId      Pclass         Age       SibSp  \\\n",
      "count  891.000000   891.000000  891.000000  891.000000  891.000000   \n",
      "mean     0.383838   446.000000    2.308642   29.361582    0.523008   \n",
      "std      0.486592   257.353842    0.836071   13.019697    1.102743   \n",
      "min      0.000000     1.000000    1.000000    0.420000    0.000000   \n",
      "25%      0.000000   223.500000    2.000000   22.000000    0.000000   \n",
      "50%      0.000000   446.000000    3.000000   28.000000    0.000000   \n",
      "75%      1.000000   668.500000    3.000000   35.000000    1.000000   \n",
      "max      1.000000   891.000000    3.000000   80.000000    8.000000   \n",
      "\n",
      "            Parch      Ticket        Fare      Gender        Port  \n",
      "count  891.000000  891.000000  891.000000  891.000000  891.000000  \n",
      "mean     0.381594    0.003367   32.204208    0.647587    1.897868  \n",
      "std      0.806057    0.057961   49.693429    0.477990    0.514624  \n",
      "min      0.000000    0.000000    0.000000    0.000000    1.000000  \n",
      "25%      0.000000    0.000000    7.910400    0.000000    2.000000  \n",
      "50%      0.000000    0.000000   14.454200    1.000000    2.000000  \n",
      "75%      0.000000    0.000000   31.000000    1.000000    2.000000  \n",
      "max      6.000000    1.000000  512.329200    1.000000    3.000000  \n"
     ]
    }
   ],
   "source": [
    "#print summary of data frame\n",
    "summary = df_train.describe()\n",
    "print(summary)"
   ]
  },
  {
   "cell_type": "code",
   "execution_count": 372,
   "metadata": {
    "collapsed": false
   },
   "outputs": [
    {
     "data": {
      "text/plain": [
       "Index(['Survived', 'PassengerId', 'Pclass', 'Age', 'SibSp', 'Parch', 'Ticket',\n",
       "       'Fare', 'Gender', 'Port'],\n",
       "      dtype='object')"
      ]
     },
     "execution_count": 372,
     "metadata": {},
     "output_type": "execute_result"
    }
   ],
   "source": [
    "df_train.columns"
   ]
  },
  {
   "cell_type": "markdown",
   "metadata": {},
   "source": [
    "# Visualizing"
   ]
  },
  {
   "cell_type": "markdown",
   "metadata": {},
   "source": [
    "### Parallel Coordinates Plots"
   ]
  },
  {
   "cell_type": "code",
   "execution_count": 373,
   "metadata": {
    "collapsed": false
   },
   "outputs": [
    {
     "data": {
      "image/png": "[encoded data removed]",
      "text/plain": [
       "<matplotlib.figure.Figure at 0x1112a843d30>"
      ]
     },
     "metadata": {},
     "output_type": "display_data"
    }
   ],
   "source": [
    "import matplotlib.pyplot as plot\n",
    "%matplotlib inline\n",
    "\n",
    "for i in range(891):\n",
    "    #assign color based on survived based on \"0\" or \"1\" labels\n",
    "    if df_train.iat[i,8] == 1:\n",
    "        pcolor = \"red\"\n",
    "    else:\n",
    "        pcolor = \"blue\"\n",
    "\n",
    "    #plot rows of data as if they were series data\n",
    "    dataRow = df_train.iloc[i,0:8]\n",
    "    dataRow.plot(color=pcolor, alpha=0.5)\n",
    "\n",
    "plot.xlabel(\"Attribute Index\")\n",
    "plot.ylabel((\"Attribute Values\"))\n",
    "plot.show()"
   ]
  },
  {
   "cell_type": "markdown",
   "metadata": {
    "collapsed": true
   },
   "source": [
    "Fare seems to stand out the most. Could be a factor to look at in the future for survival"
   ]
  },
  {
   "cell_type": "markdown",
   "metadata": {},
   "source": [
    "### Plotting a scatter plot between the survival and attribute Fare."
   ]
  },
  {
   "cell_type": "code",
   "execution_count": 374,
   "metadata": {
    "collapsed": false
   },
   "outputs": [
    {
     "data": {
      "image/png": "[encoded data removed]",
      "text/plain": [
       "<matplotlib.figure.Figure at 0x11127b5ec18>"
      ]
     },
     "metadata": {},
     "output_type": "display_data"
    }
   ],
   "source": [
    "target = df_train['Survived']\n",
    "#plot rows of data as if they were series data\n",
    "dataRow = df_train.iloc[0:891,6]\n",
    "plot.scatter(dataRow, target,alpha=0.5, s=120)\n",
    "\n",
    "plot.xlabel(\"Attribute Value\")\n",
    "plot.ylabel(\"Target Value\")\n",
    "plot.show()"
   ]
  },
  {
   "cell_type": "markdown",
   "metadata": {},
   "source": [
    "This doesnot provide much help to see if fare was a factor in survival.\n"
   ]
  },
  {
   "cell_type": "code",
   "execution_count": 375,
   "metadata": {
    "collapsed": false
   },
   "outputs": [
    {
     "data": {
      "image/png": "[encoded data removed]",
      "text/plain": [
       "<matplotlib.figure.Figure at 0x1112a457358>"
      ]
     },
     "metadata": {},
     "output_type": "display_data"
    }
   ],
   "source": [
    "#calculate correlations between attributes\n",
    "\n",
    "corMat = pd.DataFrame(df_train.corr())\n",
    "\n",
    "#visualize correlations using heatmap\n",
    "plot.pcolor(corMat)\n",
    "plot.show()"
   ]
  },
  {
   "cell_type": "markdown",
   "metadata": {},
   "source": [
    "http://pandas.pydata.org/pandas-docs/stable/generated/pandas.DataFrame.values.html"
   ]
  },
  {
   "cell_type": "code",
   "execution_count": 376,
   "metadata": {
    "collapsed": false
   },
   "outputs": [],
   "source": [
    "labels = df_train['Survived'].values\n",
    "df_train1 = df_train[['PassengerId','Pclass','Age', 'SibSp', 'Parch', 'Ticket', 'Fare','Gender', 'Port']] \n",
    "xList = df_train1.values\n",
    "\n",
    "                 "
   ]
  },
  {
   "cell_type": "code",
   "execution_count": 377,
   "metadata": {
    "collapsed": true
   },
   "outputs": [],
   "source": [
    "from sklearn.ensemble import RandomForestClassifier\n",
    "\n",
    "clf = RandomForestClassifier(n_estimators=100)"
   ]
  },
  {
   "cell_type": "markdown",
   "metadata": {},
   "source": [
    "Fit the training data and create the decision trees:"
   ]
  },
  {
   "cell_type": "code",
   "execution_count": 378,
   "metadata": {
    "collapsed": false
   },
   "outputs": [
    {
     "data": {
      "text/plain": [
       "'Mean accuracy of Random Forest: 0.9797979797979798'"
      ]
     },
     "execution_count": 378,
     "metadata": {},
     "output_type": "execute_result"
    }
   ],
   "source": [
    "# Training data features, skip the first column 'Survived'\n",
    "train_features = xList[:, 1:]\n",
    "\n",
    "# 'Survived' column values\n",
    "train_target = labels\n",
    "\n",
    "# Fit the model to our training data\n",
    "clf = clf.fit(train_features, train_target)\n",
    "score = clf.score(train_features, train_target)\n",
    "\"Mean accuracy of Random Forest: {0}\".format(score)"
   ]
  },
  {
   "cell_type": "code",
   "execution_count": 379,
   "metadata": {
    "collapsed": false
   },
   "outputs": [
    {
     "name": "stdout",
     "output_type": "stream",
     "text": [
      "Shape of xTrain array (594, 9)\n",
      "Shape of yTrain array (594,)\n",
      "Shape of xTest array (297, 9)\n",
      "Shape of yTest array (297,)\n"
     ]
    }
   ],
   "source": [
    "#import random\n",
    "from sklearn import datasets, linear_model\n",
    "\n",
    "def confusionMatrix(predicted, actual, threshold):\n",
    "    if len(predicted) != len(actual): return -1\n",
    "    tp = 0.0\n",
    "    fp = 0.0\n",
    "    tn = 0.0\n",
    "    fn = 0.0\n",
    "    for i in range(len(actual)):\n",
    "        if actual[i] > 0.5: #labels that are 1.0  (positive examples)\n",
    "            if predicted[i] > threshold:\n",
    "                tp += 1.0 #correctly predicted positive\n",
    "            else:\n",
    "                fn += 1.0 #incorrectly predicted negative\n",
    "        else:              #labels that are 0.0 (negative examples)\n",
    "            if predicted[i] < threshold:\n",
    "                tn += 1.0 #correctly predicted negative\n",
    "            else:\n",
    "                fp += 1.0 #incorrectly predicted positive\n",
    "    rtn = [tp, fn, fp, tn]\n",
    "    return rtn\n",
    "\n",
    "#divide attribute matrix and label vector into training(2/3 of data) and test sets (1/3 of data)\n",
    "indices = range(len(xList))\n",
    "xListTest = [xList[i] for i in indices if i%3 == 0 ]\n",
    "xListTrain = [xList[i] for i in indices if i%3 != 0 ]\n",
    "labelsTest = [labels[i] for i in indices if i%3 == 0]\n",
    "labelsTrain = [labels[i] for i in indices if i%3 != 0]\n",
    "\n",
    "#form list of list input into numpy arrays to match input class for scikit-learn linear model\n",
    "xTrain = np.array(xListTrain); yTrain = np.array(labelsTrain); xTest = np.array(xListTest); yTest = np.array(labelsTest)\n",
    "\n",
    "#check shapes to see what they look like\n",
    "print(\"Shape of xTrain array\", xTrain.shape)\n",
    "print(\"Shape of yTrain array\", yTrain.shape)\n",
    "print(\"Shape of xTest array\", xTest.shape)\n",
    "print(\"Shape of yTest array\", yTest.shape)\n"
   ]
  },
  {
   "cell_type": "code",
   "execution_count": 380,
   "metadata": {
    "collapsed": false
   },
   "outputs": [
    {
     "name": "stdout",
     "output_type": "stream",
     "text": [
      "Some values predicted by model [ 0.9323192   0.68526999  0.05711893  0.07343276  0.08090763] [ 0.27789897  0.12976048  0.28570535  1.08136189  0.49732495]\n"
     ]
    }
   ],
   "source": [
    "#train linear regression model\n",
    "dfModel = linear_model.LinearRegression()\n",
    "dfModel.fit(xTrain,yTrain)\n",
    "\n",
    "#generate predictions on in-sample error\n",
    "trainingPredictions = dfModel.predict(xTrain)\n",
    "print(\"Some values predicted by model\", trainingPredictions[0:5], trainingPredictions[-6:-1])"
   ]
  },
  {
   "cell_type": "code",
   "execution_count": 381,
   "metadata": {
    "collapsed": false
   },
   "outputs": [
    {
     "name": "stdout",
     "output_type": "stream",
     "text": [
      "tp = 161.0\tfn = 68.0\n",
      "fp = 42.0\ttn = 323.0\n",
      "\n",
      "Miscalssification error rate is : 0.18518518518518523\n"
     ]
    }
   ],
   "source": [
    "#generate confusion matrix for predictions on training set (in-sample\n",
    "confusionMatTrain = confusionMatrix(trainingPredictions, yTrain, 0.50)\n",
    "#pick threshold value and generate confusion matrix entries\n",
    "tp = confusionMatTrain[0]; fn = confusionMatTrain[1]; fp = confusionMatTrain[2]; tn = confusionMatTrain[3]\n",
    "\n",
    "print(\"tp = \" + str(tp) + \"\\tfn = \" + str(fn) + \"\\n\" + \"fp = \" + str(fp) + \"\\ttn = \" + str(tn) + '\\n')\n",
    "\n",
    "#Misclassification error rate \n",
    "def errorRate(tp,fn,fp,tn):\n",
    "    #Accuracy\n",
    "    acc = (tp + tn) / (tp + fn + fp + tn)\n",
    "    return 1- acc\n",
    "\n",
    "print(\"Miscalssification error rate is : \" + str(errorRate(tp,fn,fp,tn)))"
   ]
  },
  {
   "cell_type": "code",
   "execution_count": 382,
   "metadata": {
    "collapsed": false
   },
   "outputs": [
    {
     "name": "stdout",
     "output_type": "stream",
     "text": [
      "tp = 89.0\tfn = 24.0\n",
      "fp = 67.0\ttn = 117.0\n",
      "\n",
      "Miscalssification error rate is : 0.30639730639730645\n"
     ]
    }
   ],
   "source": [
    "#generate predictions on out-of-sample data\n",
    "testPredictions = dfModel.predict(xTest)\n",
    "\n",
    "#generate confusion matrix from predictions on out-of-sample data\n",
    "conMatTest = confusionMatrix(testPredictions, yTest, 0.25)\n",
    "#pick threshold value and generate confusion matrix entries\n",
    "tp = conMatTest[0]; fn = conMatTest[1]; fp = conMatTest[2]; tn = conMatTest[3]\n",
    "print(\"tp = \" + str(tp) + \"\\tfn = \" + str(fn) + \"\\n\" + \"fp = \" + str(fp) + \"\\ttn = \" + str(tn) + '\\n')\n",
    "\n",
    "print(\"Miscalssification error rate is : \" + str(errorRate(tp,fn,fp,tn)))\n"
   ]
  },
  {
   "cell_type": "code",
   "execution_count": 383,
   "metadata": {
    "collapsed": false
   },
   "outputs": [
    {
     "name": "stdout",
     "output_type": "stream",
     "text": [
      "AUC for in-sample ROC curve: 0.877897\n"
     ]
    }
   ],
   "source": [
    "from sklearn.metrics import roc_curve, auc\n",
    "#generate ROC curve for in-sample\n",
    "\n",
    "fpr, tpr, thresholds = roc_curve(yTrain,trainingPredictions)\n",
    "roc_auc = auc(fpr, tpr)\n",
    "print( 'AUC for in-sample ROC curve: %f' % roc_auc)"
   ]
  },
  {
   "cell_type": "code",
   "execution_count": 384,
   "metadata": {
    "collapsed": false
   },
   "outputs": [
    {
     "name": "stdout",
     "output_type": "stream",
     "text": [
      "AUC\n",
      "0.869512824927\n"
     ]
    }
   ],
   "source": [
    "from sklearn.cross_validation import train_test_split\n",
    "from sklearn import ensemble\n",
    "from sklearn.metrics import roc_auc_score\n",
    "\n",
    "#number of rows and columns in x matrix\n",
    "nrows = len(xList)\n",
    "ncols = len(xList[1])\n",
    "\n",
    "#form x and y into numpy arrays and make up column names\n",
    "X = np.array(xList)\n",
    "y = np.array(labels)\n",
    "dfNames = np.array(['V' + str(i) for i in range(ncols)])\n",
    "\n",
    "#break into training and test sets.\n",
    "xTrain, xTest, yTrain, yTest = train_test_split(X, y, test_size=0.30, random_state=531)\n",
    "\n",
    "auc = []\n",
    "\n",
    "nTreeList = range(50, 2000, 50)\n",
    "for iTrees in nTreeList:\n",
    "    depth = None\n",
    "    maxFeat  = 8 #try tweaking\n",
    "    dfRFModel = ensemble.RandomForestClassifier(n_estimators=iTrees, max_depth=depth, max_features=maxFeat,\n",
    "                                                 oob_score=False, random_state=531)\n",
    "\n",
    "    dfRFModel.fit(xTrain,yTrain)\n",
    "\n",
    "    #Accumulate auc on test set\n",
    "    prediction = dfRFModel.predict_proba(xTest)\n",
    "    aucCalc = roc_auc_score(yTest, prediction[:,1:2])\n",
    "    auc.append(aucCalc)\n",
    "\n",
    "print(\"AUC\" )\n",
    "print(auc[-1])\n",
    "\n",
    "\n"
   ]
  },
  {
   "cell_type": "code",
   "execution_count": 385,
   "metadata": {
    "collapsed": false
   },
   "outputs": [
    {
     "data": {
      "image/png": "[encoded data removed]",
      "text/plain": [
       "<matplotlib.figure.Figure at 0x1112903ca58>"
      ]
     },
     "metadata": {},
     "output_type": "display_data"
    }
   ],
   "source": [
    "#plot training and test errors vs number of trees in ensemble\n",
    "plot.plot(nTreeList, auc)\n",
    "plot.xlabel('Number of Trees in Ensemble')\n",
    "plot.ylabel('Area Under ROC Curve - AUC')\n",
    "#plot.ylim([0.0, 1.1*max(mseOob)])\n",
    "plot.show()"
   ]
  },
  {
   "cell_type": "code",
   "execution_count": 386,
   "metadata": {
    "collapsed": false
   },
   "outputs": [
    {
     "data": {
      "text/plain": [
       "Index(['PassengerId', 'Pclass', 'Age', 'SibSp', 'Parch', 'Ticket', 'Fare',\n",
       "       'Gender', 'Port'],\n",
       "      dtype='object')"
      ]
     },
     "execution_count": 386,
     "metadata": {},
     "output_type": "execute_result"
    }
   ],
   "source": [
    "df_train1.columns"
   ]
  },
  {
   "cell_type": "code",
   "execution_count": 387,
   "metadata": {
    "collapsed": false
   },
   "outputs": [
    {
     "name": "stdout",
     "output_type": "stream",
     "text": [
      "[7 0 6 2 1 3 8 4 5]\n"
     ]
    },
    {
     "data": {
      "image/png": "[encoded data removed]",
      "text/plain": [
       "<matplotlib.figure.Figure at 0x1112d9e4ba8>"
      ]
     },
     "metadata": {},
     "output_type": "display_data"
    }
   ],
   "source": [
    "# Plot feature importance\n",
    "featureImportance = dfRFModel.feature_importances_\n",
    "# normalize by max importance\n",
    "featureImportance = featureImportance / featureImportance.max()\n",
    "\n",
    "#plot importance of 8\n",
    "idxSorted = np.argsort(featureImportance)[0:9]\n",
    "idxTemp = np.argsort(featureImportance)[::-1]\n",
    "print(idxTemp)\n",
    "barPos = np.arange(idxSorted.shape[0]) + .5\n",
    "plot.barh(barPos, featureImportance[idxSorted], align='center')\n",
    "plot.yticks(barPos, dfNames[idxSorted])\n",
    "plot.xlabel('Variable Importance')\n",
    "plot.show()"
   ]
  },
  {
   "cell_type": "code",
   "execution_count": 388,
   "metadata": {
    "collapsed": false
   },
   "outputs": [
    {
     "data": {
      "image/png": "[encoded data removed]",
      "text/plain": [
       "<matplotlib.figure.Figure at 0x1112a7b97f0>"
      ]
     },
     "metadata": {},
     "output_type": "display_data"
    }
   ],
   "source": [
    "#plot best version of ROC curve\n",
    "fpr, tpr, thresh = roc_curve(yTest, list(prediction[:,1:2]))\n",
    "ctClass = [i*0.01 for i in range(101)]\n",
    "\n",
    "plot.plot(fpr, tpr, linewidth=2)\n",
    "plot.plot(ctClass, ctClass, linestyle=':')\n",
    "plot.xlabel('False Positive Rate')\n",
    "plot.ylabel('True Positive Rate')\n",
    "plot.show()"
   ]
  },
  {
   "cell_type": "code",
   "execution_count": 389,
   "metadata": {
    "collapsed": false
   },
   "outputs": [
    {
     "name": "stdout",
     "output_type": "stream",
     "text": [
      "Best AUC\n",
      "0.871922878292\n",
      "Number of Trees for Best AUC\n",
      "1127\n"
     ]
    }
   ],
   "source": [
    "#form x and y into numpy arrays and make up column names\n",
    "X = np.array(df_train1)\n",
    "y = np.array(labels)\n",
    "dfNames = np.array(['V' + str(i) for i in range(ncols)])\n",
    "\n",
    "#break into training and test sets.\n",
    "xTrain, xTest, yTrain, yTest = train_test_split(X, y, test_size=0.30, random_state=531)\n",
    "#instantiate model\n",
    "nEst = 2000\n",
    "depth = 3\n",
    "learnRate = 0.007\n",
    "maxFeatures = 8\n",
    "dfGBMModel = ensemble.GradientBoostingClassifier(n_estimators=nEst, max_depth=depth,\n",
    "                                                         learning_rate=learnRate,\n",
    "                                                         max_features=maxFeatures)\n",
    "#train\n",
    "dfGBMModel.fit(xTrain, yTrain)\n",
    "\n",
    "# compute auc on test set as function of ensemble size\n",
    "auc = []\n",
    "aucBest = 0.0\n",
    "predictions = dfGBMModel.staged_decision_function(xTest)\n",
    "for p in predictions:\n",
    "    aucCalc = roc_auc_score(yTest, p)\n",
    "    auc.append(aucCalc)\n",
    "\n",
    "    #capture best predictions\n",
    "    if aucCalc > aucBest:\n",
    "        aucBest = aucCalc\n",
    "        pBest = p\n",
    "\n",
    "idxBest = auc.index(max(auc))\n",
    "\n",
    "#print best values\n",
    "print(\"Best AUC\" )\n",
    "print(auc[idxBest])\n",
    "print(\"Number of Trees for Best AUC\")\n",
    "print(idxBest)\n"
   ]
  },
  {
   "cell_type": "code",
   "execution_count": 390,
   "metadata": {
    "collapsed": true
   },
   "outputs": [],
   "source": [
    "df_test = pd.read_csv(r'C:\\Users\\piush\\Desktop\\Dataset\\Titanic\\test.csv')"
   ]
  },
  {
   "cell_type": "code",
   "execution_count": 391,
   "metadata": {
    "collapsed": false
   },
   "outputs": [
    {
     "data": {
      "text/html": [
       "<div>\n",
       "<table border=\"1\" class=\"dataframe\">\n",
       "  <thead>\n",
       "    <tr style=\"text-align: right;\">\n",
       "      <th></th>\n",
       "      <th>PassengerId</th>\n",
       "      <th>Pclass</th>\n",
       "      <th>Name</th>\n",
       "      <th>Sex</th>\n",
       "      <th>Age</th>\n",
       "      <th>SibSp</th>\n",
       "      <th>Parch</th>\n",
       "      <th>Ticket</th>\n",
       "      <th>Fare</th>\n",
       "      <th>Cabin</th>\n",
       "      <th>Embarked</th>\n",
       "    </tr>\n",
       "  </thead>\n",
       "  <tbody>\n",
       "    <tr>\n",
       "      <th>0</th>\n",
       "      <td>892</td>\n",
       "      <td>3</td>\n",
       "      <td>Kelly, Mr. James</td>\n",
       "      <td>male</td>\n",
       "      <td>34.5</td>\n",
       "      <td>0</td>\n",
       "      <td>0</td>\n",
       "      <td>330911</td>\n",
       "      <td>7.8292</td>\n",
       "      <td>NaN</td>\n",
       "      <td>Q</td>\n",
       "    </tr>\n",
       "    <tr>\n",
       "      <th>1</th>\n",
       "      <td>893</td>\n",
       "      <td>3</td>\n",
       "      <td>Wilkes, Mrs. James (Ellen Needs)</td>\n",
       "      <td>female</td>\n",
       "      <td>47.0</td>\n",
       "      <td>1</td>\n",
       "      <td>0</td>\n",
       "      <td>363272</td>\n",
       "      <td>7.0000</td>\n",
       "      <td>NaN</td>\n",
       "      <td>S</td>\n",
       "    </tr>\n",
       "  </tbody>\n",
       "</table>\n",
       "</div>"
      ],
      "text/plain": [
       "   PassengerId  Pclass                              Name     Sex   Age  SibSp  \\\n",
       "0          892       3                  Kelly, Mr. James    male  34.5      0   \n",
       "1          893       3  Wilkes, Mrs. James (Ellen Needs)  female  47.0      1   \n",
       "\n",
       "   Parch  Ticket    Fare Cabin Embarked  \n",
       "0      0  330911  7.8292   NaN        Q  \n",
       "1      0  363272  7.0000   NaN        S  "
      ]
     },
     "execution_count": 391,
     "metadata": {},
     "output_type": "execute_result"
    }
   ],
   "source": [
    "df_test.head(2)"
   ]
  },
  {
   "cell_type": "code",
   "execution_count": 392,
   "metadata": {
    "collapsed": false
   },
   "outputs": [
    {
     "name": "stdout",
     "output_type": "stream",
     "text": [
      "<class 'pandas.core.frame.DataFrame'>\n",
      "RangeIndex: 418 entries, 0 to 417\n",
      "Data columns (total 11 columns):\n",
      "PassengerId    418 non-null int64\n",
      "Pclass         418 non-null int64\n",
      "Name           418 non-null object\n",
      "Sex            418 non-null object\n",
      "Age            332 non-null float64\n",
      "SibSp          418 non-null int64\n",
      "Parch          418 non-null int64\n",
      "Ticket         418 non-null object\n",
      "Fare           417 non-null float64\n",
      "Cabin          91 non-null object\n",
      "Embarked       418 non-null object\n",
      "dtypes: float64(2), int64(4), object(5)\n",
      "memory usage: 36.0+ KB\n"
     ]
    }
   ],
   "source": [
    "df_test.info()"
   ]
  },
  {
   "cell_type": "code",
   "execution_count": 393,
   "metadata": {
    "collapsed": false
   },
   "outputs": [],
   "source": [
    "df_test = df_test.drop(['Cabin','Name'],axis = 1)"
   ]
  },
  {
   "cell_type": "code",
   "execution_count": 394,
   "metadata": {
    "collapsed": true
   },
   "outputs": [],
   "source": [
    "age_median = df_test['Age'].median()\n",
    "df_test['Age'] = df_test['Age'].fillna(age_median)"
   ]
  },
  {
   "cell_type": "code",
   "execution_count": 395,
   "metadata": {
    "collapsed": true
   },
   "outputs": [],
   "source": [
    "mean_fare = df_test['Fare'].mean()\n",
    "df_test['Fare'] = df_test['Fare'].fillna(mean_fare)"
   ]
  },
  {
   "cell_type": "code",
   "execution_count": 396,
   "metadata": {
    "collapsed": false
   },
   "outputs": [],
   "source": [
    "df_test['Gender'] = df_test['Sex'].map({'female': 0, 'male': 1}).astype(int)\n",
    "df_test['Port'] = df_test['Embarked'].map({'C':1, 'S':2, 'Q':3}).astype(int)\n",
    "\n",
    "df_test = df_test.drop(['Sex', 'Embarked'], axis=1)\n",
    "\n",
    "cols = df_test.columns.tolist()\n",
    "cols = [cols[1]] + cols[0:1] + cols[2:]\n",
    "df_test = df_test[cols]"
   ]
  },
  {
   "cell_type": "code",
   "execution_count": 397,
   "metadata": {
    "collapsed": true
   },
   "outputs": [],
   "source": [
    "df_test['Ticket'] = pd.get_dummies(df_test['Ticket'],prefix ='Ticket')"
   ]
  },
  {
   "cell_type": "code",
   "execution_count": 398,
   "metadata": {
    "collapsed": false
   },
   "outputs": [
    {
     "name": "stdout",
     "output_type": "stream",
     "text": [
      "<class 'pandas.core.frame.DataFrame'>\n",
      "RangeIndex: 418 entries, 0 to 417\n",
      "Data columns (total 9 columns):\n",
      "Pclass         418 non-null int64\n",
      "PassengerId    418 non-null int64\n",
      "Age            418 non-null float64\n",
      "SibSp          418 non-null int64\n",
      "Parch          418 non-null int64\n",
      "Ticket         418 non-null float64\n",
      "Fare           418 non-null float64\n",
      "Gender         418 non-null int32\n",
      "Port           418 non-null int32\n",
      "dtypes: float64(3), int32(2), int64(4)\n",
      "memory usage: 26.2 KB\n"
     ]
    }
   ],
   "source": [
    "df_test.info()"
   ]
  },
  {
   "cell_type": "code",
   "execution_count": 399,
   "metadata": {
    "collapsed": true
   },
   "outputs": [],
   "source": [
    "# Data wrangle the test set and convert it to a numpy array\n",
    "test_data = df_test.values"
   ]
  },
  {
   "cell_type": "markdown",
   "metadata": {},
   "source": [
    "Take the decision trees and run it on the test data:"
   ]
  },
  {
   "cell_type": "code",
   "execution_count": 404,
   "metadata": {
    "collapsed": false
   },
   "outputs": [],
   "source": [
    "# Get the test data features, skipping the first column 'PassengerId'\n",
    "test_x = test_data[:,]\n",
    "\n",
    "# Predict the Survival values for the test data\n",
    "test_y =list(map(int, dfRFModel.predict(test_x)))"
   ]
  },
  {
   "cell_type": "markdown",
   "metadata": {
    "collapsed": true
   },
   "source": [
    "# Random Forest: Prepare for Kaggle Submission"
   ]
  },
  {
   "cell_type": "markdown",
   "metadata": {},
   "source": [
    "Create a DataFrame by combining the index from the test data with the output of predictions, then write the results to the output:"
   ]
  },
  {
   "cell_type": "code",
   "execution_count": 405,
   "metadata": {
    "collapsed": false
   },
   "outputs": [],
   "source": [
    "df_test['Survived'] = test_y\n",
    "df_test[['PassengerId', 'Survived']] \\\n",
    "    .to_csv('results-3rf.csv', index=False)"
   ]
  },
  {
   "cell_type": "code",
   "execution_count": null,
   "metadata": {
    "collapsed": true
   },
   "outputs": [],
   "source": []
  }
 ],
 "metadata": {
  "anaconda-cloud": {},
  "kernelspec": {
   "display_name": "Python [default]",
   "language": "python",
   "name": "python3"
  },
  "language_info": {
   "codemirror_mode": {
    "name": "ipython",
    "version": 3
   },
   "file_extension": ".py",
   "mimetype": "text/x-python",
   "name": "python",
   "nbconvert_exporter": "python",
   "pygments_lexer": "ipython3",
   "version": "3.5.1"
  }
 },
 "nbformat": 4,
 "nbformat_minor": 0
}
