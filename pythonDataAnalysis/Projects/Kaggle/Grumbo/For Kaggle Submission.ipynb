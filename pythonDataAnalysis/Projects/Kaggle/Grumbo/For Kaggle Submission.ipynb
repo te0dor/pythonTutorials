{
 "cells": [
  {
   "cell_type": "code",
   "execution_count": 25,
   "metadata": {
    "collapsed": true
   },
   "outputs": [],
   "source": [
    "import pandas as pd\n",
    "import numpy as np"
   ]
  },
  {
   "cell_type": "code",
   "execution_count": 26,
   "metadata": {
    "collapsed": false
   },
   "outputs": [],
   "source": [
    "df_train1 = pd.read_csv(r'C:\\Users\\piush\\Desktop\\Dataset\\GrumboData\\train.csv',nrows = 20000)"
   ]
  },
  {
   "cell_type": "markdown",
   "metadata": {},
   "source": [
    "import pandas\n",
    "\n",
    "df = pandas.DataFrame(data)\n",
    "\n",
    "Randomly sample 70% of your dataframe\n",
    "\n",
    "df_0.7 = df.sample(frac=0.7)\n",
    "\n",
    "\n",
    "Randomly sample 7 elements from your dataframe\n",
    "\n",
    "df_7 = df.sample(n=7)\n",
    "\n",
    "For either approach above, you can get the rest of the rows by doing:\n",
    "\n",
    "df_rest = df.loc[~df.index.isin(df_0.7.index)]"
   ]
  },
  {
   "cell_type": "code",
   "execution_count": 27,
   "metadata": {
    "collapsed": false
   },
   "outputs": [],
   "source": [
    "# Randomly sample 20% of your dataframe\n",
    "df_train = df_train1.sample(frac=0.2)"
   ]
  },
  {
   "cell_type": "code",
   "execution_count": 28,
   "metadata": {
    "collapsed": false
   },
   "outputs": [
    {
     "name": "stdout",
     "output_type": "stream",
     "text": [
      "Semana                 int64\n",
      "Agencia_ID             int64\n",
      "Canal_ID               int64\n",
      "Ruta_SAK               int64\n",
      "Cliente_ID             int64\n",
      "Producto_ID            int64\n",
      "Venta_uni_hoy          int64\n",
      "Venta_hoy            float64\n",
      "Dev_uni_proxima        int64\n",
      "Dev_proxima          float64\n",
      "Demanda_uni_equil      int64\n",
      "dtype: object\n"
     ]
    }
   ],
   "source": [
    "print (df_train.dtypes)"
   ]
  },
  {
   "cell_type": "code",
   "execution_count": 29,
   "metadata": {
    "collapsed": false
   },
   "outputs": [
    {
     "name": "stdout",
     "output_type": "stream",
     "text": [
      "<class 'pandas.core.frame.DataFrame'>\n",
      "Int64Index: 4000 entries, 13882 to 7343\n",
      "Data columns (total 11 columns):\n",
      "Semana               4000 non-null int64\n",
      "Agencia_ID           4000 non-null int64\n",
      "Canal_ID             4000 non-null int64\n",
      "Ruta_SAK             4000 non-null int64\n",
      "Cliente_ID           4000 non-null int64\n",
      "Producto_ID          4000 non-null int64\n",
      "Venta_uni_hoy        4000 non-null int64\n",
      "Venta_hoy            4000 non-null float64\n",
      "Dev_uni_proxima      4000 non-null int64\n",
      "Dev_proxima          4000 non-null float64\n",
      "Demanda_uni_equil    4000 non-null int64\n",
      "dtypes: float64(2), int64(9)\n",
      "memory usage: 375.0 KB\n"
     ]
    }
   ],
   "source": [
    "df_train.info()"
   ]
  },
  {
   "cell_type": "code",
   "execution_count": 30,
   "metadata": {
    "collapsed": false
   },
   "outputs": [
    {
     "name": "stdout",
     "output_type": "stream",
     "text": [
      "       Semana   Agencia_ID     Canal_ID     Ruta_SAK    Cliente_ID  \\\n",
      "count  4000.0  4000.000000  4000.000000  4000.000000  4.000000e+03   \n",
      "mean      3.0  1110.590000     3.620500  1962.721000  1.267840e+06   \n",
      "std       0.0     0.491895     3.224295  1141.717438  1.547006e+06   \n",
      "min       3.0  1110.000000     1.000000  1001.000000  1.407500e+04   \n",
      "25%       3.0  1110.000000     1.000000  1010.000000  6.185000e+04   \n",
      "50%       3.0  1111.000000     1.000000  1020.000000  8.150310e+05   \n",
      "75%       3.0  1111.000000     7.000000  3309.000000  1.976955e+06   \n",
      "max       3.0  1111.000000    11.000000  3504.000000  9.678222e+06   \n",
      "\n",
      "        Producto_ID  Venta_uni_hoy    Venta_hoy  Dev_uni_proxima  Dev_proxima  \\\n",
      "count   4000.000000    4000.000000   4000.00000      4000.000000  4000.000000   \n",
      "mean   11529.253750       9.959500    125.30507         0.307750     2.487342   \n",
      "std    16049.362811      38.876712    407.81494        10.984498    55.113530   \n",
      "min       73.000000       0.000000      0.00000         0.000000     0.000000   \n",
      "25%     1146.000000       2.000000     28.52000         0.000000     0.000000   \n",
      "50%     2233.000000       5.000000     52.80000         0.000000     0.000000   \n",
      "75%    30574.000000       9.000000    114.45000         0.000000     0.000000   \n",
      "max    49185.000000    1260.000000  12348.00000       672.000000  3030.880000   \n",
      "\n",
      "       Demanda_uni_equil  \n",
      "count          4000.0000  \n",
      "mean              9.9190  \n",
      "std              38.8807  \n",
      "min               0.0000  \n",
      "25%               2.0000  \n",
      "50%               5.0000  \n",
      "75%               9.0000  \n",
      "max            1260.0000  \n"
     ]
    }
   ],
   "source": [
    "#print summary of data frame\n",
    "summary = df_train.describe()\n",
    "print(summary)\n"
   ]
  },
  {
   "cell_type": "code",
   "execution_count": 31,
   "metadata": {
    "collapsed": true
   },
   "outputs": [],
   "source": [
    "df_test1 = pd.read_csv(r'C:\\Users\\piush\\Desktop\\Dataset\\GrumboData\\test.csv',nrows = 20000)"
   ]
  },
  {
   "cell_type": "code",
   "execution_count": 32,
   "metadata": {
    "collapsed": true
   },
   "outputs": [],
   "source": [
    "df_test = df_test1.sample(frac=0.2)"
   ]
  },
  {
   "cell_type": "code",
   "execution_count": 33,
   "metadata": {
    "collapsed": false
   },
   "outputs": [],
   "source": [
    "#frames = [df_train,df_test]\n",
    "df = pd.merge(df_train,df_test,on = ['Producto_ID','Semana'],how = 'left')\n"
   ]
  },
  {
   "cell_type": "code",
   "execution_count": 34,
   "metadata": {
    "collapsed": false
   },
   "outputs": [
    {
     "data": {
      "text/html": [
       "<div>\n",
       "<table border=\"1\" class=\"dataframe\">\n",
       "  <thead>\n",
       "    <tr style=\"text-align: right;\">\n",
       "      <th></th>\n",
       "      <th>Semana</th>\n",
       "      <th>Agencia_ID_x</th>\n",
       "      <th>Canal_ID_x</th>\n",
       "      <th>Ruta_SAK_x</th>\n",
       "      <th>Cliente_ID_x</th>\n",
       "      <th>Producto_ID</th>\n",
       "      <th>Venta_uni_hoy</th>\n",
       "      <th>Venta_hoy</th>\n",
       "      <th>Dev_uni_proxima</th>\n",
       "      <th>Dev_proxima</th>\n",
       "      <th>Demanda_uni_equil</th>\n",
       "      <th>id</th>\n",
       "      <th>Agencia_ID_y</th>\n",
       "      <th>Canal_ID_y</th>\n",
       "      <th>Ruta_SAK_y</th>\n",
       "      <th>Cliente_ID_y</th>\n",
       "    </tr>\n",
       "  </thead>\n",
       "  <tbody>\n",
       "    <tr>\n",
       "      <th>0</th>\n",
       "      <td>3</td>\n",
       "      <td>1111</td>\n",
       "      <td>1</td>\n",
       "      <td>1011</td>\n",
       "      <td>2363076</td>\n",
       "      <td>1160</td>\n",
       "      <td>3</td>\n",
       "      <td>56.58</td>\n",
       "      <td>0</td>\n",
       "      <td>0.0</td>\n",
       "      <td>3</td>\n",
       "      <td>NaN</td>\n",
       "      <td>NaN</td>\n",
       "      <td>NaN</td>\n",
       "      <td>NaN</td>\n",
       "      <td>NaN</td>\n",
       "    </tr>\n",
       "    <tr>\n",
       "      <th>1</th>\n",
       "      <td>3</td>\n",
       "      <td>1111</td>\n",
       "      <td>1</td>\n",
       "      <td>1002</td>\n",
       "      <td>51039</td>\n",
       "      <td>46772</td>\n",
       "      <td>16</td>\n",
       "      <td>142.72</td>\n",
       "      <td>0</td>\n",
       "      <td>0.0</td>\n",
       "      <td>16</td>\n",
       "      <td>NaN</td>\n",
       "      <td>NaN</td>\n",
       "      <td>NaN</td>\n",
       "      <td>NaN</td>\n",
       "      <td>NaN</td>\n",
       "    </tr>\n",
       "    <tr>\n",
       "      <th>2</th>\n",
       "      <td>3</td>\n",
       "      <td>1110</td>\n",
       "      <td>7</td>\n",
       "      <td>3317</td>\n",
       "      <td>1864906</td>\n",
       "      <td>37057</td>\n",
       "      <td>10</td>\n",
       "      <td>75.00</td>\n",
       "      <td>0</td>\n",
       "      <td>0.0</td>\n",
       "      <td>10</td>\n",
       "      <td>NaN</td>\n",
       "      <td>NaN</td>\n",
       "      <td>NaN</td>\n",
       "      <td>NaN</td>\n",
       "      <td>NaN</td>\n",
       "    </tr>\n",
       "    <tr>\n",
       "      <th>3</th>\n",
       "      <td>3</td>\n",
       "      <td>1110</td>\n",
       "      <td>7</td>\n",
       "      <td>3315</td>\n",
       "      <td>1898574</td>\n",
       "      <td>2233</td>\n",
       "      <td>6</td>\n",
       "      <td>119.64</td>\n",
       "      <td>0</td>\n",
       "      <td>0.0</td>\n",
       "      <td>6</td>\n",
       "      <td>NaN</td>\n",
       "      <td>NaN</td>\n",
       "      <td>NaN</td>\n",
       "      <td>NaN</td>\n",
       "      <td>NaN</td>\n",
       "    </tr>\n",
       "    <tr>\n",
       "      <th>4</th>\n",
       "      <td>3</td>\n",
       "      <td>1111</td>\n",
       "      <td>1</td>\n",
       "      <td>1019</td>\n",
       "      <td>1289913</td>\n",
       "      <td>1182</td>\n",
       "      <td>12</td>\n",
       "      <td>167.28</td>\n",
       "      <td>0</td>\n",
       "      <td>0.0</td>\n",
       "      <td>12</td>\n",
       "      <td>NaN</td>\n",
       "      <td>NaN</td>\n",
       "      <td>NaN</td>\n",
       "      <td>NaN</td>\n",
       "      <td>NaN</td>\n",
       "    </tr>\n",
       "  </tbody>\n",
       "</table>\n",
       "</div>"
      ],
      "text/plain": [
       "   Semana  Agencia_ID_x  Canal_ID_x  Ruta_SAK_x  Cliente_ID_x  Producto_ID  \\\n",
       "0       3          1111           1        1011       2363076         1160   \n",
       "1       3          1111           1        1002         51039        46772   \n",
       "2       3          1110           7        3317       1864906        37057   \n",
       "3       3          1110           7        3315       1898574         2233   \n",
       "4       3          1111           1        1019       1289913         1182   \n",
       "\n",
       "   Venta_uni_hoy  Venta_hoy  Dev_uni_proxima  Dev_proxima  Demanda_uni_equil  \\\n",
       "0              3      56.58                0          0.0                  3   \n",
       "1             16     142.72                0          0.0                 16   \n",
       "2             10      75.00                0          0.0                 10   \n",
       "3              6     119.64                0          0.0                  6   \n",
       "4             12     167.28                0          0.0                 12   \n",
       "\n",
       "   id  Agencia_ID_y  Canal_ID_y  Ruta_SAK_y  Cliente_ID_y  \n",
       "0 NaN           NaN         NaN         NaN           NaN  \n",
       "1 NaN           NaN         NaN         NaN           NaN  \n",
       "2 NaN           NaN         NaN         NaN           NaN  \n",
       "3 NaN           NaN         NaN         NaN           NaN  \n",
       "4 NaN           NaN         NaN         NaN           NaN  "
      ]
     },
     "execution_count": 34,
     "metadata": {},
     "output_type": "execute_result"
    }
   ],
   "source": [
    "df.head()"
   ]
  },
  {
   "cell_type": "code",
   "execution_count": 35,
   "metadata": {
    "collapsed": false
   },
   "outputs": [],
   "source": [
    "#let us drop id,\n",
    "df.drop(['id','Semana','Agencia_ID_y','Canal_ID_y','Ruta_SAK_y','Cliente_ID_y','Agencia_ID_x','Canal_ID_x','Ruta_SAK_x','Cliente_ID_x'], axis=1, inplace=True)"
   ]
  },
  {
   "cell_type": "code",
   "execution_count": 36,
   "metadata": {
    "collapsed": false
   },
   "outputs": [
    {
     "data": {
      "text/html": [
       "<div>\n",
       "<table border=\"1\" class=\"dataframe\">\n",
       "  <thead>\n",
       "    <tr style=\"text-align: right;\">\n",
       "      <th></th>\n",
       "      <th>Producto_ID</th>\n",
       "      <th>Venta_uni_hoy</th>\n",
       "      <th>Venta_hoy</th>\n",
       "      <th>Dev_uni_proxima</th>\n",
       "      <th>Dev_proxima</th>\n",
       "      <th>Demanda_uni_equil</th>\n",
       "    </tr>\n",
       "  </thead>\n",
       "  <tbody>\n",
       "    <tr>\n",
       "      <th>0</th>\n",
       "      <td>1160</td>\n",
       "      <td>3</td>\n",
       "      <td>56.58</td>\n",
       "      <td>0</td>\n",
       "      <td>0.0</td>\n",
       "      <td>3</td>\n",
       "    </tr>\n",
       "    <tr>\n",
       "      <th>1</th>\n",
       "      <td>46772</td>\n",
       "      <td>16</td>\n",
       "      <td>142.72</td>\n",
       "      <td>0</td>\n",
       "      <td>0.0</td>\n",
       "      <td>16</td>\n",
       "    </tr>\n",
       "    <tr>\n",
       "      <th>2</th>\n",
       "      <td>37057</td>\n",
       "      <td>10</td>\n",
       "      <td>75.00</td>\n",
       "      <td>0</td>\n",
       "      <td>0.0</td>\n",
       "      <td>10</td>\n",
       "    </tr>\n",
       "    <tr>\n",
       "      <th>3</th>\n",
       "      <td>2233</td>\n",
       "      <td>6</td>\n",
       "      <td>119.64</td>\n",
       "      <td>0</td>\n",
       "      <td>0.0</td>\n",
       "      <td>6</td>\n",
       "    </tr>\n",
       "    <tr>\n",
       "      <th>4</th>\n",
       "      <td>1182</td>\n",
       "      <td>12</td>\n",
       "      <td>167.28</td>\n",
       "      <td>0</td>\n",
       "      <td>0.0</td>\n",
       "      <td>12</td>\n",
       "    </tr>\n",
       "  </tbody>\n",
       "</table>\n",
       "</div>"
      ],
      "text/plain": [
       "   Producto_ID  Venta_uni_hoy  Venta_hoy  Dev_uni_proxima  Dev_proxima  \\\n",
       "0         1160              3      56.58                0          0.0   \n",
       "1        46772             16     142.72                0          0.0   \n",
       "2        37057             10      75.00                0          0.0   \n",
       "3         2233              6     119.64                0          0.0   \n",
       "4         1182             12     167.28                0          0.0   \n",
       "\n",
       "   Demanda_uni_equil  \n",
       "0                  3  \n",
       "1                 16  \n",
       "2                 10  \n",
       "3                  6  \n",
       "4                 12  "
      ]
     },
     "execution_count": 36,
     "metadata": {},
     "output_type": "execute_result"
    }
   ],
   "source": [
    "df.head()"
   ]
  },
  {
   "cell_type": "markdown",
   "metadata": {},
   "source": [
    "•\tVenta_uni_hoy — Sales unit this week (integer)\n",
    "\n",
    "•\tVenta_hoy — Sales this week (unit: pesos)\n",
    "\n",
    "•\tDev_uni_proxima — Returns unit next week (integer)\n",
    "\n",
    "•\tDev_proxima — Returns next week (unit: pesos)\n",
    "\n",
    "•\tDemanda_uni_equil — Adjusted Demand (integer) (This is the target you will predict)\n",
    "\n",
    "•\tProducto_ID — Product ID"
   ]
  },
  {
   "cell_type": "code",
   "execution_count": 37,
   "metadata": {
    "collapsed": false
   },
   "outputs": [
    {
     "data": {
      "text/plain": [
       "1146     308\n",
       "2233     302\n",
       "1125     223\n",
       "1109     201\n",
       "1150     174\n",
       "3631     173\n",
       "1129     168\n",
       "46772    136\n",
       "1160     125\n",
       "3144      93\n",
       "32802     78\n",
       "73        76\n",
       "1182      72\n",
       "48077     64\n",
       "1250      60\n",
       "35727     58\n",
       "1240      57\n",
       "693       55\n",
       "2665      48\n",
       "1242      46\n",
       "34053     45\n",
       "4910      45\n",
       "30574     43\n",
       "35651     39\n",
       "31392     39\n",
       "32393     38\n",
       "1700      37\n",
       "1212      36\n",
       "5310      35\n",
       "30571     35\n",
       "        ... \n",
       "205        2\n",
       "49185      2\n",
       "30548      2\n",
       "8863       2\n",
       "5355       1\n",
       "45306      1\n",
       "32222      1\n",
       "32952      1\n",
       "1169       1\n",
       "30551      1\n",
       "8768       1\n",
       "35924      1\n",
       "47840      1\n",
       "632        1\n",
       "42122      1\n",
       "34080      1\n",
       "30568      1\n",
       "34468      1\n",
       "6420       1\n",
       "33191      1\n",
       "31192      1\n",
       "35452      1\n",
       "31423      1\n",
       "35841      1\n",
       "48417      1\n",
       "31466      1\n",
       "31470      1\n",
       "4947       1\n",
       "31513      1\n",
       "36806      1\n",
       "Name: Producto_ID, dtype: int64"
      ]
     },
     "execution_count": 37,
     "metadata": {},
     "output_type": "execute_result"
    }
   ],
   "source": [
    "#Returns object containing counts of unique values.\n",
    "df['Producto_ID'].value_counts()    "
   ]
  },
  {
   "cell_type": "code",
   "execution_count": 38,
   "metadata": {
    "collapsed": false
   },
   "outputs": [
    {
     "data": {
      "text/plain": [
       "4000"
      ]
     },
     "execution_count": 38,
     "metadata": {},
     "output_type": "execute_result"
    }
   ],
   "source": [
    "len(df['Producto_ID'])"
   ]
  },
  {
   "cell_type": "code",
   "execution_count": 39,
   "metadata": {
    "collapsed": false
   },
   "outputs": [
    {
     "data": {
      "text/plain": [
       "144"
      ]
     },
     "execution_count": 39,
     "metadata": {},
     "output_type": "execute_result"
    }
   ],
   "source": [
    "df['Producto_ID'].nunique()"
   ]
  },
  {
   "cell_type": "code",
   "execution_count": 40,
   "metadata": {
    "collapsed": false
   },
   "outputs": [
    {
     "name": "stdout",
     "output_type": "stream",
     "text": [
      "'Producto_ID' has 144 unique values\n",
      "~~Listing up to 25 unique values~~\n",
      "[ 1160 46772 37057  2233  1182 30574  1150  1146  1212  1109   693  4280\n",
      "  3144  3631 30571  1220  1125 35727  1129  1216  4910  3894 31688  2665]\n",
      "\n",
      "-----------------------------------------------------------------------\n",
      "\n",
      "'Venta_uni_hoy' has 92 unique values\n",
      "~~Listing up to 25 unique values~~\n",
      "[  3  16  10   6  12   7   9  11   2   8   1   4  30   5  65 100  20  42\n",
      "  14  23  24  15  34  17]\n",
      "\n",
      "-----------------------------------------------------------------------\n",
      "\n",
      "'Venta_hoy' has 868 unique values\n",
      "~~Listing up to 25 unique values~~\n",
      "[  56.58  142.72   75.    119.64  167.28   43.75  125.64  235.29   50.28\n",
      "   30.02  171.12   13.96   19.2    42.78  128.34   62.5    53.52   18.\n",
      "   42.64   85.56  196.2   187.5    30.56   18.86]\n",
      "\n",
      "-----------------------------------------------------------------------\n",
      "\n",
      "'Dev_uni_proxima' has 19 unique values\n",
      "[  0   1   3  15   5   2   4  20 152  11  48  50   9  25  12  21 672   6\n",
      "   8]\n",
      "\n",
      "-----------------------------------------------------------------------\n",
      "\n",
      "'Dev_proxima' has 57 unique values\n",
      "~~Listing up to 25 unique values~~\n",
      "[    0.      30.4     64.17   125.7     46.75    30.02    14.82    15.01\n",
      "    15.28    11.91    21.32    35.68   122.25    31.25   192.      14.79\n",
      "    16.35  3030.88    12.3     44.44    84.04   672.       9.6    480.  ]\n",
      "\n",
      "-----------------------------------------------------------------------\n",
      "\n",
      "'Demanda_uni_equil' has 92 unique values\n",
      "~~Listing up to 25 unique values~~\n",
      "[  3  16  10   6  12   7   9  11   2   8   1   4  30   5   0  65 100  20\n",
      "  42  14  23  24  15  34]\n",
      "\n",
      "-----------------------------------------------------------------------\n",
      "\n",
      "\n",
      "~~~~~~~~~~~~~~~~~~~~~~~~~~~~~~~~~~~~~~~~~~~~~~~~~~~~~~~~~~~~~~~~~~~~~~~~~~~~~~~~~~~~~\n",
      "\n",
      "Features with missing values:\n",
      "[]\n",
      "\n",
      "\n"
     ]
    }
   ],
   "source": [
    "import re\n",
    "# Review input features (train set) - Part 2A\n",
    "missing_values = []\n",
    "\n",
    "for column in df:\n",
    "    # Find all the unique feature values\n",
    "    uniq = df[column].unique()\n",
    "    print (\"'{}' has {} unique values\" .format(column,uniq.size))\n",
    "    if (uniq.size > 25):\n",
    "        print(\"~~Listing up to 25 unique values~~\")\n",
    "    print (uniq[0:24])\n",
    "    print (\"\\n-----------------------------------------------------------------------\\n\")\n",
    "    \n",
    "    # Find features with missing values\n",
    "    if (True in pd.isnull(uniq)):\n",
    "        s = \"{} has {} missing\" .format(column, pd.isnull(train_set[column]).sum())\n",
    "        missing_values.append(s)\n",
    "    \n",
    "    \n",
    "  \n",
    "print (\"\\n~~~~~~~~~~~~~~~~~~~~~~~~~~~~~~~~~~~~~~~~~~~~~~~~~~~~~~~~~~~~~~~~~~~~~~~~~~~~~~~~~~~~~\\n\")\n",
    "print (\"Features with missing values:\\n{}\\n\\n\" .format(missing_values))\n",
    "\n"
   ]
  },
  {
   "cell_type": "code",
   "execution_count": 41,
   "metadata": {
    "collapsed": true
   },
   "outputs": [],
   "source": [
    "from sklearn import datasets, linear_model\n",
    "from math import sqrt"
   ]
  },
  {
   "cell_type": "markdown",
   "metadata": {},
   "source": [
    "### How to take column-slices of dataframe in pandas\n",
    "\n",
    "http://stackoverflow.com/questions/10665889/how-to-take-column-slices-of-dataframe-in-pandas\n",
    "\n",
    "#### using the column names\n",
    "\n",
    "titanic.loc[:,['sex','age','fare']]\n",
    "\n",
    "#### using the column indices\n",
    "\n",
    "titanic.iloc[:,[2,3,6]]\n",
    "\n",
    "#### using the ix\n",
    "\n",
    "titanic.ix[:,[‘sex’,’age’,’fare’]]\n",
    "\n",
    "###### or\n",
    "\n",
    "titanic.ix[:,[2,3,6]]\n",
    "\n",
    "#### using the reindex method\n",
    "\n",
    "titanic.reindex(columns=['sex','age','fare'])"
   ]
  },
  {
   "cell_type": "code",
   "execution_count": 50,
   "metadata": {
    "collapsed": false
   },
   "outputs": [],
   "source": [
    "X = df.ix[:,['Producto_ID','Venta_uni_hoy','Venta_hoy','Dev_uni_proxima','Dev_proxima']]\n",
    "Y = df.ix[:,'Demanda_uni_equil']\n"
   ]
  },
  {
   "cell_type": "code",
   "execution_count": 52,
   "metadata": {
    "collapsed": false
   },
   "outputs": [
    {
     "name": "stderr",
     "output_type": "stream",
     "text": [
      "C:\\Anaconda3\\lib\\site-packages\\pandas\\indexes\\base.py:1267: VisibleDeprecationWarning: boolean index did not match indexed array along dimension 0; dimension is 6 but corresponding boolean dimension is 5\n",
      "  result = getitem(key)\n"
     ]
    },
    {
     "data": {
      "text/plain": [
       "Index(['Producto_ID', 'Venta_uni_hoy', 'Venta_hoy', 'Dev_uni_proxima',\n",
       "       'Dev_proxima'],\n",
       "      dtype='object')"
      ]
     },
     "execution_count": 52,
     "metadata": {},
     "output_type": "execute_result"
    }
   ],
   "source": [
    "\n",
    "# sk learn import \n",
    "from sklearn.decomposition import PCA, KernelPCA\n",
    "from sklearn.cross_validation import KFold, cross_val_score\n",
    "from sklearn.metrics import make_scorer\n",
    "from sklearn.grid_search import GridSearchCV\n",
    "from sklearn.feature_selection import VarianceThreshold, RFE, SelectKBest, chi2\n",
    "from sklearn.preprocessing import MinMaxScaler\n",
    "from sklearn.pipeline import Pipeline, FeatureUnion\n",
    "from sklearn.linear_model import LogisticRegression\n",
    "from sklearn.discriminant_analysis import LinearDiscriminantAnalysis\n",
    "from sklearn.neighbors import KNeighborsClassifier\n",
    "from sklearn.tree import DecisionTreeClassifier\n",
    "from sklearn.naive_bayes import GaussianNB\n",
    "from sklearn.svm import SVC\n",
    "from sklearn.ensemble import BaggingClassifier, ExtraTreesClassifier, GradientBoostingClassifier, VotingClassifier, RandomForestClassifier, AdaBoostClassifier\n",
    "\n",
    "#Find all features with more than 90% variance in values.\n",
    "threshold = 0.90\n",
    "vt = VarianceThreshold().fit(X)\n",
    "\n",
    "# Find feature names\n",
    "feat_var_threshold = df.columns[vt.variances_ > threshold * (1-threshold)]\n",
    "feat_var_threshold"
   ]
  },
  {
   "cell_type": "code",
   "execution_count": 53,
   "metadata": {
    "collapsed": false
   },
   "outputs": [
    {
     "data": {
      "text/plain": [
       "Index(['Venta_uni_hoy', 'Venta_hoy', 'Producto_ID', 'Dev_proxima',\n",
       "       'Dev_uni_proxima'],\n",
       "      dtype='object')"
      ]
     },
     "execution_count": 53,
     "metadata": {},
     "output_type": "execute_result"
    }
   ],
   "source": [
    "model = RandomForestClassifier()\n",
    "model.fit(X, Y)\n",
    "\n",
    "feature_imp = pd.DataFrame(model.feature_importances_, index=X.columns, columns=[\"importance\"])\n",
    "feat_imp_5 = feature_imp.sort_values(\"importance\", ascending=False).head(20).index\n",
    "feat_imp_5"
   ]
  },
  {
   "cell_type": "code",
   "execution_count": 55,
   "metadata": {
    "collapsed": false
   },
   "outputs": [],
   "source": [
    "components = 5\n",
    "pca = PCA(n_components=components).fit(X)"
   ]
  },
  {
   "cell_type": "code",
   "execution_count": 58,
   "metadata": {
    "collapsed": false
   },
   "outputs": [
    {
     "data": {
      "image/png": "[encoded data removed]",
      "text/plain": [
       "<matplotlib.figure.Figure at 0x1cd9d9a9c50>"
      ]
     },
     "metadata": {},
     "output_type": "display_data"
    }
   ],
   "source": [
    "import seaborn as sns\n",
    "#Show explained variance for each component\n",
    "pca_variance_explained_df = pd.DataFrame({\n",
    "    \"component\": np.arange(1, components+1),\n",
    "    \"variance_explained\": pca.explained_variance_ratio_            \n",
    "    })\n",
    "\n",
    "ax = sns.barplot(x='component', y='variance_explained', data=pca_variance_explained_df)\n",
    "ax.set_title(\"PCA - Variance explained\")\n",
    "plt.show()"
   ]
  },
  {
   "cell_type": "code",
   "execution_count": 69,
   "metadata": {
    "collapsed": true
   },
   "outputs": [],
   "source": [
    "seed = 7\n",
    "processors=1\n",
    "num_folds=3\n",
    "num_instances=len(X)\n",
    "scoring='accuracy'\n",
    "\n",
    "kfold = KFold(n=num_instances, n_folds=num_folds, random_state=seed)"
   ]
  },
  {
   "cell_type": "code",
   "execution_count": 70,
   "metadata": {
    "collapsed": false
   },
   "outputs": [
    {
     "name": "stdout",
     "output_type": "stream",
     "text": [
      "LR: (0.350) +/- (0.048)\n",
      "LDA: (0.960) +/- (0.005)\n",
      "K-NN: (0.666) +/- (0.009)\n",
      "CART: (0.983) +/- (0.001)\n",
      "NB: (0.842) +/- (0.053)\n"
     ]
    },
    {
     "name": "stderr",
     "output_type": "stream",
     "text": [
      "C:\\Anaconda3\\lib\\site-packages\\sklearn\\discriminant_analysis.py:453: UserWarning: The priors do not sum to 1. Renormalizing\n",
      "  UserWarning)\n",
      "C:\\Anaconda3\\lib\\site-packages\\sklearn\\discriminant_analysis.py:453: UserWarning: The priors do not sum to 1. Renormalizing\n",
      "  UserWarning)\n",
      "C:\\Anaconda3\\lib\\site-packages\\sklearn\\discriminant_analysis.py:453: UserWarning: The priors do not sum to 1. Renormalizing\n",
      "  UserWarning)\n"
     ]
    }
   ],
   "source": [
    "# Prepare some basic models\n",
    "models = []\n",
    "models.append(('LR', LogisticRegression()))\n",
    "models.append(('LDA', LinearDiscriminantAnalysis()))\n",
    "models.append(('K-NN', KNeighborsClassifier(n_neighbors=5)))\n",
    "models.append(('CART', DecisionTreeClassifier()))\n",
    "models.append(('NB', GaussianNB()))\n",
    "#models.append(('SVC', SVC(probability=True)))\n",
    "\n",
    "# Evaluate each model in turn\n",
    "results = []\n",
    "names = []\n",
    "\n",
    "for name, model in models:\n",
    "    cv_results = cross_val_score(model, X, Y, cv=kfold, scoring=scoring, n_jobs=processors)\n",
    "    results.append(cv_results)\n",
    "    names.append(name)\n",
    "    print(\"{0}: ({1:.3f}) +/- ({2:.3f})\".format(name, cv_results.mean(), cv_results.std()))"
   ]
  },
  {
   "cell_type": "code",
   "execution_count": 71,
   "metadata": {
    "collapsed": false
   },
   "outputs": [
    {
     "name": "stdout",
     "output_type": "stream",
     "text": [
      "(0.980) +/- (0.004)\n"
     ]
    }
   ],
   "source": [
    "cart = DecisionTreeClassifier()\n",
    "num_trees = 100\n",
    "\n",
    "model = BaggingClassifier(base_estimator=cart, n_estimators=num_trees, random_state=seed)\n",
    "\n",
    "results = cross_val_score(model, X, Y, cv=kfold, scoring=scoring, n_jobs=processors)\n",
    "print(\"({0:.3f}) +/- ({1:.3f})\".format(results.mean(), results.std()))"
   ]
  },
  {
   "cell_type": "code",
   "execution_count": 73,
   "metadata": {
    "collapsed": false
   },
   "outputs": [
    {
     "name": "stdout",
     "output_type": "stream",
     "text": [
      "(0.980) +/- (0.001)\n"
     ]
    }
   ],
   "source": [
    "num_trees = 100\n",
    "num_features = 5\n",
    "\n",
    "model = RandomForestClassifier(n_estimators=num_trees, max_features=num_features)\n",
    "\n",
    "results = cross_val_score(model, X, Y, cv=kfold, scoring=scoring, n_jobs=processors)\n",
    "print(\"({0:.3f}) +/- ({1:.3f})\".format(results.mean(), results.std()))"
   ]
  },
  {
   "cell_type": "code",
   "execution_count": 74,
   "metadata": {
    "collapsed": false
   },
   "outputs": [
    {
     "name": "stdout",
     "output_type": "stream",
     "text": [
      "(0.304) +/- (0.025)\n"
     ]
    }
   ],
   "source": [
    "model = AdaBoostClassifier(n_estimators=100, random_state=seed)\n",
    "\n",
    "results = cross_val_score(model, X, Y, cv=kfold, scoring=scoring, n_jobs=processors)\n",
    "print(\"({0:.3f}) +/- ({1:.3f})\".format(results.mean(), results.std()))\n"
   ]
  },
  {
   "cell_type": "code",
   "execution_count": 75,
   "metadata": {
    "collapsed": true
   },
   "outputs": [],
   "source": [
    "df_test = pd.read_csv(r'C:\\Users\\piush\\Desktop\\Dataset\\GrumboData\\test.csv')"
   ]
  },
  {
   "cell_type": "code",
   "execution_count": 76,
   "metadata": {
    "collapsed": false
   },
   "outputs": [
    {
     "data": {
      "text/html": [
       "<div>\n",
       "<table border=\"1\" class=\"dataframe\">\n",
       "  <thead>\n",
       "    <tr style=\"text-align: right;\">\n",
       "      <th></th>\n",
       "      <th>id</th>\n",
       "      <th>Semana</th>\n",
       "      <th>Agencia_ID</th>\n",
       "      <th>Canal_ID</th>\n",
       "      <th>Ruta_SAK</th>\n",
       "      <th>Cliente_ID</th>\n",
       "      <th>Producto_ID</th>\n",
       "    </tr>\n",
       "  </thead>\n",
       "  <tbody>\n",
       "    <tr>\n",
       "      <th>0</th>\n",
       "      <td>0</td>\n",
       "      <td>11</td>\n",
       "      <td>4037</td>\n",
       "      <td>1</td>\n",
       "      <td>2209</td>\n",
       "      <td>4639078</td>\n",
       "      <td>35305</td>\n",
       "    </tr>\n",
       "    <tr>\n",
       "      <th>1</th>\n",
       "      <td>1</td>\n",
       "      <td>11</td>\n",
       "      <td>2237</td>\n",
       "      <td>1</td>\n",
       "      <td>1226</td>\n",
       "      <td>4705135</td>\n",
       "      <td>1238</td>\n",
       "    </tr>\n",
       "  </tbody>\n",
       "</table>\n",
       "</div>"
      ],
      "text/plain": [
       "   id  Semana  Agencia_ID  Canal_ID  Ruta_SAK  Cliente_ID  Producto_ID\n",
       "0   0      11        4037         1      2209     4639078        35305\n",
       "1   1      11        2237         1      1226     4705135         1238"
      ]
     },
     "execution_count": 76,
     "metadata": {},
     "output_type": "execute_result"
    }
   ],
   "source": [
    "df_test.head(2)"
   ]
  },
  {
   "cell_type": "code",
   "execution_count": 77,
   "metadata": {
    "collapsed": true
   },
   "outputs": [],
   "source": [
    "df_test.drop(['Semana','Agencia_ID','Canal_ID','Ruta_SAK','Cliente_ID'], axis=1, inplace=True)"
   ]
  },
  {
   "cell_type": "code",
   "execution_count": null,
   "metadata": {
    "collapsed": false
   },
   "outputs": [],
   "source": [
    "df_train = pd.read_csv(r'C:\\Users\\piush\\Desktop\\Dataset\\GrumboData\\train.csv')"
   ]
  },
  {
   "cell_type": "code",
   "execution_count": null,
   "metadata": {
    "collapsed": true
   },
   "outputs": [],
   "source": []
  }
 ],
 "metadata": {
  "kernelspec": {
   "display_name": "Python 3",
   "language": "python",
   "name": "python3"
  },
  "language_info": {
   "codemirror_mode": {
    "name": "ipython",
    "version": 3
   },
   "file_extension": ".py",
   "mimetype": "text/x-python",
   "name": "python",
   "nbconvert_exporter": "python",
   "pygments_lexer": "ipython3",
   "version": "3.5.1"
  }
 },
 "nbformat": 4,
 "nbformat_minor": 0
}
