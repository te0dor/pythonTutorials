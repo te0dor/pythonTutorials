{
 "cells": [
  {
   "cell_type": "markdown",
   "metadata": {},
   "source": [
    "######  Matplotlib tutorial\n",
    "https://www.labri.fr/perso/nrougier/teaching/matplotlib/\n",
    "    \n",
    "http://journals.plos.org/ploscompbiol/article?id=10.1371/journal.pcbi.1003833\n",
    "\n",
    "http://mple.m-artwork.eu/tutorial\n",
    "\n",
    "http://pbpython.com/effective-matplotlib.html\n",
    "\n",
    "http://www.randalolson.com/2014/06/28/how-to-make-beautiful-data-visualizations-in-python-with-matplotlib/\n",
    "\n",
    "http://www.futurile.net/2016/02/27/matplotlib-beautiful-plots-with-style/\n",
    "\n",
    "####  Python Graph Gallery. This website displays hundreds of charts, always providing the reproducible python code!\n",
    "https://python-graph-gallery.com/\n",
    "\n",
    "##### Use this for plotting two bar plots together \n",
    "\n",
    "http://il.pycon.org/wwwpyconIL/sites/default/files/inline-files/Tamir-Lousky.pdf"
   ]
  },
  {
   "cell_type": "code",
   "execution_count": null,
   "metadata": {
    "collapsed": true
   },
   "outputs": [],
   "source": []
  }
 ],
 "metadata": {
  "kernelspec": {
   "display_name": "Python [default]",
   "language": "python",
   "name": "python3"
  },
  "language_info": {
   "codemirror_mode": {
    "name": "ipython",
    "version": 3
   },
   "file_extension": ".py",
   "mimetype": "text/x-python",
   "name": "python",
   "nbconvert_exporter": "python",
   "pygments_lexer": "ipython3",
   "version": "3.5.1"
  }
 },
 "nbformat": 4,
 "nbformat_minor": 2
}
