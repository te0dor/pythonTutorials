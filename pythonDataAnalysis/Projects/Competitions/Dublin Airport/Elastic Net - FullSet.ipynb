{
 "cells": [
  {
   "cell_type": "code",
   "execution_count": 1,
   "metadata": {
    "collapsed": true
   },
   "outputs": [],
   "source": [
    "import pandas as pd\n",
    "import numpy as np\n",
    "from sklearn.metrics import mean_squared_error\n",
    "\n",
    "import sys\n",
    "import time\n"
   ]
  },
  {
   "cell_type": "code",
   "execution_count": 2,
   "metadata": {
    "collapsed": true
   },
   "outputs": [],
   "source": [
    "l_parse_date_cols = ['dt_prediction_date', 'dt_target_date', 'dt_flight_date']\n",
    "l_target_cols = ['num_pax_000_014_mins_before_sdt', 'num_pax_015_029_mins_before_sdt', 'num_pax_030_044_mins_before_sdt', 'num_pax_045_059_mins_before_sdt', 'num_pax_060_074_mins_before_sdt', 'num_pax_075_089_mins_before_sdt', 'num_pax_090_104_mins_before_sdt', 'num_pax_105_119_mins_before_sdt',  'num_pax_120_134_mins_before_sdt', 'num_pax_135_149_mins_before_sdt', 'num_pax_150_164_mins_before_sdt', 'num_pax_165_179_mins_before_sdt',  'num_pax_180_194_mins_before_sdt', 'num_pax_195_209_mins_before_sdt', 'num_pax_210_224_mins_before_sdt', 'num_pax_225_239_mins_before_sdt', 'num_pax_240plus_mins_before_sdt']\n"
   ]
  },
  {
   "cell_type": "code",
   "execution_count": 3,
   "metadata": {
    "collapsed": true
   },
   "outputs": [],
   "source": [
    "df = pd.read_csv(r\"C:\\Users\\piush\\Desktop\\Dataset\\data_20161116\\FullSet.csv\", parse_dates = l_parse_date_cols)\n",
    "df = df.set_index('id')"
   ]
  },
  {
   "cell_type": "code",
   "execution_count": 4,
   "metadata": {
    "collapsed": false
   },
   "outputs": [
    {
     "data": {
      "text/plain": [
       "Index(['dt_prediction_date', 'dt_target_date', 'Source', 's_model_type',\n",
       "       'cat_case_type', 'cat_i_flightno', 'dt_flight_date', 'num_flight_year',\n",
       "       'num_flight_month', 'num_flight_weekofyear', 'num_flight_dayofweek',\n",
       "       'cat_sdt_hour', 'cat_i_airport', 'cat_i_city',\n",
       "       'cat_destination_group_id', 'cat_longhaul_ind', 'num_airport_other_ops',\n",
       "       'num_airport_other_flights', 'num_city_other_ops',\n",
       "       'num_city_other_flights', 'cat_s_plane_capacity',\n",
       "       'cat_flight_class_type_id', 'ord_leisure', 'ord_irish_residents',\n",
       "       'ord_trip_duration', 'ord_female', 'ord_party_size', 'ord_bag_checkin',\n",
       "       'ord_arrive_by_car', 'num_pax_000_014_mins_before_sdt',\n",
       "       'num_pax_015_029_mins_before_sdt', 'num_pax_030_044_mins_before_sdt',\n",
       "       'num_pax_045_059_mins_before_sdt', 'num_pax_060_074_mins_before_sdt',\n",
       "       'num_pax_075_089_mins_before_sdt', 'num_pax_090_104_mins_before_sdt',\n",
       "       'num_pax_105_119_mins_before_sdt', 'num_pax_120_134_mins_before_sdt',\n",
       "       'num_pax_135_149_mins_before_sdt', 'num_pax_150_164_mins_before_sdt',\n",
       "       'num_pax_165_179_mins_before_sdt', 'num_pax_180_194_mins_before_sdt',\n",
       "       'num_pax_195_209_mins_before_sdt', 'num_pax_210_224_mins_before_sdt',\n",
       "       'num_pax_225_239_mins_before_sdt', 'num_pax_240plus_mins_before_sdt',\n",
       "       'TotalOnFlight', 'National Holiday', 'Not National Holiday',\n",
       "       'Rugby - Home', 'Rugby Away', 'PrimaryShcoolsOff',\n",
       "       'SecondarySchoolsOff', 'HolidaySeason'],\n",
       "      dtype='object')"
      ]
     },
     "execution_count": 4,
     "metadata": {},
     "output_type": "execute_result"
    }
   ],
   "source": [
    "df.columns"
   ]
  },
  {
   "cell_type": "code",
   "execution_count": 5,
   "metadata": {
    "collapsed": false
   },
   "outputs": [],
   "source": [
    "del df['num_pax_000_014_mins_before_sdt']\n",
    "del df['num_pax_015_029_mins_before_sdt']\n",
    "del df['num_pax_030_044_mins_before_sdt']\n",
    "del df['num_pax_045_059_mins_before_sdt']\n",
    "del df['num_pax_060_074_mins_before_sdt']\n",
    "del df['num_pax_075_089_mins_before_sdt']\n",
    "del df['num_pax_090_104_mins_before_sdt']\n",
    "del df['num_pax_105_119_mins_before_sdt']\n",
    "del df['num_pax_120_134_mins_before_sdt']\n",
    "del df['num_pax_135_149_mins_before_sdt']\n",
    "del df['num_pax_150_164_mins_before_sdt']\n",
    "del df['num_pax_165_179_mins_before_sdt']\n",
    "del df['num_pax_180_194_mins_before_sdt']\n",
    "del df['num_pax_195_209_mins_before_sdt']\n",
    "del df['num_pax_210_224_mins_before_sdt']\n",
    "del df['num_pax_225_239_mins_before_sdt']\n",
    "del df['num_pax_240plus_mins_before_sdt']"
   ]
  },
  {
   "cell_type": "code",
   "execution_count": 6,
   "metadata": {
    "collapsed": false
   },
   "outputs": [
    {
     "data": {
      "text/plain": [
       "Index(['dt_prediction_date', 'dt_target_date', 'Source', 's_model_type',\n",
       "       'cat_case_type', 'cat_i_flightno', 'dt_flight_date', 'num_flight_year',\n",
       "       'num_flight_month', 'num_flight_weekofyear', 'num_flight_dayofweek',\n",
       "       'cat_sdt_hour', 'cat_i_airport', 'cat_i_city',\n",
       "       'cat_destination_group_id', 'cat_longhaul_ind', 'num_airport_other_ops',\n",
       "       'num_airport_other_flights', 'num_city_other_ops',\n",
       "       'num_city_other_flights', 'cat_s_plane_capacity',\n",
       "       'cat_flight_class_type_id', 'ord_leisure', 'ord_irish_residents',\n",
       "       'ord_trip_duration', 'ord_female', 'ord_party_size', 'ord_bag_checkin',\n",
       "       'ord_arrive_by_car', 'TotalOnFlight', 'National Holiday',\n",
       "       'Not National Holiday', 'Rugby - Home', 'Rugby Away',\n",
       "       'PrimaryShcoolsOff', 'SecondarySchoolsOff', 'HolidaySeason'],\n",
       "      dtype='object')"
      ]
     },
     "execution_count": 6,
     "metadata": {},
     "output_type": "execute_result"
    }
   ],
   "source": [
    "df.columns"
   ]
  },
  {
   "cell_type": "code",
   "execution_count": 7,
   "metadata": {
    "collapsed": false
   },
   "outputs": [],
   "source": [
    "from sklearn.preprocessing import LabelEncoder\n",
    "class_le = LabelEncoder()\n",
    "df['cat_case_type'] = class_le.fit_transform(df['cat_case_type'].values)\n",
    "df['cat_s_plane_capacity'] = class_le.fit_transform(df['cat_s_plane_capacity'].values)\n",
    "df['dt_flight_date'] = class_le.fit_transform(df['dt_flight_date'].values)\n",
    "df['dt_prediction_date'] = class_le.fit_transform(df['dt_prediction_date'].values)\n",
    "df['dt_target_date'] = class_le.fit_transform(df['dt_target_date'].values)\n",
    "df['s_model_type'] = class_le.fit_transform(df['s_model_type'].values)\n"
   ]
  },
  {
   "cell_type": "code",
   "execution_count": 8,
   "metadata": {
    "collapsed": true
   },
   "outputs": [],
   "source": [
    "Source_g = {\"TrainData\" : 1, \"TestData\" : 2}\n",
    "df[\"Source\"] = df[\"Source\"].apply(lambda s: Source_g.get(s))"
   ]
  },
  {
   "cell_type": "code",
   "execution_count": 9,
   "metadata": {
    "collapsed": false
   },
   "outputs": [
    {
     "data": {
      "text/html": [
       "<div>\n",
       "<table border=\"1\" class=\"dataframe\">\n",
       "  <thead>\n",
       "    <tr style=\"text-align: right;\">\n",
       "      <th></th>\n",
       "      <th>dt_prediction_date</th>\n",
       "      <th>dt_target_date</th>\n",
       "      <th>Source</th>\n",
       "      <th>s_model_type</th>\n",
       "      <th>cat_case_type</th>\n",
       "      <th>cat_i_flightno</th>\n",
       "      <th>dt_flight_date</th>\n",
       "      <th>num_flight_year</th>\n",
       "      <th>num_flight_month</th>\n",
       "      <th>num_flight_weekofyear</th>\n",
       "      <th>...</th>\n",
       "      <th>ord_bag_checkin</th>\n",
       "      <th>ord_arrive_by_car</th>\n",
       "      <th>TotalOnFlight</th>\n",
       "      <th>National Holiday</th>\n",
       "      <th>Not National Holiday</th>\n",
       "      <th>Rugby - Home</th>\n",
       "      <th>Rugby Away</th>\n",
       "      <th>PrimaryShcoolsOff</th>\n",
       "      <th>SecondarySchoolsOff</th>\n",
       "      <th>HolidaySeason</th>\n",
       "    </tr>\n",
       "    <tr>\n",
       "      <th>id</th>\n",
       "      <th></th>\n",
       "      <th></th>\n",
       "      <th></th>\n",
       "      <th></th>\n",
       "      <th></th>\n",
       "      <th></th>\n",
       "      <th></th>\n",
       "      <th></th>\n",
       "      <th></th>\n",
       "      <th></th>\n",
       "      <th></th>\n",
       "      <th></th>\n",
       "      <th></th>\n",
       "      <th></th>\n",
       "      <th></th>\n",
       "      <th></th>\n",
       "      <th></th>\n",
       "      <th></th>\n",
       "      <th></th>\n",
       "      <th></th>\n",
       "      <th></th>\n",
       "    </tr>\n",
       "  </thead>\n",
       "  <tbody>\n",
       "    <tr>\n",
       "      <th>10099</th>\n",
       "      <td>858</td>\n",
       "      <td>560</td>\n",
       "      <td>1</td>\n",
       "      <td>0</td>\n",
       "      <td>0</td>\n",
       "      <td>744</td>\n",
       "      <td>1105</td>\n",
       "      <td>2015</td>\n",
       "      <td>7</td>\n",
       "      <td>29</td>\n",
       "      <td>...</td>\n",
       "      <td>4</td>\n",
       "      <td>2</td>\n",
       "      <td>168</td>\n",
       "      <td>0</td>\n",
       "      <td>0</td>\n",
       "      <td>0</td>\n",
       "      <td>0</td>\n",
       "      <td>1</td>\n",
       "      <td>1</td>\n",
       "      <td>0</td>\n",
       "    </tr>\n",
       "    <tr>\n",
       "      <th>10099</th>\n",
       "      <td>858</td>\n",
       "      <td>560</td>\n",
       "      <td>1</td>\n",
       "      <td>0</td>\n",
       "      <td>0</td>\n",
       "      <td>744</td>\n",
       "      <td>1106</td>\n",
       "      <td>2015</td>\n",
       "      <td>7</td>\n",
       "      <td>29</td>\n",
       "      <td>...</td>\n",
       "      <td>4</td>\n",
       "      <td>2</td>\n",
       "      <td>154</td>\n",
       "      <td>0</td>\n",
       "      <td>0</td>\n",
       "      <td>0</td>\n",
       "      <td>0</td>\n",
       "      <td>1</td>\n",
       "      <td>1</td>\n",
       "      <td>0</td>\n",
       "    </tr>\n",
       "  </tbody>\n",
       "</table>\n",
       "<p>2 rows × 37 columns</p>\n",
       "</div>"
      ],
      "text/plain": [
       "       dt_prediction_date  dt_target_date  Source  s_model_type  \\\n",
       "id                                                                \n",
       "10099                 858             560       1             0   \n",
       "10099                 858             560       1             0   \n",
       "\n",
       "       cat_case_type  cat_i_flightno  dt_flight_date  num_flight_year  \\\n",
       "id                                                                      \n",
       "10099              0             744            1105             2015   \n",
       "10099              0             744            1106             2015   \n",
       "\n",
       "       num_flight_month  num_flight_weekofyear      ...        \\\n",
       "id                                                  ...         \n",
       "10099                 7                     29      ...         \n",
       "10099                 7                     29      ...         \n",
       "\n",
       "       ord_bag_checkin  ord_arrive_by_car  TotalOnFlight  National Holiday  \\\n",
       "id                                                                           \n",
       "10099                4                  2            168                 0   \n",
       "10099                4                  2            154                 0   \n",
       "\n",
       "       Not National Holiday  Rugby - Home  Rugby Away  PrimaryShcoolsOff  \\\n",
       "id                                                                         \n",
       "10099                     0             0           0                  1   \n",
       "10099                     0             0           0                  1   \n",
       "\n",
       "       SecondarySchoolsOff  HolidaySeason  \n",
       "id                                         \n",
       "10099                    1              0  \n",
       "10099                    1              0  \n",
       "\n",
       "[2 rows x 37 columns]"
      ]
     },
     "execution_count": 9,
     "metadata": {},
     "output_type": "execute_result"
    }
   ],
   "source": [
    "df.head(2)"
   ]
  },
  {
   "cell_type": "code",
   "execution_count": 10,
   "metadata": {
    "collapsed": false
   },
   "outputs": [],
   "source": [
    "X = df[df['Source'] == 1]\n",
    "\n",
    "test1 = df[df['Source'] == 2]\n"
   ]
  },
  {
   "cell_type": "code",
   "execution_count": 11,
   "metadata": {
    "collapsed": false
   },
   "outputs": [],
   "source": [
    "# target = df['TotalOnFlight']\n",
    "# X = X.drop('TotalOnFlight',axis = 1)\n",
    "# test1 = test1.drop('TotalOnFlight',axis = 1) "
   ]
  },
  {
   "cell_type": "code",
   "execution_count": 12,
   "metadata": {
    "collapsed": false
   },
   "outputs": [],
   "source": [
    "test2 = test1[test1['TotalOnFlight'] == 0]"
   ]
  },
  {
   "cell_type": "code",
   "execution_count": 16,
   "metadata": {
    "collapsed": false
   },
   "outputs": [
    {
     "name": "stdout",
     "output_type": "stream",
     "text": [
      "98178 rows for training set\n",
      "4577 rows for test set\n"
     ]
    }
   ],
   "source": []
  },
  {
   "cell_type": "code",
   "execution_count": 13,
   "metadata": {
    "collapsed": false
   },
   "outputs": [],
   "source": [
    "target = X['TotalOnFlight']"
   ]
  },
  {
   "cell_type": "code",
   "execution_count": 14,
   "metadata": {
    "collapsed": true
   },
   "outputs": [],
   "source": [
    " X = X.drop('TotalOnFlight',axis = 1)\n",
    "test2 = test2.drop('TotalOnFlight',axis = 1) "
   ]
  },
  {
   "cell_type": "code",
   "execution_count": 15,
   "metadata": {
    "collapsed": false
   },
   "outputs": [
    {
     "name": "stdout",
     "output_type": "stream",
     "text": [
      "98178 rows for training set\n",
      "4577 rows for test set\n",
      "98178 rows for target\n"
     ]
    }
   ],
   "source": [
    "print (str(len(X))+\" rows for training set\")\n",
    "print (str(len(test2))+\" rows for test set\")\n",
    "print (str(len(target))+\" rows for target\")"
   ]
  },
  {
   "cell_type": "code",
   "execution_count": 17,
   "metadata": {
    "collapsed": false
   },
   "outputs": [
    {
     "name": "stdout",
     "output_type": "stream",
     "text": [
      "R-squared: 0.6761\n"
     ]
    },
    {
     "name": "stderr",
     "output_type": "stream",
     "text": [
      "C:\\Anaconda3\\lib\\site-packages\\sklearn\\linear_model\\coordinate_descent.py:479: ConvergenceWarning: Objective did not converge. You might want to increase the number of iterations. Fitting data with very small alpha may cause precision problems.\n",
      "  ConvergenceWarning)\n"
     ]
    }
   ],
   "source": [
    "\n",
    "#model = DecisionTreeRegressor(max_depth=2,random_state=20)\n",
    "#from sklearn.ensemble import RandomForestRegressor \n",
    "#from sklearn.ensemble import ExtraTreesRegressor\n",
    "#from sklearn.ensemble import GradientBoostingRegressor\n",
    "\n",
    "#model = GradientBoostingRegressor(n_estimators=10,random_state=7)\n",
    "#from sklearn.linear_model import LinearRegression, Ridge, Lasso, ElasticNetCV\n",
    "\n",
    "\n",
    "# 2* Ridge\n",
    "#model = linear_model.Ridge(alpha=0.003)\n",
    "# 3* Linear\n",
    "#model = linear_model.LinearRegression()\n",
    "#from sklearn.neighbors import KNeighborsRegressor\n",
    "#model = KNeighborsRegressor(n_neighbors=300,n_jobs=-1)\n",
    "from sklearn.linear_model import ElasticNet\n",
    "model = ElasticNet(alpha=.001,random_state=5)\n",
    "model.fit(X, target)\n",
    "predictions_1 = model.predict(test2).astype(int)\n",
    "\n",
    "print ('R-squared: %.4f' % model.score(X, target))"
   ]
  },
  {
   "cell_type": "code",
   "execution_count": 20,
   "metadata": {
    "collapsed": false
   },
   "outputs": [
    {
     "data": {
      "text/plain": [
       "array([ 29, 138, 159, ..., 178,  69, 154])"
      ]
     },
     "execution_count": 20,
     "metadata": {},
     "output_type": "execute_result"
    }
   ],
   "source": [
    "predictions_1"
   ]
  },
  {
   "cell_type": "code",
   "execution_count": 24,
   "metadata": {
    "collapsed": false
   },
   "outputs": [],
   "source": [
    "submission = pd.DataFrame()\n",
    "submission[\"id\"] = test2.index\n",
    "submission['TotalOnFlight'] = predictions_1\n",
    "\n",
    "submission.to_csv(\"flightTotals.csv\",index = False)"
   ]
  },
  {
   "cell_type": "code",
   "execution_count": 129,
   "metadata": {
    "collapsed": true
   },
   "outputs": [],
   "source": [
    "df5 = pd.DataFrame({'num_pax_000_014_mins_before_sdt':df4[:,0],'num_pax_015_029_mins_before_sdt':df4[:,1],'num_pax_030_044_mins_before_sdt':df4[:,2],\n",
    "                    'num_pax_045_059_mins_before_sdt':df4[:,3],'num_pax_060_074_mins_before_sdt':df4[:,4],'num_pax_075_089_mins_before_sdt':df4[:,5],\n",
    "                    'num_pax_090_104_mins_before_sdt':df4[:,6],'num_pax_105_119_mins_before_sdt':df4[:,7],'num_pax_120_134_mins_before_sdt':df4[:,8],\n",
    "                    'num_pax_135_149_mins_before_sdt':df4[:,9],'num_pax_150_164_mins_before_sdt':df4[:,10],'num_pax_165_179_mins_before_sdt':df4[:,11],\n",
    "                    'num_pax_180_194_mins_before_sdt':df4[:,12],'num_pax_195_209_mins_before_sdt':df4[:,13],'num_pax_210_224_mins_before_sdt':df4[:,14],\n",
    "                    'num_pax_225_239_mins_before_sdt':df4[:,15],'num_pax_240plus_mins_before_sdt':df4[:,16]})"
   ]
  },
  {
   "cell_type": "code",
   "execution_count": 130,
   "metadata": {
    "collapsed": true
   },
   "outputs": [],
   "source": [
    "submission = pd.DataFrame()\n",
    "submission[\"id\"] = test2.index"
   ]
  },
  {
   "cell_type": "code",
   "execution_count": 131,
   "metadata": {
    "collapsed": true
   },
   "outputs": [],
   "source": [
    "df6 = pd.concat([submission, df5], axis=1)"
   ]
  },
  {
   "cell_type": "code",
   "execution_count": 132,
   "metadata": {
    "collapsed": true
   },
   "outputs": [],
   "source": [
    "df6.to_csv(\"attempt_PiushVaish_Normalized_ElasticNet.csv\",index = False)"
   ]
  },
  {
   "cell_type": "code",
   "execution_count": null,
   "metadata": {
    "collapsed": true
   },
   "outputs": [],
   "source": []
  }
 ],
 "metadata": {
  "anaconda-cloud": {},
  "kernelspec": {
   "display_name": "Python [default]",
   "language": "python",
   "name": "python3"
  },
  "language_info": {
   "codemirror_mode": {
    "name": "ipython",
    "version": 3
   },
   "file_extension": ".py",
   "mimetype": "text/x-python",
   "name": "python",
   "nbconvert_exporter": "python",
   "pygments_lexer": "ipython3",
   "version": "3.5.1"
  }
 },
 "nbformat": 4,
 "nbformat_minor": 1
}
