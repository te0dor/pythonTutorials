{
 "cells": [
  {
   "cell_type": "markdown",
   "metadata": {},
   "source": [
    "## Importing Data\n",
    "Let us start with importing the basic libraries we need and the data set."
   ]
  },
  {
   "cell_type": "code",
   "execution_count": 1,
   "metadata": {
    "collapsed": true
   },
   "outputs": [],
   "source": [
    "import numpy as np \n",
    "import pandas as pd \n",
    "import seaborn as sns\n",
    "import matplotlib.pyplot as plt\n",
    "%matplotlib inline\n",
    "\n",
    "import warnings\n",
    "warnings.filterwarnings('ignore') \n",
    "\n",
    "sns.set_style('whitegrid')\n",
    "pd.set_option('display.max_columns', None) # display all columns"
   ]
  },
  {
   "cell_type": "code",
   "execution_count": 2,
   "metadata": {
    "collapsed": false
   },
   "outputs": [
    {
     "data": {
      "text/html": [
       "<div>\n",
       "<table border=\"1\" class=\"dataframe\">\n",
       "  <thead>\n",
       "    <tr style=\"text-align: right;\">\n",
       "      <th></th>\n",
       "      <th>Semana</th>\n",
       "      <th>Agencia_ID</th>\n",
       "      <th>Canal_ID</th>\n",
       "      <th>Ruta_SAK</th>\n",
       "      <th>Cliente_ID</th>\n",
       "      <th>Producto_ID</th>\n",
       "      <th>Venta_uni_hoy</th>\n",
       "      <th>Venta_hoy</th>\n",
       "      <th>Dev_uni_proxima</th>\n",
       "      <th>Dev_proxima</th>\n",
       "      <th>Demanda_uni_equil</th>\n",
       "    </tr>\n",
       "  </thead>\n",
       "  <tbody>\n",
       "    <tr>\n",
       "      <th>0</th>\n",
       "      <td>3</td>\n",
       "      <td>1110</td>\n",
       "      <td>7</td>\n",
       "      <td>3301</td>\n",
       "      <td>15766</td>\n",
       "      <td>1212</td>\n",
       "      <td>3</td>\n",
       "      <td>25.14</td>\n",
       "      <td>0</td>\n",
       "      <td>0.0</td>\n",
       "      <td>3</td>\n",
       "    </tr>\n",
       "    <tr>\n",
       "      <th>1</th>\n",
       "      <td>3</td>\n",
       "      <td>1110</td>\n",
       "      <td>7</td>\n",
       "      <td>3301</td>\n",
       "      <td>15766</td>\n",
       "      <td>1216</td>\n",
       "      <td>4</td>\n",
       "      <td>33.52</td>\n",
       "      <td>0</td>\n",
       "      <td>0.0</td>\n",
       "      <td>4</td>\n",
       "    </tr>\n",
       "    <tr>\n",
       "      <th>2</th>\n",
       "      <td>3</td>\n",
       "      <td>1110</td>\n",
       "      <td>7</td>\n",
       "      <td>3301</td>\n",
       "      <td>15766</td>\n",
       "      <td>1238</td>\n",
       "      <td>4</td>\n",
       "      <td>39.32</td>\n",
       "      <td>0</td>\n",
       "      <td>0.0</td>\n",
       "      <td>4</td>\n",
       "    </tr>\n",
       "    <tr>\n",
       "      <th>3</th>\n",
       "      <td>3</td>\n",
       "      <td>1110</td>\n",
       "      <td>7</td>\n",
       "      <td>3301</td>\n",
       "      <td>15766</td>\n",
       "      <td>1240</td>\n",
       "      <td>4</td>\n",
       "      <td>33.52</td>\n",
       "      <td>0</td>\n",
       "      <td>0.0</td>\n",
       "      <td>4</td>\n",
       "    </tr>\n",
       "    <tr>\n",
       "      <th>4</th>\n",
       "      <td>3</td>\n",
       "      <td>1110</td>\n",
       "      <td>7</td>\n",
       "      <td>3301</td>\n",
       "      <td>15766</td>\n",
       "      <td>1242</td>\n",
       "      <td>3</td>\n",
       "      <td>22.92</td>\n",
       "      <td>0</td>\n",
       "      <td>0.0</td>\n",
       "      <td>3</td>\n",
       "    </tr>\n",
       "  </tbody>\n",
       "</table>\n",
       "</div>"
      ],
      "text/plain": [
       "   Semana  Agencia_ID  Canal_ID  Ruta_SAK  Cliente_ID  Producto_ID  \\\n",
       "0       3        1110         7      3301       15766         1212   \n",
       "1       3        1110         7      3301       15766         1216   \n",
       "2       3        1110         7      3301       15766         1238   \n",
       "3       3        1110         7      3301       15766         1240   \n",
       "4       3        1110         7      3301       15766         1242   \n",
       "\n",
       "   Venta_uni_hoy  Venta_hoy  Dev_uni_proxima  Dev_proxima  Demanda_uni_equil  \n",
       "0              3      25.14                0          0.0                  3  \n",
       "1              4      33.52                0          0.0                  4  \n",
       "2              4      39.32                0          0.0                  4  \n",
       "3              4      33.52                0          0.0                  4  \n",
       "4              3      22.92                0          0.0                  3  "
      ]
     },
     "execution_count": 2,
     "metadata": {},
     "output_type": "execute_result"
    }
   ],
   "source": [
    "# importing the dataset\n",
    "df_train = pd.read_csv('train.csv')\n",
    "df_train.head(5)"
   ]
  },
  {
   "cell_type": "code",
   "execution_count": 3,
   "metadata": {
    "collapsed": false
   },
   "outputs": [
    {
     "data": {
      "text/html": [
       "<div>\n",
       "<table border=\"1\" class=\"dataframe\">\n",
       "  <thead>\n",
       "    <tr style=\"text-align: right;\">\n",
       "      <th></th>\n",
       "      <th>id</th>\n",
       "      <th>Semana</th>\n",
       "      <th>Agencia_ID</th>\n",
       "      <th>Canal_ID</th>\n",
       "      <th>Ruta_SAK</th>\n",
       "      <th>Cliente_ID</th>\n",
       "      <th>Producto_ID</th>\n",
       "    </tr>\n",
       "  </thead>\n",
       "  <tbody>\n",
       "    <tr>\n",
       "      <th>0</th>\n",
       "      <td>0</td>\n",
       "      <td>11</td>\n",
       "      <td>4037</td>\n",
       "      <td>1</td>\n",
       "      <td>2209</td>\n",
       "      <td>4639078</td>\n",
       "      <td>35305</td>\n",
       "    </tr>\n",
       "    <tr>\n",
       "      <th>1</th>\n",
       "      <td>1</td>\n",
       "      <td>11</td>\n",
       "      <td>2237</td>\n",
       "      <td>1</td>\n",
       "      <td>1226</td>\n",
       "      <td>4705135</td>\n",
       "      <td>1238</td>\n",
       "    </tr>\n",
       "    <tr>\n",
       "      <th>2</th>\n",
       "      <td>2</td>\n",
       "      <td>10</td>\n",
       "      <td>2045</td>\n",
       "      <td>1</td>\n",
       "      <td>2831</td>\n",
       "      <td>4549769</td>\n",
       "      <td>32940</td>\n",
       "    </tr>\n",
       "    <tr>\n",
       "      <th>3</th>\n",
       "      <td>3</td>\n",
       "      <td>11</td>\n",
       "      <td>1227</td>\n",
       "      <td>1</td>\n",
       "      <td>4448</td>\n",
       "      <td>4717855</td>\n",
       "      <td>43066</td>\n",
       "    </tr>\n",
       "    <tr>\n",
       "      <th>4</th>\n",
       "      <td>4</td>\n",
       "      <td>11</td>\n",
       "      <td>1219</td>\n",
       "      <td>1</td>\n",
       "      <td>1130</td>\n",
       "      <td>966351</td>\n",
       "      <td>1277</td>\n",
       "    </tr>\n",
       "  </tbody>\n",
       "</table>\n",
       "</div>"
      ],
      "text/plain": [
       "   id  Semana  Agencia_ID  Canal_ID  Ruta_SAK  Cliente_ID  Producto_ID\n",
       "0   0      11        4037         1      2209     4639078        35305\n",
       "1   1      11        2237         1      1226     4705135         1238\n",
       "2   2      10        2045         1      2831     4549769        32940\n",
       "3   3      11        1227         1      4448     4717855        43066\n",
       "4   4      11        1219         1      1130      966351         1277"
      ]
     },
     "execution_count": 3,
     "metadata": {},
     "output_type": "execute_result"
    }
   ],
   "source": [
    "df_test = pd.read_csv('test.csv')\n",
    "df_test.head(5)"
   ]
  },
  {
   "cell_type": "markdown",
   "metadata": {},
   "source": [
    "## Getting to know the data\n",
    "Let us do some basic operations"
   ]
  },
  {
   "cell_type": "code",
   "execution_count": 6,
   "metadata": {
    "collapsed": false
   },
   "outputs": [
    {
     "name": "stdout",
     "output_type": "stream",
     "text": [
      "Reading train data\n",
      "\n",
      "Size of training data: (74180464, 11)\n",
      "Columns:['Semana' 'Agencia_ID' 'Canal_ID' 'Ruta_SAK' 'Cliente_ID' 'Producto_ID'\n",
      " 'Venta_uni_hoy' 'Venta_hoy' 'Dev_uni_proxima' 'Dev_proxima'\n",
      " 'Demanda_uni_equil']\n",
      "\n",
      "\n",
      "dtypes\n",
      "\n",
      "\n",
      "Semana                 int64\n",
      "Agencia_ID             int64\n",
      "Canal_ID               int64\n",
      "Ruta_SAK               int64\n",
      "Cliente_ID             int64\n",
      "Producto_ID            int64\n",
      "Venta_uni_hoy          int64\n",
      "Venta_hoy            float64\n",
      "Dev_uni_proxima        int64\n",
      "Dev_proxima          float64\n",
      "Demanda_uni_equil      int64\n",
      "dtype: object\n",
      "\n",
      "\n",
      "Shape: \n",
      "\n",
      "\n",
      "(74180464, 11)\n",
      "\n",
      "\n",
      "numerical columns statistcs\n",
      "\n",
      "\n",
      "             Semana    Agencia_ID      Canal_ID      Ruta_SAK    Cliente_ID  \\\n",
      "count  7.418046e+07  7.418046e+07  7.418046e+07  7.418046e+07  7.418046e+07   \n",
      "mean   5.950021e+00  2.536509e+03  1.383181e+00  2.114855e+03  1.802119e+06   \n",
      "std    2.013175e+00  4.075124e+03  1.463266e+00  1.487744e+03  2.349577e+06   \n",
      "min    3.000000e+00  1.110000e+03  1.000000e+00  1.000000e+00  2.600000e+01   \n",
      "25%    4.000000e+00  1.312000e+03  1.000000e+00  1.161000e+03  3.567670e+05   \n",
      "50%    6.000000e+00  1.613000e+03  1.000000e+00  1.286000e+03  1.193385e+06   \n",
      "75%    8.000000e+00  2.036000e+03  1.000000e+00  2.802000e+03  2.371091e+06   \n",
      "max    9.000000e+00  2.575900e+04  1.100000e+01  9.991000e+03  2.015152e+09   \n",
      "\n",
      "        Producto_ID  Venta_uni_hoy     Venta_hoy  Dev_uni_proxima  \\\n",
      "count  7.418046e+07   7.418046e+07  7.418046e+07     7.418046e+07   \n",
      "mean   2.084081e+04   7.310163e+00  6.854452e+01     1.302577e-01   \n",
      "std    1.866392e+04   2.196734e+01  3.389795e+02     2.932320e+01   \n",
      "min    4.100000e+01   0.000000e+00  0.000000e+00     0.000000e+00   \n",
      "25%    1.242000e+03   2.000000e+00  1.676000e+01     0.000000e+00   \n",
      "50%    3.054900e+04   3.000000e+00  3.000000e+01     0.000000e+00   \n",
      "75%    3.742600e+04   7.000000e+00  5.610000e+01     0.000000e+00   \n",
      "max    4.999700e+04   7.200000e+03  6.473600e+05     2.500000e+05   \n",
      "\n",
      "        Dev_proxima  Demanda_uni_equil  \n",
      "count  7.418046e+07       7.418046e+07  \n",
      "mean   1.243248e+00       7.224564e+00  \n",
      "std    3.921552e+01       2.177119e+01  \n",
      "min    0.000000e+00       0.000000e+00  \n",
      "25%    0.000000e+00       2.000000e+00  \n",
      "50%    0.000000e+00       3.000000e+00  \n",
      "75%    0.000000e+00       6.000000e+00  \n",
      "max    1.307600e+05       5.000000e+03  \n"
     ]
    }
   ],
   "source": [
    "print('Reading train data')\n",
    "print('\\nSize of training data: ' + str(df_train.shape))\n",
    "print('Columns:' + str(df_train.columns.values))\n",
    "print('\\n')\n",
    "print('dtypes')\n",
    "print('\\n')\n",
    "print(df_train.dtypes)\n",
    "print('\\n')\n",
    "#print('Info: ')\n",
    "#print('\\n')\n",
    "#print(df_train.info)\n",
    "print('Shape: ')\n",
    "print('\\n')\n",
    "print(df_train.shape)\n",
    "print('\\n')\n",
    "print('numerical columns statistcs')\n",
    "print('\\n')\n",
    "print(df_train.describe())"
   ]
  },
  {
   "cell_type": "code",
   "execution_count": 8,
   "metadata": {
    "collapsed": false
   },
   "outputs": [
    {
     "data": {
      "text/plain": [
       "False"
      ]
     },
     "execution_count": 8,
     "metadata": {},
     "output_type": "execute_result"
    }
   ],
   "source": [
    "#check whether a DataFrame has one (or more) NaN values\n",
    "df_train.isnull().values.any()"
   ]
  },
  {
   "cell_type": "code",
   "execution_count": 9,
   "metadata": {
    "collapsed": false
   },
   "outputs": [
    {
     "data": {
      "text/plain": [
       "0"
      ]
     },
     "execution_count": 9,
     "metadata": {},
     "output_type": "execute_result"
    }
   ],
   "source": [
    "#the number of NaNs\n",
    "df_train.isnull().sum().sum()"
   ]
  },
  {
   "cell_type": "code",
   "execution_count": 10,
   "metadata": {
    "collapsed": false
   },
   "outputs": [
    {
     "name": "stdout",
     "output_type": "stream",
     "text": [
      "Reading test data\n",
      "\n",
      "Size of test data: (6999251, 7)\n",
      "Columns:['id' 'Semana' 'Agencia_ID' 'Canal_ID' 'Ruta_SAK' 'Cliente_ID'\n",
      " 'Producto_ID']\n",
      "\n",
      "\n",
      "dtypes\n",
      "\n",
      "\n",
      "id             int64\n",
      "Semana         int64\n",
      "Agencia_ID     int64\n",
      "Canal_ID       int64\n",
      "Ruta_SAK       int64\n",
      "Cliente_ID     int64\n",
      "Producto_ID    int64\n",
      "dtype: object\n",
      "\n",
      "\n",
      "Shape: \n",
      "\n",
      "\n",
      "(6999251, 7)\n",
      "\n",
      "\n",
      "numerical columns statistcs\n",
      "\n",
      "\n",
      "                 id        Semana    Agencia_ID      Canal_ID      Ruta_SAK  \\\n",
      "count  6.999251e+06  6.999251e+06  6.999251e+06  6.999251e+06  6.999251e+06   \n",
      "mean   3.499625e+06  1.049446e+01  2.504463e+03  1.401874e+00  2.138014e+03   \n",
      "std    2.020510e+06  4.999694e-01  4.010228e+03  1.513404e+00  1.500392e+03   \n",
      "min    0.000000e+00  1.000000e+01  1.110000e+03  1.000000e+00  1.000000e+00   \n",
      "25%    1.749812e+06  1.000000e+01  1.311000e+03  1.000000e+00  1.159000e+03   \n",
      "50%    3.499625e+06  1.000000e+01  1.612000e+03  1.000000e+00  1.305000e+03   \n",
      "75%    5.249438e+06  1.100000e+01  2.034000e+03  1.000000e+00  2.804000e+03   \n",
      "max    6.999250e+06  1.100000e+01  2.575900e+04  1.100000e+01  9.950000e+03   \n",
      "\n",
      "         Cliente_ID   Producto_ID  \n",
      "count  6.999251e+06  6.999251e+06  \n",
      "mean   1.819128e+06  2.216307e+04  \n",
      "std    2.938910e+06  1.869816e+04  \n",
      "min    2.600000e+01  4.100000e+01  \n",
      "25%    3.558290e+05  1.242000e+03  \n",
      "50%    1.200109e+06  3.150700e+04  \n",
      "75%    2.387881e+06  4.093000e+04  \n",
      "max    2.015152e+09  4.999700e+04  \n"
     ]
    }
   ],
   "source": [
    "print('Reading test data')\n",
    "print('\\nSize of test data: ' + str(df_test.shape))\n",
    "print('Columns:' + str(df_test.columns.values))\n",
    "print('\\n')\n",
    "print('dtypes')\n",
    "print('\\n')\n",
    "print(df_test.dtypes)\n",
    "print('\\n')\n",
    "#print('Info: ')\n",
    "#print('\\n')\n",
    "#print(df_train.info)\n",
    "print('Shape: ')\n",
    "print('\\n')\n",
    "print(df_test.shape)\n",
    "print('\\n')\n",
    "print('numerical columns statistcs')\n",
    "print('\\n')\n",
    "print(df_test.describe())"
   ]
  },
  {
   "cell_type": "code",
   "execution_count": 14,
   "metadata": {
    "collapsed": false
   },
   "outputs": [
    {
     "data": {
      "text/html": [
       "<div>\n",
       "<table border=\"1\" class=\"dataframe\">\n",
       "  <thead>\n",
       "    <tr style=\"text-align: right;\">\n",
       "      <th></th>\n",
       "      <th>Producto_ID</th>\n",
       "      <th>NombreProducto</th>\n",
       "    </tr>\n",
       "  </thead>\n",
       "  <tbody>\n",
       "    <tr>\n",
       "      <th>0</th>\n",
       "      <td>0</td>\n",
       "      <td>NO IDENTIFICADO 0</td>\n",
       "    </tr>\n",
       "    <tr>\n",
       "      <th>1</th>\n",
       "      <td>9</td>\n",
       "      <td>Capuccino Moka 750g NES 9</td>\n",
       "    </tr>\n",
       "    <tr>\n",
       "      <th>2</th>\n",
       "      <td>41</td>\n",
       "      <td>Bimbollos Ext sAjonjoli 6p 480g BIM 41</td>\n",
       "    </tr>\n",
       "  </tbody>\n",
       "</table>\n",
       "</div>"
      ],
      "text/plain": [
       "   Producto_ID                          NombreProducto\n",
       "0            0                       NO IDENTIFICADO 0\n",
       "1            9               Capuccino Moka 750g NES 9\n",
       "2           41  Bimbollos Ext sAjonjoli 6p 480g BIM 41"
      ]
     },
     "execution_count": 14,
     "metadata": {},
     "output_type": "execute_result"
    }
   ],
   "source": [
    "df_producto = pd.read_csv('producto_tabla.csv')\n",
    "df_producto.head(3)"
   ]
  },
  {
   "cell_type": "code",
   "execution_count": 15,
   "metadata": {
    "collapsed": false
   },
   "outputs": [
    {
     "data": {
      "text/html": [
       "<div>\n",
       "<table border=\"1\" class=\"dataframe\">\n",
       "  <thead>\n",
       "    <tr style=\"text-align: right;\">\n",
       "      <th></th>\n",
       "      <th>Cliente_ID</th>\n",
       "      <th>NombreCliente</th>\n",
       "    </tr>\n",
       "  </thead>\n",
       "  <tbody>\n",
       "    <tr>\n",
       "      <th>0</th>\n",
       "      <td>0</td>\n",
       "      <td>SIN NOMBRE</td>\n",
       "    </tr>\n",
       "    <tr>\n",
       "      <th>1</th>\n",
       "      <td>1</td>\n",
       "      <td>OXXO XINANTECATL</td>\n",
       "    </tr>\n",
       "    <tr>\n",
       "      <th>2</th>\n",
       "      <td>2</td>\n",
       "      <td>SIN NOMBRE</td>\n",
       "    </tr>\n",
       "  </tbody>\n",
       "</table>\n",
       "</div>"
      ],
      "text/plain": [
       "   Cliente_ID     NombreCliente\n",
       "0           0        SIN NOMBRE\n",
       "1           1  OXXO XINANTECATL\n",
       "2           2        SIN NOMBRE"
      ]
     },
     "execution_count": 15,
     "metadata": {},
     "output_type": "execute_result"
    }
   ],
   "source": [
    "df_clienta = pd.read_csv('cliente_tabla.csv')\n",
    "df_clienta.head(3)"
   ]
  },
  {
   "cell_type": "code",
   "execution_count": 25,
   "metadata": {
    "collapsed": false
   },
   "outputs": [
    {
     "data": {
      "text/plain": [
       "NombreCliente\n",
       "007                                         1\n",
       "056 THE AIRPORT MARKET                      1\n",
       "06                                          1\n",
       "0RLANDO                                     1\n",
       "1 2 3                                       3\n",
       "1 DE ABRIL                                  1\n",
       "1 DE DICIEMBRE                              1\n",
       "1 DE JULIO                                  1\n",
       "1 DE MARZO                                  3\n",
       "1 DE MAYO                                   4\n",
       "1 ER GPO DE CAB C G P                       1\n",
       "1 MAS                                       1\n",
       "1 MAS UNO                                   1\n",
       "1 MAS UNO JULIAN ADAME                      1\n",
       "1 MAS UNO LA ENCANTADA                      1\n",
       "1 MAS UNO LA PEÑUELA                        1\n",
       "1 MAS UNO LOPEZ MATEOS                      1\n",
       "1 MAS UNO MANUEL M PONCE                    1\n",
       "1 MAS UNO TORREON                           1\n",
       "1 REGIMIENTO MECANIZADO                     1\n",
       "10                                          1\n",
       "10 C MENOS                                  1\n",
       "10 CASTILLOS                                1\n",
       "10 D                                        1\n",
       "10 DE ABRIL                                 4\n",
       "10 DE JUNIO                                 2\n",
       "10 DE MAYO                                 10\n",
       "10 DE NOVIEMBRE                             1\n",
       "10 DE SEPTIEMPBRE                           1\n",
       "10 HERMANOS                                 3\n",
       "                                           ..\n",
       "supercenter insurgentes la joya             1\n",
       "tiendas de super precio petatlan 2          1\n",
       "tiendas super precio eduardo neri           1\n",
       "tiendas super precio isla                   1\n",
       "tiendas super precio la laja                1\n",
       "tiendas super precio san jeronimo           1\n",
       "tiendas super precio tecpan 2               1\n",
       "tiendas tres b agua prieta                  1\n",
       "tiendas tres b coatlinchan                  1\n",
       "tiendas tres b donato guerra                1\n",
       "tiendas tres b gustavo baz                  1\n",
       "tiendas tres b jiutepec                     1\n",
       "tiendas tres b jojutla                      1\n",
       "tiendas tres b la flor                      1\n",
       "tiendas tres b moctezuma                    1\n",
       "tiendas tres b morelos chipitla             1\n",
       "tiendas tres b san pablito calmimilolco     1\n",
       "tiendas tres b tejalpa                      1\n",
       "tres b san felipe del progreso              1\n",
       "waldos santa fe                             1\n",
       "woolworth centro acapulco                   1\n",
       "yepas can palau                             1\n",
       "yepas colinas de santa fe ii                1\n",
       "yepas jardines                              1\n",
       "yepas juarez                                1\n",
       "yepas tierra blanca                         1\n",
       "ÍRODOLFO CALLEJAS CALLEJAS                  1\n",
       "ÑEKA                                        1\n",
       "ÑONTHE                                      1\n",
       "ÑOÑO                                        1\n",
       "Name: Cliente_ID, dtype: int64"
      ]
     },
     "execution_count": 25,
     "metadata": {},
     "output_type": "execute_result"
    }
   ],
   "source": [
    "# let us see how many unique clients are there\n",
    "df_clienta.groupby('NombreCliente').Cliente_ID.nunique()"
   ]
  },
  {
   "cell_type": "code",
   "execution_count": 16,
   "metadata": {
    "collapsed": false
   },
   "outputs": [
    {
     "data": {
      "text/html": [
       "<div>\n",
       "<table border=\"1\" class=\"dataframe\">\n",
       "  <thead>\n",
       "    <tr style=\"text-align: right;\">\n",
       "      <th></th>\n",
       "      <th>Agencia_ID</th>\n",
       "      <th>Town</th>\n",
       "      <th>State</th>\n",
       "    </tr>\n",
       "  </thead>\n",
       "  <tbody>\n",
       "    <tr>\n",
       "      <th>0</th>\n",
       "      <td>1110</td>\n",
       "      <td>2008 AG. LAGO FILT</td>\n",
       "      <td>MÉXICO, D.F.</td>\n",
       "    </tr>\n",
       "    <tr>\n",
       "      <th>1</th>\n",
       "      <td>1111</td>\n",
       "      <td>2002 AG. AZCAPOTZALCO</td>\n",
       "      <td>MÉXICO, D.F.</td>\n",
       "    </tr>\n",
       "    <tr>\n",
       "      <th>2</th>\n",
       "      <td>1112</td>\n",
       "      <td>2004 AG. CUAUTITLAN</td>\n",
       "      <td>ESTADO DE MÉXICO</td>\n",
       "    </tr>\n",
       "  </tbody>\n",
       "</table>\n",
       "</div>"
      ],
      "text/plain": [
       "   Agencia_ID                   Town             State\n",
       "0        1110     2008 AG. LAGO FILT      MÉXICO, D.F.\n",
       "1        1111  2002 AG. AZCAPOTZALCO      MÉXICO, D.F.\n",
       "2        1112    2004 AG. CUAUTITLAN  ESTADO DE MÉXICO"
      ]
     },
     "execution_count": 16,
     "metadata": {},
     "output_type": "execute_result"
    }
   ],
   "source": [
    "df_town_state = pd.read_csv('town_state.csv')\n",
    "df_town_state.head(3)"
   ]
  },
  {
   "cell_type": "markdown",
   "metadata": {},
   "source": [
    "#### Random sample as train is very big"
   ]
  },
  {
   "cell_type": "markdown",
   "metadata": {},
   "source": [
    " http://stackoverflow.com/questions/18713929/subsample-pandas-dataframe"
   ]
  },
  {
   "cell_type": "code",
   "execution_count": 11,
   "metadata": {
    "collapsed": false
   },
   "outputs": [],
   "source": [
    "#df.ix[np.random.random_integers(0, len(df), 10)]\n",
    "#.sample(frac=0.1, replace=True)\n",
    "# much faster than random. trying instead of sample \n",
    "df_sample = df_train.ix[np.random.choice(df_train.index,100000,replace=False)]"
   ]
  },
  {
   "cell_type": "code",
   "execution_count": 12,
   "metadata": {
    "collapsed": false
   },
   "outputs": [
    {
     "name": "stdout",
     "output_type": "stream",
     "text": [
      "          Semana  Agencia_ID  Canal_ID  Ruta_SAK  Cliente_ID  Producto_ID  \\\n",
      "58175236       8        1546         1      1221      978901        34053   \n",
      "65047381       9        1153         1      1255     2170351         1284   \n",
      "54028503       8        1123         1      1401     1013050         1240   \n",
      "5712437        3        1614         1      4401     1042979        34226   \n",
      "\n",
      "          Venta_uni_hoy  Venta_hoy  Dev_uni_proxima  Dev_proxima  \\\n",
      "58175236              5      22.50                0          0.0   \n",
      "65047381              3       9.06                0          0.0   \n",
      "54028503              4      33.52                0          0.0   \n",
      "5712437               4      34.24                0          0.0   \n",
      "\n",
      "          Demanda_uni_equil  \n",
      "58175236                  5  \n",
      "65047381                  3  \n",
      "54028503                  4  \n",
      "5712437                   4  \n"
     ]
    }
   ],
   "source": [
    "print(df_sample.head(4))"
   ]
  },
  {
   "cell_type": "markdown",
   "metadata": {},
   "source": [
    "## Fast and Simple Sampling in Pandas when Loading Data From Files"
   ]
  },
  {
   "cell_type": "markdown",
   "metadata": {},
   "source": [
    "### Approach 1 – select every N-th line"
   ]
  },
  {
   "cell_type": "markdown",
   "metadata": {},
   "source": [
    "#The data to load\n",
    "f = \"my_data.csv\"\n",
    " \n",
    "#Take every N-th (in this case 10th) row\n",
    "n = 10\n",
    " \n",
    "#Count the lines or use an upper bound\n",
    "num_lines = sum(1 for l in open(f))\n",
    " \n",
    "#The row indices to skip - make sure 0 is not included to keep the header!\n",
    "skip_idx = [x for x in range(1, num_lines) if x % n != 0]\n",
    " \n",
    "#Read the data\n",
    "data = pd.read_csv(f, skiprows=skip_idx, ... )"
   ]
  },
  {
   "cell_type": "markdown",
   "metadata": {},
   "source": [
    "## random selection"
   ]
  },
  {
   "cell_type": "markdown",
   "metadata": {},
   "source": [
    "import random\n",
    " \n",
    "#The data to load\n",
    "f = \"my_data.csv\"\n",
    " \n",
    "#Count the lines\n",
    "num_lines = sum(1 for l in open(f))\n",
    " \n",
    "#Sample size - in this case ~10%\n",
    "size = int(num_lines / 10)\n",
    " \n",
    "#The row indices to skip - make sure 0 is not included to keep the header!\n",
    "skip_idx = random.sample(range(1, num_lines), num_lines - size)\n",
    " \n",
    "#Read the data\n",
    "data = pd.read_csv(f, skiprows=skip_idx, ... )"
   ]
  },
  {
   "cell_type": "markdown",
   "metadata": {},
   "source": [
    "### Merge df_sample with Producto"
   ]
  },
  {
   "cell_type": "markdown",
   "metadata": {},
   "source": [
    "An inner join focuses on the commonality between two tables. When using an inner join, there must be at least some matching data between two (or more) tables that are being compared. An inner join searches tables for matching or overlapping data. Upon finding it, the inner join combines and returns the information into one new table."
   ]
  },
  {
   "cell_type": "code",
   "execution_count": 17,
   "metadata": {
    "collapsed": false
   },
   "outputs": [],
   "source": [
    "df_producto_merge = pd.merge(df_sample, df_producto, on='Producto_ID', how='left')"
   ]
  },
  {
   "cell_type": "code",
   "execution_count": 18,
   "metadata": {
    "collapsed": false
   },
   "outputs": [
    {
     "data": {
      "text/html": [
       "<div>\n",
       "<table border=\"1\" class=\"dataframe\">\n",
       "  <thead>\n",
       "    <tr style=\"text-align: right;\">\n",
       "      <th></th>\n",
       "      <th>Semana</th>\n",
       "      <th>Agencia_ID</th>\n",
       "      <th>Canal_ID</th>\n",
       "      <th>Ruta_SAK</th>\n",
       "      <th>Cliente_ID</th>\n",
       "      <th>Producto_ID</th>\n",
       "      <th>Venta_uni_hoy</th>\n",
       "      <th>Venta_hoy</th>\n",
       "      <th>Dev_uni_proxima</th>\n",
       "      <th>Dev_proxima</th>\n",
       "      <th>Demanda_uni_equil</th>\n",
       "      <th>NombreProducto</th>\n",
       "    </tr>\n",
       "  </thead>\n",
       "  <tbody>\n",
       "    <tr>\n",
       "      <th>0</th>\n",
       "      <td>8</td>\n",
       "      <td>1546</td>\n",
       "      <td>1</td>\n",
       "      <td>1221</td>\n",
       "      <td>978901</td>\n",
       "      <td>34053</td>\n",
       "      <td>5</td>\n",
       "      <td>22.50</td>\n",
       "      <td>0</td>\n",
       "      <td>0.0</td>\n",
       "      <td>5</td>\n",
       "      <td>Nito 1p 62g SP BIM 34053</td>\n",
       "    </tr>\n",
       "    <tr>\n",
       "      <th>1</th>\n",
       "      <td>9</td>\n",
       "      <td>1153</td>\n",
       "      <td>1</td>\n",
       "      <td>1255</td>\n",
       "      <td>2170351</td>\n",
       "      <td>1284</td>\n",
       "      <td>3</td>\n",
       "      <td>9.06</td>\n",
       "      <td>0</td>\n",
       "      <td>0.0</td>\n",
       "      <td>3</td>\n",
       "      <td>Rebanada 2p 55g BIM 1284</td>\n",
       "    </tr>\n",
       "    <tr>\n",
       "      <th>2</th>\n",
       "      <td>8</td>\n",
       "      <td>1123</td>\n",
       "      <td>1</td>\n",
       "      <td>1401</td>\n",
       "      <td>1013050</td>\n",
       "      <td>1240</td>\n",
       "      <td>4</td>\n",
       "      <td>33.52</td>\n",
       "      <td>0</td>\n",
       "      <td>0.0</td>\n",
       "      <td>4</td>\n",
       "      <td>Mantecadas Vainilla 4p 125g BIM 1240</td>\n",
       "    </tr>\n",
       "  </tbody>\n",
       "</table>\n",
       "</div>"
      ],
      "text/plain": [
       "   Semana  Agencia_ID  Canal_ID  Ruta_SAK  Cliente_ID  Producto_ID  \\\n",
       "0       8        1546         1      1221      978901        34053   \n",
       "1       9        1153         1      1255     2170351         1284   \n",
       "2       8        1123         1      1401     1013050         1240   \n",
       "\n",
       "   Venta_uni_hoy  Venta_hoy  Dev_uni_proxima  Dev_proxima  Demanda_uni_equil  \\\n",
       "0              5      22.50                0          0.0                  5   \n",
       "1              3       9.06                0          0.0                  3   \n",
       "2              4      33.52                0          0.0                  4   \n",
       "\n",
       "                         NombreProducto  \n",
       "0              Nito 1p 62g SP BIM 34053  \n",
       "1              Rebanada 2p 55g BIM 1284  \n",
       "2  Mantecadas Vainilla 4p 125g BIM 1240  "
      ]
     },
     "execution_count": 18,
     "metadata": {},
     "output_type": "execute_result"
    }
   ],
   "source": [
    "df_producto_merge.head(3)"
   ]
  },
  {
   "cell_type": "markdown",
   "metadata": {},
   "source": [
    "## Merge Clienta with df_sample"
   ]
  },
  {
   "cell_type": "code",
   "execution_count": 27,
   "metadata": {
    "collapsed": false
   },
   "outputs": [],
   "source": [
    "df_clienta_m = pd.merge(df_sample, df_clienta, on='Cliente_ID', how='inner')"
   ]
  },
  {
   "cell_type": "code",
   "execution_count": 28,
   "metadata": {
    "collapsed": false
   },
   "outputs": [
    {
     "data": {
      "text/html": [
       "<div>\n",
       "<table border=\"1\" class=\"dataframe\">\n",
       "  <thead>\n",
       "    <tr style=\"text-align: right;\">\n",
       "      <th></th>\n",
       "      <th>Semana</th>\n",
       "      <th>Agencia_ID</th>\n",
       "      <th>Canal_ID</th>\n",
       "      <th>Ruta_SAK</th>\n",
       "      <th>Cliente_ID</th>\n",
       "      <th>Producto_ID</th>\n",
       "      <th>Venta_uni_hoy</th>\n",
       "      <th>Venta_hoy</th>\n",
       "      <th>Dev_uni_proxima</th>\n",
       "      <th>Dev_proxima</th>\n",
       "      <th>Demanda_uni_equil</th>\n",
       "      <th>NombreCliente</th>\n",
       "    </tr>\n",
       "  </thead>\n",
       "  <tbody>\n",
       "    <tr>\n",
       "      <th>0</th>\n",
       "      <td>8</td>\n",
       "      <td>1546</td>\n",
       "      <td>1</td>\n",
       "      <td>1221</td>\n",
       "      <td>978901</td>\n",
       "      <td>34053</td>\n",
       "      <td>5</td>\n",
       "      <td>22.50</td>\n",
       "      <td>0</td>\n",
       "      <td>0.0</td>\n",
       "      <td>5</td>\n",
       "      <td>CHAVE</td>\n",
       "    </tr>\n",
       "    <tr>\n",
       "      <th>1</th>\n",
       "      <td>9</td>\n",
       "      <td>1153</td>\n",
       "      <td>1</td>\n",
       "      <td>1255</td>\n",
       "      <td>2170351</td>\n",
       "      <td>1284</td>\n",
       "      <td>3</td>\n",
       "      <td>9.06</td>\n",
       "      <td>0</td>\n",
       "      <td>0.0</td>\n",
       "      <td>3</td>\n",
       "      <td>JYM</td>\n",
       "    </tr>\n",
       "  </tbody>\n",
       "</table>\n",
       "</div>"
      ],
      "text/plain": [
       "   Semana  Agencia_ID  Canal_ID  Ruta_SAK  Cliente_ID  Producto_ID  \\\n",
       "0       8        1546         1      1221      978901        34053   \n",
       "1       9        1153         1      1255     2170351         1284   \n",
       "\n",
       "   Venta_uni_hoy  Venta_hoy  Dev_uni_proxima  Dev_proxima  Demanda_uni_equil  \\\n",
       "0              5      22.50                0          0.0                  5   \n",
       "1              3       9.06                0          0.0                  3   \n",
       "\n",
       "  NombreCliente  \n",
       "0         CHAVE  \n",
       "1           JYM  "
      ]
     },
     "execution_count": 28,
     "metadata": {},
     "output_type": "execute_result"
    }
   ],
   "source": [
    "df_clienta_m.head(2)"
   ]
  },
  {
   "cell_type": "code",
   "execution_count": 30,
   "metadata": {
    "collapsed": false
   },
   "outputs": [],
   "source": [
    "df_clienta_m.drop('Cliente_ID', axis=1, inplace=True)"
   ]
  },
  {
   "cell_type": "code",
   "execution_count": 33,
   "metadata": {
    "collapsed": false
   },
   "outputs": [
    {
     "data": {
      "text/plain": [
       "(100826, 11)"
      ]
     },
     "execution_count": 33,
     "metadata": {},
     "output_type": "execute_result"
    }
   ],
   "source": [
    "df_clienta_m.shape"
   ]
  },
  {
   "cell_type": "code",
   "execution_count": null,
   "metadata": {
    "collapsed": false
   },
   "outputs": [],
   "source": [
    "#Let us plot product against the client\n",
    "sns.stripplot(x= 'NombreCliente', y = 'Producto_ID', data=df_clienta_m)\n"
   ]
  },
  {
   "cell_type": "markdown",
   "metadata": {},
   "source": [
    "## Let us check the duplicate "
   ]
  },
  {
   "cell_type": "code",
   "execution_count": null,
   "metadata": {
    "collapsed": true
   },
   "outputs": [],
   "source": [
    "df_clienta_duplicates = df_clienta_m.drop_duplicates(cols = 'NombreCliente', inplace = True)"
   ]
  },
  {
   "cell_type": "code",
   "execution_count": null,
   "metadata": {
    "collapsed": true
   },
   "outputs": [],
   "source": [
    "df_clienta_duplicates.shape\n"
   ]
  },
  {
   "cell_type": "code",
   "execution_count": null,
   "metadata": {
    "collapsed": true
   },
   "outputs": [],
   "source": []
  }
 ],
 "metadata": {
  "kernelspec": {
   "display_name": "Python 3",
   "language": "python",
   "name": "python3"
  },
  "language_info": {
   "codemirror_mode": {
    "name": "ipython",
    "version": 3
   },
   "file_extension": ".py",
   "mimetype": "text/x-python",
   "name": "python",
   "nbconvert_exporter": "python",
   "pygments_lexer": "ipython3",
   "version": "3.5.1"
  }
 },
 "nbformat": 4,
 "nbformat_minor": 0
}
