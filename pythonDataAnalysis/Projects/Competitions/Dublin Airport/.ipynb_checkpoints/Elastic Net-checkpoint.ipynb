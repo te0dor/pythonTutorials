{
 "cells": [
  {
   "cell_type": "markdown",
   "metadata": {},
   "source": [
    "#### Load Libraries"
   ]
  },
  {
   "cell_type": "code",
   "execution_count": 1,
   "metadata": {
    "collapsed": true
   },
   "outputs": [],
   "source": [
    "import pandas as pd\n",
    "import numpy as np\n"
   ]
  },
  {
   "cell_type": "markdown",
   "metadata": {},
   "source": [
    "#### Define variables"
   ]
  },
  {
   "cell_type": "code",
   "execution_count": 2,
   "metadata": {
    "collapsed": true
   },
   "outputs": [],
   "source": [
    "l_parse_date_cols = ['dt_prediction_date', 'dt_target_date', 'dt_flight_date']\n",
    "l_target_cols = ['num_pax_000_014_mins_before_sdt', 'num_pax_015_029_mins_before_sdt', 'num_pax_030_044_mins_before_sdt', 'num_pax_045_059_mins_before_sdt', 'num_pax_060_074_mins_before_sdt', 'num_pax_075_089_mins_before_sdt', 'num_pax_090_104_mins_before_sdt', 'num_pax_105_119_mins_before_sdt',  'num_pax_120_134_mins_before_sdt', 'num_pax_135_149_mins_before_sdt', 'num_pax_150_164_mins_before_sdt', 'num_pax_165_179_mins_before_sdt',  'num_pax_180_194_mins_before_sdt', 'num_pax_195_209_mins_before_sdt', 'num_pax_210_224_mins_before_sdt', 'num_pax_225_239_mins_before_sdt', 'num_pax_240plus_mins_before_sdt']\n"
   ]
  },
  {
   "cell_type": "markdown",
   "metadata": {},
   "source": [
    "#### Function to calculate score"
   ]
  },
  {
   "cell_type": "code",
   "execution_count": 3,
   "metadata": {
    "collapsed": true
   },
   "outputs": [],
   "source": [
    "from sklearn.metrics import mean_squared_error\n",
    "def calculate_score(df_target_cases, df_predictions):\n",
    "    '''Root-mean-squared error is the chosen error metric. This function calculates and returns the root-mean-squared error'''\n",
    "    f_rmse = np.sqrt(mean_squared_error(df_target_cases, df_predictions))\n",
    "    return f_rmse"
   ]
  },
  {
   "cell_type": "markdown",
   "metadata": {},
   "source": [
    "#### Read in csv file and set index as id"
   ]
  },
  {
   "cell_type": "code",
   "execution_count": 4,
   "metadata": {
    "collapsed": true
   },
   "outputs": [],
   "source": [
    "train = pd.read_csv(r\"C:\\Users\\piush\\Desktop\\Dataset\\data_20161116\\train.csv\")\n",
    "train = train.set_index('id')\n",
    "test = pd.read_csv(r\"C:\\Users\\piush\\Desktop\\Dataset\\data_20161116\\test.csv\")\n",
    "test = test.set_index('id')"
   ]
  },
  {
   "cell_type": "markdown",
   "metadata": {},
   "source": [
    "#### Do not include the nans in the test"
   ]
  },
  {
   "cell_type": "code",
   "execution_count": 5,
   "metadata": {
    "collapsed": true
   },
   "outputs": [],
   "source": [
    "test2 = test[pd.isnull(test).any(axis=1)]"
   ]
  },
  {
   "cell_type": "markdown",
   "metadata": {},
   "source": [
    "#### Set target columns"
   ]
  },
  {
   "cell_type": "code",
   "execution_count": 6,
   "metadata": {
    "collapsed": true
   },
   "outputs": [],
   "source": [
    "target = train[l_target_cols]"
   ]
  },
  {
   "cell_type": "markdown",
   "metadata": {},
   "source": [
    "#### Drop the target columns from the training and test dataset"
   ]
  },
  {
   "cell_type": "code",
   "execution_count": 7,
   "metadata": {
    "collapsed": true
   },
   "outputs": [],
   "source": [
    "df1 = train.drop(l_target_cols,axis = 1)\n",
    "test2 = test2.drop(l_target_cols,axis = 1) "
   ]
  },
  {
   "cell_type": "markdown",
   "metadata": {},
   "source": [
    "#### Concatenate the 2 data sets"
   ]
  },
  {
   "cell_type": "code",
   "execution_count": 8,
   "metadata": {
    "collapsed": true
   },
   "outputs": [],
   "source": [
    "df = df1.append(test2, ignore_index = True)"
   ]
  },
  {
   "cell_type": "markdown",
   "metadata": {},
   "source": [
    "#### Categorical variables as integers"
   ]
  },
  {
   "cell_type": "code",
   "execution_count": 9,
   "metadata": {
    "collapsed": false
   },
   "outputs": [],
   "source": [
    "from sklearn.preprocessing import LabelEncoder\n",
    "class_le = LabelEncoder()\n",
    "df['cat_case_type'] = class_le.fit_transform(df['cat_case_type'].values)\n",
    "df['cat_s_plane_capacity'] = class_le.fit_transform(df['cat_s_plane_capacity'].values)\n",
    "df['dt_flight_date'] = class_le.fit_transform(df['dt_flight_date'].values)\n",
    "df['dt_prediction_date'] = class_le.fit_transform(df['dt_prediction_date'].values)\n",
    "df['dt_target_date'] = class_le.fit_transform(df['dt_target_date'].values)\n",
    "df['s_model_type'] = class_le.fit_transform(df['s_model_type'].values)"
   ]
  },
  {
   "cell_type": "markdown",
   "metadata": {},
   "source": [
    "#### Normalize"
   ]
  },
  {
   "cell_type": "code",
   "execution_count": 10,
   "metadata": {
    "collapsed": true
   },
   "outputs": [],
   "source": [
    "from sklearn import preprocessing\n",
    "normalized_df = preprocessing.normalize(df)"
   ]
  },
  {
   "cell_type": "markdown",
   "metadata": {},
   "source": [
    "#### Split the train and test data sets"
   ]
  },
  {
   "cell_type": "code",
   "execution_count": 11,
   "metadata": {
    "collapsed": true
   },
   "outputs": [],
   "source": [
    "X = normalized_df[:train.shape[0]]\n",
    "test1 = normalized_df[train.shape[0]:]"
   ]
  },
  {
   "cell_type": "code",
   "execution_count": 56,
   "metadata": {
    "collapsed": false
   },
   "outputs": [
    {
     "name": "stdout",
     "output_type": "stream",
     "text": [
      "98043 rows for training set\n",
      "4577 rows for test set\n",
      "98043 rows for target\n"
     ]
    }
   ],
   "source": [
    "print (str(len(X))+\" rows for training set\")\n",
    "print (str(len(test1))+\" rows for test set\")\n",
    "print (str(len(target))+\" rows for target\")"
   ]
  },
  {
   "cell_type": "markdown",
   "metadata": {},
   "source": [
    "#### Split the data set for checking the score"
   ]
  },
  {
   "cell_type": "code",
   "execution_count": 57,
   "metadata": {
    "collapsed": false
   },
   "outputs": [],
   "source": [
    "offset = int(X.shape[0] * 0.9)\n",
    "X_train, y_train = X[:offset], target[:offset]\n",
    "X_test, y_test = X[offset:], target[offset:]"
   ]
  },
  {
   "cell_type": "code",
   "execution_count": 58,
   "metadata": {
    "collapsed": false
   },
   "outputs": [
    {
     "name": "stdout",
     "output_type": "stream",
     "text": [
      "88238 rows for training set\n",
      "88238 rows for test set\n"
     ]
    }
   ],
   "source": [
    "print (str(len(X_train))+\" rows for training set\")\n",
    "print (str(len(y_train))+\" rows for test set\")"
   ]
  },
  {
   "cell_type": "markdown",
   "metadata": {},
   "source": [
    "#### Fit regression model"
   ]
  },
  {
   "cell_type": "code",
   "execution_count": 59,
   "metadata": {
    "collapsed": false
   },
   "outputs": [
    {
     "name": "stdout",
     "output_type": "stream",
     "text": [
      "MSE: 59.8135\n"
     ]
    }
   ],
   "source": [
    "#from sklearn.linear_model import LinearRegression\n",
    "#model = linear_model.LinearRegression()\n",
    "# 2* Ridge\n",
    "#model = linear_model.Ridge(alpha=0.003)\n",
    "# 3* Linear\n",
    "#model = linear_model.LinearRegression()\n",
    "#from sklearn.neighbors import KNeighborsRegressor\n",
    "#model = KNeighborsRegressor(n_neighbors=300,n_jobs=-1)\n",
    "\n",
    "from sklearn.linear_model import ElasticNet\n",
    "model = ElasticNet(alpha=.001,random_state=5)\n",
    "\n",
    "model.fit(X_train, y_train)\n",
    "prediction_test = clf.predict(X_test)\n",
    "mse = mean_squared_error(y_test, prediction_test )\n",
    "print(\"MSE: %.4f\" % mse)"
   ]
  },
  {
   "cell_type": "code",
   "execution_count": 60,
   "metadata": {
    "collapsed": false
   },
   "outputs": [
    {
     "name": "stdout",
     "output_type": "stream",
     "text": [
      "The root-mean-squared error is 7.73391636662\n"
     ]
    }
   ],
   "source": [
    "###############################################\n",
    "# 6. Pass the predictions through our error function to get the model scroe\n",
    "###############################################\n",
    "f_rmse = calculate_score(y_test, clf.predict(X_test))\n",
    "print('The root-mean-squared error is ' + str(f_rmse))"
   ]
  },
  {
   "cell_type": "markdown",
   "metadata": {},
   "source": [
    "#### Predict the test data set with Elastic Net"
   ]
  },
  {
   "cell_type": "code",
   "execution_count": 13,
   "metadata": {
    "collapsed": false
   },
   "outputs": [],
   "source": [
    "from sklearn.linear_model import ElasticNet\n",
    "model = ElasticNet(alpha=.001,random_state=5)\n",
    "model.fit(X, target)\n",
    "predictions_1 = model.predict(test1).astype(int)"
   ]
  },
  {
   "cell_type": "markdown",
   "metadata": {},
   "source": [
    "#### Predictions array"
   ]
  },
  {
   "cell_type": "code",
   "execution_count": 16,
   "metadata": {
    "collapsed": false
   },
   "outputs": [
    {
     "data": {
      "text/plain": [
       "array([[0, 0, 2, ..., 0, 0, 1],\n",
       "       [0, 0, 2, ..., 0, 0, 1],\n",
       "       [0, 0, 2, ..., 0, 0, 1],\n",
       "       ..., \n",
       "       [0, 0, 1, ..., 1, 0, 1],\n",
       "       [0, 0, 1, ..., 1, 0, 1],\n",
       "       [0, 0, 1, ..., 1, 0, 1]])"
      ]
     },
     "execution_count": 16,
     "metadata": {},
     "output_type": "execute_result"
    }
   ],
   "source": [
    "predictions_1"
   ]
  },
  {
   "cell_type": "markdown",
   "metadata": {},
   "source": [
    "#### Reshape the predictions to a dataframe"
   ]
  },
  {
   "cell_type": "code",
   "execution_count": 17,
   "metadata": {
    "collapsed": false
   },
   "outputs": [],
   "source": [
    "df4 = predictions_1.reshape((-1,1))"
   ]
  },
  {
   "cell_type": "markdown",
   "metadata": {},
   "source": [
    "#### Assign the value to each column"
   ]
  },
  {
   "cell_type": "code",
   "execution_count": 129,
   "metadata": {
    "collapsed": true
   },
   "outputs": [],
   "source": [
    "df5 = pd.DataFrame({'num_pax_000_014_mins_before_sdt':df4[:,0],'num_pax_015_029_mins_before_sdt':df4[:,1],'num_pax_030_044_mins_before_sdt':df4[:,2],\n",
    "                    'num_pax_045_059_mins_before_sdt':df4[:,3],'num_pax_060_074_mins_before_sdt':df4[:,4],'num_pax_075_089_mins_before_sdt':df4[:,5],\n",
    "                    'num_pax_090_104_mins_before_sdt':df4[:,6],'num_pax_105_119_mins_before_sdt':df4[:,7],'num_pax_120_134_mins_before_sdt':df4[:,8],\n",
    "                    'num_pax_135_149_mins_before_sdt':df4[:,9],'num_pax_150_164_mins_before_sdt':df4[:,10],'num_pax_165_179_mins_before_sdt':df4[:,11],\n",
    "                    'num_pax_180_194_mins_before_sdt':df4[:,12],'num_pax_195_209_mins_before_sdt':df4[:,13],'num_pax_210_224_mins_before_sdt':df4[:,14],\n",
    "                    'num_pax_225_239_mins_before_sdt':df4[:,15],'num_pax_240plus_mins_before_sdt':df4[:,16]})"
   ]
  },
  {
   "cell_type": "code",
   "execution_count": 130,
   "metadata": {
    "collapsed": true
   },
   "outputs": [],
   "source": [
    "submission = pd.DataFrame()\n",
    "submission[\"id\"] = test2.index"
   ]
  },
  {
   "cell_type": "code",
   "execution_count": 131,
   "metadata": {
    "collapsed": true
   },
   "outputs": [],
   "source": [
    "df6 = pd.concat([submission, df5], axis=1)"
   ]
  },
  {
   "cell_type": "code",
   "execution_count": 132,
   "metadata": {
    "collapsed": true
   },
   "outputs": [],
   "source": [
    "df6.to_csv(\"attempt_PiushVaish_Normalized_ElasticNet.csv\",index = False)"
   ]
  },
  {
   "cell_type": "code",
   "execution_count": null,
   "metadata": {
    "collapsed": true
   },
   "outputs": [],
   "source": []
  }
 ],
 "metadata": {
  "anaconda-cloud": {},
  "kernelspec": {
   "display_name": "Python [default]",
   "language": "python",
   "name": "python3"
  },
  "language_info": {
   "codemirror_mode": {
    "name": "ipython",
    "version": 3
   },
   "file_extension": ".py",
   "mimetype": "text/x-python",
   "name": "python",
   "nbconvert_exporter": "python",
   "pygments_lexer": "ipython3",
   "version": "3.5.1"
  }
 },
 "nbformat": 4,
 "nbformat_minor": 1
}
