{
 "cells": [
  {
   "cell_type": "code",
   "execution_count": 1,
   "metadata": {
    "collapsed": true
   },
   "outputs": [],
   "source": [
    "import numpy as np\n",
    "import matplotlib.pyplot as plt\n",
    "import pandas as pd\n",
    "import seaborn as sns\n",
    "\n",
    "sns.set(style=\"white\", color_codes=True)\n",
    "\n",
    "%matplotlib inline"
   ]
  },
  {
   "cell_type": "markdown",
   "metadata": {},
   "source": [
    "UK house prices in 2017 visit https://www.gov.uk/guidance/about-the-price-paid-data for information on the data."
   ]
  },
  {
   "cell_type": "code",
   "execution_count": 2,
   "metadata": {
    "collapsed": false
   },
   "outputs": [
    {
     "data": {
      "text/html": [
       "<div>\n",
       "<table border=\"1\" class=\"dataframe\">\n",
       "  <thead>\n",
       "    <tr style=\"text-align: right;\">\n",
       "      <th></th>\n",
       "      <th>0</th>\n",
       "      <th>1</th>\n",
       "      <th>2</th>\n",
       "      <th>3</th>\n",
       "      <th>4</th>\n",
       "      <th>5</th>\n",
       "      <th>6</th>\n",
       "      <th>7</th>\n",
       "      <th>8</th>\n",
       "      <th>9</th>\n",
       "      <th>10</th>\n",
       "      <th>11</th>\n",
       "      <th>12</th>\n",
       "      <th>13</th>\n",
       "      <th>14</th>\n",
       "      <th>15</th>\n",
       "    </tr>\n",
       "  </thead>\n",
       "  <tbody>\n",
       "    <tr>\n",
       "      <th>0</th>\n",
       "      <td>{4E95D757-1CA7-EDA1-E050-A8C0630539E2}</td>\n",
       "      <td>970000</td>\n",
       "      <td>2002-05-31 00:00</td>\n",
       "      <td>SW3 2BZ</td>\n",
       "      <td>F</td>\n",
       "      <td>N</td>\n",
       "      <td>L</td>\n",
       "      <td>46</td>\n",
       "      <td>FLAT 4</td>\n",
       "      <td>EGERTON GARDENS</td>\n",
       "      <td>NaN</td>\n",
       "      <td>LONDON</td>\n",
       "      <td>KENSINGTON AND CHELSEA</td>\n",
       "      <td>GREATER LONDON</td>\n",
       "      <td>A</td>\n",
       "      <td>A</td>\n",
       "    </tr>\n",
       "    <tr>\n",
       "      <th>1</th>\n",
       "      <td>{4E95D757-1CBA-EDA1-E050-A8C0630539E2}</td>\n",
       "      <td>280000</td>\n",
       "      <td>2002-06-28 00:00</td>\n",
       "      <td>SW5 9JZ</td>\n",
       "      <td>F</td>\n",
       "      <td>N</td>\n",
       "      <td>L</td>\n",
       "      <td>10</td>\n",
       "      <td>SECOND FLOOR FLAT</td>\n",
       "      <td>EARDLEY CRESCENT</td>\n",
       "      <td>NaN</td>\n",
       "      <td>LONDON</td>\n",
       "      <td>KENSINGTON AND CHELSEA</td>\n",
       "      <td>GREATER LONDON</td>\n",
       "      <td>A</td>\n",
       "      <td>A</td>\n",
       "    </tr>\n",
       "  </tbody>\n",
       "</table>\n",
       "</div>"
      ],
      "text/plain": [
       "                                       0       1                 2        3   \\\n",
       "0  {4E95D757-1CA7-EDA1-E050-A8C0630539E2}  970000  2002-05-31 00:00  SW3 2BZ   \n",
       "1  {4E95D757-1CBA-EDA1-E050-A8C0630539E2}  280000  2002-06-28 00:00  SW5 9JZ   \n",
       "\n",
       "  4  5  6   7                  8                 9    10      11  \\\n",
       "0  F  N  L  46             FLAT 4   EGERTON GARDENS  NaN  LONDON   \n",
       "1  F  N  L  10  SECOND FLOOR FLAT  EARDLEY CRESCENT  NaN  LONDON   \n",
       "\n",
       "                       12              13 14 15  \n",
       "0  KENSINGTON AND CHELSEA  GREATER LONDON  A  A  \n",
       "1  KENSINGTON AND CHELSEA  GREATER LONDON  A  A  "
      ]
     },
     "execution_count": 2,
     "metadata": {},
     "output_type": "execute_result"
    }
   ],
   "source": [
    "df = pd.read_csv(r\"C:\\Users\\piush\\Desktop\\Dataset\\UKHousingData\\pp_2017.csv\", header=None)\n",
    "df.head(2)"
   ]
  },
  {
   "cell_type": "code",
   "execution_count": 3,
   "metadata": {
    "collapsed": false
   },
   "outputs": [
    {
     "data": {
      "text/html": [
       "<div>\n",
       "<table border=\"1\" class=\"dataframe\">\n",
       "  <thead>\n",
       "    <tr style=\"text-align: right;\">\n",
       "      <th></th>\n",
       "      <th>id</th>\n",
       "      <th>price</th>\n",
       "      <th>transfer_date</th>\n",
       "      <th>postcode</th>\n",
       "      <th>type</th>\n",
       "      <th>new</th>\n",
       "      <th>duration</th>\n",
       "      <th>paon</th>\n",
       "      <th>saon</th>\n",
       "      <th>street</th>\n",
       "      <th>locality</th>\n",
       "      <th>city</th>\n",
       "      <th>district</th>\n",
       "      <th>county</th>\n",
       "      <th>ppd_cat</th>\n",
       "      <th>record_status</th>\n",
       "    </tr>\n",
       "  </thead>\n",
       "  <tbody>\n",
       "    <tr>\n",
       "      <th>0</th>\n",
       "      <td>{4E95D757-1CA7-EDA1-E050-A8C0630539E2}</td>\n",
       "      <td>970000</td>\n",
       "      <td>2002-05-31 00:00</td>\n",
       "      <td>SW3 2BZ</td>\n",
       "      <td>F</td>\n",
       "      <td>N</td>\n",
       "      <td>L</td>\n",
       "      <td>46</td>\n",
       "      <td>FLAT 4</td>\n",
       "      <td>EGERTON GARDENS</td>\n",
       "      <td>NaN</td>\n",
       "      <td>LONDON</td>\n",
       "      <td>KENSINGTON AND CHELSEA</td>\n",
       "      <td>GREATER LONDON</td>\n",
       "      <td>A</td>\n",
       "      <td>A</td>\n",
       "    </tr>\n",
       "    <tr>\n",
       "      <th>1</th>\n",
       "      <td>{4E95D757-1CBA-EDA1-E050-A8C0630539E2}</td>\n",
       "      <td>280000</td>\n",
       "      <td>2002-06-28 00:00</td>\n",
       "      <td>SW5 9JZ</td>\n",
       "      <td>F</td>\n",
       "      <td>N</td>\n",
       "      <td>L</td>\n",
       "      <td>10</td>\n",
       "      <td>SECOND FLOOR FLAT</td>\n",
       "      <td>EARDLEY CRESCENT</td>\n",
       "      <td>NaN</td>\n",
       "      <td>LONDON</td>\n",
       "      <td>KENSINGTON AND CHELSEA</td>\n",
       "      <td>GREATER LONDON</td>\n",
       "      <td>A</td>\n",
       "      <td>A</td>\n",
       "    </tr>\n",
       "  </tbody>\n",
       "</table>\n",
       "</div>"
      ],
      "text/plain": [
       "                                       id   price     transfer_date postcode  \\\n",
       "0  {4E95D757-1CA7-EDA1-E050-A8C0630539E2}  970000  2002-05-31 00:00  SW3 2BZ   \n",
       "1  {4E95D757-1CBA-EDA1-E050-A8C0630539E2}  280000  2002-06-28 00:00  SW5 9JZ   \n",
       "\n",
       "  type new duration paon               saon            street locality  \\\n",
       "0    F   N        L   46             FLAT 4   EGERTON GARDENS      NaN   \n",
       "1    F   N        L   10  SECOND FLOOR FLAT  EARDLEY CRESCENT      NaN   \n",
       "\n",
       "     city                district          county ppd_cat record_status  \n",
       "0  LONDON  KENSINGTON AND CHELSEA  GREATER LONDON       A             A  \n",
       "1  LONDON  KENSINGTON AND CHELSEA  GREATER LONDON       A             A  "
      ]
     },
     "execution_count": 3,
     "metadata": {},
     "output_type": "execute_result"
    }
   ],
   "source": [
    "#There are no labels provided with the data, so let's add some.\n",
    "df.columns = ['id', 'price', 'transfer_date', 'postcode', 'type', 'new', 'duration',\n",
    "            'paon', 'saon', 'street', 'locality', 'city', 'district', 'county', 'ppd_cat', 'record_status']\n",
    "df.head(2)"
   ]
  },
  {
   "cell_type": "markdown",
   "metadata": {},
   "source": [
    "The field new is binary and would be more useful as 1's and 0's."
   ]
  },
  {
   "cell_type": "code",
   "execution_count": 4,
   "metadata": {
    "collapsed": false
   },
   "outputs": [
    {
     "data": {
      "text/html": [
       "<div>\n",
       "<table border=\"1\" class=\"dataframe\">\n",
       "  <thead>\n",
       "    <tr style=\"text-align: right;\">\n",
       "      <th></th>\n",
       "      <th>id</th>\n",
       "      <th>price</th>\n",
       "      <th>transfer_date</th>\n",
       "      <th>postcode</th>\n",
       "      <th>type</th>\n",
       "      <th>new</th>\n",
       "      <th>duration</th>\n",
       "      <th>paon</th>\n",
       "      <th>saon</th>\n",
       "      <th>street</th>\n",
       "      <th>locality</th>\n",
       "      <th>city</th>\n",
       "      <th>district</th>\n",
       "      <th>county</th>\n",
       "      <th>ppd_cat</th>\n",
       "      <th>record_status</th>\n",
       "    </tr>\n",
       "  </thead>\n",
       "  <tbody>\n",
       "    <tr>\n",
       "      <th>0</th>\n",
       "      <td>{4E95D757-1CA7-EDA1-E050-A8C0630539E2}</td>\n",
       "      <td>970000</td>\n",
       "      <td>2002-05-31 00:00</td>\n",
       "      <td>SW3 2BZ</td>\n",
       "      <td>F</td>\n",
       "      <td>0</td>\n",
       "      <td>L</td>\n",
       "      <td>46</td>\n",
       "      <td>FLAT 4</td>\n",
       "      <td>EGERTON GARDENS</td>\n",
       "      <td>NaN</td>\n",
       "      <td>LONDON</td>\n",
       "      <td>KENSINGTON AND CHELSEA</td>\n",
       "      <td>GREATER LONDON</td>\n",
       "      <td>A</td>\n",
       "      <td>A</td>\n",
       "    </tr>\n",
       "    <tr>\n",
       "      <th>1</th>\n",
       "      <td>{4E95D757-1CBA-EDA1-E050-A8C0630539E2}</td>\n",
       "      <td>280000</td>\n",
       "      <td>2002-06-28 00:00</td>\n",
       "      <td>SW5 9JZ</td>\n",
       "      <td>F</td>\n",
       "      <td>0</td>\n",
       "      <td>L</td>\n",
       "      <td>10</td>\n",
       "      <td>SECOND FLOOR FLAT</td>\n",
       "      <td>EARDLEY CRESCENT</td>\n",
       "      <td>NaN</td>\n",
       "      <td>LONDON</td>\n",
       "      <td>KENSINGTON AND CHELSEA</td>\n",
       "      <td>GREATER LONDON</td>\n",
       "      <td>A</td>\n",
       "      <td>A</td>\n",
       "    </tr>\n",
       "  </tbody>\n",
       "</table>\n",
       "</div>"
      ],
      "text/plain": [
       "                                       id   price     transfer_date postcode  \\\n",
       "0  {4E95D757-1CA7-EDA1-E050-A8C0630539E2}  970000  2002-05-31 00:00  SW3 2BZ   \n",
       "1  {4E95D757-1CBA-EDA1-E050-A8C0630539E2}  280000  2002-06-28 00:00  SW5 9JZ   \n",
       "\n",
       "  type  new duration paon               saon            street locality  \\\n",
       "0    F    0        L   46             FLAT 4   EGERTON GARDENS      NaN   \n",
       "1    F    0        L   10  SECOND FLOOR FLAT  EARDLEY CRESCENT      NaN   \n",
       "\n",
       "     city                district          county ppd_cat record_status  \n",
       "0  LONDON  KENSINGTON AND CHELSEA  GREATER LONDON       A             A  \n",
       "1  LONDON  KENSINGTON AND CHELSEA  GREATER LONDON       A             A  "
      ]
     },
     "execution_count": 4,
     "metadata": {},
     "output_type": "execute_result"
    }
   ],
   "source": [
    "def convert_binary(x, val1, val2):\n",
    "    \"\"\"Convert a binary field to 1's and 0's\"\"\"\n",
    "    # True value\n",
    "    if x == 'Y':\n",
    "        return 1\n",
    "    #False value\n",
    "    elif x == 'N':\n",
    "        return 0\n",
    "    else:\n",
    "        return np.nan\n",
    "    \n",
    "df.new = df.new.apply(convert_binary, args=('Y', 'N'))\n",
    "df.head(2)"
   ]
  },
  {
   "cell_type": "code",
   "execution_count": 5,
   "metadata": {
    "collapsed": false
   },
   "outputs": [],
   "source": [
    "#get rid of id\n",
    "id_col = df.pop('id')\n"
   ]
  },
  {
   "cell_type": "code",
   "execution_count": 7,
   "metadata": {
    "collapsed": false
   },
   "outputs": [
    {
     "data": {
      "text/html": [
       "<div>\n",
       "<table border=\"1\" class=\"dataframe\">\n",
       "  <thead>\n",
       "    <tr style=\"text-align: right;\">\n",
       "      <th></th>\n",
       "      <th>price</th>\n",
       "      <th>transfer_date</th>\n",
       "      <th>postcode</th>\n",
       "      <th>type</th>\n",
       "      <th>new</th>\n",
       "      <th>duration</th>\n",
       "      <th>paon</th>\n",
       "      <th>saon</th>\n",
       "      <th>street</th>\n",
       "      <th>locality</th>\n",
       "      <th>city</th>\n",
       "      <th>district</th>\n",
       "      <th>county</th>\n",
       "      <th>ppd_cat</th>\n",
       "      <th>record_status</th>\n",
       "    </tr>\n",
       "  </thead>\n",
       "  <tbody>\n",
       "    <tr>\n",
       "      <th>0</th>\n",
       "      <td>970000</td>\n",
       "      <td>2002-05-31 00:00</td>\n",
       "      <td>SW3 2BZ</td>\n",
       "      <td>F</td>\n",
       "      <td>0</td>\n",
       "      <td>L</td>\n",
       "      <td>46</td>\n",
       "      <td>FLAT 4</td>\n",
       "      <td>EGERTON GARDENS</td>\n",
       "      <td>NaN</td>\n",
       "      <td>LONDON</td>\n",
       "      <td>KENSINGTON AND CHELSEA</td>\n",
       "      <td>GREATER LONDON</td>\n",
       "      <td>A</td>\n",
       "      <td>A</td>\n",
       "    </tr>\n",
       "    <tr>\n",
       "      <th>1</th>\n",
       "      <td>280000</td>\n",
       "      <td>2002-06-28 00:00</td>\n",
       "      <td>SW5 9JZ</td>\n",
       "      <td>F</td>\n",
       "      <td>0</td>\n",
       "      <td>L</td>\n",
       "      <td>10</td>\n",
       "      <td>SECOND FLOOR FLAT</td>\n",
       "      <td>EARDLEY CRESCENT</td>\n",
       "      <td>NaN</td>\n",
       "      <td>LONDON</td>\n",
       "      <td>KENSINGTON AND CHELSEA</td>\n",
       "      <td>GREATER LONDON</td>\n",
       "      <td>A</td>\n",
       "      <td>A</td>\n",
       "    </tr>\n",
       "  </tbody>\n",
       "</table>\n",
       "</div>"
      ],
      "text/plain": [
       "    price     transfer_date postcode type  new duration paon  \\\n",
       "0  970000  2002-05-31 00:00  SW3 2BZ    F    0        L   46   \n",
       "1  280000  2002-06-28 00:00  SW5 9JZ    F    0        L   10   \n",
       "\n",
       "                saon            street locality    city  \\\n",
       "0             FLAT 4   EGERTON GARDENS      NaN  LONDON   \n",
       "1  SECOND FLOOR FLAT  EARDLEY CRESCENT      NaN  LONDON   \n",
       "\n",
       "                 district          county ppd_cat record_status  \n",
       "0  KENSINGTON AND CHELSEA  GREATER LONDON       A             A  \n",
       "1  KENSINGTON AND CHELSEA  GREATER LONDON       A             A  "
      ]
     },
     "execution_count": 7,
     "metadata": {},
     "output_type": "execute_result"
    }
   ],
   "source": [
    "df.head(2)"
   ]
  },
  {
   "cell_type": "markdown",
   "metadata": {},
   "source": [
    "##### Basic exploratory analysis"
   ]
  },
  {
   "cell_type": "code",
   "execution_count": 8,
   "metadata": {
    "collapsed": false
   },
   "outputs": [
    {
     "data": {
      "text/plain": [
       "81332"
      ]
     },
     "execution_count": 8,
     "metadata": {},
     "output_type": "execute_result"
    }
   ],
   "source": [
    "len(df)"
   ]
  },
  {
   "cell_type": "code",
   "execution_count": 9,
   "metadata": {
    "collapsed": false
   },
   "outputs": [
    {
     "name": "stdout",
     "output_type": "stream",
     "text": [
      "price : int64\n",
      "transfer_date : object\n",
      "postcode : object\n",
      "type : object\n",
      "new : int64\n",
      "duration : object\n",
      "paon : object\n",
      "saon : object\n",
      "street : object\n",
      "locality : object\n",
      "city : object\n",
      "district : object\n",
      "county : object\n",
      "ppd_cat : object\n",
      "record_status : object\n"
     ]
    }
   ],
   "source": [
    "#datatypes\n",
    "for col in df.columns:\n",
    "    print('{0} : {1}'.format(col, df[col].dtype))"
   ]
  },
  {
   "cell_type": "code",
   "execution_count": 10,
   "metadata": {
    "collapsed": false
   },
   "outputs": [
    {
     "data": {
      "text/html": [
       "<div>\n",
       "<table border=\"1\" class=\"dataframe\">\n",
       "  <thead>\n",
       "    <tr style=\"text-align: right;\">\n",
       "      <th></th>\n",
       "      <th>price</th>\n",
       "      <th>new</th>\n",
       "    </tr>\n",
       "  </thead>\n",
       "  <tbody>\n",
       "    <tr>\n",
       "      <th>count</th>\n",
       "      <td>8.133200e+04</td>\n",
       "      <td>81332.000000</td>\n",
       "    </tr>\n",
       "    <tr>\n",
       "      <th>mean</th>\n",
       "      <td>3.332896e+05</td>\n",
       "      <td>0.128031</td>\n",
       "    </tr>\n",
       "    <tr>\n",
       "      <th>std</th>\n",
       "      <td>1.178570e+06</td>\n",
       "      <td>0.334126</td>\n",
       "    </tr>\n",
       "    <tr>\n",
       "      <th>min</th>\n",
       "      <td>1.000000e+00</td>\n",
       "      <td>0.000000</td>\n",
       "    </tr>\n",
       "    <tr>\n",
       "      <th>25%</th>\n",
       "      <td>1.350000e+05</td>\n",
       "      <td>0.000000</td>\n",
       "    </tr>\n",
       "    <tr>\n",
       "      <th>50%</th>\n",
       "      <td>2.140000e+05</td>\n",
       "      <td>0.000000</td>\n",
       "    </tr>\n",
       "    <tr>\n",
       "      <th>75%</th>\n",
       "      <td>3.400000e+05</td>\n",
       "      <td>0.000000</td>\n",
       "    </tr>\n",
       "    <tr>\n",
       "      <th>max</th>\n",
       "      <td>1.255000e+08</td>\n",
       "      <td>1.000000</td>\n",
       "    </tr>\n",
       "  </tbody>\n",
       "</table>\n",
       "</div>"
      ],
      "text/plain": [
       "              price           new\n",
       "count  8.133200e+04  81332.000000\n",
       "mean   3.332896e+05      0.128031\n",
       "std    1.178570e+06      0.334126\n",
       "min    1.000000e+00      0.000000\n",
       "25%    1.350000e+05      0.000000\n",
       "50%    2.140000e+05      0.000000\n",
       "75%    3.400000e+05      0.000000\n",
       "max    1.255000e+08      1.000000"
      ]
     },
     "execution_count": 10,
     "metadata": {},
     "output_type": "execute_result"
    }
   ],
   "source": [
    "df.describe()"
   ]
  },
  {
   "cell_type": "markdown",
   "metadata": {},
   "source": [
    "###### How many and what percentage of property sales were newly built?\n",
    "Side note: It would be interesting to look at all the data back from 1995 for new/old houses and their prices."
   ]
  },
  {
   "cell_type": "code",
   "execution_count": 11,
   "metadata": {
    "collapsed": false
   },
   "outputs": [
    {
     "name": "stdout",
     "output_type": "stream",
     "text": [
      "Total new: 10413  | Percentage new: 12.80307873899572\n"
     ]
    }
   ],
   "source": [
    "total_new = df.new.sum()\n",
    "percentage_new = total_new / len(df) * 100\n",
    "print('Total new: {0}  | Percentage new: {1}'.format(total_new, percentage_new))"
   ]
  },
  {
   "cell_type": "markdown",
   "metadata": {},
   "source": [
    "###### How are the prices distributed?"
   ]
  },
  {
   "cell_type": "code",
   "execution_count": null,
   "metadata": {
    "collapsed": true
   },
   "outputs": [],
   "source": []
  },
  {
   "cell_type": "code",
   "execution_count": 15,
   "metadata": {
    "collapsed": false
   },
   "outputs": [
    {
     "data": {
      "image/png": "[encoded data removed]",
      "text/plain": [
       "<matplotlib.figure.Figure at 0x195116b5f28>"
      ]
     },
     "metadata": {},
     "output_type": "display_data"
    }
   ],
   "source": [
    "fig = plt.figure(figsize=(20, 10))\n",
    "ax = plt.subplot(111)\n",
    "ax.spines[\"top\"].set_visible(False) \n",
    "ax.spines[\"right\"].set_visible(False)\n",
    "ax.spines['left'].set_color('#1a1a1a')\n",
    "ax.spines['bottom'].set_color('#1a1a1a')\n",
    "\n",
    "ax.get_xaxis().tick_bottom()  \n",
    "ax.get_yaxis().tick_left()\n",
    "\n",
    "plt.xticks(fontsize=14, color='#1a1a1a')  \n",
    "plt.yticks(fontsize=14, color='#1a1a1a')\n",
    "\n",
    "plt.title('England and Wales property price distribution 2017', fontsize=30)\n",
    "plt.xlabel('Price (£ - GBP)', fontsize=20)\n",
    "plt.ylabel('Frequency', fontsize=20)\n",
    "\n",
    "plt.hist(df.price, bins=10);"
   ]
  },
  {
   "cell_type": "code",
   "execution_count": 17,
   "metadata": {
    "collapsed": false
   },
   "outputs": [
    {
     "data": {
      "image/png": "[encoded data removed]",
      "text/plain": [
       "<matplotlib.figure.Figure at 0x19512c464e0>"
      ]
     },
     "metadata": {},
     "output_type": "display_data"
    }
   ],
   "source": [
    "no_outliers = df[np.abs(df.price-df.price.mean())<=(3*df.price.std())]\n",
    "\n",
    "fig = plt.figure(figsize=(20, 10))\n",
    "ax = plt.subplot(111)\n",
    "ax.spines[\"top\"].set_visible(False) \n",
    "ax.spines[\"right\"].set_visible(False)\n",
    "ax.spines['left'].set_color('#1a1a1a')\n",
    "ax.spines['bottom'].set_color('#1a1a1a')\n",
    "\n",
    "ax.get_xaxis().tick_bottom()  \n",
    "ax.get_yaxis().tick_left()\n",
    "\n",
    "plt.xticks(fontsize=14, color='#1a1a1a')  \n",
    "plt.yticks(fontsize=14, color='#1a1a1a')\n",
    "\n",
    "plt.title('England and Wales property price distribution 2017 (outliers removed)', fontsize=30)\n",
    "plt.xlabel('Price (£ - GBP)', fontsize=20)\n",
    "plt.ylabel('Frequency', fontsize=20)\n",
    "\n",
    "plt.hist(no_outliers.price, bins=100);"
   ]
  },
  {
   "cell_type": "code",
   "execution_count": 18,
   "metadata": {
    "collapsed": false
   },
   "outputs": [
    {
     "data": {
      "image/png": "[encoded data removed]",
      "text/plain": [
       "<matplotlib.figure.Figure at 0x19512c03780>"
      ]
     },
     "metadata": {},
     "output_type": "display_data"
    }
   ],
   "source": [
    "#How do the prices of old and new properties compare?\n",
    "\n",
    "fig, ax = plt.subplots(figsize=(20, 10))\n",
    "\n",
    "ax.spines[\"top\"].set_visible(False) \n",
    "ax.spines[\"right\"].set_visible(False)\n",
    "\n",
    "ax.spines['left'].set_color('#1a1a1a')\n",
    "ax.spines['bottom'].set_color('#1a1a1a')\n",
    "\n",
    "plt.title('Old vs new properties', fontsize=30)\n",
    "plt.ylabel('Property ages', fontsize=22)\n",
    "plt.xlabel('Price', fontsize=22)\n",
    "\n",
    "boxplot = sns.boxplot(x=df.price, y=df.new, orient='h')\n",
    "boxplot.set(yticklabels=['old', 'new']);"
   ]
  },
  {
   "cell_type": "markdown",
   "metadata": {},
   "source": [
    "###### Where are new properties being built?\n",
    "First we need to get the latitude and longitude of each property. We will use the postcode to find the approximate longitude and lattitude of the property which is accurate enough for our purposes.\n",
    "Postcode longitide and lattitude obtained from https://www.doogal.co.uk/files/postcodes.zip"
   ]
  },
  {
   "cell_type": "code",
   "execution_count": 21,
   "metadata": {
    "collapsed": false
   },
   "outputs": [
    {
     "data": {
      "text/html": [
       "<div>\n",
       "<table border=\"1\" class=\"dataframe\">\n",
       "  <thead>\n",
       "    <tr style=\"text-align: right;\">\n",
       "      <th></th>\n",
       "      <th>postcode</th>\n",
       "      <th>lat</th>\n",
       "      <th>lon</th>\n",
       "    </tr>\n",
       "  </thead>\n",
       "  <tbody>\n",
       "    <tr>\n",
       "      <th>0</th>\n",
       "      <td>AB1 0AA</td>\n",
       "      <td>57.101478</td>\n",
       "      <td>-2.242852</td>\n",
       "    </tr>\n",
       "    <tr>\n",
       "      <th>1</th>\n",
       "      <td>AB1 0AB</td>\n",
       "      <td>57.102558</td>\n",
       "      <td>-2.246309</td>\n",
       "    </tr>\n",
       "    <tr>\n",
       "      <th>2</th>\n",
       "      <td>AB1 0AD</td>\n",
       "      <td>57.100560</td>\n",
       "      <td>-2.248342</td>\n",
       "    </tr>\n",
       "    <tr>\n",
       "      <th>3</th>\n",
       "      <td>AB1 0AE</td>\n",
       "      <td>57.084447</td>\n",
       "      <td>-2.255708</td>\n",
       "    </tr>\n",
       "    <tr>\n",
       "      <th>4</th>\n",
       "      <td>AB1 0AF</td>\n",
       "      <td>57.096659</td>\n",
       "      <td>-2.258103</td>\n",
       "    </tr>\n",
       "  </tbody>\n",
       "</table>\n",
       "</div>"
      ],
      "text/plain": [
       "  postcode        lat       lon\n",
       "0  AB1 0AA  57.101478 -2.242852\n",
       "1  AB1 0AB  57.102558 -2.246309\n",
       "2  AB1 0AD  57.100560 -2.248342\n",
       "3  AB1 0AE  57.084447 -2.255708\n",
       "4  AB1 0AF  57.096659 -2.258103"
      ]
     },
     "execution_count": 21,
     "metadata": {},
     "output_type": "execute_result"
    }
   ],
   "source": [
    "postcodes = pd.read_csv(r\"C:\\Users\\piush\\Desktop\\Dataset\\UKHousingData\\postcodes.csv\", usecols=['Postcode', 'Latitude', 'Longitude'])\n",
    "postcodes.columns = ['postcode', 'lat', 'lon']\n",
    "postcodes.head()"
   ]
  },
  {
   "cell_type": "code",
   "execution_count": 36,
   "metadata": {
    "collapsed": false
   },
   "outputs": [
    {
     "data": {
      "text/html": [
       "<div>\n",
       "<table border=\"1\" class=\"dataframe\">\n",
       "  <thead>\n",
       "    <tr style=\"text-align: right;\">\n",
       "      <th></th>\n",
       "      <th>price</th>\n",
       "      <th>transfer_date</th>\n",
       "      <th>postcode</th>\n",
       "      <th>type</th>\n",
       "      <th>new</th>\n",
       "      <th>duration</th>\n",
       "      <th>paon</th>\n",
       "      <th>saon</th>\n",
       "      <th>street</th>\n",
       "      <th>locality</th>\n",
       "      <th>...</th>\n",
       "      <th>district</th>\n",
       "      <th>county</th>\n",
       "      <th>ppd_cat</th>\n",
       "      <th>record_status</th>\n",
       "      <th>lat_x</th>\n",
       "      <th>lon_x</th>\n",
       "      <th>lat_y</th>\n",
       "      <th>lon_y</th>\n",
       "      <th>lat</th>\n",
       "      <th>lon</th>\n",
       "    </tr>\n",
       "  </thead>\n",
       "  <tbody>\n",
       "    <tr>\n",
       "      <th>0</th>\n",
       "      <td>970000</td>\n",
       "      <td>2002-05-31 00:00</td>\n",
       "      <td>SW3 2BZ</td>\n",
       "      <td>F</td>\n",
       "      <td>0</td>\n",
       "      <td>L</td>\n",
       "      <td>46</td>\n",
       "      <td>FLAT 4</td>\n",
       "      <td>EGERTON GARDENS</td>\n",
       "      <td>NaN</td>\n",
       "      <td>...</td>\n",
       "      <td>KENSINGTON AND CHELSEA</td>\n",
       "      <td>GREATER LONDON</td>\n",
       "      <td>A</td>\n",
       "      <td>A</td>\n",
       "      <td>51.49648</td>\n",
       "      <td>-0.168078</td>\n",
       "      <td>51.49648</td>\n",
       "      <td>-0.168078</td>\n",
       "      <td>51.49648</td>\n",
       "      <td>-0.168078</td>\n",
       "    </tr>\n",
       "    <tr>\n",
       "      <th>1</th>\n",
       "      <td>700000</td>\n",
       "      <td>2001-12-14 00:00</td>\n",
       "      <td>SW3 2BZ</td>\n",
       "      <td>F</td>\n",
       "      <td>0</td>\n",
       "      <td>L</td>\n",
       "      <td>46</td>\n",
       "      <td>FLAT 4</td>\n",
       "      <td>EGERTON GARDENS</td>\n",
       "      <td>NaN</td>\n",
       "      <td>...</td>\n",
       "      <td>KENSINGTON AND CHELSEA</td>\n",
       "      <td>GREATER LONDON</td>\n",
       "      <td>A</td>\n",
       "      <td>A</td>\n",
       "      <td>51.49648</td>\n",
       "      <td>-0.168078</td>\n",
       "      <td>51.49648</td>\n",
       "      <td>-0.168078</td>\n",
       "      <td>51.49648</td>\n",
       "      <td>-0.168078</td>\n",
       "    </tr>\n",
       "  </tbody>\n",
       "</table>\n",
       "<p>2 rows × 21 columns</p>\n",
       "</div>"
      ],
      "text/plain": [
       "    price     transfer_date postcode type  new duration paon    saon  \\\n",
       "0  970000  2002-05-31 00:00  SW3 2BZ    F    0        L   46  FLAT 4   \n",
       "1  700000  2001-12-14 00:00  SW3 2BZ    F    0        L   46  FLAT 4   \n",
       "\n",
       "            street locality    ...                   district          county  \\\n",
       "0  EGERTON GARDENS      NaN    ...     KENSINGTON AND CHELSEA  GREATER LONDON   \n",
       "1  EGERTON GARDENS      NaN    ...     KENSINGTON AND CHELSEA  GREATER LONDON   \n",
       "\n",
       "  ppd_cat record_status     lat_x     lon_x     lat_y     lon_y       lat  \\\n",
       "0       A             A  51.49648 -0.168078  51.49648 -0.168078  51.49648   \n",
       "1       A             A  51.49648 -0.168078  51.49648 -0.168078  51.49648   \n",
       "\n",
       "        lon  \n",
       "0 -0.168078  \n",
       "1 -0.168078  \n",
       "\n",
       "[2 rows x 21 columns]"
      ]
     },
     "execution_count": 36,
     "metadata": {},
     "output_type": "execute_result"
    }
   ],
   "source": [
    "df = df.merge(postcodes, on='postcode')\n",
    "df.head(2)"
   ]
  },
  {
   "cell_type": "markdown",
   "metadata": {},
   "source": [
    "There are too many points to plot onto the map, so we will count how many new houses were built on each postcode area and plot them instead."
   ]
  },
  {
   "cell_type": "code",
   "execution_count": 57,
   "metadata": {
    "collapsed": false
   },
   "outputs": [
    {
     "name": "stderr",
     "output_type": "stream",
     "text": [
      "C:\\Anaconda3\\lib\\site-packages\\ipykernel\\__main__.py:2: FutureWarning: currently extract(expand=None) means expand=False (return Index/Series/DataFrame) but in a future version of pandas this will be changed to expand=True (return DataFrame)\n",
      "  from ipykernel import kernelapp as app\n"
     ]
    }
   ],
   "source": [
    "new = df[df.new == 1]\n",
    "new_areas = pd.DataFrame(new.groupby(new.postcode.str.extract(r'(\\D+)')).postcode.count())\n"
   ]
  },
  {
   "cell_type": "code",
   "execution_count": 58,
   "metadata": {
    "collapsed": false
   },
   "outputs": [
    {
     "data": {
      "text/html": [
       "<div>\n",
       "<table border=\"1\" class=\"dataframe\">\n",
       "  <thead>\n",
       "    <tr style=\"text-align: right;\">\n",
       "      <th></th>\n",
       "      <th>price</th>\n",
       "      <th>transfer_date</th>\n",
       "      <th>postcode</th>\n",
       "      <th>type</th>\n",
       "      <th>new</th>\n",
       "      <th>duration</th>\n",
       "      <th>paon</th>\n",
       "      <th>saon</th>\n",
       "      <th>street</th>\n",
       "      <th>locality</th>\n",
       "      <th>...</th>\n",
       "      <th>district</th>\n",
       "      <th>county</th>\n",
       "      <th>ppd_cat</th>\n",
       "      <th>record_status</th>\n",
       "      <th>lat_x</th>\n",
       "      <th>lon_x</th>\n",
       "      <th>lat_y</th>\n",
       "      <th>lon_y</th>\n",
       "      <th>lat</th>\n",
       "      <th>lon</th>\n",
       "    </tr>\n",
       "  </thead>\n",
       "  <tbody>\n",
       "    <tr>\n",
       "      <th>53</th>\n",
       "      <td>108000</td>\n",
       "      <td>2001-03-07 00:00</td>\n",
       "      <td>OX3 8PD</td>\n",
       "      <td>D</td>\n",
       "      <td>1</td>\n",
       "      <td>F</td>\n",
       "      <td>2A</td>\n",
       "      <td>NaN</td>\n",
       "      <td>WEYLAND ROAD</td>\n",
       "      <td>HEADINGTON</td>\n",
       "      <td>...</td>\n",
       "      <td>OXFORD</td>\n",
       "      <td>OXFORDSHIRE</td>\n",
       "      <td>A</td>\n",
       "      <td>A</td>\n",
       "      <td>51.756812</td>\n",
       "      <td>-1.202093</td>\n",
       "      <td>51.756812</td>\n",
       "      <td>-1.202093</td>\n",
       "      <td>51.756812</td>\n",
       "      <td>-1.202093</td>\n",
       "    </tr>\n",
       "    <tr>\n",
       "      <th>55</th>\n",
       "      <td>116950</td>\n",
       "      <td>2002-05-10 00:00</td>\n",
       "      <td>CF10 4AQ</td>\n",
       "      <td>F</td>\n",
       "      <td>1</td>\n",
       "      <td>L</td>\n",
       "      <td>ROMA HOUSE</td>\n",
       "      <td>29</td>\n",
       "      <td>VELLACOTT CLOSE</td>\n",
       "      <td>NaN</td>\n",
       "      <td>...</td>\n",
       "      <td>CARDIFF</td>\n",
       "      <td>CARDIFF</td>\n",
       "      <td>A</td>\n",
       "      <td>C</td>\n",
       "      <td>51.473407</td>\n",
       "      <td>-3.169933</td>\n",
       "      <td>51.473407</td>\n",
       "      <td>-3.169933</td>\n",
       "      <td>51.473407</td>\n",
       "      <td>-3.169933</td>\n",
       "    </tr>\n",
       "    <tr>\n",
       "      <th>56</th>\n",
       "      <td>130000</td>\n",
       "      <td>2002-05-10 00:00</td>\n",
       "      <td>CF10 4AQ</td>\n",
       "      <td>F</td>\n",
       "      <td>1</td>\n",
       "      <td>L</td>\n",
       "      <td>ROMA HOUSE</td>\n",
       "      <td>28</td>\n",
       "      <td>VELLACOTT CLOSE</td>\n",
       "      <td>NaN</td>\n",
       "      <td>...</td>\n",
       "      <td>CARDIFF</td>\n",
       "      <td>CARDIFF</td>\n",
       "      <td>A</td>\n",
       "      <td>C</td>\n",
       "      <td>51.473407</td>\n",
       "      <td>-3.169933</td>\n",
       "      <td>51.473407</td>\n",
       "      <td>-3.169933</td>\n",
       "      <td>51.473407</td>\n",
       "      <td>-3.169933</td>\n",
       "    </tr>\n",
       "    <tr>\n",
       "      <th>70</th>\n",
       "      <td>209995</td>\n",
       "      <td>2002-07-03 00:00</td>\n",
       "      <td>CV32 5LD</td>\n",
       "      <td>F</td>\n",
       "      <td>1</td>\n",
       "      <td>L</td>\n",
       "      <td>CLARENCE MANSIONS, 1</td>\n",
       "      <td>3</td>\n",
       "      <td>CLARENCE TERRACE</td>\n",
       "      <td>NaN</td>\n",
       "      <td>...</td>\n",
       "      <td>WARWICK</td>\n",
       "      <td>WARWICKSHIRE</td>\n",
       "      <td>A</td>\n",
       "      <td>C</td>\n",
       "      <td>52.291597</td>\n",
       "      <td>-1.539494</td>\n",
       "      <td>52.291597</td>\n",
       "      <td>-1.539494</td>\n",
       "      <td>52.291597</td>\n",
       "      <td>-1.539494</td>\n",
       "    </tr>\n",
       "    <tr>\n",
       "      <th>71</th>\n",
       "      <td>219995</td>\n",
       "      <td>2002-04-26 00:00</td>\n",
       "      <td>CV32 5LD</td>\n",
       "      <td>F</td>\n",
       "      <td>1</td>\n",
       "      <td>L</td>\n",
       "      <td>CLARENCE MANSIONS, 5</td>\n",
       "      <td>28</td>\n",
       "      <td>CLARENCE TERRACE</td>\n",
       "      <td>NaN</td>\n",
       "      <td>...</td>\n",
       "      <td>WARWICK</td>\n",
       "      <td>WARWICKSHIRE</td>\n",
       "      <td>A</td>\n",
       "      <td>C</td>\n",
       "      <td>52.291597</td>\n",
       "      <td>-1.539494</td>\n",
       "      <td>52.291597</td>\n",
       "      <td>-1.539494</td>\n",
       "      <td>52.291597</td>\n",
       "      <td>-1.539494</td>\n",
       "    </tr>\n",
       "  </tbody>\n",
       "</table>\n",
       "<p>5 rows × 21 columns</p>\n",
       "</div>"
      ],
      "text/plain": [
       "     price     transfer_date  postcode type  new duration  \\\n",
       "53  108000  2001-03-07 00:00   OX3 8PD    D    1        F   \n",
       "55  116950  2002-05-10 00:00  CF10 4AQ    F    1        L   \n",
       "56  130000  2002-05-10 00:00  CF10 4AQ    F    1        L   \n",
       "70  209995  2002-07-03 00:00  CV32 5LD    F    1        L   \n",
       "71  219995  2002-04-26 00:00  CV32 5LD    F    1        L   \n",
       "\n",
       "                    paon saon            street    locality    ...     \\\n",
       "53                    2A  NaN      WEYLAND ROAD  HEADINGTON    ...      \n",
       "55            ROMA HOUSE   29   VELLACOTT CLOSE         NaN    ...      \n",
       "56            ROMA HOUSE   28   VELLACOTT CLOSE         NaN    ...      \n",
       "70  CLARENCE MANSIONS, 1    3  CLARENCE TERRACE         NaN    ...      \n",
       "71  CLARENCE MANSIONS, 5   28  CLARENCE TERRACE         NaN    ...      \n",
       "\n",
       "   district        county ppd_cat record_status      lat_x     lon_x  \\\n",
       "53   OXFORD   OXFORDSHIRE       A             A  51.756812 -1.202093   \n",
       "55  CARDIFF       CARDIFF       A             C  51.473407 -3.169933   \n",
       "56  CARDIFF       CARDIFF       A             C  51.473407 -3.169933   \n",
       "70  WARWICK  WARWICKSHIRE       A             C  52.291597 -1.539494   \n",
       "71  WARWICK  WARWICKSHIRE       A             C  52.291597 -1.539494   \n",
       "\n",
       "        lat_y     lon_y        lat       lon  \n",
       "53  51.756812 -1.202093  51.756812 -1.202093  \n",
       "55  51.473407 -3.169933  51.473407 -3.169933  \n",
       "56  51.473407 -3.169933  51.473407 -3.169933  \n",
       "70  52.291597 -1.539494  52.291597 -1.539494  \n",
       "71  52.291597 -1.539494  52.291597 -1.539494  \n",
       "\n",
       "[5 rows x 21 columns]"
      ]
     },
     "execution_count": 58,
     "metadata": {},
     "output_type": "execute_result"
    }
   ],
   "source": [
    "new.head(5)"
   ]
  },
  {
   "cell_type": "code",
   "execution_count": 59,
   "metadata": {
    "collapsed": false
   },
   "outputs": [
    {
     "data": {
      "text/html": [
       "<div>\n",
       "<table border=\"1\" class=\"dataframe\">\n",
       "  <thead>\n",
       "    <tr style=\"text-align: right;\">\n",
       "      <th></th>\n",
       "      <th>area</th>\n",
       "      <th>count</th>\n",
       "    </tr>\n",
       "  </thead>\n",
       "  <tbody>\n",
       "    <tr>\n",
       "      <th>0</th>\n",
       "      <td>AL</td>\n",
       "      <td>25</td>\n",
       "    </tr>\n",
       "    <tr>\n",
       "      <th>1</th>\n",
       "      <td>B</td>\n",
       "      <td>159</td>\n",
       "    </tr>\n",
       "    <tr>\n",
       "      <th>2</th>\n",
       "      <td>BA</td>\n",
       "      <td>78</td>\n",
       "    </tr>\n",
       "    <tr>\n",
       "      <th>3</th>\n",
       "      <td>BB</td>\n",
       "      <td>95</td>\n",
       "    </tr>\n",
       "    <tr>\n",
       "      <th>4</th>\n",
       "      <td>BD</td>\n",
       "      <td>81</td>\n",
       "    </tr>\n",
       "    <tr>\n",
       "      <th>5</th>\n",
       "      <td>BH</td>\n",
       "      <td>55</td>\n",
       "    </tr>\n",
       "    <tr>\n",
       "      <th>6</th>\n",
       "      <td>BL</td>\n",
       "      <td>17</td>\n",
       "    </tr>\n",
       "    <tr>\n",
       "      <th>7</th>\n",
       "      <td>BN</td>\n",
       "      <td>78</td>\n",
       "    </tr>\n",
       "    <tr>\n",
       "      <th>8</th>\n",
       "      <td>BR</td>\n",
       "      <td>37</td>\n",
       "    </tr>\n",
       "    <tr>\n",
       "      <th>9</th>\n",
       "      <td>BS</td>\n",
       "      <td>139</td>\n",
       "    </tr>\n",
       "  </tbody>\n",
       "</table>\n",
       "</div>"
      ],
      "text/plain": [
       "  area  count\n",
       "0   AL     25\n",
       "1    B    159\n",
       "2   BA     78\n",
       "3   BB     95\n",
       "4   BD     81\n",
       "5   BH     55\n",
       "6   BL     17\n",
       "7   BN     78\n",
       "8   BR     37\n",
       "9   BS    139"
      ]
     },
     "execution_count": 59,
     "metadata": {},
     "output_type": "execute_result"
    }
   ],
   "source": [
    "new_areas.columns = ['count']\n",
    "new_areas.index.names = ['area']\n",
    "new_areas = new_areas.reset_index()\n",
    "new_areas.head(10)"
   ]
  },
  {
   "cell_type": "markdown",
   "metadata": {},
   "source": [
    "We need a location for these postcode areas to plot. We will take the mean of all the points in each area to find an approximate location."
   ]
  },
  {
   "cell_type": "code",
   "execution_count": 60,
   "metadata": {
    "collapsed": false
   },
   "outputs": [],
   "source": [
    "def get_by_area(area, df):\n",
    "    result = df[(new.postcode.str.match('{}[^a-zA-Z].+'.format(area))) & (~new.lat.isnull()) & (~new.lon.isnull())]\n",
    "        return result\n",
    "\n",
    "def get_mean_area_lat_lon(area, df):\n",
    "    area_houses = get_by_area(area, df) \n",
    "    mean_lat_lon = area_houses.lat.mean(), area_houses.lon.mean()\n",
    "    \n",
    "    return mean_lat_lon\n",
    "\n"
   ]
  },
  {
   "cell_type": "code",
   "execution_count": 61,
   "metadata": {
    "collapsed": false
   },
   "outputs": [
    {
     "data": {
      "text/html": [
       "<div>\n",
       "<table border=\"1\" class=\"dataframe\">\n",
       "  <thead>\n",
       "    <tr style=\"text-align: right;\">\n",
       "      <th></th>\n",
       "      <th>area</th>\n",
       "      <th>count</th>\n",
       "      <th>pos</th>\n",
       "    </tr>\n",
       "  </thead>\n",
       "  <tbody>\n",
       "    <tr>\n",
       "      <th>0</th>\n",
       "      <td>AL</td>\n",
       "      <td>25</td>\n",
       "      <td>(51.79767856, -0.22621484)</td>\n",
       "    </tr>\n",
       "    <tr>\n",
       "      <th>1</th>\n",
       "      <td>B</td>\n",
       "      <td>159</td>\n",
       "      <td>(52.4654814402516, -1.8306317987421385)</td>\n",
       "    </tr>\n",
       "    <tr>\n",
       "      <th>2</th>\n",
       "      <td>BA</td>\n",
       "      <td>78</td>\n",
       "      <td>(51.20760733333335, -2.4713031410256425)</td>\n",
       "    </tr>\n",
       "    <tr>\n",
       "      <th>3</th>\n",
       "      <td>BB</td>\n",
       "      <td>95</td>\n",
       "      <td>(53.79115375789466, -2.304298536842111)</td>\n",
       "    </tr>\n",
       "    <tr>\n",
       "      <th>4</th>\n",
       "      <td>BD</td>\n",
       "      <td>81</td>\n",
       "      <td>(53.795650197530854, -1.7898112098765424)</td>\n",
       "    </tr>\n",
       "  </tbody>\n",
       "</table>\n",
       "</div>"
      ],
      "text/plain": [
       "  area  count                                        pos\n",
       "0   AL     25                 (51.79767856, -0.22621484)\n",
       "1    B    159    (52.4654814402516, -1.8306317987421385)\n",
       "2   BA     78   (51.20760733333335, -2.4713031410256425)\n",
       "3   BB     95    (53.79115375789466, -2.304298536842111)\n",
       "4   BD     81  (53.795650197530854, -1.7898112098765424)"
      ]
     },
     "execution_count": 61,
     "metadata": {},
     "output_type": "execute_result"
    }
   ],
   "source": [
    "new_areas['pos'] = new_areas.area.apply(get_mean_area_lat_lon, args=(new,))\n",
    "new_areas.head()"
   ]
  },
  {
   "cell_type": "markdown",
   "metadata": {},
   "source": [
    "#### Let's plot them on a map, the size correlates to how many new houses are in that area."
   ]
  },
  {
   "cell_type": "code",
   "execution_count": 68,
   "metadata": {
    "collapsed": false
   },
   "outputs": [
    {
     "data": {
      "text/plain": [
       "<mpl_toolkits.basemap.Basemap at 0x195118549b0>"
      ]
     },
     "execution_count": 68,
     "metadata": {},
     "output_type": "execute_result"
    },
    {
     "data": {
      "image/png": "[encoded data removed]",
      "text/plain": [
       "<matplotlib.figure.Figure at 0x19511854470>"
      ]
     },
     "metadata": {},
     "output_type": "display_data"
    }
   ],
   "source": [
    "import matplotlib.pyplot as plt\n",
    "from mpl_toolkits.basemap import Basemap\n",
    "\n",
    "fig, ax = plt.subplots(figsize=(10,20))\n",
    "\n",
    "m = Basemap(resolution='c', # c, l, i, h, f or None\n",
    "            projection='merc',\n",
    "            lat_0=54.5, lon_0=-4.36,\n",
    "            llcrnrlon=-6., llcrnrlat= 49.5, urcrnrlon=2., urcrnrlat=55.2) \n",
    "\n",
    "m.drawmapboundary(fill_color='#46bcec')\n",
    "m.fillcontinents(color='#f2f2f2',lake_color='#46bcec')\n",
    "m.drawcoastlines()\n",
    "\n",
    "def plot_area(pos):\n",
    "    count = new_areas.loc[new_areas.pos == pos]['count']\n",
    "    x, y = m(pos[1], pos[0])\n",
    "    size = (count/1000) ** 2 + 3\n",
    "    m.plot(x, y, 'o', markersize=size, color='#444444', alpha=0.8)\n",
    "    \n",
    "new_areas.pos.apply(plot_area)\n",
    "\n",
    "m"
   ]
  },
  {
   "cell_type": "markdown",
   "metadata": {},
   "source": [
    "Plotting points onto a Basemap map is very easy. A few things to note about the below code though, are that my data is stored in a Pandas DataFrame called new_areas, the location of these areas are in new_areas.pos and the number of newly built houses in that area is in new_areas.count.\n",
    "\n",
    "What we are doing here is making a function that takes a position and then plots the number of new houses associated with that position onto our map represented by the size of the point. Then using apply() on our Pandas DataFrame’s pos column we go through every position in our DataFrame and plot them onto our map.\n",
    "\n"
   ]
  },
  {
   "cell_type": "markdown",
   "metadata": {},
   "source": [
    "Next let's draw postcode boundaries on the map and colour them depending on how many new houses in that area. The darker the colour, the more new houses in the area."
   ]
  },
  {
   "cell_type": "markdown",
   "metadata": {},
   "source": [
    "USING SHAPEFILES TO DRAW AREAS AND REGIONS\n",
    "\n",
    "Now we have a map that can transmit information, but what if we want to represent regions or specific areas on our map. For example in the we have UK counties or in the USA, states. We can do this using shapefiles. I will be drawing in England and Wales postcode boundaries using the shapefile which can be found here."
   ]
  }
 ],
 "metadata": {
  "anaconda-cloud": {},
  "kernelspec": {
   "display_name": "Python [default]",
   "language": "python",
   "name": "python3"
  },
  "language_info": {
   "codemirror_mode": {
    "name": "ipython",
    "version": 3
   },
   "file_extension": ".py",
   "mimetype": "text/x-python",
   "name": "python",
   "nbconvert_exporter": "python",
   "pygments_lexer": "ipython3",
   "version": "3.5.1"
  }
 },
 "nbformat": 4,
 "nbformat_minor": 1
}
