{
 "cells": [
  {
   "cell_type": "markdown",
   "metadata": {},
   "source": [
    "http://www.pyimagesearch.com/2016/08/15/how-to-tune-hyperparameters-with-python-and-scikit-learn/\n",
    "\n",
    "http://www.pyimagesearch.com/2016/08/22/an-intro-to-linear-classification-with-python/\n",
    "\n",
    "http://efavdb.com/model-selection/\n",
    "\n",
    "http://blog.fastforwardlabs.com/post/149329060653\n",
    "\n",
    "http://nuit-blanche.blogspot.com/2016/08/three-highly-technical-reference-pages.html\n",
    "\n",
    "http://www.wildml.com/2016/08/rnns-in-tensorflow-a-practical-guide-and-undocumented-features/\n",
    "\n",
    "http://deliprao.com/archives/187\n",
    "\n",
    "http://deliprao.com/archives/191\n",
    "\n",
    "\n",
    "http://www.networkx.nl/data-science/descriptive_statistics_final_project/#ert_pane1-0\n",
    "\n",
    "http://www.kdnuggets.com/2016/12/data-science-machine-learning-cheat-sheets-updated.html\n",
    "\n",
    "http://datagenetics.com/blog.html\n",
    "\n",
    "http://www.cio.com/article/3093785/analytics/free-data-visualization-with-microsoft-power-bi-your-step-by-step-guide-with-video.html\n",
    "\n",
    "https://rare-technologies.com/dynamic-nmf-and-dynamic-topics/\n",
    "\n",
    "http://deeplearning.net/tutorial/\n",
    "\n",
    "http://www.andreykurenkov.com/writing/visualizing-imdb-data-with-d3/\n",
    "\n",
    "http://blog.kaggle.com/2016/08/05/predicting-shelter-animal-outcomes-team-kaggle-for-the-paws-andras-zsom/\n",
    "\n",
    "http://blog.yhat.com/posts/grouping-pandas.html\n",
    "\n",
    "http://blogs.sas.com/content/subconsciousmusings/2016/07/01/econometric-and-statistical-methods-for-spatial-data-analysis/\n",
    "\n",
    "http://livebook.datascienceheroes.com/\n",
    "\n",
    "https://sebastianraschka.com/blog/2016/model-evaluation-selection-part2.html\n",
    "\n",
    "http://www.johnwittenauer.net/machine-learning-exercises-in-python-part-1/\n",
    "\n",
    "http://minimaxir.com/2016/08/clickbait-cluster/\n",
    "\n",
    "https://www.r-bloggers.com/15-page-tutorial-for-r/\n",
    "\n",
    "http://www.datasciencecentral.com/m/group/discussion?id=6448529%3ATopic%3A191398\n",
    "\n",
    "http://www.datasciencecentral.com/m/blogpost?id=6448529%3ABlogPost%3A389668\n",
    "\n",
    "\n",
    "http://www.erogol.com/use-python-decorators/\n",
    "\n",
    "http://fastml.com/how-to-make-those-3d-data-visualizations/"
   ]
  }
 ],
 "metadata": {
  "kernelspec": {
   "display_name": "Python [default]",
   "language": "python",
   "name": "python3"
  },
  "language_info": {
   "codemirror_mode": {
    "name": "ipython",
    "version": 3
   },
   "file_extension": ".py",
   "mimetype": "text/x-python",
   "name": "python",
   "nbconvert_exporter": "python",
   "pygments_lexer": "ipython3",
   "version": "3.5.1"
  }
 },
 "nbformat": 4,
 "nbformat_minor": 1
}
