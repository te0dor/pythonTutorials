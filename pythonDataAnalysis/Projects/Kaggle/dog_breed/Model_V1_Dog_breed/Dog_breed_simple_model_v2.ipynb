{
 "cells": [
  {
   "cell_type": "code",
   "execution_count": 1,
   "metadata": {},
   "outputs": [
    {
     "name": "stderr",
     "output_type": "stream",
     "text": [
      "Using TensorFlow backend.\n"
     ]
    }
   ],
   "source": [
    "import cv2 # for image processing\n",
    "import numpy as np # linear algebra\n",
    "import pandas as pd # data processing, CSV file I/O (e.g. pd.read_csv)\n",
    "import os\n",
    "from tqdm import tqdm\n",
    "from sklearn import preprocessing\n",
    "from sklearn.model_selection import train_test_split\n",
    "import cv2\n",
    "\n",
    "from __future__ import print_function\n",
    "\n",
    "from keras.models import Sequential\n",
    "from keras.layers.core import Dense, Activation\n",
    "from keras.optimizers import SGD\n",
    "from keras.utils import np_utils\n"
   ]
  },
  {
   "cell_type": "code",
   "execution_count": 2,
   "metadata": {
    "collapsed": true
   },
   "outputs": [],
   "source": [
    "np.random.seed(1671)  # for reproducibility"
   ]
  },
  {
   "cell_type": "markdown",
   "metadata": {},
   "source": [
    "##### network and training"
   ]
  },
  {
   "cell_type": "code",
   "execution_count": 39,
   "metadata": {
    "collapsed": true
   },
   "outputs": [],
   "source": [
    "NB_EPOCH = 20\n",
    "BATCH_SIZE = 64\n",
    "VERBOSE = 1\n",
    "NB_CLASSES = 120   # number of outputs = number of digits\n",
    "OPTIMIZER = SGD() # SGD optimizer, explained later in this chapter\n",
    "N_HIDDEN = 128\n",
    "VALIDATION_SPLIT=0.2 # how much TRAIN is reserved for VALIDATION"
   ]
  },
  {
   "cell_type": "code",
   "execution_count": 4,
   "metadata": {},
   "outputs": [
    {
     "name": "stdout",
     "output_type": "stream",
     "text": [
      "                                 id             breed\n",
      "0  000bec180eb18c7604dcecc8fe0dba07       boston_bull\n",
      "1  001513dfcb2ffafc82cccf4d8bbaba97             dingo\n",
      "2  001cdf01b096e06d78e9e5112d419397          pekinese\n",
      "3  00214f311d5d2247d5dfe4fe24b2303d          bluetick\n",
      "4  0021f9ceb3235effd7fcde7f7538ed62  golden_retriever\n"
     ]
    }
   ],
   "source": [
    "# taking the labels for the images\n",
    "labels = pd.read_csv('data/Dog_breed/labels.csv/labels.csv')\n",
    "print(labels.head())"
   ]
  },
  {
   "cell_type": "code",
   "execution_count": 5,
   "metadata": {
    "collapsed": true
   },
   "outputs": [],
   "source": [
    "targets_series = pd.Series(labels['breed'])\n",
    "one_hot = pd.get_dummies(targets_series, sparse = True)"
   ]
  },
  {
   "cell_type": "code",
   "execution_count": 6,
   "metadata": {
    "collapsed": true
   },
   "outputs": [],
   "source": [
    "one_hot_labels = np.asarray(one_hot)"
   ]
  },
  {
   "cell_type": "code",
   "execution_count": 7,
   "metadata": {
    "collapsed": true
   },
   "outputs": [],
   "source": [
    "im_size = 90\n",
    "x = []\n",
    "y = []\n",
    "x_submission = []"
   ]
  },
  {
   "cell_type": "code",
   "execution_count": 8,
   "metadata": {},
   "outputs": [
    {
     "name": "stderr",
     "output_type": "stream",
     "text": [
      "100%|██████████| 10222/10222 [02:05<00:00, 81.56it/s]\n"
     ]
    }
   ],
   "source": [
    "i = 0 \n",
    "for f, breed in tqdm(labels.values):\n",
    "    img = cv2.imread('data/Dog_breed/train/{}.jpg'.format(f))\n",
    "    label = one_hot_labels[i]\n",
    "    x.append(cv2.resize(img, (im_size, im_size)))\n",
    "    y.append(label)\n",
    "    i += 1"
   ]
  },
  {
   "cell_type": "code",
   "execution_count": 9,
   "metadata": {
    "collapsed": true
   },
   "outputs": [],
   "source": [
    "df_test = pd.read_csv('data/Dog_breed/sample_submission.csv/sample_submission.csv')"
   ]
  },
  {
   "cell_type": "code",
   "execution_count": 10,
   "metadata": {},
   "outputs": [
    {
     "name": "stderr",
     "output_type": "stream",
     "text": [
      "100%|██████████| 10357/10357 [02:17<00:00, 75.44it/s]\n"
     ]
    }
   ],
   "source": [
    "for f in tqdm(df_test['id'].values):\n",
    "    img = cv2.imread('data/Dog_breed/test/{}.jpg'.format(f))\n",
    "    x_submission.append(cv2.resize(img, (im_size, im_size)))"
   ]
  },
  {
   "cell_type": "code",
   "execution_count": 11,
   "metadata": {
    "collapsed": true
   },
   "outputs": [],
   "source": [
    "x = np.array(x)"
   ]
  },
  {
   "cell_type": "code",
   "execution_count": 12,
   "metadata": {
    "collapsed": true
   },
   "outputs": [],
   "source": [
    "x_submission = np.array(x_submission)"
   ]
  },
  {
   "cell_type": "code",
   "execution_count": 13,
   "metadata": {
    "collapsed": true
   },
   "outputs": [],
   "source": [
    "RESHAPED = 24300"
   ]
  },
  {
   "cell_type": "code",
   "execution_count": 14,
   "metadata": {
    "collapsed": true
   },
   "outputs": [],
   "source": [
    "X = x.reshape(x.shape[0], RESHAPED)"
   ]
  },
  {
   "cell_type": "code",
   "execution_count": 15,
   "metadata": {
    "collapsed": true
   },
   "outputs": [],
   "source": [
    "X_submission = x_submission.reshape(x_submission.shape[0], RESHAPED)"
   ]
  },
  {
   "cell_type": "code",
   "execution_count": 16,
   "metadata": {
    "collapsed": true
   },
   "outputs": [],
   "source": [
    "X = X.astype('float32')"
   ]
  },
  {
   "cell_type": "code",
   "execution_count": 17,
   "metadata": {
    "collapsed": true
   },
   "outputs": [],
   "source": [
    "X_submission = X_submission.astype('float32')"
   ]
  },
  {
   "cell_type": "code",
   "execution_count": 18,
   "metadata": {
    "collapsed": true
   },
   "outputs": [],
   "source": [
    "X/=255\n",
    "X_submission/=255"
   ]
  },
  {
   "cell_type": "code",
   "execution_count": 19,
   "metadata": {},
   "outputs": [
    {
     "data": {
      "text/plain": [
       "(10222, 24300)"
      ]
     },
     "execution_count": 19,
     "metadata": {},
     "output_type": "execute_result"
    }
   ],
   "source": [
    "X.shape"
   ]
  },
  {
   "cell_type": "code",
   "execution_count": 20,
   "metadata": {},
   "outputs": [
    {
     "name": "stdout",
     "output_type": "stream",
     "text": [
      "10222 train samples\n",
      "10357 test samples\n"
     ]
    }
   ],
   "source": [
    "print(X.shape[0], 'train samples')\n",
    "print(X_submission.shape[0], 'test samples')\n"
   ]
  },
  {
   "cell_type": "code",
   "execution_count": 21,
   "metadata": {
    "collapsed": true
   },
   "outputs": [],
   "source": [
    "y = np.array(y)\n"
   ]
  },
  {
   "cell_type": "code",
   "execution_count": 22,
   "metadata": {
    "collapsed": true
   },
   "outputs": [],
   "source": [
    "Y = np_utils.to_categorical(y, NB_CLASSES)"
   ]
  },
  {
   "cell_type": "code",
   "execution_count": 23,
   "metadata": {},
   "outputs": [
    {
     "data": {
      "text/plain": [
       "array([[ 1.,  1.,  0., ...,  0.,  0.,  0.],\n",
       "       [ 1.,  1.,  0., ...,  0.,  0.,  0.],\n",
       "       [ 1.,  1.,  0., ...,  0.,  0.,  0.],\n",
       "       ..., \n",
       "       [ 1.,  1.,  0., ...,  0.,  0.,  0.],\n",
       "       [ 1.,  1.,  0., ...,  0.,  0.,  0.],\n",
       "       [ 1.,  1.,  0., ...,  0.,  0.,  0.]])"
      ]
     },
     "execution_count": 23,
     "metadata": {},
     "output_type": "execute_result"
    }
   ],
   "source": [
    "Y"
   ]
  },
  {
   "cell_type": "code",
   "execution_count": 32,
   "metadata": {
    "collapsed": true
   },
   "outputs": [],
   "source": [
    "from sklearn.model_selection import train_test_split\n",
    "X_train, X_test, y_train, y_test = train_test_split(X, Y, test_size=0.10, random_state=42)"
   ]
  },
  {
   "cell_type": "code",
   "execution_count": 40,
   "metadata": {
    "collapsed": true
   },
   "outputs": [],
   "source": [
    "# M_HIDDEN hidden layers\n",
    "# 10 outputs\n",
    "# final stage is softmax"
   ]
  },
  {
   "cell_type": "code",
   "execution_count": 41,
   "metadata": {},
   "outputs": [
    {
     "name": "stdout",
     "output_type": "stream",
     "text": [
      "____________________________________________________________________________________________________\n",
      "Layer (type)                     Output Shape          Param #     Connected to                     \n",
      "====================================================================================================\n",
      "dense_3 (Dense)                  (None, 128)           3110528     dense_input_3[0][0]              \n",
      "____________________________________________________________________________________________________\n",
      "activation_3 (Activation)        (None, 128)           0           dense_3[0][0]                    \n",
      "____________________________________________________________________________________________________\n",
      "dense_4 (Dense)                  (None, 128)           16512       activation_3[0][0]               \n",
      "____________________________________________________________________________________________________\n",
      "activation_4 (Activation)        (None, 128)           0           dense_4[0][0]                    \n",
      "____________________________________________________________________________________________________\n",
      "dense_5 (Dense)                  (None, 120)           15480       activation_4[0][0]               \n",
      "____________________________________________________________________________________________________\n",
      "activation_5 (Activation)        (None, 120)           0           dense_5[0][0]                    \n",
      "====================================================================================================\n",
      "Total params: 3,142,520\n",
      "Trainable params: 3,142,520\n",
      "Non-trainable params: 0\n",
      "____________________________________________________________________________________________________\n",
      "Train on 7359 samples, validate on 1840 samples\n",
      "Epoch 1/20\n",
      "7359/7359 [==============================] - 1s - loss: 1.9687 - acc: 0.4956 - val_loss: 1.4558 - val_acc: 0.0000e+00\n",
      "Epoch 2/20\n",
      "7359/7359 [==============================] - 1s - loss: 1.4492 - acc: 0.4959 - val_loss: 1.4581 - val_acc: 1.0000\n",
      "Epoch 3/20\n",
      "7359/7359 [==============================] - 1s - loss: 1.4264 - acc: 0.5047 - val_loss: 1.4157 - val_acc: 0.0000e+00\n",
      "Epoch 4/20\n",
      "7359/7359 [==============================] - 1s - loss: 1.4190 - acc: 0.4957 - val_loss: 1.4294 - val_acc: 1.00000\n",
      "Epoch 5/20\n",
      "7359/7359 [==============================] - 1s - loss: 1.4112 - acc: 0.5043 - val_loss: 1.4027 - val_acc: 0.0000e+00\n",
      "Epoch 6/20\n",
      "7359/7359 [==============================] - 1s - loss: 1.4071 - acc: 0.4957 - val_loss: 1.3986 - val_acc: 1.0000\n",
      "Epoch 7/20\n",
      "7359/7359 [==============================] - 1s - loss: 1.4049 - acc: 0.5047 - val_loss: 1.3895 - val_acc: 0.0190\n",
      "Epoch 8/20\n",
      "7359/7359 [==============================] - 1s - loss: 1.4022 - acc: 0.4959 - val_loss: 1.4020 - val_acc: 1.0000\n",
      "Epoch 9/20\n",
      "7359/7359 [==============================] - 1s - loss: 1.4016 - acc: 0.5043 - val_loss: 1.3948 - val_acc: 0.0000e+00\n",
      "Epoch 10/20\n",
      "7359/7359 [==============================] - 1s - loss: 1.3980 - acc: 0.4961 - val_loss: 1.3949 - val_acc: 1.0000\n",
      "Epoch 11/20\n",
      "7359/7359 [==============================] - 1s - loss: 1.4011 - acc: 0.5073 - val_loss: 1.3912 - val_acc: 0.0011\n",
      "Epoch 12/20\n",
      "7359/7359 [==============================] - 1s - loss: 1.3969 - acc: 0.4987 - val_loss: 1.3887 - val_acc: 0.9978\n",
      "Epoch 13/20\n",
      "7359/7359 [==============================] - 1s - loss: 1.3961 - acc: 0.5046 - val_loss: 1.3901 - val_acc: 5.4348e-04\n",
      "Epoch 14/20\n",
      "7359/7359 [==============================] - 1s - loss: 1.3953 - acc: 0.4960 - val_loss: 1.3928 - val_acc: 1.00000. - ETA: 0s - loss: 1.3961 - acc: 0 - ETA: 0s - loss: 1.3958 -\n",
      "Epoch 15/20\n",
      "7359/7359 [==============================] - 1s - loss: 1.3952 - acc: 0.5046 - val_loss: 1.3905 - val_acc: 0.0000e+00\n",
      "Epoch 16/20\n",
      "7359/7359 [==============================] - 1s - loss: 1.3946 - acc: 0.4976 - val_loss: 1.3911 - val_acc: 1.0000\n",
      "Epoch 17/20\n",
      "7359/7359 [==============================] - 1s - loss: 1.3957 - acc: 0.5084 - val_loss: 1.3876 - val_acc: 0.0315\n",
      "Epoch 18/20\n",
      "7359/7359 [==============================] - ETA: 0s - loss: 1.3940 - acc: 0.500 - 1s - loss: 1.3942 - acc: 0.4961 - val_loss: 1.4149 - val_acc: 1.0000\n",
      "Epoch 19/20\n",
      "7359/7359 [==============================] - 1s - loss: 1.3943 - acc: 0.5039 - val_loss: 1.3955 - val_acc: 0.0000e+00\n",
      "Epoch 20/20\n",
      "7359/7359 [==============================] - 1s - loss: 1.3931 - acc: 0.4959 - val_loss: 1.3880 - val_acc: 1.0000\n"
     ]
    }
   ],
   "source": [
    "model = Sequential()\n",
    "model.add(Dense(N_HIDDEN, input_shape=(RESHAPED,)))\n",
    "model.add(Activation('relu'))\n",
    "model.add(Dense(N_HIDDEN))\n",
    "model.add(Activation('relu'))\n",
    "model.add(Dense(NB_CLASSES))\n",
    "model.add(Activation('softmax'))\n",
    "model.summary()\n",
    "\n",
    "model.compile(loss='categorical_crossentropy',\n",
    "              optimizer=OPTIMIZER,\n",
    "              metrics=['accuracy'])\n",
    "\n",
    "history = model.fit(X_train, y_train,\n",
    "                    batch_size=BATCH_SIZE, nb_epoch=NB_EPOCH,\n",
    "                    verbose=VERBOSE, validation_split=VALIDATION_SPLIT)\n"
   ]
  },
  {
   "cell_type": "code",
   "execution_count": 42,
   "metadata": {},
   "outputs": [
    {
     "name": "stdout",
     "output_type": "stream",
     "text": [
      " 992/1023 [============================>.] - ETA: 0s"
     ]
    }
   ],
   "source": [
    "score = model.evaluate(X_test, y_test, verbose=VERBOSE)"
   ]
  },
  {
   "cell_type": "code",
   "execution_count": 43,
   "metadata": {},
   "outputs": [
    {
     "name": "stdout",
     "output_type": "stream",
     "text": [
      "\n",
      "Test score: 1.38859566274\n",
      "Test accuracy: 1.0\n"
     ]
    }
   ],
   "source": [
    "print(\"\\nTest score:\", score[0])\n",
    "print('Test accuracy:', score[1])"
   ]
  },
  {
   "cell_type": "code",
   "execution_count": 44,
   "metadata": {},
   "outputs": [
    {
     "name": "stdout",
     "output_type": "stream",
     "text": [
      "10304/10357 [============================>.] - ETA: 0s"
     ]
    }
   ],
   "source": [
    "preds = model.predict(X_submission, verbose=1)"
   ]
  },
  {
   "cell_type": "code",
   "execution_count": 46,
   "metadata": {},
   "outputs": [
    {
     "data": {
      "text/html": [
       "<div>\n",
       "<table border=\"1\" class=\"dataframe\">\n",
       "  <thead>\n",
       "    <tr style=\"text-align: right;\">\n",
       "      <th></th>\n",
       "      <th>id</th>\n",
       "      <th>affenpinscher</th>\n",
       "      <th>afghan_hound</th>\n",
       "      <th>african_hunting_dog</th>\n",
       "      <th>airedale</th>\n",
       "      <th>american_staffordshire_terrier</th>\n",
       "      <th>appenzeller</th>\n",
       "      <th>australian_terrier</th>\n",
       "      <th>basenji</th>\n",
       "      <th>basset</th>\n",
       "      <th>...</th>\n",
       "      <th>toy_poodle</th>\n",
       "      <th>toy_terrier</th>\n",
       "      <th>vizsla</th>\n",
       "      <th>walker_hound</th>\n",
       "      <th>weimaraner</th>\n",
       "      <th>welsh_springer_spaniel</th>\n",
       "      <th>west_highland_white_terrier</th>\n",
       "      <th>whippet</th>\n",
       "      <th>wire-haired_fox_terrier</th>\n",
       "      <th>yorkshire_terrier</th>\n",
       "    </tr>\n",
       "  </thead>\n",
       "  <tbody>\n",
       "    <tr>\n",
       "      <th>0</th>\n",
       "      <td>000621fb3cbb32d8935728e48679680e</td>\n",
       "      <td>0.511609</td>\n",
       "      <td>0.488384</td>\n",
       "      <td>9.225629e-08</td>\n",
       "      <td>8.491282e-09</td>\n",
       "      <td>1.221754e-08</td>\n",
       "      <td>9.672134e-09</td>\n",
       "      <td>6.206034e-08</td>\n",
       "      <td>8.858015e-08</td>\n",
       "      <td>2.787936e-08</td>\n",
       "      <td>...</td>\n",
       "      <td>8.481834e-08</td>\n",
       "      <td>2.342824e-08</td>\n",
       "      <td>9.786744e-09</td>\n",
       "      <td>1.199383e-08</td>\n",
       "      <td>3.100846e-07</td>\n",
       "      <td>4.844838e-08</td>\n",
       "      <td>1.470889e-08</td>\n",
       "      <td>9.205112e-09</td>\n",
       "      <td>1.206460e-07</td>\n",
       "      <td>3.898720e-07</td>\n",
       "    </tr>\n",
       "    <tr>\n",
       "      <th>1</th>\n",
       "      <td>00102ee9d8eb90812350685311fe5890</td>\n",
       "      <td>0.509203</td>\n",
       "      <td>0.490797</td>\n",
       "      <td>5.286141e-09</td>\n",
       "      <td>2.337340e-10</td>\n",
       "      <td>3.277121e-10</td>\n",
       "      <td>2.895046e-10</td>\n",
       "      <td>2.120018e-09</td>\n",
       "      <td>3.446607e-09</td>\n",
       "      <td>8.961821e-10</td>\n",
       "      <td>...</td>\n",
       "      <td>3.570920e-09</td>\n",
       "      <td>1.008358e-09</td>\n",
       "      <td>2.426290e-10</td>\n",
       "      <td>3.839887e-10</td>\n",
       "      <td>1.669401e-08</td>\n",
       "      <td>2.301385e-09</td>\n",
       "      <td>5.377716e-10</td>\n",
       "      <td>2.731575e-10</td>\n",
       "      <td>4.910104e-09</td>\n",
       "      <td>2.277852e-08</td>\n",
       "    </tr>\n",
       "    <tr>\n",
       "      <th>2</th>\n",
       "      <td>0012a730dfa437f5f3613fb75efcd4ce</td>\n",
       "      <td>0.507632</td>\n",
       "      <td>0.492190</td>\n",
       "      <td>2.735638e-06</td>\n",
       "      <td>3.456441e-07</td>\n",
       "      <td>4.236083e-07</td>\n",
       "      <td>4.498437e-07</td>\n",
       "      <td>1.621532e-06</td>\n",
       "      <td>2.471615e-06</td>\n",
       "      <td>9.409012e-07</td>\n",
       "      <td>...</td>\n",
       "      <td>2.541788e-06</td>\n",
       "      <td>9.582837e-07</td>\n",
       "      <td>3.625142e-07</td>\n",
       "      <td>5.013495e-07</td>\n",
       "      <td>5.680316e-06</td>\n",
       "      <td>1.652266e-06</td>\n",
       "      <td>5.649341e-07</td>\n",
       "      <td>4.146368e-07</td>\n",
       "      <td>2.799743e-06</td>\n",
       "      <td>7.476724e-06</td>\n",
       "    </tr>\n",
       "    <tr>\n",
       "      <th>3</th>\n",
       "      <td>001510bc8570bbeee98c8d80c8a95ec1</td>\n",
       "      <td>0.509758</td>\n",
       "      <td>0.490231</td>\n",
       "      <td>1.799282e-07</td>\n",
       "      <td>1.724071e-08</td>\n",
       "      <td>2.540543e-08</td>\n",
       "      <td>2.021838e-08</td>\n",
       "      <td>8.569853e-08</td>\n",
       "      <td>1.312429e-07</td>\n",
       "      <td>4.212346e-08</td>\n",
       "      <td>...</td>\n",
       "      <td>1.161113e-07</td>\n",
       "      <td>5.439528e-08</td>\n",
       "      <td>1.980268e-08</td>\n",
       "      <td>1.566763e-08</td>\n",
       "      <td>4.932983e-07</td>\n",
       "      <td>9.799790e-08</td>\n",
       "      <td>3.379993e-08</td>\n",
       "      <td>1.795772e-08</td>\n",
       "      <td>1.853936e-07</td>\n",
       "      <td>6.670349e-07</td>\n",
       "    </tr>\n",
       "    <tr>\n",
       "      <th>4</th>\n",
       "      <td>001a5f3114548acdefa3d4da05474c2e</td>\n",
       "      <td>0.509386</td>\n",
       "      <td>0.490567</td>\n",
       "      <td>6.807680e-07</td>\n",
       "      <td>9.023868e-08</td>\n",
       "      <td>1.082685e-07</td>\n",
       "      <td>8.621901e-08</td>\n",
       "      <td>4.631534e-07</td>\n",
       "      <td>7.216283e-07</td>\n",
       "      <td>2.280207e-07</td>\n",
       "      <td>...</td>\n",
       "      <td>5.620792e-07</td>\n",
       "      <td>2.380892e-07</td>\n",
       "      <td>1.006980e-07</td>\n",
       "      <td>9.017236e-08</td>\n",
       "      <td>1.651387e-06</td>\n",
       "      <td>4.144409e-07</td>\n",
       "      <td>1.518131e-07</td>\n",
       "      <td>9.855736e-08</td>\n",
       "      <td>7.707391e-07</td>\n",
       "      <td>2.394309e-06</td>\n",
       "    </tr>\n",
       "  </tbody>\n",
       "</table>\n",
       "<p>5 rows × 121 columns</p>\n",
       "</div>"
      ],
      "text/plain": [
       "                                 id  affenpinscher  afghan_hound  \\\n",
       "0  000621fb3cbb32d8935728e48679680e       0.511609      0.488384   \n",
       "1  00102ee9d8eb90812350685311fe5890       0.509203      0.490797   \n",
       "2  0012a730dfa437f5f3613fb75efcd4ce       0.507632      0.492190   \n",
       "3  001510bc8570bbeee98c8d80c8a95ec1       0.509758      0.490231   \n",
       "4  001a5f3114548acdefa3d4da05474c2e       0.509386      0.490567   \n",
       "\n",
       "   african_hunting_dog      airedale  american_staffordshire_terrier  \\\n",
       "0         9.225629e-08  8.491282e-09                    1.221754e-08   \n",
       "1         5.286141e-09  2.337340e-10                    3.277121e-10   \n",
       "2         2.735638e-06  3.456441e-07                    4.236083e-07   \n",
       "3         1.799282e-07  1.724071e-08                    2.540543e-08   \n",
       "4         6.807680e-07  9.023868e-08                    1.082685e-07   \n",
       "\n",
       "    appenzeller  australian_terrier       basenji        basset  \\\n",
       "0  9.672134e-09        6.206034e-08  8.858015e-08  2.787936e-08   \n",
       "1  2.895046e-10        2.120018e-09  3.446607e-09  8.961821e-10   \n",
       "2  4.498437e-07        1.621532e-06  2.471615e-06  9.409012e-07   \n",
       "3  2.021838e-08        8.569853e-08  1.312429e-07  4.212346e-08   \n",
       "4  8.621901e-08        4.631534e-07  7.216283e-07  2.280207e-07   \n",
       "\n",
       "         ...            toy_poodle   toy_terrier        vizsla  walker_hound  \\\n",
       "0        ...          8.481834e-08  2.342824e-08  9.786744e-09  1.199383e-08   \n",
       "1        ...          3.570920e-09  1.008358e-09  2.426290e-10  3.839887e-10   \n",
       "2        ...          2.541788e-06  9.582837e-07  3.625142e-07  5.013495e-07   \n",
       "3        ...          1.161113e-07  5.439528e-08  1.980268e-08  1.566763e-08   \n",
       "4        ...          5.620792e-07  2.380892e-07  1.006980e-07  9.017236e-08   \n",
       "\n",
       "     weimaraner  welsh_springer_spaniel  west_highland_white_terrier  \\\n",
       "0  3.100846e-07            4.844838e-08                 1.470889e-08   \n",
       "1  1.669401e-08            2.301385e-09                 5.377716e-10   \n",
       "2  5.680316e-06            1.652266e-06                 5.649341e-07   \n",
       "3  4.932983e-07            9.799790e-08                 3.379993e-08   \n",
       "4  1.651387e-06            4.144409e-07                 1.518131e-07   \n",
       "\n",
       "        whippet  wire-haired_fox_terrier  yorkshire_terrier  \n",
       "0  9.205112e-09             1.206460e-07       3.898720e-07  \n",
       "1  2.731575e-10             4.910104e-09       2.277852e-08  \n",
       "2  4.146368e-07             2.799743e-06       7.476724e-06  \n",
       "3  1.795772e-08             1.853936e-07       6.670349e-07  \n",
       "4  9.855736e-08             7.707391e-07       2.394309e-06  \n",
       "\n",
       "[5 rows x 121 columns]"
      ]
     },
     "execution_count": 46,
     "metadata": {},
     "output_type": "execute_result"
    }
   ],
   "source": [
    "sub = pd.DataFrame(preds)\n",
    "# Set column names to those generated by the one-hot encoding earlier\n",
    "col_names = one_hot.columns.values\n",
    "sub.columns = col_names\n",
    "# Insert the column id from the sample_submission at the start of the data frame\n",
    "sub.insert(0,'id', df_test['id'])\n",
    "sub.head(5)\n"
   ]
  },
  {
   "cell_type": "code",
   "execution_count": 47,
   "metadata": {
    "collapsed": true
   },
   "outputs": [],
   "source": [
    "sub.to_csv(\"out_1.csv\")"
   ]
  },
  {
   "cell_type": "markdown",
   "metadata": {},
   "source": [
    "### There was no improvement in the result. 16.\n",
    "It could be the reason that too much data is being taken for test and validation"
   ]
  },
  {
   "cell_type": "markdown",
   "metadata": {},
   "source": []
  }
 ],
 "metadata": {
  "hide_input": false,
  "kernelspec": {
   "display_name": "Python 2",
   "language": "python",
   "name": "python2"
  },
  "language_info": {
   "codemirror_mode": {
    "name": "ipython",
    "version": 2
   },
   "file_extension": ".py",
   "mimetype": "text/x-python",
   "name": "python",
   "nbconvert_exporter": "python",
   "pygments_lexer": "ipython2",
   "version": "2.7.6"
  }
 },
 "nbformat": 4,
 "nbformat_minor": 2
}
