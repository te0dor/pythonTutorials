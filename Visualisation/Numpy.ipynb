{
 "cells": [
  {
   "cell_type": "markdown",
   "metadata": {},
   "source": [
    "###### Numpy Tutorial\n",
    "\n",
    "http://www.labri.fr/perso/nrougier/teaching/numpy.100/index.html\n",
    "\n",
    "http://www.labri.fr/perso/nrougier/teaching/numpy/numpy.html\n",
    "\n",
    "###### Open Access Book\n",
    "\n",
    "http://www.labri.fr/perso/nrougier/from-python-to-numpy/\n",
    "\n",
    "###### Scipy tutorial\n",
    "\n",
    "http://www.scipy-lectures.org/index.html"
   ]
  }
 ],
 "metadata": {
  "kernelspec": {
   "display_name": "Python [default]",
   "language": "python",
   "name": "python3"
  },
  "language_info": {
   "codemirror_mode": {
    "name": "ipython",
    "version": 3
   },
   "file_extension": ".py",
   "mimetype": "text/x-python",
   "name": "python",
   "nbconvert_exporter": "python",
   "pygments_lexer": "ipython3",
   "version": "3.5.1"
  }
 },
 "nbformat": 4,
 "nbformat_minor": 2
}
