{
 "cells": [
  {
   "cell_type": "code",
   "execution_count": 23,
   "metadata": {
    "collapsed": true
   },
   "outputs": [],
   "source": [
    "%matplotlib inline\n",
    "import os  \n",
    "import numpy as np  \n",
    "import pandas as pd  \n",
    "import matplotlib.pyplot as plt  \n",
    "import statsmodels.api as sm  \n",
    "import seaborn as sns \n",
    "sns.set_style('darkgrid')\n",
    "%matplotlib inline\n",
    "\n",
    "import warnings\n",
    "warnings.filterwarnings('ignore') \n"
   ]
  },
  {
   "cell_type": "code",
   "execution_count": 2,
   "metadata": {
    "collapsed": true
   },
   "outputs": [],
   "source": [
    "########################################################\n",
    "# 2. Define variables which we will use later in the script\n",
    "########################################################\n",
    "#s_roor_folder = \"C:\\Users\\piush\\Desktop\\Dataset\\data\\\"\n",
    "#s_train_file = 'train.csv' \n",
    "l_parse_date_cols = ['dt_prediction_date', 'dt_target_date', 'dt_flight_date']\n",
    "l_target_cols = ['num_pax_000_014_mins_before_sdt', 'num_pax_015_029_mins_before_sdt', 'num_pax_030_044_mins_before_sdt', 'num_pax_045_059_mins_before_sdt', 'num_pax_060_074_mins_before_sdt', 'num_pax_075_089_mins_before_sdt', 'num_pax_090_104_mins_before_sdt', 'num_pax_105_119_mins_before_sdt',  'num_pax_120_134_mins_before_sdt', 'num_pax_135_149_mins_before_sdt', 'num_pax_150_164_mins_before_sdt', 'num_pax_165_179_mins_before_sdt',  'num_pax_180_194_mins_before_sdt', 'num_pax_195_209_mins_before_sdt', 'num_pax_210_224_mins_before_sdt', 'num_pax_225_239_mins_before_sdt', 'num_pax_240plus_mins_before_sdt']\n"
   ]
  },
  {
   "cell_type": "code",
   "execution_count": 3,
   "metadata": {
    "collapsed": true
   },
   "outputs": [],
   "source": [
    "# Set some parameters to get good visuals - style to ggplot and size to 15,10\n",
    "plt.style.use('ggplot')\n",
    "plt.rcParams['figure.figsize'] = (15, 10)"
   ]
  },
  {
   "cell_type": "code",
   "execution_count": 4,
   "metadata": {
    "collapsed": true
   },
   "outputs": [],
   "source": [
    "train = pd.read_csv(r\"C:\\Users\\piush\\Desktop\\Dataset\\data_20161116\\train.csv\", parse_dates = l_parse_date_cols)\n",
    "train = train.set_index('id')\n",
    "test = pd.read_csv(r\"C:\\Users\\piush\\Desktop\\Dataset\\data_20161116\\test.csv\", parse_dates = l_parse_date_cols)\n",
    "test = test.set_index('id')"
   ]
  },
  {
   "cell_type": "code",
   "execution_count": 5,
   "metadata": {
    "collapsed": false
   },
   "outputs": [],
   "source": [
    "test2 = test[pd.isnull(test).any(axis=1)]"
   ]
  },
  {
   "cell_type": "code",
   "execution_count": 6,
   "metadata": {
    "collapsed": true
   },
   "outputs": [],
   "source": [
    "target = train[l_target_cols]"
   ]
  },
  {
   "cell_type": "code",
   "execution_count": 7,
   "metadata": {
    "collapsed": true
   },
   "outputs": [],
   "source": [
    "#df1 = train.drop(l_target_cols,axis = 1)\n",
    "#test3 = test2.drop(l_target_cols,axis = 1)"
   ]
  },
  {
   "cell_type": "code",
   "execution_count": 8,
   "metadata": {
    "collapsed": false
   },
   "outputs": [],
   "source": [
    "# Concatenate the 2 data sets\n",
    "df = train.append(test2, ignore_index = True)"
   ]
  },
  {
   "cell_type": "code",
   "execution_count": 9,
   "metadata": {
    "collapsed": false
   },
   "outputs": [
    {
     "name": "stdout",
     "output_type": "stream",
     "text": [
      "Prediction Date\n",
      "2013-01-01 00:00:00\n",
      "2016-08-30 00:00:00\n",
      "Flight Date\n",
      "2012-07-01 00:00:00\n",
      "2016-08-31 00:00:00\n",
      "Target Date\n",
      "2014-01-01 00:00:00\n",
      "2016-08-31 00:00:00\n"
     ]
    }
   ],
   "source": [
    "print(\"Prediction Date\")\n",
    "print(df['dt_prediction_date'].min())\n",
    "print(df['dt_prediction_date'].max())\n",
    "\n",
    "print(\"Flight Date\")\n",
    "print(df['dt_flight_date'].min())\n",
    "print(df['dt_flight_date'].max())\n",
    "\n",
    "print(\"Target Date\")\n",
    "print(df['dt_target_date'].min())\n",
    "print(df['dt_target_date'].max())"
   ]
  },
  {
   "cell_type": "code",
   "execution_count": 10,
   "metadata": {
    "collapsed": false
   },
   "outputs": [
    {
     "name": "stdout",
     "output_type": "stream",
     "text": [
      "Shape of training set: (102620, 45) \n",
      "\n",
      "Column Headers: ['dt_prediction_date', 'dt_target_date', 's_model_type', 'cat_case_type', 'cat_i_flightno', 'dt_flight_date', 'num_flight_year', 'num_flight_month', 'num_flight_weekofyear', 'num_flight_dayofweek', 'cat_sdt_hour', 'cat_i_airport', 'cat_i_city', 'cat_destination_group_id', 'cat_longhaul_ind', 'num_airport_other_ops', 'num_airport_other_flights', 'num_city_other_ops', 'num_city_other_flights', 'cat_s_plane_capacity', 'cat_flight_class_type_id', 'ord_leisure', 'ord_irish_residents', 'ord_trip_duration', 'ord_female', 'ord_party_size', 'ord_bag_checkin', 'ord_arrive_by_car', 'num_pax_000_014_mins_before_sdt', 'num_pax_015_029_mins_before_sdt', 'num_pax_030_044_mins_before_sdt', 'num_pax_045_059_mins_before_sdt', 'num_pax_060_074_mins_before_sdt', 'num_pax_075_089_mins_before_sdt', 'num_pax_090_104_mins_before_sdt', 'num_pax_105_119_mins_before_sdt', 'num_pax_120_134_mins_before_sdt', 'num_pax_135_149_mins_before_sdt', 'num_pax_150_164_mins_before_sdt', 'num_pax_165_179_mins_before_sdt', 'num_pax_180_194_mins_before_sdt', 'num_pax_195_209_mins_before_sdt', 'num_pax_210_224_mins_before_sdt', 'num_pax_225_239_mins_before_sdt', 'num_pax_240plus_mins_before_sdt'] \n",
      "\n",
      "dt_prediction_date                 datetime64[ns]\n",
      "dt_target_date                     datetime64[ns]\n",
      "s_model_type                               object\n",
      "cat_case_type                              object\n",
      "cat_i_flightno                              int64\n",
      "dt_flight_date                     datetime64[ns]\n",
      "num_flight_year                             int64\n",
      "num_flight_month                            int64\n",
      "num_flight_weekofyear                       int64\n",
      "num_flight_dayofweek                        int64\n",
      "cat_sdt_hour                                int64\n",
      "cat_i_airport                               int64\n",
      "cat_i_city                                  int64\n",
      "cat_destination_group_id                    int64\n",
      "cat_longhaul_ind                            int64\n",
      "num_airport_other_ops                       int64\n",
      "num_airport_other_flights                   int64\n",
      "num_city_other_ops                          int64\n",
      "num_city_other_flights                      int64\n",
      "cat_s_plane_capacity                       object\n",
      "cat_flight_class_type_id                    int64\n",
      "ord_leisure                                 int64\n",
      "ord_irish_residents                         int64\n",
      "ord_trip_duration                           int64\n",
      "ord_female                                  int64\n",
      "ord_party_size                              int64\n",
      "ord_bag_checkin                             int64\n",
      "ord_arrive_by_car                           int64\n",
      "num_pax_000_014_mins_before_sdt           float64\n",
      "num_pax_015_029_mins_before_sdt           float64\n",
      "num_pax_030_044_mins_before_sdt           float64\n",
      "num_pax_045_059_mins_before_sdt           float64\n",
      "num_pax_060_074_mins_before_sdt           float64\n",
      "num_pax_075_089_mins_before_sdt           float64\n",
      "num_pax_090_104_mins_before_sdt           float64\n",
      "num_pax_105_119_mins_before_sdt           float64\n",
      "num_pax_120_134_mins_before_sdt           float64\n",
      "num_pax_135_149_mins_before_sdt           float64\n",
      "num_pax_150_164_mins_before_sdt           float64\n",
      "num_pax_165_179_mins_before_sdt           float64\n",
      "num_pax_180_194_mins_before_sdt           float64\n",
      "num_pax_195_209_mins_before_sdt           float64\n",
      "num_pax_210_224_mins_before_sdt           float64\n",
      "num_pax_225_239_mins_before_sdt           float64\n",
      "num_pax_240plus_mins_before_sdt           float64\n",
      "dtype: object\n"
     ]
    }
   ],
   "source": [
    "print (\"Shape of training set:\", df.shape, \"\\n\")\n",
    "print (\"Column Headers:\", list(df.columns.values), \"\\n\")\n",
    "print (df.dtypes)"
   ]
  },
  {
   "cell_type": "code",
   "execution_count": 11,
   "metadata": {
    "collapsed": false
   },
   "outputs": [],
   "source": [
    "df['s_model_type'] = df['s_model_type'].str.strip('_weeks').convert_objects(convert_numeric=True)"
   ]
  },
  {
   "cell_type": "code",
   "execution_count": 12,
   "metadata": {
    "collapsed": false
   },
   "outputs": [],
   "source": [
    "cat_case_type_g = {\"Target\" : 1, \"Expl\" : 0}\n",
    "df[\"cat_case_type\"] = df[\"cat_case_type\"].apply(lambda s: cat_case_type_g.get(s))\n"
   ]
  },
  {
   "cell_type": "code",
   "execution_count": 13,
   "metadata": {
    "collapsed": true
   },
   "outputs": [],
   "source": [
    "'051 - 100' '151 - 200' '101 - 150' '201 - 300' '300+' '001 - 050'\n",
    "cat_s_plane_capacity_g = {\"001 - 050\" : 1, \"051 - 100\" : 2,\"101 - 150\" : 3, \"151 - 200\" : 4,\"201 - 300\" : 5, \"300+\" : 6}\n",
    "df[\"cat_s_plane_capacity\"] = df[\"cat_s_plane_capacity\"].apply(lambda s: cat_s_plane_capacity_g.get(s))\n"
   ]
  },
  {
   "cell_type": "code",
   "execution_count": 14,
   "metadata": {
    "collapsed": true
   },
   "outputs": [],
   "source": [
    "df['s_model_type'] = df.loc[:, \"s_model_type\"].fillna(0.142)\n"
   ]
  },
  {
   "cell_type": "code",
   "execution_count": 15,
   "metadata": {
    "collapsed": false
   },
   "outputs": [
    {
     "data": {
      "text/html": [
       "<div>\n",
       "<table border=\"1\" class=\"dataframe\">\n",
       "  <thead>\n",
       "    <tr style=\"text-align: right;\">\n",
       "      <th></th>\n",
       "      <th>dt_prediction_date</th>\n",
       "      <th>dt_target_date</th>\n",
       "      <th>s_model_type</th>\n",
       "      <th>cat_case_type</th>\n",
       "      <th>cat_i_flightno</th>\n",
       "      <th>dt_flight_date</th>\n",
       "      <th>num_flight_year</th>\n",
       "      <th>num_flight_month</th>\n",
       "      <th>num_flight_weekofyear</th>\n",
       "      <th>num_flight_dayofweek</th>\n",
       "      <th>...</th>\n",
       "      <th>num_pax_105_119_mins_before_sdt</th>\n",
       "      <th>num_pax_120_134_mins_before_sdt</th>\n",
       "      <th>num_pax_135_149_mins_before_sdt</th>\n",
       "      <th>num_pax_150_164_mins_before_sdt</th>\n",
       "      <th>num_pax_165_179_mins_before_sdt</th>\n",
       "      <th>num_pax_180_194_mins_before_sdt</th>\n",
       "      <th>num_pax_195_209_mins_before_sdt</th>\n",
       "      <th>num_pax_210_224_mins_before_sdt</th>\n",
       "      <th>num_pax_225_239_mins_before_sdt</th>\n",
       "      <th>num_pax_240plus_mins_before_sdt</th>\n",
       "    </tr>\n",
       "  </thead>\n",
       "  <tbody>\n",
       "    <tr>\n",
       "      <th>0</th>\n",
       "      <td>2013-01-01</td>\n",
       "      <td>2014-01-01</td>\n",
       "      <td>52.0</td>\n",
       "      <td>1</td>\n",
       "      <td>11075</td>\n",
       "      <td>2014-01-01</td>\n",
       "      <td>2014</td>\n",
       "      <td>1</td>\n",
       "      <td>1</td>\n",
       "      <td>2</td>\n",
       "      <td>...</td>\n",
       "      <td>12.0</td>\n",
       "      <td>12.0</td>\n",
       "      <td>0.0</td>\n",
       "      <td>0.0</td>\n",
       "      <td>0.0</td>\n",
       "      <td>0.0</td>\n",
       "      <td>0.0</td>\n",
       "      <td>0.0</td>\n",
       "      <td>0.0</td>\n",
       "      <td>0.0</td>\n",
       "    </tr>\n",
       "    <tr>\n",
       "      <th>1</th>\n",
       "      <td>2013-01-02</td>\n",
       "      <td>2014-01-02</td>\n",
       "      <td>52.0</td>\n",
       "      <td>1</td>\n",
       "      <td>10536</td>\n",
       "      <td>2014-01-02</td>\n",
       "      <td>2014</td>\n",
       "      <td>1</td>\n",
       "      <td>1</td>\n",
       "      <td>3</td>\n",
       "      <td>...</td>\n",
       "      <td>18.0</td>\n",
       "      <td>16.0</td>\n",
       "      <td>10.0</td>\n",
       "      <td>4.0</td>\n",
       "      <td>3.0</td>\n",
       "      <td>0.0</td>\n",
       "      <td>0.0</td>\n",
       "      <td>0.0</td>\n",
       "      <td>0.0</td>\n",
       "      <td>0.0</td>\n",
       "    </tr>\n",
       "    <tr>\n",
       "      <th>2</th>\n",
       "      <td>2013-01-02</td>\n",
       "      <td>2014-01-02</td>\n",
       "      <td>52.0</td>\n",
       "      <td>0</td>\n",
       "      <td>10536</td>\n",
       "      <td>2013-01-02</td>\n",
       "      <td>2013</td>\n",
       "      <td>1</td>\n",
       "      <td>1</td>\n",
       "      <td>2</td>\n",
       "      <td>...</td>\n",
       "      <td>10.0</td>\n",
       "      <td>8.0</td>\n",
       "      <td>2.0</td>\n",
       "      <td>0.0</td>\n",
       "      <td>0.0</td>\n",
       "      <td>0.0</td>\n",
       "      <td>0.0</td>\n",
       "      <td>0.0</td>\n",
       "      <td>0.0</td>\n",
       "      <td>0.0</td>\n",
       "    </tr>\n",
       "    <tr>\n",
       "      <th>3</th>\n",
       "      <td>2013-01-02</td>\n",
       "      <td>2014-01-02</td>\n",
       "      <td>52.0</td>\n",
       "      <td>0</td>\n",
       "      <td>10536</td>\n",
       "      <td>2012-12-31</td>\n",
       "      <td>2012</td>\n",
       "      <td>12</td>\n",
       "      <td>1</td>\n",
       "      <td>0</td>\n",
       "      <td>...</td>\n",
       "      <td>16.0</td>\n",
       "      <td>16.0</td>\n",
       "      <td>6.0</td>\n",
       "      <td>7.0</td>\n",
       "      <td>6.0</td>\n",
       "      <td>1.0</td>\n",
       "      <td>0.0</td>\n",
       "      <td>0.0</td>\n",
       "      <td>1.0</td>\n",
       "      <td>0.0</td>\n",
       "    </tr>\n",
       "    <tr>\n",
       "      <th>4</th>\n",
       "      <td>2013-01-02</td>\n",
       "      <td>2014-01-02</td>\n",
       "      <td>52.0</td>\n",
       "      <td>0</td>\n",
       "      <td>10536</td>\n",
       "      <td>2012-12-30</td>\n",
       "      <td>2012</td>\n",
       "      <td>12</td>\n",
       "      <td>52</td>\n",
       "      <td>6</td>\n",
       "      <td>...</td>\n",
       "      <td>28.0</td>\n",
       "      <td>9.0</td>\n",
       "      <td>9.0</td>\n",
       "      <td>4.0</td>\n",
       "      <td>0.0</td>\n",
       "      <td>0.0</td>\n",
       "      <td>0.0</td>\n",
       "      <td>0.0</td>\n",
       "      <td>0.0</td>\n",
       "      <td>0.0</td>\n",
       "    </tr>\n",
       "  </tbody>\n",
       "</table>\n",
       "<p>5 rows × 45 columns</p>\n",
       "</div>"
      ],
      "text/plain": [
       "  dt_prediction_date dt_target_date  s_model_type  cat_case_type  \\\n",
       "0         2013-01-01     2014-01-01          52.0              1   \n",
       "1         2013-01-02     2014-01-02          52.0              1   \n",
       "2         2013-01-02     2014-01-02          52.0              0   \n",
       "3         2013-01-02     2014-01-02          52.0              0   \n",
       "4         2013-01-02     2014-01-02          52.0              0   \n",
       "\n",
       "   cat_i_flightno dt_flight_date  num_flight_year  num_flight_month  \\\n",
       "0           11075     2014-01-01             2014                 1   \n",
       "1           10536     2014-01-02             2014                 1   \n",
       "2           10536     2013-01-02             2013                 1   \n",
       "3           10536     2012-12-31             2012                12   \n",
       "4           10536     2012-12-30             2012                12   \n",
       "\n",
       "   num_flight_weekofyear  num_flight_dayofweek  \\\n",
       "0                      1                     2   \n",
       "1                      1                     3   \n",
       "2                      1                     2   \n",
       "3                      1                     0   \n",
       "4                     52                     6   \n",
       "\n",
       "                ...                 num_pax_105_119_mins_before_sdt  \\\n",
       "0               ...                                            12.0   \n",
       "1               ...                                            18.0   \n",
       "2               ...                                            10.0   \n",
       "3               ...                                            16.0   \n",
       "4               ...                                            28.0   \n",
       "\n",
       "   num_pax_120_134_mins_before_sdt  num_pax_135_149_mins_before_sdt  \\\n",
       "0                             12.0                              0.0   \n",
       "1                             16.0                             10.0   \n",
       "2                              8.0                              2.0   \n",
       "3                             16.0                              6.0   \n",
       "4                              9.0                              9.0   \n",
       "\n",
       "   num_pax_150_164_mins_before_sdt  num_pax_165_179_mins_before_sdt  \\\n",
       "0                              0.0                              0.0   \n",
       "1                              4.0                              3.0   \n",
       "2                              0.0                              0.0   \n",
       "3                              7.0                              6.0   \n",
       "4                              4.0                              0.0   \n",
       "\n",
       "   num_pax_180_194_mins_before_sdt  num_pax_195_209_mins_before_sdt  \\\n",
       "0                              0.0                              0.0   \n",
       "1                              0.0                              0.0   \n",
       "2                              0.0                              0.0   \n",
       "3                              1.0                              0.0   \n",
       "4                              0.0                              0.0   \n",
       "\n",
       "   num_pax_210_224_mins_before_sdt  num_pax_225_239_mins_before_sdt  \\\n",
       "0                              0.0                              0.0   \n",
       "1                              0.0                              0.0   \n",
       "2                              0.0                              0.0   \n",
       "3                              0.0                              1.0   \n",
       "4                              0.0                              0.0   \n",
       "\n",
       "   num_pax_240plus_mins_before_sdt  \n",
       "0                              0.0  \n",
       "1                              0.0  \n",
       "2                              0.0  \n",
       "3                              0.0  \n",
       "4                              0.0  \n",
       "\n",
       "[5 rows x 45 columns]"
      ]
     },
     "execution_count": 15,
     "metadata": {},
     "output_type": "execute_result"
    }
   ],
   "source": [
    "df.head(5)"
   ]
  },
  {
   "cell_type": "code",
   "execution_count": 16,
   "metadata": {
    "collapsed": false
   },
   "outputs": [],
   "source": [
    "# Selecting date\n",
    "mask = (df['dt_prediction_date'] > '2013-01-01') & (df['dt_prediction_date'] <= '2013-01-02')\n",
    "df_date = df.loc[mask]"
   ]
  },
  {
   "cell_type": "code",
   "execution_count": 17,
   "metadata": {
    "collapsed": false
   },
   "outputs": [
    {
     "data": {
      "text/html": [
       "<div>\n",
       "<table border=\"1\" class=\"dataframe\">\n",
       "  <thead>\n",
       "    <tr style=\"text-align: right;\">\n",
       "      <th></th>\n",
       "      <th>dt_prediction_date</th>\n",
       "      <th>dt_target_date</th>\n",
       "      <th>s_model_type</th>\n",
       "      <th>cat_case_type</th>\n",
       "      <th>cat_i_flightno</th>\n",
       "      <th>dt_flight_date</th>\n",
       "      <th>num_flight_year</th>\n",
       "      <th>num_flight_month</th>\n",
       "      <th>num_flight_weekofyear</th>\n",
       "      <th>num_flight_dayofweek</th>\n",
       "      <th>...</th>\n",
       "      <th>num_pax_105_119_mins_before_sdt</th>\n",
       "      <th>num_pax_120_134_mins_before_sdt</th>\n",
       "      <th>num_pax_135_149_mins_before_sdt</th>\n",
       "      <th>num_pax_150_164_mins_before_sdt</th>\n",
       "      <th>num_pax_165_179_mins_before_sdt</th>\n",
       "      <th>num_pax_180_194_mins_before_sdt</th>\n",
       "      <th>num_pax_195_209_mins_before_sdt</th>\n",
       "      <th>num_pax_210_224_mins_before_sdt</th>\n",
       "      <th>num_pax_225_239_mins_before_sdt</th>\n",
       "      <th>num_pax_240plus_mins_before_sdt</th>\n",
       "    </tr>\n",
       "  </thead>\n",
       "  <tbody>\n",
       "    <tr>\n",
       "      <th>1</th>\n",
       "      <td>2013-01-02</td>\n",
       "      <td>2014-01-02</td>\n",
       "      <td>52.0</td>\n",
       "      <td>1</td>\n",
       "      <td>10536</td>\n",
       "      <td>2014-01-02</td>\n",
       "      <td>2014</td>\n",
       "      <td>1</td>\n",
       "      <td>1</td>\n",
       "      <td>3</td>\n",
       "      <td>...</td>\n",
       "      <td>18.0</td>\n",
       "      <td>16.0</td>\n",
       "      <td>10.0</td>\n",
       "      <td>4.0</td>\n",
       "      <td>3.0</td>\n",
       "      <td>0.0</td>\n",
       "      <td>0.0</td>\n",
       "      <td>0.0</td>\n",
       "      <td>0.0</td>\n",
       "      <td>0.0</td>\n",
       "    </tr>\n",
       "    <tr>\n",
       "      <th>2</th>\n",
       "      <td>2013-01-02</td>\n",
       "      <td>2014-01-02</td>\n",
       "      <td>52.0</td>\n",
       "      <td>0</td>\n",
       "      <td>10536</td>\n",
       "      <td>2013-01-02</td>\n",
       "      <td>2013</td>\n",
       "      <td>1</td>\n",
       "      <td>1</td>\n",
       "      <td>2</td>\n",
       "      <td>...</td>\n",
       "      <td>10.0</td>\n",
       "      <td>8.0</td>\n",
       "      <td>2.0</td>\n",
       "      <td>0.0</td>\n",
       "      <td>0.0</td>\n",
       "      <td>0.0</td>\n",
       "      <td>0.0</td>\n",
       "      <td>0.0</td>\n",
       "      <td>0.0</td>\n",
       "      <td>0.0</td>\n",
       "    </tr>\n",
       "    <tr>\n",
       "      <th>3</th>\n",
       "      <td>2013-01-02</td>\n",
       "      <td>2014-01-02</td>\n",
       "      <td>52.0</td>\n",
       "      <td>0</td>\n",
       "      <td>10536</td>\n",
       "      <td>2012-12-31</td>\n",
       "      <td>2012</td>\n",
       "      <td>12</td>\n",
       "      <td>1</td>\n",
       "      <td>0</td>\n",
       "      <td>...</td>\n",
       "      <td>16.0</td>\n",
       "      <td>16.0</td>\n",
       "      <td>6.0</td>\n",
       "      <td>7.0</td>\n",
       "      <td>6.0</td>\n",
       "      <td>1.0</td>\n",
       "      <td>0.0</td>\n",
       "      <td>0.0</td>\n",
       "      <td>1.0</td>\n",
       "      <td>0.0</td>\n",
       "    </tr>\n",
       "    <tr>\n",
       "      <th>4</th>\n",
       "      <td>2013-01-02</td>\n",
       "      <td>2014-01-02</td>\n",
       "      <td>52.0</td>\n",
       "      <td>0</td>\n",
       "      <td>10536</td>\n",
       "      <td>2012-12-30</td>\n",
       "      <td>2012</td>\n",
       "      <td>12</td>\n",
       "      <td>52</td>\n",
       "      <td>6</td>\n",
       "      <td>...</td>\n",
       "      <td>28.0</td>\n",
       "      <td>9.0</td>\n",
       "      <td>9.0</td>\n",
       "      <td>4.0</td>\n",
       "      <td>0.0</td>\n",
       "      <td>0.0</td>\n",
       "      <td>0.0</td>\n",
       "      <td>0.0</td>\n",
       "      <td>0.0</td>\n",
       "      <td>0.0</td>\n",
       "    </tr>\n",
       "    <tr>\n",
       "      <th>5</th>\n",
       "      <td>2013-01-02</td>\n",
       "      <td>2014-01-02</td>\n",
       "      <td>52.0</td>\n",
       "      <td>0</td>\n",
       "      <td>10536</td>\n",
       "      <td>2012-12-29</td>\n",
       "      <td>2012</td>\n",
       "      <td>12</td>\n",
       "      <td>52</td>\n",
       "      <td>5</td>\n",
       "      <td>...</td>\n",
       "      <td>15.0</td>\n",
       "      <td>10.0</td>\n",
       "      <td>9.0</td>\n",
       "      <td>9.0</td>\n",
       "      <td>1.0</td>\n",
       "      <td>0.0</td>\n",
       "      <td>0.0</td>\n",
       "      <td>3.0</td>\n",
       "      <td>0.0</td>\n",
       "      <td>1.0</td>\n",
       "    </tr>\n",
       "    <tr>\n",
       "      <th>6</th>\n",
       "      <td>2013-01-02</td>\n",
       "      <td>2014-01-02</td>\n",
       "      <td>52.0</td>\n",
       "      <td>0</td>\n",
       "      <td>10536</td>\n",
       "      <td>2012-12-28</td>\n",
       "      <td>2012</td>\n",
       "      <td>12</td>\n",
       "      <td>52</td>\n",
       "      <td>4</td>\n",
       "      <td>...</td>\n",
       "      <td>2.0</td>\n",
       "      <td>22.0</td>\n",
       "      <td>12.0</td>\n",
       "      <td>2.0</td>\n",
       "      <td>2.0</td>\n",
       "      <td>0.0</td>\n",
       "      <td>2.0</td>\n",
       "      <td>0.0</td>\n",
       "      <td>0.0</td>\n",
       "      <td>0.0</td>\n",
       "    </tr>\n",
       "    <tr>\n",
       "      <th>7</th>\n",
       "      <td>2013-01-02</td>\n",
       "      <td>2014-01-02</td>\n",
       "      <td>52.0</td>\n",
       "      <td>0</td>\n",
       "      <td>10536</td>\n",
       "      <td>2012-11-08</td>\n",
       "      <td>2012</td>\n",
       "      <td>11</td>\n",
       "      <td>45</td>\n",
       "      <td>3</td>\n",
       "      <td>...</td>\n",
       "      <td>2.0</td>\n",
       "      <td>3.0</td>\n",
       "      <td>4.0</td>\n",
       "      <td>4.0</td>\n",
       "      <td>0.0</td>\n",
       "      <td>0.0</td>\n",
       "      <td>0.0</td>\n",
       "      <td>0.0</td>\n",
       "      <td>0.0</td>\n",
       "      <td>0.0</td>\n",
       "    </tr>\n",
       "  </tbody>\n",
       "</table>\n",
       "<p>7 rows × 45 columns</p>\n",
       "</div>"
      ],
      "text/plain": [
       "  dt_prediction_date dt_target_date  s_model_type  cat_case_type  \\\n",
       "1         2013-01-02     2014-01-02          52.0              1   \n",
       "2         2013-01-02     2014-01-02          52.0              0   \n",
       "3         2013-01-02     2014-01-02          52.0              0   \n",
       "4         2013-01-02     2014-01-02          52.0              0   \n",
       "5         2013-01-02     2014-01-02          52.0              0   \n",
       "6         2013-01-02     2014-01-02          52.0              0   \n",
       "7         2013-01-02     2014-01-02          52.0              0   \n",
       "\n",
       "   cat_i_flightno dt_flight_date  num_flight_year  num_flight_month  \\\n",
       "1           10536     2014-01-02             2014                 1   \n",
       "2           10536     2013-01-02             2013                 1   \n",
       "3           10536     2012-12-31             2012                12   \n",
       "4           10536     2012-12-30             2012                12   \n",
       "5           10536     2012-12-29             2012                12   \n",
       "6           10536     2012-12-28             2012                12   \n",
       "7           10536     2012-11-08             2012                11   \n",
       "\n",
       "   num_flight_weekofyear  num_flight_dayofweek  \\\n",
       "1                      1                     3   \n",
       "2                      1                     2   \n",
       "3                      1                     0   \n",
       "4                     52                     6   \n",
       "5                     52                     5   \n",
       "6                     52                     4   \n",
       "7                     45                     3   \n",
       "\n",
       "                ...                 num_pax_105_119_mins_before_sdt  \\\n",
       "1               ...                                            18.0   \n",
       "2               ...                                            10.0   \n",
       "3               ...                                            16.0   \n",
       "4               ...                                            28.0   \n",
       "5               ...                                            15.0   \n",
       "6               ...                                             2.0   \n",
       "7               ...                                             2.0   \n",
       "\n",
       "   num_pax_120_134_mins_before_sdt  num_pax_135_149_mins_before_sdt  \\\n",
       "1                             16.0                             10.0   \n",
       "2                              8.0                              2.0   \n",
       "3                             16.0                              6.0   \n",
       "4                              9.0                              9.0   \n",
       "5                             10.0                              9.0   \n",
       "6                             22.0                             12.0   \n",
       "7                              3.0                              4.0   \n",
       "\n",
       "   num_pax_150_164_mins_before_sdt  num_pax_165_179_mins_before_sdt  \\\n",
       "1                              4.0                              3.0   \n",
       "2                              0.0                              0.0   \n",
       "3                              7.0                              6.0   \n",
       "4                              4.0                              0.0   \n",
       "5                              9.0                              1.0   \n",
       "6                              2.0                              2.0   \n",
       "7                              4.0                              0.0   \n",
       "\n",
       "   num_pax_180_194_mins_before_sdt  num_pax_195_209_mins_before_sdt  \\\n",
       "1                              0.0                              0.0   \n",
       "2                              0.0                              0.0   \n",
       "3                              1.0                              0.0   \n",
       "4                              0.0                              0.0   \n",
       "5                              0.0                              0.0   \n",
       "6                              0.0                              2.0   \n",
       "7                              0.0                              0.0   \n",
       "\n",
       "   num_pax_210_224_mins_before_sdt  num_pax_225_239_mins_before_sdt  \\\n",
       "1                              0.0                              0.0   \n",
       "2                              0.0                              0.0   \n",
       "3                              0.0                              1.0   \n",
       "4                              0.0                              0.0   \n",
       "5                              3.0                              0.0   \n",
       "6                              0.0                              0.0   \n",
       "7                              0.0                              0.0   \n",
       "\n",
       "   num_pax_240plus_mins_before_sdt  \n",
       "1                              0.0  \n",
       "2                              0.0  \n",
       "3                              0.0  \n",
       "4                              0.0  \n",
       "5                              1.0  \n",
       "6                              0.0  \n",
       "7                              0.0  \n",
       "\n",
       "[7 rows x 45 columns]"
      ]
     },
     "execution_count": 17,
     "metadata": {},
     "output_type": "execute_result"
    }
   ],
   "source": [
    "df_date"
   ]
  },
  {
   "cell_type": "code",
   "execution_count": 18,
   "metadata": {
    "collapsed": false
   },
   "outputs": [
    {
     "data": {
      "text/plain": [
       "['dt_prediction_date',\n",
       " 'dt_target_date',\n",
       " 's_model_type',\n",
       " 'cat_case_type',\n",
       " 'cat_i_flightno',\n",
       " 'dt_flight_date',\n",
       " 'num_flight_year',\n",
       " 'num_flight_month',\n",
       " 'num_flight_weekofyear',\n",
       " 'num_flight_dayofweek',\n",
       " 'cat_sdt_hour',\n",
       " 'cat_i_airport',\n",
       " 'cat_i_city',\n",
       " 'cat_destination_group_id',\n",
       " 'cat_longhaul_ind',\n",
       " 'num_airport_other_ops',\n",
       " 'num_airport_other_flights',\n",
       " 'num_city_other_ops',\n",
       " 'num_city_other_flights',\n",
       " 'cat_s_plane_capacity',\n",
       " 'cat_flight_class_type_id',\n",
       " 'ord_leisure',\n",
       " 'ord_irish_residents',\n",
       " 'ord_trip_duration',\n",
       " 'ord_female',\n",
       " 'ord_party_size',\n",
       " 'ord_bag_checkin',\n",
       " 'ord_arrive_by_car',\n",
       " 'num_pax_000_014_mins_before_sdt',\n",
       " 'num_pax_015_029_mins_before_sdt',\n",
       " 'num_pax_030_044_mins_before_sdt',\n",
       " 'num_pax_045_059_mins_before_sdt',\n",
       " 'num_pax_060_074_mins_before_sdt',\n",
       " 'num_pax_075_089_mins_before_sdt',\n",
       " 'num_pax_090_104_mins_before_sdt',\n",
       " 'num_pax_105_119_mins_before_sdt',\n",
       " 'num_pax_120_134_mins_before_sdt',\n",
       " 'num_pax_135_149_mins_before_sdt',\n",
       " 'num_pax_150_164_mins_before_sdt',\n",
       " 'num_pax_165_179_mins_before_sdt',\n",
       " 'num_pax_180_194_mins_before_sdt',\n",
       " 'num_pax_195_209_mins_before_sdt',\n",
       " 'num_pax_210_224_mins_before_sdt',\n",
       " 'num_pax_225_239_mins_before_sdt',\n",
       " 'num_pax_240plus_mins_before_sdt']"
      ]
     },
     "execution_count": 18,
     "metadata": {},
     "output_type": "execute_result"
    }
   ],
   "source": [
    "#sum specific columns\n",
    "#http://stackoverflow.com/questions/25748683/python-pandas-sum-dataframe-rows-for-given-columns\n",
    "col_list= list(df)\n",
    "col_list\n",
    "\n"
   ]
  },
  {
   "cell_type": "code",
   "execution_count": 19,
   "metadata": {
    "collapsed": false
   },
   "outputs": [],
   "source": [
    "df_summary = df_date[['s_model_type',\n",
    " 'cat_case_type',\n",
    " 'cat_i_flightno',\n",
    "  'num_flight_year',\n",
    " 'num_flight_month',\n",
    " 'num_flight_weekofyear',\n",
    " 'num_flight_dayofweek',\n",
    " 'cat_sdt_hour',\n",
    " 'cat_i_airport',\n",
    " 'cat_i_city',\n",
    " 'cat_destination_group_id',\n",
    " 'cat_longhaul_ind',\n",
    " 'num_airport_other_ops',\n",
    " 'num_airport_other_flights',\n",
    " 'num_city_other_ops',\n",
    " 'num_city_other_flights',\n",
    " 'cat_s_plane_capacity',\n",
    " 'cat_flight_class_type_id',\n",
    " 'ord_leisure',\n",
    " 'ord_irish_residents',\n",
    " 'ord_trip_duration',\n",
    " 'ord_female',\n",
    " 'ord_party_size',\n",
    " 'ord_bag_checkin',\n",
    " 'ord_arrive_by_car',\n",
    " 'num_pax_000_014_mins_before_sdt',\n",
    " 'num_pax_015_029_mins_before_sdt',\n",
    " 'num_pax_030_044_mins_before_sdt',\n",
    " 'num_pax_045_059_mins_before_sdt',\n",
    " 'num_pax_060_074_mins_before_sdt',\n",
    " 'num_pax_075_089_mins_before_sdt',\n",
    " 'num_pax_090_104_mins_before_sdt',\n",
    " 'num_pax_105_119_mins_before_sdt',\n",
    " 'num_pax_120_134_mins_before_sdt',\n",
    " 'num_pax_135_149_mins_before_sdt',\n",
    " 'num_pax_150_164_mins_before_sdt',\n",
    " 'num_pax_165_179_mins_before_sdt',\n",
    " 'num_pax_180_194_mins_before_sdt',\n",
    " 'num_pax_195_209_mins_before_sdt',\n",
    " 'num_pax_210_224_mins_before_sdt',\n",
    " 'num_pax_225_239_mins_before_sdt',\n",
    " 'num_pax_240plus_mins_before_sdt']]"
   ]
  },
  {
   "cell_type": "code",
   "execution_count": 20,
   "metadata": {
    "collapsed": true
   },
   "outputs": [],
   "source": [
    "df_summary = df_date[['s_model_type',\n",
    " 'cat_case_type',\n",
    " 'cat_i_flightno',\n",
    "  'num_flight_year',\n",
    " 'num_flight_month',\n",
    " 'num_flight_weekofyear',\n",
    " 'num_flight_dayofweek',\n",
    " 'cat_sdt_hour',\n",
    " 'cat_i_airport',\n",
    " 'cat_i_city',\n",
    " 'cat_destination_group_id',\n",
    " 'cat_longhaul_ind',\n",
    " 'num_airport_other_ops',\n",
    " 'num_airport_other_flights',\n",
    " 'num_city_other_ops',\n",
    " 'num_city_other_flights',\n",
    " 'cat_s_plane_capacity',\n",
    " 'cat_flight_class_type_id',\n",
    " 'ord_leisure',\n",
    " 'ord_irish_residents',\n",
    " 'ord_trip_duration',\n",
    " 'ord_female',\n",
    " 'ord_party_size',\n",
    " 'ord_bag_checkin',\n",
    " 'ord_arrive_by_car',\n",
    " 'num_pax_000_014_mins_before_sdt',\n",
    " 'num_pax_015_029_mins_before_sdt',\n",
    " 'num_pax_030_044_mins_before_sdt',\n",
    " 'num_pax_045_059_mins_before_sdt',\n",
    " 'num_pax_060_074_mins_before_sdt',\n",
    " 'num_pax_075_089_mins_before_sdt',\n",
    " 'num_pax_090_104_mins_before_sdt',\n",
    " 'num_pax_105_119_mins_before_sdt',\n",
    " 'num_pax_120_134_mins_before_sdt',\n",
    " 'num_pax_135_149_mins_before_sdt',\n",
    " 'num_pax_150_164_mins_before_sdt',\n",
    " 'num_pax_165_179_mins_before_sdt',\n",
    " 'num_pax_180_194_mins_before_sdt',\n",
    " 'num_pax_195_209_mins_before_sdt',\n",
    " 'num_pax_210_224_mins_before_sdt',\n",
    " 'num_pax_225_239_mins_before_sdt',\n",
    " 'num_pax_240plus_mins_before_sdt']]"
   ]
  },
  {
   "cell_type": "code",
   "execution_count": 21,
   "metadata": {
    "collapsed": false
   },
   "outputs": [
    {
     "data": {
      "text/html": [
       "<div>\n",
       "<table border=\"1\" class=\"dataframe\">\n",
       "  <thead>\n",
       "    <tr style=\"text-align: right;\">\n",
       "      <th></th>\n",
       "      <th>s_model_type</th>\n",
       "      <th>cat_case_type</th>\n",
       "      <th>cat_i_flightno</th>\n",
       "      <th>num_flight_year</th>\n",
       "      <th>num_flight_month</th>\n",
       "      <th>num_flight_weekofyear</th>\n",
       "      <th>num_flight_dayofweek</th>\n",
       "      <th>cat_sdt_hour</th>\n",
       "      <th>cat_i_airport</th>\n",
       "      <th>cat_i_city</th>\n",
       "      <th>...</th>\n",
       "      <th>num_pax_105_119_mins_before_sdt</th>\n",
       "      <th>num_pax_120_134_mins_before_sdt</th>\n",
       "      <th>num_pax_135_149_mins_before_sdt</th>\n",
       "      <th>num_pax_150_164_mins_before_sdt</th>\n",
       "      <th>num_pax_165_179_mins_before_sdt</th>\n",
       "      <th>num_pax_180_194_mins_before_sdt</th>\n",
       "      <th>num_pax_195_209_mins_before_sdt</th>\n",
       "      <th>num_pax_210_224_mins_before_sdt</th>\n",
       "      <th>num_pax_225_239_mins_before_sdt</th>\n",
       "      <th>num_pax_240plus_mins_before_sdt</th>\n",
       "    </tr>\n",
       "  </thead>\n",
       "  <tbody>\n",
       "    <tr>\n",
       "      <th>1</th>\n",
       "      <td>52.0</td>\n",
       "      <td>1</td>\n",
       "      <td>10536</td>\n",
       "      <td>2014</td>\n",
       "      <td>1</td>\n",
       "      <td>1</td>\n",
       "      <td>3</td>\n",
       "      <td>17</td>\n",
       "      <td>10159</td>\n",
       "      <td>10003</td>\n",
       "      <td>...</td>\n",
       "      <td>18.0</td>\n",
       "      <td>16.0</td>\n",
       "      <td>10.0</td>\n",
       "      <td>4.0</td>\n",
       "      <td>3.0</td>\n",
       "      <td>0.0</td>\n",
       "      <td>0.0</td>\n",
       "      <td>0.0</td>\n",
       "      <td>0.0</td>\n",
       "      <td>0.0</td>\n",
       "    </tr>\n",
       "    <tr>\n",
       "      <th>2</th>\n",
       "      <td>52.0</td>\n",
       "      <td>0</td>\n",
       "      <td>10536</td>\n",
       "      <td>2013</td>\n",
       "      <td>1</td>\n",
       "      <td>1</td>\n",
       "      <td>2</td>\n",
       "      <td>6</td>\n",
       "      <td>10169</td>\n",
       "      <td>10003</td>\n",
       "      <td>...</td>\n",
       "      <td>10.0</td>\n",
       "      <td>8.0</td>\n",
       "      <td>2.0</td>\n",
       "      <td>0.0</td>\n",
       "      <td>0.0</td>\n",
       "      <td>0.0</td>\n",
       "      <td>0.0</td>\n",
       "      <td>0.0</td>\n",
       "      <td>0.0</td>\n",
       "      <td>0.0</td>\n",
       "    </tr>\n",
       "    <tr>\n",
       "      <th>3</th>\n",
       "      <td>52.0</td>\n",
       "      <td>0</td>\n",
       "      <td>10536</td>\n",
       "      <td>2012</td>\n",
       "      <td>12</td>\n",
       "      <td>1</td>\n",
       "      <td>0</td>\n",
       "      <td>9</td>\n",
       "      <td>10169</td>\n",
       "      <td>10003</td>\n",
       "      <td>...</td>\n",
       "      <td>16.0</td>\n",
       "      <td>16.0</td>\n",
       "      <td>6.0</td>\n",
       "      <td>7.0</td>\n",
       "      <td>6.0</td>\n",
       "      <td>1.0</td>\n",
       "      <td>0.0</td>\n",
       "      <td>0.0</td>\n",
       "      <td>1.0</td>\n",
       "      <td>0.0</td>\n",
       "    </tr>\n",
       "    <tr>\n",
       "      <th>4</th>\n",
       "      <td>52.0</td>\n",
       "      <td>0</td>\n",
       "      <td>10536</td>\n",
       "      <td>2012</td>\n",
       "      <td>12</td>\n",
       "      <td>52</td>\n",
       "      <td>6</td>\n",
       "      <td>6</td>\n",
       "      <td>10169</td>\n",
       "      <td>10003</td>\n",
       "      <td>...</td>\n",
       "      <td>28.0</td>\n",
       "      <td>9.0</td>\n",
       "      <td>9.0</td>\n",
       "      <td>4.0</td>\n",
       "      <td>0.0</td>\n",
       "      <td>0.0</td>\n",
       "      <td>0.0</td>\n",
       "      <td>0.0</td>\n",
       "      <td>0.0</td>\n",
       "      <td>0.0</td>\n",
       "    </tr>\n",
       "    <tr>\n",
       "      <th>5</th>\n",
       "      <td>52.0</td>\n",
       "      <td>0</td>\n",
       "      <td>10536</td>\n",
       "      <td>2012</td>\n",
       "      <td>12</td>\n",
       "      <td>52</td>\n",
       "      <td>5</td>\n",
       "      <td>17</td>\n",
       "      <td>10169</td>\n",
       "      <td>10003</td>\n",
       "      <td>...</td>\n",
       "      <td>15.0</td>\n",
       "      <td>10.0</td>\n",
       "      <td>9.0</td>\n",
       "      <td>9.0</td>\n",
       "      <td>1.0</td>\n",
       "      <td>0.0</td>\n",
       "      <td>0.0</td>\n",
       "      <td>3.0</td>\n",
       "      <td>0.0</td>\n",
       "      <td>1.0</td>\n",
       "    </tr>\n",
       "    <tr>\n",
       "      <th>6</th>\n",
       "      <td>52.0</td>\n",
       "      <td>0</td>\n",
       "      <td>10536</td>\n",
       "      <td>2012</td>\n",
       "      <td>12</td>\n",
       "      <td>52</td>\n",
       "      <td>4</td>\n",
       "      <td>6</td>\n",
       "      <td>10169</td>\n",
       "      <td>10003</td>\n",
       "      <td>...</td>\n",
       "      <td>2.0</td>\n",
       "      <td>22.0</td>\n",
       "      <td>12.0</td>\n",
       "      <td>2.0</td>\n",
       "      <td>2.0</td>\n",
       "      <td>0.0</td>\n",
       "      <td>2.0</td>\n",
       "      <td>0.0</td>\n",
       "      <td>0.0</td>\n",
       "      <td>0.0</td>\n",
       "    </tr>\n",
       "    <tr>\n",
       "      <th>7</th>\n",
       "      <td>52.0</td>\n",
       "      <td>0</td>\n",
       "      <td>10536</td>\n",
       "      <td>2012</td>\n",
       "      <td>11</td>\n",
       "      <td>45</td>\n",
       "      <td>3</td>\n",
       "      <td>6</td>\n",
       "      <td>10159</td>\n",
       "      <td>10003</td>\n",
       "      <td>...</td>\n",
       "      <td>2.0</td>\n",
       "      <td>3.0</td>\n",
       "      <td>4.0</td>\n",
       "      <td>4.0</td>\n",
       "      <td>0.0</td>\n",
       "      <td>0.0</td>\n",
       "      <td>0.0</td>\n",
       "      <td>0.0</td>\n",
       "      <td>0.0</td>\n",
       "      <td>0.0</td>\n",
       "    </tr>\n",
       "  </tbody>\n",
       "</table>\n",
       "<p>7 rows × 42 columns</p>\n",
       "</div>"
      ],
      "text/plain": [
       "   s_model_type  cat_case_type  cat_i_flightno  num_flight_year  \\\n",
       "1          52.0              1           10536             2014   \n",
       "2          52.0              0           10536             2013   \n",
       "3          52.0              0           10536             2012   \n",
       "4          52.0              0           10536             2012   \n",
       "5          52.0              0           10536             2012   \n",
       "6          52.0              0           10536             2012   \n",
       "7          52.0              0           10536             2012   \n",
       "\n",
       "   num_flight_month  num_flight_weekofyear  num_flight_dayofweek  \\\n",
       "1                 1                      1                     3   \n",
       "2                 1                      1                     2   \n",
       "3                12                      1                     0   \n",
       "4                12                     52                     6   \n",
       "5                12                     52                     5   \n",
       "6                12                     52                     4   \n",
       "7                11                     45                     3   \n",
       "\n",
       "   cat_sdt_hour  cat_i_airport  cat_i_city               ...                 \\\n",
       "1            17          10159       10003               ...                  \n",
       "2             6          10169       10003               ...                  \n",
       "3             9          10169       10003               ...                  \n",
       "4             6          10169       10003               ...                  \n",
       "5            17          10169       10003               ...                  \n",
       "6             6          10169       10003               ...                  \n",
       "7             6          10159       10003               ...                  \n",
       "\n",
       "   num_pax_105_119_mins_before_sdt  num_pax_120_134_mins_before_sdt  \\\n",
       "1                             18.0                             16.0   \n",
       "2                             10.0                              8.0   \n",
       "3                             16.0                             16.0   \n",
       "4                             28.0                              9.0   \n",
       "5                             15.0                             10.0   \n",
       "6                              2.0                             22.0   \n",
       "7                              2.0                              3.0   \n",
       "\n",
       "   num_pax_135_149_mins_before_sdt  num_pax_150_164_mins_before_sdt  \\\n",
       "1                             10.0                              4.0   \n",
       "2                              2.0                              0.0   \n",
       "3                              6.0                              7.0   \n",
       "4                              9.0                              4.0   \n",
       "5                              9.0                              9.0   \n",
       "6                             12.0                              2.0   \n",
       "7                              4.0                              4.0   \n",
       "\n",
       "   num_pax_165_179_mins_before_sdt  num_pax_180_194_mins_before_sdt  \\\n",
       "1                              3.0                              0.0   \n",
       "2                              0.0                              0.0   \n",
       "3                              6.0                              1.0   \n",
       "4                              0.0                              0.0   \n",
       "5                              1.0                              0.0   \n",
       "6                              2.0                              0.0   \n",
       "7                              0.0                              0.0   \n",
       "\n",
       "   num_pax_195_209_mins_before_sdt  num_pax_210_224_mins_before_sdt  \\\n",
       "1                              0.0                              0.0   \n",
       "2                              0.0                              0.0   \n",
       "3                              0.0                              0.0   \n",
       "4                              0.0                              0.0   \n",
       "5                              0.0                              3.0   \n",
       "6                              2.0                              0.0   \n",
       "7                              0.0                              0.0   \n",
       "\n",
       "   num_pax_225_239_mins_before_sdt  num_pax_240plus_mins_before_sdt  \n",
       "1                              0.0                              0.0  \n",
       "2                              0.0                              0.0  \n",
       "3                              1.0                              0.0  \n",
       "4                              0.0                              0.0  \n",
       "5                              0.0                              1.0  \n",
       "6                              0.0                              0.0  \n",
       "7                              0.0                              0.0  \n",
       "\n",
       "[7 rows x 42 columns]"
      ]
     },
     "execution_count": 21,
     "metadata": {},
     "output_type": "execute_result"
    }
   ],
   "source": [
    "df_summary"
   ]
  },
  {
   "cell_type": "code",
   "execution_count": 22,
   "metadata": {
    "collapsed": true
   },
   "outputs": [],
   "source": [
    "df['e'] = df[col_list].sum(axis=0)"
   ]
  },
  {
   "cell_type": "code",
   "execution_count": 27,
   "metadata": {
    "collapsed": false
   },
   "outputs": [
    {
     "data": {
      "text/html": [
       "<div>\n",
       "<table border=\"1\" class=\"dataframe\">\n",
       "  <thead>\n",
       "    <tr style=\"text-align: right;\">\n",
       "      <th></th>\n",
       "      <th></th>\n",
       "      <th></th>\n",
       "      <th></th>\n",
       "      <th></th>\n",
       "      <th></th>\n",
       "      <th></th>\n",
       "      <th>num_pax_105_119_mins_before_sdt</th>\n",
       "      <th>num_pax_135_149_mins_before_sdt</th>\n",
       "      <th>num_pax_135_149_mins_before_sdt</th>\n",
       "    </tr>\n",
       "    <tr>\n",
       "      <th>cat_i_flightno</th>\n",
       "      <th>num_flight_month</th>\n",
       "      <th>num_flight_weekofyear</th>\n",
       "      <th>num_flight_dayofweek</th>\n",
       "      <th>cat_sdt_hour</th>\n",
       "      <th>cat_i_airport</th>\n",
       "      <th>cat_i_city</th>\n",
       "      <th></th>\n",
       "      <th></th>\n",
       "      <th></th>\n",
       "    </tr>\n",
       "  </thead>\n",
       "  <tbody>\n",
       "    <tr>\n",
       "      <th rowspan=\"7\" valign=\"top\">10536</th>\n",
       "      <th rowspan=\"2\" valign=\"top\">1</th>\n",
       "      <th rowspan=\"2\" valign=\"top\">1</th>\n",
       "      <th>2</th>\n",
       "      <th>6</th>\n",
       "      <th>10169</th>\n",
       "      <th>10003</th>\n",
       "      <td>10.0</td>\n",
       "      <td>2.0</td>\n",
       "      <td>2.0</td>\n",
       "    </tr>\n",
       "    <tr>\n",
       "      <th>3</th>\n",
       "      <th>17</th>\n",
       "      <th>10159</th>\n",
       "      <th>10003</th>\n",
       "      <td>18.0</td>\n",
       "      <td>10.0</td>\n",
       "      <td>10.0</td>\n",
       "    </tr>\n",
       "    <tr>\n",
       "      <th>11</th>\n",
       "      <th>45</th>\n",
       "      <th>3</th>\n",
       "      <th>6</th>\n",
       "      <th>10159</th>\n",
       "      <th>10003</th>\n",
       "      <td>2.0</td>\n",
       "      <td>4.0</td>\n",
       "      <td>4.0</td>\n",
       "    </tr>\n",
       "    <tr>\n",
       "      <th rowspan=\"4\" valign=\"top\">12</th>\n",
       "      <th>1</th>\n",
       "      <th>0</th>\n",
       "      <th>9</th>\n",
       "      <th>10169</th>\n",
       "      <th>10003</th>\n",
       "      <td>16.0</td>\n",
       "      <td>6.0</td>\n",
       "      <td>6.0</td>\n",
       "    </tr>\n",
       "    <tr>\n",
       "      <th rowspan=\"3\" valign=\"top\">52</th>\n",
       "      <th>4</th>\n",
       "      <th>6</th>\n",
       "      <th>10169</th>\n",
       "      <th>10003</th>\n",
       "      <td>2.0</td>\n",
       "      <td>12.0</td>\n",
       "      <td>12.0</td>\n",
       "    </tr>\n",
       "    <tr>\n",
       "      <th>5</th>\n",
       "      <th>17</th>\n",
       "      <th>10169</th>\n",
       "      <th>10003</th>\n",
       "      <td>15.0</td>\n",
       "      <td>9.0</td>\n",
       "      <td>9.0</td>\n",
       "    </tr>\n",
       "    <tr>\n",
       "      <th>6</th>\n",
       "      <th>6</th>\n",
       "      <th>10169</th>\n",
       "      <th>10003</th>\n",
       "      <td>28.0</td>\n",
       "      <td>9.0</td>\n",
       "      <td>9.0</td>\n",
       "    </tr>\n",
       "  </tbody>\n",
       "</table>\n",
       "</div>"
      ],
      "text/plain": [
       "                                                                                                                  num_pax_105_119_mins_before_sdt  \\\n",
       "cat_i_flightno num_flight_month num_flight_weekofyear num_flight_dayofweek cat_sdt_hour cat_i_airport cat_i_city                                    \n",
       "10536          1                1                     2                    6            10169         10003                                  10.0   \n",
       "                                                      3                    17           10159         10003                                  18.0   \n",
       "               11               45                    3                    6            10159         10003                                   2.0   \n",
       "               12               1                     0                    9            10169         10003                                  16.0   \n",
       "                                52                    4                    6            10169         10003                                   2.0   \n",
       "                                                      5                    17           10169         10003                                  15.0   \n",
       "                                                      6                    6            10169         10003                                  28.0   \n",
       "\n",
       "                                                                                                                  num_pax_135_149_mins_before_sdt  \\\n",
       "cat_i_flightno num_flight_month num_flight_weekofyear num_flight_dayofweek cat_sdt_hour cat_i_airport cat_i_city                                    \n",
       "10536          1                1                     2                    6            10169         10003                                   2.0   \n",
       "                                                      3                    17           10159         10003                                  10.0   \n",
       "               11               45                    3                    6            10159         10003                                   4.0   \n",
       "               12               1                     0                    9            10169         10003                                   6.0   \n",
       "                                52                    4                    6            10169         10003                                  12.0   \n",
       "                                                      5                    17           10169         10003                                   9.0   \n",
       "                                                      6                    6            10169         10003                                   9.0   \n",
       "\n",
       "                                                                                                                  num_pax_135_149_mins_before_sdt  \n",
       "cat_i_flightno num_flight_month num_flight_weekofyear num_flight_dayofweek cat_sdt_hour cat_i_airport cat_i_city                                   \n",
       "10536          1                1                     2                    6            10169         10003                                   2.0  \n",
       "                                                      3                    17           10159         10003                                  10.0  \n",
       "               11               45                    3                    6            10159         10003                                   4.0  \n",
       "               12               1                     0                    9            10169         10003                                   6.0  \n",
       "                                52                    4                    6            10169         10003                                  12.0  \n",
       "                                                      5                    17           10169         10003                                   9.0  \n",
       "                                                      6                    6            10169         10003                                   9.0  "
      ]
     },
     "execution_count": 27,
     "metadata": {},
     "output_type": "execute_result"
    },
    {
     "data": {
      "image/png": "[encoded data removed]",
      "text/plain": [
       "<matplotlib.figure.Figure at 0x20d3b4e77f0>"
      ]
     },
     "metadata": {},
     "output_type": "display_data"
    }
   ],
   "source": [
    "plt.hist(df_summary['num_pax_105_119_mins_before_sdt'])\n",
    "\n",
    "\n",
    "df_summary[['cat_i_flightno','num_flight_month','num_flight_weekofyear', 'num_flight_dayofweek', 'cat_sdt_hour', 'cat_i_airport', 'cat_i_city', 'num_pax_105_119_mins_before_sdt', 'num_pax_135_149_mins_before_sdt','num_pax_135_149_mins_before_sdt']].groupby(['cat_i_flightno','num_flight_month','num_flight_weekofyear', 'num_flight_dayofweek', 'cat_sdt_hour', 'cat_i_airport', 'cat_i_city']).mean()\n",
    " "
   ]
  },
  {
   "cell_type": "code",
   "execution_count": 59,
   "metadata": {
    "collapsed": true
   },
   "outputs": [],
   "source": [
    "df_new = df.drop(['dt_prediction_date', 'dt_target_date', 'dt_flight_date'],axis = 1)"
   ]
  },
  {
   "cell_type": "code",
   "execution_count": 60,
   "metadata": {
    "collapsed": true
   },
   "outputs": [],
   "source": [
    "X = df_new[:train.shape[0]]\n",
    "test_new = df_new[train.shape[0]:]"
   ]
  },
  {
   "cell_type": "code",
   "execution_count": 61,
   "metadata": {
    "collapsed": false
   },
   "outputs": [
    {
     "name": "stdout",
     "output_type": "stream",
     "text": [
      "98043 rows for training set\n",
      "4577 rows for test set\n",
      "98043 rows for target\n"
     ]
    }
   ],
   "source": [
    "print (str(len(X))+\" rows for training set\")\n",
    "print (str(len(test_new))+\" rows for test set\")\n",
    "print (str(len(target))+\" rows for target\")"
   ]
  },
  {
   "cell_type": "code",
   "execution_count": 64,
   "metadata": {
    "collapsed": false
   },
   "outputs": [],
   "source": [
    "from sklearn import linear_model\n",
    "model = linear_model.LinearRegression()\n",
    "model.fit(X, target)\n",
    "predictions = model.predict(test_new).astype(int)"
   ]
  },
  {
   "cell_type": "code",
   "execution_count": 84,
   "metadata": {
    "collapsed": false
   },
   "outputs": [],
   "source": [
    "from sklearn.ensemble import RandomForestRegressor\n",
    "model = RandomForestRegressor()\n",
    "model.fit(X, target)\n",
    "predictions = model.predict(test_new).astype(int)"
   ]
  },
  {
   "cell_type": "code",
   "execution_count": 85,
   "metadata": {
    "collapsed": false
   },
   "outputs": [
    {
     "data": {
      "text/plain": [
       "array([[0, 0, 3, ..., 0, 0, 0],\n",
       "       [0, 0, 2, ..., 1, 0, 1],\n",
       "       [0, 0, 2, ..., 1, 1, 0],\n",
       "       ..., \n",
       "       [0, 3, 3, ..., 0, 0, 0],\n",
       "       [0, 0, 2, ..., 0, 0, 0],\n",
       "       [0, 0, 0, ..., 0, 0, 0]])"
      ]
     },
     "execution_count": 85,
     "metadata": {},
     "output_type": "execute_result"
    }
   ],
   "source": [
    "predictions"
   ]
  },
  {
   "cell_type": "code",
   "execution_count": 86,
   "metadata": {
    "collapsed": true
   },
   "outputs": [],
   "source": [
    "df4 = predictions.reshape((-1,17))"
   ]
  },
  {
   "cell_type": "code",
   "execution_count": 87,
   "metadata": {
    "collapsed": true
   },
   "outputs": [],
   "source": [
    "df_predictions = pd.DataFrame({'num_pax_000_014_mins_before_sdt':df4[:,0],'num_pax_015_029_mins_before_sdt':df4[:,1],'num_pax_030_044_mins_before_sdt':df4[:,2],\n",
    "                    'num_pax_045_059_mins_before_sdt':df4[:,3],'num_pax_060_074_mins_before_sdt':df4[:,4],'num_pax_075_089_mins_before_sdt':df4[:,5],\n",
    "                    'num_pax_090_104_mins_before_sdt':df4[:,6],'num_pax_105_119_mins_before_sdt':df4[:,7],'num_pax_120_134_mins_before_sdt':df4[:,8],\n",
    "                    'num_pax_135_149_mins_before_sdt':df4[:,9],'num_pax_150_164_mins_before_sdt':df4[:,10],'num_pax_165_179_mins_before_sdt':df4[:,11],\n",
    "                    'num_pax_180_194_mins_before_sdt':df4[:,12],'num_pax_195_209_mins_before_sdt':df4[:,13],'num_pax_210_224_mins_before_sdt':df4[:,14],\n",
    "                    'num_pax_225_239_mins_before_sdt':df4[:,15],'num_pax_240plus_mins_before_sdt':df4[:,16]})"
   ]
  },
  {
   "cell_type": "code",
   "execution_count": 88,
   "metadata": {
    "collapsed": true
   },
   "outputs": [],
   "source": [
    "submission = pd.DataFrame()\n",
    "submission[\"id\"] = test2.index"
   ]
  },
  {
   "cell_type": "code",
   "execution_count": 89,
   "metadata": {
    "collapsed": true
   },
   "outputs": [],
   "source": [
    "df6 = pd.concat([submission, df_predictions], axis=1)"
   ]
  },
  {
   "cell_type": "code",
   "execution_count": 90,
   "metadata": {
    "collapsed": true
   },
   "outputs": [],
   "source": [
    "df6.to_csv(\"attempt_PiushVaish_Random.csv\",index = False)"
   ]
  },
  {
   "cell_type": "markdown",
   "metadata": {
    "collapsed": true
   },
   "source": [
    "### Visualize"
   ]
  },
  {
   "cell_type": "code",
   "execution_count": 32,
   "metadata": {
    "collapsed": false
   },
   "outputs": [
    {
     "data": {
      "text/plain": [
       "<matplotlib.axes._subplots.AxesSubplot at 0x22ce7713da0>"
      ]
     },
     "execution_count": 32,
     "metadata": {},
     "output_type": "execute_result"
    },
    {
     "data": {
      "image/png": "[encoded data removed]",
      "text/plain": [
       "<matplotlib.figure.Figure at 0x22cf47e76a0>"
      ]
     },
     "metadata": {},
     "output_type": "display_data"
    }
   ],
   "source": [
    "df['num_pax_090_104_mins_before_sdt'].avg(.plot(figsize=(16, 12)) "
   ]
  },
  {
   "cell_type": "code",
   "execution_count": 30,
   "metadata": {
    "collapsed": true
   },
   "outputs": [],
   "source": [
    "from statsmodels.tsa.seasonal import seasonal_decompose"
   ]
  },
  {
   "cell_type": "code",
   "execution_count": 33,
   "metadata": {
    "collapsed": false
   },
   "outputs": [
    {
     "data": {
      "text/plain": [
       "<matplotlib.figure.Figure at 0x22c8359f630>"
      ]
     },
     "metadata": {},
     "output_type": "display_data"
    },
    {
     "data": {
      "image/png": "[encoded data removed]",
      "text/plain": [
       "<matplotlib.figure.Figure at 0x22c8359f6a0>"
      ]
     },
     "metadata": {},
     "output_type": "display_data"
    }
   ],
   "source": [
    "decomposition = seasonal_decompose(df.num_pax_090_104_mins_before_sdt,model='additive', freq=30)\n",
    "fig = plt.figure()  \n",
    "fig = decomposition.plot()  \n",
    "fig.set_size_inches(15, 8)"
   ]
  },
  {
   "cell_type": "code",
   "execution_count": null,
   "metadata": {
    "collapsed": true
   },
   "outputs": [],
   "source": []
  }
 ],
 "metadata": {
  "anaconda-cloud": {},
  "kernelspec": {
   "display_name": "Python [default]",
   "language": "python",
   "name": "python3"
  },
  "language_info": {
   "codemirror_mode": {
    "name": "ipython",
    "version": 3
   },
   "file_extension": ".py",
   "mimetype": "text/x-python",
   "name": "python",
   "nbconvert_exporter": "python",
   "pygments_lexer": "ipython3",
   "version": "3.5.1"
  }
 },
 "nbformat": 4,
 "nbformat_minor": 1
}
