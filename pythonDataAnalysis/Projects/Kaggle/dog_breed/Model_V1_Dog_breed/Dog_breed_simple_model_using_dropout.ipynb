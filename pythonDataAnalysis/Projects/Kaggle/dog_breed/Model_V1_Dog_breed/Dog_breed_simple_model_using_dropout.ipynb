{
 "cells": [
  {
   "cell_type": "code",
   "execution_count": 72,
   "metadata": {},
   "outputs": [],
   "source": [
    "import cv2 # for image processing\n",
    "import numpy as np # linear algebra\n",
    "import pandas as pd # data processing, CSV file I/O (e.g. pd.read_csv)\n",
    "import os\n",
    "from tqdm import tqdm\n",
    "from sklearn import preprocessing\n",
    "from sklearn.model_selection import train_test_split\n",
    "import cv2\n",
    "\n",
    "from __future__ import print_function\n",
    "\n",
    "from keras.models import Sequential\n",
    "from keras.layers.core import Dense, Dropout, Activation\n",
    "from keras.optimizers import RMSprop\n",
    "from keras.utils import np_utils\n"
   ]
  },
  {
   "cell_type": "markdown",
   "metadata": {},
   "source": [
    "##### We decide to randomly drop with the dropout probability some of the values propagated inside our internal dense network of hidden layers. In machine learning, this is a well-known form of regularization"
   ]
  },
  {
   "cell_type": "code",
   "execution_count": 2,
   "metadata": {
    "collapsed": true
   },
   "outputs": [],
   "source": [
    "np.random.seed(1671)  # for reproducibility"
   ]
  },
  {
   "cell_type": "markdown",
   "metadata": {},
   "source": [
    "##### network and training"
   ]
  },
  {
   "cell_type": "code",
   "execution_count": 75,
   "metadata": {},
   "outputs": [],
   "source": [
    "NB_EPOCH = 2\n",
    "BATCH_SIZE = 64\n",
    "VERBOSE = 1\n",
    "NB_CLASSES = 120   # number of outputs = number of digits\n",
    "OPTIMIZER = RMSprop() # SGD optimizer, explained later in this chapter\n",
    "N_HIDDEN = 128\n",
    "VALIDATION_SPLIT=0.2 # how much TRAIN is reserved for VALIDATION\n",
    "DROPOUT = 0.3"
   ]
  },
  {
   "cell_type": "code",
   "execution_count": 4,
   "metadata": {},
   "outputs": [
    {
     "name": "stdout",
     "output_type": "stream",
     "text": [
      "                                 id             breed\n",
      "0  000bec180eb18c7604dcecc8fe0dba07       boston_bull\n",
      "1  001513dfcb2ffafc82cccf4d8bbaba97             dingo\n",
      "2  001cdf01b096e06d78e9e5112d419397          pekinese\n",
      "3  00214f311d5d2247d5dfe4fe24b2303d          bluetick\n",
      "4  0021f9ceb3235effd7fcde7f7538ed62  golden_retriever\n"
     ]
    }
   ],
   "source": [
    "# taking the labels for the images\n",
    "labels = pd.read_csv('data/Dog_breed/labels.csv/labels.csv')\n",
    "print(labels.head())"
   ]
  },
  {
   "cell_type": "code",
   "execution_count": 5,
   "metadata": {
    "collapsed": true
   },
   "outputs": [],
   "source": [
    "targets_series = pd.Series(labels['breed'])\n",
    "one_hot = pd.get_dummies(targets_series, sparse = True)"
   ]
  },
  {
   "cell_type": "code",
   "execution_count": 6,
   "metadata": {
    "collapsed": true
   },
   "outputs": [],
   "source": [
    "one_hot_labels = np.asarray(one_hot)"
   ]
  },
  {
   "cell_type": "code",
   "execution_count": 63,
   "metadata": {
    "collapsed": true
   },
   "outputs": [],
   "source": [
    "im_size = 90\n",
    "x = []\n",
    "y = []\n",
    "x_submission = []"
   ]
  },
  {
   "cell_type": "code",
   "execution_count": 8,
   "metadata": {},
   "outputs": [
    {
     "name": "stderr",
     "output_type": "stream",
     "text": [
      "100%|██████████| 10222/10222 [02:05<00:00, 81.56it/s]\n"
     ]
    }
   ],
   "source": [
    "i = 0 \n",
    "for f, breed in tqdm(labels.values):\n",
    "    img = cv2.imread('data/Dog_breed/train/{}.jpg'.format(f))\n",
    "    label = one_hot_labels[i]\n",
    "    x.append(cv2.resize(img, (im_size, im_size)))\n",
    "    y.append(label)\n",
    "    i += 1"
   ]
  },
  {
   "cell_type": "code",
   "execution_count": 9,
   "metadata": {
    "collapsed": true
   },
   "outputs": [],
   "source": [
    "df_test = pd.read_csv('data/Dog_breed/sample_submission.csv/sample_submission.csv')"
   ]
  },
  {
   "cell_type": "code",
   "execution_count": 10,
   "metadata": {},
   "outputs": [
    {
     "name": "stderr",
     "output_type": "stream",
     "text": [
      "100%|██████████| 10357/10357 [02:17<00:00, 75.44it/s]\n"
     ]
    }
   ],
   "source": [
    "for f in tqdm(df_test['id'].values):\n",
    "    img = cv2.imread('data/Dog_breed/test/{}.jpg'.format(f))\n",
    "    x_submission.append(cv2.resize(img, (im_size, im_size)))"
   ]
  },
  {
   "cell_type": "code",
   "execution_count": 11,
   "metadata": {
    "collapsed": true
   },
   "outputs": [],
   "source": [
    "x = np.array(x)"
   ]
  },
  {
   "cell_type": "code",
   "execution_count": 12,
   "metadata": {
    "collapsed": true
   },
   "outputs": [],
   "source": [
    "x_submission = np.array(x_submission)"
   ]
  },
  {
   "cell_type": "code",
   "execution_count": 13,
   "metadata": {
    "collapsed": true
   },
   "outputs": [],
   "source": [
    "RESHAPED = 24300"
   ]
  },
  {
   "cell_type": "code",
   "execution_count": 14,
   "metadata": {
    "collapsed": true
   },
   "outputs": [],
   "source": [
    "X = x.reshape(x.shape[0], RESHAPED)"
   ]
  },
  {
   "cell_type": "code",
   "execution_count": 15,
   "metadata": {
    "collapsed": true
   },
   "outputs": [],
   "source": [
    "X_submission = x_submission.reshape(x_submission.shape[0], RESHAPED)"
   ]
  },
  {
   "cell_type": "code",
   "execution_count": 16,
   "metadata": {
    "collapsed": true
   },
   "outputs": [],
   "source": [
    "X = X.astype('float32')"
   ]
  },
  {
   "cell_type": "code",
   "execution_count": 17,
   "metadata": {
    "collapsed": true
   },
   "outputs": [],
   "source": [
    "X_submission = X_submission.astype('float32')"
   ]
  },
  {
   "cell_type": "code",
   "execution_count": 18,
   "metadata": {
    "collapsed": true
   },
   "outputs": [],
   "source": [
    "X/=255\n",
    "X_submission/=255"
   ]
  },
  {
   "cell_type": "code",
   "execution_count": 19,
   "metadata": {},
   "outputs": [
    {
     "data": {
      "text/plain": [
       "(10222, 24300)"
      ]
     },
     "execution_count": 19,
     "metadata": {},
     "output_type": "execute_result"
    }
   ],
   "source": [
    "X.shape"
   ]
  },
  {
   "cell_type": "code",
   "execution_count": 20,
   "metadata": {},
   "outputs": [
    {
     "name": "stdout",
     "output_type": "stream",
     "text": [
      "10222 train samples\n",
      "10357 test samples\n"
     ]
    }
   ],
   "source": [
    "print(X.shape[0], 'train samples')\n",
    "print(X_submission.shape[0], 'test samples')\n"
   ]
  },
  {
   "cell_type": "code",
   "execution_count": 21,
   "metadata": {
    "collapsed": true
   },
   "outputs": [],
   "source": [
    "y = np.array(y)\n"
   ]
  },
  {
   "cell_type": "code",
   "execution_count": 22,
   "metadata": {
    "collapsed": true
   },
   "outputs": [],
   "source": [
    "Y = np_utils.to_categorical(y, NB_CLASSES)"
   ]
  },
  {
   "cell_type": "code",
   "execution_count": 23,
   "metadata": {},
   "outputs": [
    {
     "data": {
      "text/plain": [
       "array([[ 1.,  1.,  0., ...,  0.,  0.,  0.],\n",
       "       [ 1.,  1.,  0., ...,  0.,  0.,  0.],\n",
       "       [ 1.,  1.,  0., ...,  0.,  0.,  0.],\n",
       "       ..., \n",
       "       [ 1.,  1.,  0., ...,  0.,  0.,  0.],\n",
       "       [ 1.,  1.,  0., ...,  0.,  0.,  0.],\n",
       "       [ 1.,  1.,  0., ...,  0.,  0.,  0.]])"
      ]
     },
     "execution_count": 23,
     "metadata": {},
     "output_type": "execute_result"
    }
   ],
   "source": [
    "Y"
   ]
  },
  {
   "cell_type": "code",
   "execution_count": 59,
   "metadata": {},
   "outputs": [],
   "source": [
    "from sklearn.model_selection import train_test_split\n",
    "X_train, X_test, y_train, y_test = train_test_split(X, Y, test_size=0.05, random_state=42)"
   ]
  },
  {
   "cell_type": "code",
   "execution_count": 40,
   "metadata": {
    "collapsed": true
   },
   "outputs": [],
   "source": [
    "# M_HIDDEN hidden layers\n",
    "# 10 outputs\n",
    "# final stage is softmax"
   ]
  },
  {
   "cell_type": "code",
   "execution_count": 76,
   "metadata": {},
   "outputs": [
    {
     "name": "stdout",
     "output_type": "stream",
     "text": [
      "____________________________________________________________________________________________________\n",
      "Layer (type)                     Output Shape          Param #     Connected to                     \n",
      "====================================================================================================\n",
      "dense_19 (Dense)                 (None, 128)           3110528     dense_input_9[0][0]              \n",
      "____________________________________________________________________________________________________\n",
      "activation_19 (Activation)       (None, 128)           0           dense_19[0][0]                   \n",
      "____________________________________________________________________________________________________\n",
      "dropout_9 (Dropout)              (None, 128)           0           activation_19[0][0]              \n",
      "____________________________________________________________________________________________________\n",
      "dense_20 (Dense)                 (None, 128)           16512       dropout_9[0][0]                  \n",
      "____________________________________________________________________________________________________\n",
      "activation_20 (Activation)       (None, 128)           0           dense_20[0][0]                   \n",
      "____________________________________________________________________________________________________\n",
      "dropout_10 (Dropout)             (None, 128)           0           activation_20[0][0]              \n",
      "____________________________________________________________________________________________________\n",
      "dense_21 (Dense)                 (None, 120)           15480       dropout_10[0][0]                 \n",
      "____________________________________________________________________________________________________\n",
      "activation_21 (Activation)       (None, 120)           0           dense_21[0][0]                   \n",
      "====================================================================================================\n",
      "Total params: 3,142,520\n",
      "Trainable params: 3,142,520\n",
      "Non-trainable params: 0\n",
      "____________________________________________________________________________________________________\n",
      "Train on 7768 samples, validate on 1942 samples\n",
      "Epoch 1/2\n",
      "7768/7768 [==============================] - 1s - loss: 3.6148 - acc: 0.4896 - val_loss: 1.4175 - val_acc: 1.0000\n",
      "Epoch 2/2\n",
      "7768/7768 [==============================] - 1s - loss: 1.4882 - acc: 0.5097 - val_loss: 1.3884 - val_acc: 1.0000\n"
     ]
    }
   ],
   "source": [
    "model = Sequential()\n",
    "model.add(Dense(N_HIDDEN, input_shape=(RESHAPED,)))\n",
    "model.add(Activation('relu'))\n",
    "model.add(Dropout(DROPOUT))\n",
    "model.add(Dense(N_HIDDEN))\n",
    "model.add(Activation('relu'))\n",
    "model.add(Dropout(DROPOUT))\n",
    "model.add(Dense(NB_CLASSES))\n",
    "model.add(Activation('softmax'))\n",
    "model.summary()\n",
    "\n",
    "model.compile(loss='categorical_crossentropy',\n",
    "              optimizer=OPTIMIZER,\n",
    "              metrics=['accuracy'])\n",
    "\n",
    "history = model.fit(X_train, y_train,\n",
    "                    batch_size=BATCH_SIZE, nb_epoch=NB_EPOCH,\n",
    "                    verbose=VERBOSE, validation_split=VALIDATION_SPLIT)\n"
   ]
  },
  {
   "cell_type": "code",
   "execution_count": 77,
   "metadata": {},
   "outputs": [
    {
     "name": "stdout",
     "output_type": "stream",
     "text": [
      "480/512 [===========================>..] - ETA: 0s"
     ]
    }
   ],
   "source": [
    "score = model.evaluate(X_test, y_test, verbose=VERBOSE)"
   ]
  },
  {
   "cell_type": "code",
   "execution_count": 78,
   "metadata": {},
   "outputs": [
    {
     "name": "stdout",
     "output_type": "stream",
     "text": [
      "\n",
      "Test score: 1.38826262206\n",
      "Test accuracy: 1.0\n"
     ]
    }
   ],
   "source": [
    "print(\"\\nTest score:\", score[0])\n",
    "print('Test accuracy:', score[1])"
   ]
  },
  {
   "cell_type": "code",
   "execution_count": 79,
   "metadata": {},
   "outputs": [
    {
     "name": "stdout",
     "output_type": "stream",
     "text": [
      "10304/10357 [============================>.] - ETA: 0s"
     ]
    }
   ],
   "source": [
    "preds = model.predict(X_submission, verbose=1)"
   ]
  },
  {
   "cell_type": "code",
   "execution_count": 69,
   "metadata": {},
   "outputs": [
    {
     "data": {
      "text/html": [
       "<div>\n",
       "<table border=\"1\" class=\"dataframe\">\n",
       "  <thead>\n",
       "    <tr style=\"text-align: right;\">\n",
       "      <th></th>\n",
       "      <th>id</th>\n",
       "      <th>affenpinscher</th>\n",
       "      <th>afghan_hound</th>\n",
       "      <th>african_hunting_dog</th>\n",
       "      <th>airedale</th>\n",
       "      <th>american_staffordshire_terrier</th>\n",
       "      <th>appenzeller</th>\n",
       "      <th>australian_terrier</th>\n",
       "      <th>basenji</th>\n",
       "      <th>basset</th>\n",
       "      <th>...</th>\n",
       "      <th>toy_poodle</th>\n",
       "      <th>toy_terrier</th>\n",
       "      <th>vizsla</th>\n",
       "      <th>walker_hound</th>\n",
       "      <th>weimaraner</th>\n",
       "      <th>welsh_springer_spaniel</th>\n",
       "      <th>west_highland_white_terrier</th>\n",
       "      <th>whippet</th>\n",
       "      <th>wire-haired_fox_terrier</th>\n",
       "      <th>yorkshire_terrier</th>\n",
       "    </tr>\n",
       "  </thead>\n",
       "  <tbody>\n",
       "    <tr>\n",
       "      <th>0</th>\n",
       "      <td>000621fb3cbb32d8935728e48679680e</td>\n",
       "      <td>0.518612</td>\n",
       "      <td>0.481388</td>\n",
       "      <td>5.620302e-09</td>\n",
       "      <td>8.070852e-09</td>\n",
       "      <td>6.682184e-09</td>\n",
       "      <td>3.699132e-09</td>\n",
       "      <td>3.911088e-09</td>\n",
       "      <td>2.921118e-09</td>\n",
       "      <td>1.290808e-09</td>\n",
       "      <td>...</td>\n",
       "      <td>5.506919e-09</td>\n",
       "      <td>9.760791e-10</td>\n",
       "      <td>5.013177e-10</td>\n",
       "      <td>7.494976e-09</td>\n",
       "      <td>6.034191e-09</td>\n",
       "      <td>1.567237e-09</td>\n",
       "      <td>8.699262e-10</td>\n",
       "      <td>4.671790e-09</td>\n",
       "      <td>1.748816e-09</td>\n",
       "      <td>3.834336e-09</td>\n",
       "    </tr>\n",
       "    <tr>\n",
       "      <th>1</th>\n",
       "      <td>00102ee9d8eb90812350685311fe5890</td>\n",
       "      <td>0.521780</td>\n",
       "      <td>0.478220</td>\n",
       "      <td>6.948585e-10</td>\n",
       "      <td>1.131411e-09</td>\n",
       "      <td>8.420001e-10</td>\n",
       "      <td>4.748520e-10</td>\n",
       "      <td>4.614246e-10</td>\n",
       "      <td>3.395648e-10</td>\n",
       "      <td>1.823841e-10</td>\n",
       "      <td>...</td>\n",
       "      <td>6.754443e-10</td>\n",
       "      <td>8.165721e-11</td>\n",
       "      <td>5.494359e-11</td>\n",
       "      <td>7.329278e-10</td>\n",
       "      <td>6.544521e-10</td>\n",
       "      <td>1.723162e-10</td>\n",
       "      <td>6.355007e-11</td>\n",
       "      <td>5.436413e-10</td>\n",
       "      <td>2.219990e-10</td>\n",
       "      <td>4.847102e-10</td>\n",
       "    </tr>\n",
       "    <tr>\n",
       "      <th>2</th>\n",
       "      <td>0012a730dfa437f5f3613fb75efcd4ce</td>\n",
       "      <td>0.514727</td>\n",
       "      <td>0.485250</td>\n",
       "      <td>2.151393e-07</td>\n",
       "      <td>2.955244e-07</td>\n",
       "      <td>2.104948e-07</td>\n",
       "      <td>1.518729e-07</td>\n",
       "      <td>1.347309e-07</td>\n",
       "      <td>1.210495e-07</td>\n",
       "      <td>6.831367e-08</td>\n",
       "      <td>...</td>\n",
       "      <td>1.942867e-07</td>\n",
       "      <td>4.499255e-08</td>\n",
       "      <td>2.993334e-08</td>\n",
       "      <td>1.989607e-07</td>\n",
       "      <td>2.081502e-07</td>\n",
       "      <td>8.935012e-08</td>\n",
       "      <td>4.010974e-08</td>\n",
       "      <td>1.587783e-07</td>\n",
       "      <td>9.178515e-08</td>\n",
       "      <td>1.678264e-07</td>\n",
       "    </tr>\n",
       "    <tr>\n",
       "      <th>3</th>\n",
       "      <td>001510bc8570bbeee98c8d80c8a95ec1</td>\n",
       "      <td>0.518589</td>\n",
       "      <td>0.481410</td>\n",
       "      <td>1.033759e-08</td>\n",
       "      <td>1.211641e-08</td>\n",
       "      <td>1.424697e-08</td>\n",
       "      <td>7.239069e-09</td>\n",
       "      <td>7.011143e-09</td>\n",
       "      <td>4.135758e-09</td>\n",
       "      <td>3.055612e-09</td>\n",
       "      <td>...</td>\n",
       "      <td>1.199251e-08</td>\n",
       "      <td>1.414842e-09</td>\n",
       "      <td>9.336653e-10</td>\n",
       "      <td>1.653693e-08</td>\n",
       "      <td>8.089162e-09</td>\n",
       "      <td>3.292229e-09</td>\n",
       "      <td>1.622805e-09</td>\n",
       "      <td>9.786785e-09</td>\n",
       "      <td>3.542572e-09</td>\n",
       "      <td>8.416581e-09</td>\n",
       "    </tr>\n",
       "    <tr>\n",
       "      <th>4</th>\n",
       "      <td>001a5f3114548acdefa3d4da05474c2e</td>\n",
       "      <td>0.515686</td>\n",
       "      <td>0.484304</td>\n",
       "      <td>8.431363e-08</td>\n",
       "      <td>1.309392e-07</td>\n",
       "      <td>9.888107e-08</td>\n",
       "      <td>6.206069e-08</td>\n",
       "      <td>6.002058e-08</td>\n",
       "      <td>4.293369e-08</td>\n",
       "      <td>2.709974e-08</td>\n",
       "      <td>...</td>\n",
       "      <td>9.334423e-08</td>\n",
       "      <td>1.721100e-08</td>\n",
       "      <td>1.026023e-08</td>\n",
       "      <td>9.622180e-08</td>\n",
       "      <td>7.181468e-08</td>\n",
       "      <td>3.677409e-08</td>\n",
       "      <td>1.519932e-08</td>\n",
       "      <td>7.878992e-08</td>\n",
       "      <td>4.242249e-08</td>\n",
       "      <td>6.110628e-08</td>\n",
       "    </tr>\n",
       "  </tbody>\n",
       "</table>\n",
       "<p>5 rows × 121 columns</p>\n",
       "</div>"
      ],
      "text/plain": [
       "                                 id  affenpinscher  afghan_hound  \\\n",
       "0  000621fb3cbb32d8935728e48679680e       0.518612      0.481388   \n",
       "1  00102ee9d8eb90812350685311fe5890       0.521780      0.478220   \n",
       "2  0012a730dfa437f5f3613fb75efcd4ce       0.514727      0.485250   \n",
       "3  001510bc8570bbeee98c8d80c8a95ec1       0.518589      0.481410   \n",
       "4  001a5f3114548acdefa3d4da05474c2e       0.515686      0.484304   \n",
       "\n",
       "   african_hunting_dog      airedale  american_staffordshire_terrier  \\\n",
       "0         5.620302e-09  8.070852e-09                    6.682184e-09   \n",
       "1         6.948585e-10  1.131411e-09                    8.420001e-10   \n",
       "2         2.151393e-07  2.955244e-07                    2.104948e-07   \n",
       "3         1.033759e-08  1.211641e-08                    1.424697e-08   \n",
       "4         8.431363e-08  1.309392e-07                    9.888107e-08   \n",
       "\n",
       "    appenzeller  australian_terrier       basenji        basset  \\\n",
       "0  3.699132e-09        3.911088e-09  2.921118e-09  1.290808e-09   \n",
       "1  4.748520e-10        4.614246e-10  3.395648e-10  1.823841e-10   \n",
       "2  1.518729e-07        1.347309e-07  1.210495e-07  6.831367e-08   \n",
       "3  7.239069e-09        7.011143e-09  4.135758e-09  3.055612e-09   \n",
       "4  6.206069e-08        6.002058e-08  4.293369e-08  2.709974e-08   \n",
       "\n",
       "         ...            toy_poodle   toy_terrier        vizsla  walker_hound  \\\n",
       "0        ...          5.506919e-09  9.760791e-10  5.013177e-10  7.494976e-09   \n",
       "1        ...          6.754443e-10  8.165721e-11  5.494359e-11  7.329278e-10   \n",
       "2        ...          1.942867e-07  4.499255e-08  2.993334e-08  1.989607e-07   \n",
       "3        ...          1.199251e-08  1.414842e-09  9.336653e-10  1.653693e-08   \n",
       "4        ...          9.334423e-08  1.721100e-08  1.026023e-08  9.622180e-08   \n",
       "\n",
       "     weimaraner  welsh_springer_spaniel  west_highland_white_terrier  \\\n",
       "0  6.034191e-09            1.567237e-09                 8.699262e-10   \n",
       "1  6.544521e-10            1.723162e-10                 6.355007e-11   \n",
       "2  2.081502e-07            8.935012e-08                 4.010974e-08   \n",
       "3  8.089162e-09            3.292229e-09                 1.622805e-09   \n",
       "4  7.181468e-08            3.677409e-08                 1.519932e-08   \n",
       "\n",
       "        whippet  wire-haired_fox_terrier  yorkshire_terrier  \n",
       "0  4.671790e-09             1.748816e-09       3.834336e-09  \n",
       "1  5.436413e-10             2.219990e-10       4.847102e-10  \n",
       "2  1.587783e-07             9.178515e-08       1.678264e-07  \n",
       "3  9.786785e-09             3.542572e-09       8.416581e-09  \n",
       "4  7.878992e-08             4.242249e-08       6.110628e-08  \n",
       "\n",
       "[5 rows x 121 columns]"
      ]
     },
     "execution_count": 69,
     "metadata": {},
     "output_type": "execute_result"
    }
   ],
   "source": [
    "sub = pd.DataFrame(preds)\n",
    "# Set column names to those generated by the one-hot encoding earlier\n",
    "col_names = one_hot.columns.values\n",
    "sub.columns = col_names\n",
    "# Insert the column id from the sample_submission at the start of the data frame\n",
    "sub.insert(0,'id', df_test['id'])\n",
    "sub.head(5)\n"
   ]
  },
  {
   "cell_type": "code",
   "execution_count": 70,
   "metadata": {
    "collapsed": true
   },
   "outputs": [],
   "source": [
    "sub.to_csv(\"out_3.csv\")"
   ]
  },
  {
   "cell_type": "markdown",
   "metadata": {},
   "source": [
    "As a rule of thumb, if during the training we see that the loss increases on validation, after an initial\n",
    "decrease, then we have a problem of model complexity that overfits training."
   ]
  }
 ],
 "metadata": {
  "hide_input": false,
  "kernelspec": {
   "display_name": "Python 2",
   "language": "python",
   "name": "python2"
  },
  "language_info": {
   "codemirror_mode": {
    "name": "ipython",
    "version": 2
   },
   "file_extension": ".py",
   "mimetype": "text/x-python",
   "name": "python",
   "nbconvert_exporter": "python",
   "pygments_lexer": "ipython2",
   "version": "2.7.6"
  }
 },
 "nbformat": 4,
 "nbformat_minor": 2
}
