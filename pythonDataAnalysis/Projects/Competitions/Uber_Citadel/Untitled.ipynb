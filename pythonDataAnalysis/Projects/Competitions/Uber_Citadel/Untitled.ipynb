{
 "cells": [
  {
   "cell_type": "code",
   "execution_count": 1,
   "metadata": {
    "collapsed": true
   },
   "outputs": [],
   "source": [
    "import pandas as pd\n",
    "import numpy as np\n",
    "import matplotlib.pyplot as plt\n",
    "%matplotlib inline\n",
    "import seaborn as sns\n",
    "import datetime as DT"
   ]
  },
  {
   "cell_type": "code",
   "execution_count": 2,
   "metadata": {
    "collapsed": true
   },
   "outputs": [],
   "source": [
    "weather = pd.read_csv(r\"C:\\Users\\piush\\Desktop\\Dataset\\UberData\\weather.csv\")"
   ]
  },
  {
   "cell_type": "code",
   "execution_count": 3,
   "metadata": {
    "collapsed": false
   },
   "outputs": [],
   "source": [
    "uber_2015 = pd.read_csv(r\"C:\\Users\\piush\\Desktop\\Dataset\\UberData\\uber_trips_2015.csv\\uber_trips_2015.csv\")"
   ]
  },
  {
   "cell_type": "code",
   "execution_count": 4,
   "metadata": {
    "collapsed": false
   },
   "outputs": [
    {
     "data": {
      "text/html": [
       "<div>\n",
       "<table border=\"1\" class=\"dataframe\">\n",
       "  <thead>\n",
       "    <tr style=\"text-align: right;\">\n",
       "      <th></th>\n",
       "      <th>pickup_datetime</th>\n",
       "      <th>pickup_location_id</th>\n",
       "      <th>dispatch_base</th>\n",
       "      <th>affiliate_base</th>\n",
       "    </tr>\n",
       "  </thead>\n",
       "  <tbody>\n",
       "    <tr>\n",
       "      <th>0</th>\n",
       "      <td>2015-05-17 09:47:00</td>\n",
       "      <td>141</td>\n",
       "      <td>B02617</td>\n",
       "      <td>B02617</td>\n",
       "    </tr>\n",
       "    <tr>\n",
       "      <th>1</th>\n",
       "      <td>2015-05-17 09:47:00</td>\n",
       "      <td>65</td>\n",
       "      <td>B02617</td>\n",
       "      <td>B02617</td>\n",
       "    </tr>\n",
       "    <tr>\n",
       "      <th>2</th>\n",
       "      <td>2015-05-17 09:47:00</td>\n",
       "      <td>100</td>\n",
       "      <td>B02617</td>\n",
       "      <td>B02617</td>\n",
       "    </tr>\n",
       "  </tbody>\n",
       "</table>\n",
       "</div>"
      ],
      "text/plain": [
       "       pickup_datetime  pickup_location_id dispatch_base affiliate_base\n",
       "0  2015-05-17 09:47:00                 141        B02617         B02617\n",
       "1  2015-05-17 09:47:00                  65        B02617         B02617\n",
       "2  2015-05-17 09:47:00                 100        B02617         B02617"
      ]
     },
     "execution_count": 4,
     "metadata": {},
     "output_type": "execute_result"
    }
   ],
   "source": [
    "uber_2015.head(3)"
   ]
  },
  {
   "cell_type": "code",
   "execution_count": 5,
   "metadata": {
    "collapsed": true
   },
   "outputs": [],
   "source": [
    "zones = pd.read_csv(r\"C:\\Users\\piush\\Desktop\\Dataset\\UberData\\zones.csv\")"
   ]
  },
  {
   "cell_type": "code",
   "execution_count": 6,
   "metadata": {
    "collapsed": false
   },
   "outputs": [
    {
     "data": {
      "text/plain": [
       "Index(['location_id', 'borough', 'zone', 'service_zone', 'nta_code'], dtype='object')"
      ]
     },
     "execution_count": 6,
     "metadata": {},
     "output_type": "execute_result"
    }
   ],
   "source": [
    "zones.columns"
   ]
  },
  {
   "cell_type": "code",
   "execution_count": 7,
   "metadata": {
    "collapsed": true
   },
   "outputs": [],
   "source": [
    "zones.columns = ['pickup_location_id', 'borough', 'zone', 'service_zone', 'nta_code']"
   ]
  },
  {
   "cell_type": "code",
   "execution_count": 8,
   "metadata": {
    "collapsed": false
   },
   "outputs": [],
   "source": [
    "df_uber = pd.merge(uber_2015,zones, on='pickup_location_id', how='left')"
   ]
  },
  {
   "cell_type": "code",
   "execution_count": 9,
   "metadata": {
    "collapsed": false
   },
   "outputs": [],
   "source": [
    "temp = pd.DatetimeIndex(df_uber['pickup_datetime'])\n",
    "df_uber['Date'] = temp.date\n",
    "df_uber['Time'] = temp.time\n"
   ]
  },
  {
   "cell_type": "code",
   "execution_count": 10,
   "metadata": {
    "collapsed": false
   },
   "outputs": [],
   "source": [
    "del df_uber['pickup_datetime']"
   ]
  },
  {
   "cell_type": "code",
   "execution_count": 11,
   "metadata": {
    "collapsed": false
   },
   "outputs": [
    {
     "data": {
      "text/plain": [
       "Index(['pickup_location_id', 'dispatch_base', 'affiliate_base', 'borough',\n",
       "       'zone', 'service_zone', 'nta_code', 'Date', 'Time'],\n",
       "      dtype='object')"
      ]
     },
     "execution_count": 11,
     "metadata": {},
     "output_type": "execute_result"
    }
   ],
   "source": [
    "df_uber.columns"
   ]
  },
  {
   "cell_type": "code",
   "execution_count": 12,
   "metadata": {
    "collapsed": false
   },
   "outputs": [],
   "source": [
    "df_uber = df_uber[['Date', 'Time','pickup_location_id', 'dispatch_base', 'affiliate_base', 'borough',\n",
    "       'zone', 'service_zone', 'nta_code']]"
   ]
  },
  {
   "cell_type": "code",
   "execution_count": 13,
   "metadata": {
    "collapsed": false
   },
   "outputs": [],
   "source": [
    "# Set some parameters to get good visuals - style to ggplot and size to 15,10\n",
    "plt.style.use('ggplot')\n",
    "plt.rcParams['figure.figsize'] = (15, 10)"
   ]
  },
  {
   "cell_type": "code",
   "execution_count": 14,
   "metadata": {
    "collapsed": false
   },
   "outputs": [],
   "source": [
    "demographics = pd.read_csv(r\"C:\\Users\\piush\\Desktop\\Dataset\\UberData\\demographics.csv\")"
   ]
  },
  {
   "cell_type": "code",
   "execution_count": 15,
   "metadata": {
    "collapsed": false
   },
   "outputs": [],
   "source": [
    "df_zones_we = pd.merge(df_uber,demographics, on='nta_code', how='inner')"
   ]
  },
  {
   "cell_type": "code",
   "execution_count": 29,
   "metadata": {
    "collapsed": false
   },
   "outputs": [],
   "source": [
    "df_zones_we.to_csv(r\"C:\\Users\\piush\\Desktop\\Dataset\\UberData\\dataframe.csv\")"
   ]
  },
  {
   "cell_type": "code",
   "execution_count": 33,
   "metadata": {
    "collapsed": false
   },
   "outputs": [
    {
     "data": {
      "text/plain": [
       "array([141, 140, 202,  65,  25,  66, 100,  90, 234, 246,  68,  80, 228,\n",
       "         7,   8,  74, 249, 158, 113, 114,  22, 263, 262,  61, 229, 233,\n",
       "       164, 230, 162, 161, 186, 163, 237, 236, 142, 143, 188, 224, 238,\n",
       "       239, 151,  24, 242,  95,  96,  87,  88, 209, 261,  13,  12,  48,\n",
       "        50, 137, 170, 135, 145, 146, 193, 231, 125, 144, 211,  41,  42,\n",
       "       148,  79,   4, 147, 255, 256, 181, 106, 166, 174,  62,  75,  37,\n",
       "        33,  52,  17, 226,  28,  70, 235, 247, 244, 120,  89, 112,  36,\n",
       "        94,  20,  64, 153, 127, 128, 225,  69,  97,  29, 129, 107,  85,\n",
       "       179,  14,  82, 232,  45, 189, 149, 250,  55, 243, 196, 198,  76,\n",
       "        49,  34, 116, 216,  39, 169, 223, 227, 131, 182, 197, 108,  10,\n",
       "       184, 183,  58,  46, 203, 168, 123, 121, 195,  40,  54, 210, 150,\n",
       "        63, 157,  72,  18, 119, 260, 207,  67,  71, 219, 257, 251, 133,\n",
       "        92,  93,  56,  57, 258, 192, 220, 213, 248, 200, 126, 175,  32,\n",
       "        21, 152, 171, 218, 165,   3, 191,  16, 240, 241, 124,  53, 178,\n",
       "        73,  98, 118,  23, 180, 254,  27, 201,  30,  26, 212,  51, 222,\n",
       "       259, 245, 134, 155, 154, 130,   2, 102,   6,  81, 159, 252,  91,\n",
       "       185,  31, 173, 253,  15, 208, 205,   9, 167, 177,  35,  19,  60,\n",
       "        59, 160,  11, 217,  78,  77, 215, 101, 136, 139,  47,  83, 122,\n",
       "       214,  38, 117, 115,  86, 187, 221, 109, 110,   5, 206, 176, 156,\n",
       "       172, 204,  84,  44], dtype=int64)"
      ]
     },
     "execution_count": 33,
     "metadata": {},
     "output_type": "execute_result"
    }
   ],
   "source": [
    "df_zones_we.pickup_location_id.unique()"
   ]
  },
  {
   "cell_type": "markdown",
   "metadata": {
    "collapsed": false
   },
   "source": [
    "#### Exploring the columns with Permutation and Random Sampling\n",
    "To select a random subset without replacement, one way is to slice off the k elements of an array returned by permutation, where k is the desired subet size."
   ]
  },
  {
   "cell_type": "code",
   "execution_count": null,
   "metadata": {
    "collapsed": true
   },
   "outputs": [],
   "source": [
    "# Randomly sample 40% of your dataframe\n",
    "df = df_zones_we.sample(n = 1000)"
   ]
  },
  {
   "cell_type": "code",
   "execution_count": null,
   "metadata": {
    "collapsed": true
   },
   "outputs": [],
   "source": [
    "# http://pandas.pydata.org/pandas-docs/stable/generated/pandas.DataFrame.take.html\n",
    "df.take(sampler)"
   ]
  },
  {
   "cell_type": "code",
   "execution_count": null,
   "metadata": {
    "collapsed": true
   },
   "outputs": [],
   "source": []
  },
  {
   "cell_type": "code",
   "execution_count": null,
   "metadata": {
    "collapsed": true
   },
   "outputs": [],
   "source": []
  },
  {
   "cell_type": "code",
   "execution_count": null,
   "metadata": {
    "collapsed": true
   },
   "outputs": [],
   "source": []
  },
  {
   "cell_type": "code",
   "execution_count": 55,
   "metadata": {
    "collapsed": true
   },
   "outputs": [],
   "source": [
    "weather_2015 = weather_2015[[ 'Date','max_temp', 'min_temp', 'avg_temp', 'precipitation', 'snowfall',\n",
    "       'snow_depth', 'location', 'latitude', 'longitude']]"
   ]
  },
  {
   "cell_type": "code",
   "execution_count": 59,
   "metadata": {
    "collapsed": false
   },
   "outputs": [],
   "source": [
    "df_weather = df_uber.join(weather_2015, on= 'Date', how='left', lsuffix=\"Date\")"
   ]
  },
  {
   "cell_type": "code",
   "execution_count": 56,
   "metadata": {
    "collapsed": false
   },
   "outputs": [],
   "source": [
    "df_weather =  pd.merge(df_uber,weather_2015, on='Date', how='left')"
   ]
  },
  {
   "cell_type": "code",
   "execution_count": 61,
   "metadata": {
    "collapsed": false
   },
   "outputs": [
    {
     "data": {
      "text/plain": [
       "Index(['Date', 'Time', 'pickup_location_id', 'dispatch_base', 'affiliate_base',\n",
       "       'borough', 'zone', 'service_zone', 'nta_code'],\n",
       "      dtype='object')"
      ]
     },
     "execution_count": 61,
     "metadata": {},
     "output_type": "execute_result"
    }
   ],
   "source": [
    "df_uber.columns"
   ]
  },
  {
   "cell_type": "code",
   "execution_count": 63,
   "metadata": {
    "collapsed": false
   },
   "outputs": [
    {
     "data": {
      "text/plain": [
       "Date                  object\n",
       "Time                  object\n",
       "pickup_location_id     int64\n",
       "dispatch_base         object\n",
       "affiliate_base        object\n",
       "borough               object\n",
       "zone                  object\n",
       "service_zone          object\n",
       "nta_code              object\n",
       "dtype: object"
      ]
     },
     "execution_count": 63,
     "metadata": {},
     "output_type": "execute_result"
    }
   ],
   "source": [
    "df_uber.dtypes"
   ]
  },
  {
   "cell_type": "code",
   "execution_count": null,
   "metadata": {
    "collapsed": true
   },
   "outputs": [],
   "source": [
    "df_uber['Date'] = pd.to_datetime(df_uber['Date'])"
   ]
  },
  {
   "cell_type": "code",
   "execution_count": null,
   "metadata": {
    "collapsed": true
   },
   "outputs": [],
   "source": []
  }
 ],
 "metadata": {
  "anaconda-cloud": {},
  "kernelspec": {
   "display_name": "Python [conda root]",
   "language": "python",
   "name": "conda-root-py"
  },
  "language_info": {
   "codemirror_mode": {
    "name": "ipython",
    "version": 3
   },
   "file_extension": ".py",
   "mimetype": "text/x-python",
   "name": "python",
   "nbconvert_exporter": "python",
   "pygments_lexer": "ipython3",
   "version": "3.5.1"
  }
 },
 "nbformat": 4,
 "nbformat_minor": 1
}
