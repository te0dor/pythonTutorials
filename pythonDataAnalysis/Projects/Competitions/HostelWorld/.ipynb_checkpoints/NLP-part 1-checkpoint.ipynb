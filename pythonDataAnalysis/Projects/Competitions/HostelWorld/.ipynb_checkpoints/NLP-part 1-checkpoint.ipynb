{
 "cells": [
  {
   "cell_type": "code",
   "execution_count": 5,
   "metadata": {
    "collapsed": false
   },
   "outputs": [],
   "source": [
    "# Import the pandas package, then use the \"read_csv\" function to read\n",
    "# the labeled training data\n",
    "import numpy as np \n",
    "import pandas as pd \n",
    "import seaborn as sns\n",
    "import matplotlib.pyplot as plt\n",
    "%matplotlib inline\n",
    "\n",
    "import warnings\n",
    "%config InlineBackend.figure_format = 'png' #set 'png' here when working on notebook\n",
    "warnings.filterwarnings('ignore') \n",
    "train = pd.read_csv(r\"C:\\Users\\piush\\Desktop\\Dataset\\HostelWorld\\train_review_data.csv\")"
   ]
  },
  {
   "cell_type": "code",
   "execution_count": 3,
   "metadata": {
    "collapsed": false
   },
   "outputs": [
    {
     "name": "stdout",
     "output_type": "stream",
     "text": [
      "\n",
      "\n",
      "---------------------\n",
      "TRAIN SET INFORMATION\n",
      "---------------------\n",
      "Shape of training set: (901701, 7) \n",
      "\n",
      "Column Headers: ['customer_id', 'review_id', 'review_score', 'review_text', 'HostelNumber', 'review_date', 'review_language'] \n",
      "\n",
      "customer_id          int64\n",
      "review_id            int64\n",
      "review_score         int64\n",
      "review_text         object\n",
      "HostelNumber       float64\n",
      "review_date         object\n",
      "review_language     object\n",
      "dtype: object\n"
     ]
    }
   ],
   "source": [
    "print (\"\\n\\n---------------------\")\n",
    "print (\"TRAIN SET INFORMATION\")\n",
    "print (\"---------------------\")\n",
    "print (\"Shape of training set:\", train.shape, \"\\n\")\n",
    "print (\"Column Headers:\", list(train.columns.values), \"\\n\")\n",
    "print (train.dtypes)"
   ]
  },
  {
   "cell_type": "code",
   "execution_count": 6,
   "metadata": {
    "collapsed": false
   },
   "outputs": [
    {
     "name": "stdout",
     "output_type": "stream",
     "text": [
      "TRAINING SET INFORMATION\n",
      "========================\n",
      "\n",
      "'customer_id' has 192034 unique values\n",
      "~~Listing up to 10 unique values~~\n",
      "[  309693   459093   544693  1417693  1489693  5057093  5626893  6879893\n",
      " 10077293 12690493]\n",
      "\n",
      "-----------------------------------------------------------------------\n",
      "\n",
      "'review_id' has 901701 unique values\n",
      "~~Listing up to 10 unique values~~\n",
      "[6085536 6244624 6244607 6895146 5238648 5420976 5420965 5920613 5907925\n",
      " 6154930]\n",
      "\n",
      "-----------------------------------------------------------------------\n",
      "\n",
      "'review_score' has 36 unique values\n",
      "~~Listing up to 10 unique values~~\n",
      "[ 86  97  94  91  89 100  77  60  74  66]\n",
      "\n",
      "-----------------------------------------------------------------------\n",
      "\n",
      "'review_text' has 887416 unique values\n",
      "~~Listing up to 10 unique values~~\n",
      "[ 'the space in the rooms is not enough specially when 12 people are together breakfast was simple and didn t offer fruit or alternatives for those who like balanced food i was in edinburgh backpakers and everything was perfect for less money that s why i decided to go to backpakers in oxford but at the end i felt a little bit dissapointed'\n",
      " 'the wi fi doesn t work properly'\n",
      " 'beddings and pillows need to be replaced for new ones it is necessary to let the guests pay by card not only cash excellent staff specially the american girl and the peruvian guy'\n",
      " 'i had a few problems with the free unlimited wifi which was very slow kept telling me it was limited and dropping out when i was in the middle of things the staff did try to fix the problem for me and its possible that it had more to do with the location of the town than anything else'\n",
      " 'this is a very pleasant hostel the staff were very nice and the hostel clean the kitchen was large and reasonably well equipped but a garlic crusher would have been nice and some small oven dishes would be great overall this was a nice place to stay'\n",
      " 'clean friendly homey and specially welcoming after the place we d come from private rooms are lovely kitchen small but well equipped staff very friendly nice location in parnell auckland great place to stay'\n",
      " 'this was one of the nicest hostels i ve stayed at we booked for 2 in a private room there were 2 of us but there were four beds so the room would be great for a group of friends or family plenty of space ensuite bathroom tv nice deck area the kitchen dining lounge area on the floor below was well equipped and comfortable and the hostel was well located close to everything but not too noisy the price was a little higher than other hostel private rooms but definitely worth it'\n",
      " 'loved every minute of it great central location and staff couldn t have been nicer'\n",
      " 'excellent hostel bit remote up a poor road but when you get there its worth it clean efficient and friendly especially the cat'\n",
      " 'estuvimos este verano se encuentra bastante cerca de la estacia n central a 10 minutos a unos 40 minutos andando del duomo en transporte paºblico esta s en 15 minutos en cuanto al bed and breakfast calidad precio estupenda desayuno medio buffet que por lo que pagas esta bastante bien en nuestro caso la habitacia n era gigante el personal correcto lo unico malo que esta al lado de una carretera que por la noche es bastante ruidosa asi que recomendamos encarecidamente tapones']\n",
      "\n",
      "-----------------------------------------------------------------------\n",
      "\n",
      "'HostelNumber' has 27500 unique values\n",
      "~~Listing up to 10 unique values~~\n",
      "[  4815.  34160.  65881.  36020.  12168.  14275.  38731.  51787.  45631.\n",
      "  47916.]\n",
      "\n",
      "-----------------------------------------------------------------------\n",
      "\n",
      "'review_date' has 898002 unique values\n",
      "~~Listing up to 10 unique values~~\n",
      "['2014-01-10 15:34:36' '2014-04-21 20:32:25' '2014-04-21 20:18:44'\n",
      " '2015-01-09 07:26:36' '2013-01-18 03:52:21' '2013-04-22 10:26:01'\n",
      " '2013-04-22 10:17:05' '2013-10-07 16:16:19' '2013-10-02 06:52:25'\n",
      " '2014-02-25 18:32:21']\n",
      "\n",
      "-----------------------------------------------------------------------\n",
      "\n",
      "'review_language' has 23 unique values\n",
      "~~Listing up to 10 unique values~~\n",
      "['English' 'Spanish' 'Portuguese' 'French' 'German' 'Korean'\n",
      " 'Brazilian Portuguese' 'Italian' 'Chinese' 'Dutch']\n",
      "\n",
      "-----------------------------------------------------------------------\n",
      "\n",
      "\n",
      "~~~~~~~~~~~~~~~~~~~~~~~~~~~~~~~~~~~~~~~~~~~~~~~~~~~~~~~~~~~~~~~~~~~~~~~~~~~~~~~~~~~~~\n",
      "\n",
      "Features with missing values:\n",
      "['review_text has 1570 missing', 'HostelNumber has 23 missing', 'review_date has 23 missing', 'review_language has 23 missing']\n",
      "\n",
      "\n",
      "Features with non-numeric values:\n",
      "['review_text', 'review_date', 'review_language']\n",
      "\n",
      "~~~~~~~~~~~~~~~~~~~~~~~~~~~~~~~~~~~~~~~~~~~~~~~~~~~~~~~~~~~~~~~~~~~~~~~~~~~~~~~~~~~~~\n",
      "\n"
     ]
    }
   ],
   "source": [
    "import re\n",
    "missing_values = []\n",
    "nonumeric_values = []\n",
    "\n",
    "print (\"TRAINING SET INFORMATION\")\n",
    "print (\"========================\\n\")\n",
    "\n",
    "for column in train:\n",
    "    # Find all the unique feature values\n",
    "    uniq = train[column].unique()\n",
    "    print (\"'{}' has {} unique values\" .format(column,uniq.size))\n",
    "    if (uniq.size > 10):\n",
    "        print(\"~~Listing up to 10 unique values~~\")\n",
    "    print (uniq[0:10])\n",
    "    print (\"\\n-----------------------------------------------------------------------\\n\")\n",
    "    \n",
    "    # Find features with missing values\n",
    "    if (True in pd.isnull(uniq)):\n",
    "        s = \"{} has {} missing\" .format(column, pd.isnull(train[column]).sum())\n",
    "        missing_values.append(s)\n",
    "    \n",
    "    # Find features with non-numeric values\n",
    "    for i in range (1, np.prod(uniq.shape)):\n",
    "        if (re.match('nan', str(uniq[i]))):\n",
    "            break\n",
    "        if not (re.search('(^\\d+\\.?\\d*$)|(^\\d*\\.?\\d+$)', str(uniq[i]))):\n",
    "            nonumeric_values.append(column)\n",
    "            break\n",
    "  \n",
    "print (\"\\n~~~~~~~~~~~~~~~~~~~~~~~~~~~~~~~~~~~~~~~~~~~~~~~~~~~~~~~~~~~~~~~~~~~~~~~~~~~~~~~~~~~~~\\n\")\n",
    "print (\"Features with missing values:\\n{}\\n\\n\" .format(missing_values))\n",
    "print (\"Features with non-numeric values:\\n{}\" .format(nonumeric_values))\n",
    "print (\"\\n~~~~~~~~~~~~~~~~~~~~~~~~~~~~~~~~~~~~~~~~~~~~~~~~~~~~~~~~~~~~~~~~~~~~~~~~~~~~~~~~~~~~~\\n\")"
   ]
  },
  {
   "cell_type": "code",
   "execution_count": 13,
   "metadata": {
    "collapsed": false
   },
   "outputs": [],
   "source": [
    "#remove NaN values from train\n",
    "train = train[pd.notnull(train['HostelNumber'])]"
   ]
  },
  {
   "cell_type": "code",
   "execution_count": 14,
   "metadata": {
    "collapsed": false
   },
   "outputs": [
    {
     "data": {
      "text/html": [
       "<div>\n",
       "<table border=\"1\" class=\"dataframe\">\n",
       "  <thead>\n",
       "    <tr style=\"text-align: right;\">\n",
       "      <th></th>\n",
       "      <th>customer_id</th>\n",
       "      <th>review_id</th>\n",
       "      <th>review_score</th>\n",
       "      <th>review_text</th>\n",
       "      <th>HostelNumber</th>\n",
       "      <th>review_date</th>\n",
       "      <th>review_language</th>\n",
       "    </tr>\n",
       "  </thead>\n",
       "  <tbody>\n",
       "  </tbody>\n",
       "</table>\n",
       "</div>"
      ],
      "text/plain": [
       "Empty DataFrame\n",
       "Columns: [customer_id, review_id, review_score, review_text, HostelNumber, review_date, review_language]\n",
       "Index: []"
      ]
     },
     "execution_count": 14,
     "metadata": {},
     "output_type": "execute_result"
    }
   ],
   "source": [
    "train[(train['review_text'].isnull())]"
   ]
  },
  {
   "cell_type": "code",
   "execution_count": 15,
   "metadata": {
    "collapsed": false
   },
   "outputs": [
    {
     "data": {
      "text/html": [
       "<div>\n",
       "<table border=\"1\" class=\"dataframe\">\n",
       "  <thead>\n",
       "    <tr style=\"text-align: right;\">\n",
       "      <th></th>\n",
       "      <th>customer_id</th>\n",
       "      <th>review_id</th>\n",
       "      <th>review_score</th>\n",
       "      <th>review_text</th>\n",
       "      <th>HostelNumber</th>\n",
       "      <th>review_date</th>\n",
       "      <th>review_language</th>\n",
       "    </tr>\n",
       "  </thead>\n",
       "  <tbody>\n",
       "  </tbody>\n",
       "</table>\n",
       "</div>"
      ],
      "text/plain": [
       "Empty DataFrame\n",
       "Columns: [customer_id, review_id, review_score, review_text, HostelNumber, review_date, review_language]\n",
       "Index: []"
      ]
     },
     "execution_count": 15,
     "metadata": {},
     "output_type": "execute_result"
    }
   ],
   "source": [
    "train.head()"
   ]
  },
  {
   "cell_type": "code",
   "execution_count": null,
   "metadata": {
    "collapsed": true
   },
   "outputs": [],
   "source": []
  }
 ],
 "metadata": {
  "anaconda-cloud": {},
  "kernelspec": {
   "display_name": "Python [default]",
   "language": "python",
   "name": "python3"
  },
  "language_info": {
   "codemirror_mode": {
    "name": "ipython",
    "version": 3
   },
   "file_extension": ".py",
   "mimetype": "text/x-python",
   "name": "python",
   "nbconvert_exporter": "python",
   "pygments_lexer": "ipython3",
   "version": "3.5.1"
  }
 },
 "nbformat": 4,
 "nbformat_minor": 1
}
