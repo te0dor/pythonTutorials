{
 "cells": [
  {
   "cell_type": "markdown",
   "metadata": {},
   "source": [
    "In this competition, you are going to predict the demographics of a user (gender and age) based on their app download and usage behaviors. \n",
    "\n",
    "Submissions are evaluated using the multi-class logarithmic loss. Each device has been labeled with one true class. For each device, you must submit a set of predicted probabilities (one for each class). \n",
    "\n",
    "<b>File descriptions</b>\n",
    "* gender_age_train.csv, gender_age_test.csv - the training and test set\n",
    "    * group: this is the target variable you are going to predict\n",
    "* events.csv, app_events.csv - when a user uses TalkingData SDK, the event gets logged in this data. Each event has an event id, * location (lat/long), and the event corresponds to a list of apps in app_events.\n",
    "* timestamp: when the user is using an app with TalkingData SDK\n",
    "* app_labels.csv - apps and their labels, the label_id's can be used to join with label_categories\n",
    "* label_categories.csv - apps' labels and their categories in text\n",
    "* phone_brand_device_model.csv - device ids, brand, and models\n",
    "    * phone_brand: note that the brands are in Chinese "
   ]
  },
  {
   "cell_type": "code",
   "execution_count": 1,
   "metadata": {
    "collapsed": true
   },
   "outputs": [],
   "source": [
    "import pandas as pd\n",
    "import numpy as np\n",
    "%matplotlib inline\n",
    "import seaborn as sns\n",
    "import matplotlib.pyplot as plt\n",
    "import os\n",
    "from sklearn.preprocessing import LabelEncoder\n",
    "from scipy.sparse import csr_matrix, hstack\n",
    "from sklearn.linear_model import LogisticRegression\n",
    "from sklearn.cross_validation import StratifiedKFold\n",
    "from sklearn.metrics import log_loss"
   ]
  },
  {
   "cell_type": "markdown",
   "metadata": {},
   "source": [
    "## Load data"
   ]
  },
  {
   "cell_type": "code",
   "execution_count": null,
   "metadata": {
    "collapsed": true
   },
   "outputs": [],
   "source": []
  }
 ],
 "metadata": {
  "kernelspec": {
   "display_name": "Python 3",
   "language": "python",
   "name": "python3"
  },
  "language_info": {
   "codemirror_mode": {
    "name": "ipython",
    "version": 3
   },
   "file_extension": ".py",
   "mimetype": "text/x-python",
   "name": "python",
   "nbconvert_exporter": "python",
   "pygments_lexer": "ipython3",
   "version": "3.5.1"
  }
 },
 "nbformat": 4,
 "nbformat_minor": 0
}
