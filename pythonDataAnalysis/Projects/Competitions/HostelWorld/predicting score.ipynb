{
 "cells": [
  {
   "cell_type": "code",
   "execution_count": 1,
   "metadata": {
    "collapsed": true
   },
   "outputs": [],
   "source": [
    "# Import the pandas package, then use the \"read_csv\" function to read\n",
    "# the labeled training data\n",
    "import numpy as np \n",
    "import pandas as pd \n",
    "import seaborn as sns\n",
    "import matplotlib.pyplot as plt\n",
    "%matplotlib inline\n",
    "\n",
    "import warnings\n",
    "%config InlineBackend.figure_format = 'png' #set 'png' here when working on notebook\n",
    "warnings.filterwarnings('ignore') "
   ]
  },
  {
   "cell_type": "code",
   "execution_count": 2,
   "metadata": {
    "collapsed": false
   },
   "outputs": [],
   "source": [
    "train = pd.read_csv(r\"C:\\Users\\piush\\Desktop\\Dataset\\HostelWorld\\train_review_data.csv\")\n",
    "customer = pd.read_csv(r\"C:\\Users\\piush\\Desktop\\Dataset\\HostelWorld\\customer_data.csv\")\n",
    "hostel = pd.read_csv(r\"C:\\Users\\piush\\Desktop\\Dataset\\HostelWorld\\hostel_data.csv\")\n",
    "review = pd.read_csv(r\"C:\\Users\\piush\\Desktop\\Dataset\\HostelWorld\\Review_data.csv\",header = None)\n",
    "test = pd.read_csv(r\"C:\\Users\\piush\\Desktop\\Dataset\\HostelWorld\\test_review_data.csv\")\n",
    "user = pd.read_csv(r\"C:\\Users\\piush\\Desktop\\Dataset\\HostelWorld\\user_data.csv\",header = None)"
   ]
  },
  {
   "cell_type": "code",
   "execution_count": 3,
   "metadata": {
    "collapsed": false
   },
   "outputs": [
    {
     "data": {
      "text/html": [
       "<div>\n",
       "<table border=\"1\" class=\"dataframe\">\n",
       "  <thead>\n",
       "    <tr style=\"text-align: right;\">\n",
       "      <th></th>\n",
       "      <th>customer_id</th>\n",
       "      <th>review_id</th>\n",
       "      <th>review_score</th>\n",
       "      <th>review_text</th>\n",
       "      <th>HostelNumber</th>\n",
       "      <th>review_date</th>\n",
       "      <th>review_language</th>\n",
       "    </tr>\n",
       "  </thead>\n",
       "  <tbody>\n",
       "    <tr>\n",
       "      <th>0</th>\n",
       "      <td>309693</td>\n",
       "      <td>6085536</td>\n",
       "      <td>86</td>\n",
       "      <td>the space in the rooms is not enough specially...</td>\n",
       "      <td>4815.0</td>\n",
       "      <td>2014-01-10 15:34:36</td>\n",
       "      <td>English</td>\n",
       "    </tr>\n",
       "    <tr>\n",
       "      <th>1</th>\n",
       "      <td>309693</td>\n",
       "      <td>6244624</td>\n",
       "      <td>97</td>\n",
       "      <td>the wi fi doesn t work properly</td>\n",
       "      <td>34160.0</td>\n",
       "      <td>2014-04-21 20:32:25</td>\n",
       "      <td>English</td>\n",
       "    </tr>\n",
       "  </tbody>\n",
       "</table>\n",
       "</div>"
      ],
      "text/plain": [
       "   customer_id  review_id  review_score  \\\n",
       "0       309693    6085536            86   \n",
       "1       309693    6244624            97   \n",
       "\n",
       "                                         review_text  HostelNumber  \\\n",
       "0  the space in the rooms is not enough specially...        4815.0   \n",
       "1                    the wi fi doesn t work properly       34160.0   \n",
       "\n",
       "           review_date review_language  \n",
       "0  2014-01-10 15:34:36         English  \n",
       "1  2014-04-21 20:32:25         English  "
      ]
     },
     "execution_count": 3,
     "metadata": {},
     "output_type": "execute_result"
    }
   ],
   "source": [
    "train.head(2)"
   ]
  },
  {
   "cell_type": "code",
   "execution_count": 4,
   "metadata": {
    "collapsed": false
   },
   "outputs": [
    {
     "data": {
      "text/html": [
       "<div>\n",
       "<table border=\"1\" class=\"dataframe\">\n",
       "  <thead>\n",
       "    <tr style=\"text-align: right;\">\n",
       "      <th></th>\n",
       "      <th>nationality</th>\n",
       "      <th>age</th>\n",
       "      <th>gender</th>\n",
       "      <th>customer_id</th>\n",
       "    </tr>\n",
       "  </thead>\n",
       "  <tbody>\n",
       "    <tr>\n",
       "      <th>0</th>\n",
       "      <td>France</td>\n",
       "      <td>NaN</td>\n",
       "      <td>Male</td>\n",
       "      <td>71775112</td>\n",
       "    </tr>\n",
       "    <tr>\n",
       "      <th>1</th>\n",
       "      <td>NaN</td>\n",
       "      <td>NaN</td>\n",
       "      <td>Female</td>\n",
       "      <td>17236506</td>\n",
       "    </tr>\n",
       "  </tbody>\n",
       "</table>\n",
       "</div>"
      ],
      "text/plain": [
       "  nationality  age  gender  customer_id\n",
       "0      France  NaN    Male     71775112\n",
       "1         NaN  NaN  Female     17236506"
      ]
     },
     "execution_count": 4,
     "metadata": {},
     "output_type": "execute_result"
    }
   ],
   "source": [
    "customer.head(2)"
   ]
  },
  {
   "cell_type": "code",
   "execution_count": 5,
   "metadata": {
    "collapsed": false
   },
   "outputs": [
    {
     "data": {
      "text/html": [
       "<div>\n",
       "<table border=\"1\" class=\"dataframe\">\n",
       "  <thead>\n",
       "    <tr style=\"text-align: right;\">\n",
       "      <th></th>\n",
       "      <th>HostelNumber</th>\n",
       "      <th>num_reviews</th>\n",
       "      <th>description</th>\n",
       "      <th>score</th>\n",
       "      <th>features</th>\n",
       "      <th>policies</th>\n",
       "    </tr>\n",
       "  </thead>\n",
       "  <tbody>\n",
       "    <tr>\n",
       "      <th>0</th>\n",
       "      <td>17</td>\n",
       "      <td>2289</td>\n",
       "      <td>Home Youth Hostel Valencia by Feetup Hostels o...</td>\n",
       "      <td>92</td>\n",
       "      <td>24 Hour Reception|Adaptors|Air Conditioning|Bi...</td>\n",
       "      <td>Credit Cards Accepted|No Curfew|Non Smoking</td>\n",
       "    </tr>\n",
       "    <tr>\n",
       "      <th>1</th>\n",
       "      <td>19</td>\n",
       "      <td>153</td>\n",
       "      <td>Hostal Marlasca is just in the heart of Madrid...</td>\n",
       "      <td>90</td>\n",
       "      <td>24 Hour Reception|Air Conditioning|Airport Tra...</td>\n",
       "      <td>Credit Cards Accepted|No Curfew</td>\n",
       "    </tr>\n",
       "  </tbody>\n",
       "</table>\n",
       "</div>"
      ],
      "text/plain": [
       "   HostelNumber  num_reviews  \\\n",
       "0            17         2289   \n",
       "1            19          153   \n",
       "\n",
       "                                         description  score  \\\n",
       "0  Home Youth Hostel Valencia by Feetup Hostels o...     92   \n",
       "1  Hostal Marlasca is just in the heart of Madrid...     90   \n",
       "\n",
       "                                            features  \\\n",
       "0  24 Hour Reception|Adaptors|Air Conditioning|Bi...   \n",
       "1  24 Hour Reception|Air Conditioning|Airport Tra...   \n",
       "\n",
       "                                      policies  \n",
       "0  Credit Cards Accepted|No Curfew|Non Smoking  \n",
       "1              Credit Cards Accepted|No Curfew  "
      ]
     },
     "execution_count": 5,
     "metadata": {},
     "output_type": "execute_result"
    }
   ],
   "source": [
    "hostel.columns = ['HostelNumber', 'num_reviews','description','score','features','policies']\n",
    "hostel.head(2)\n"
   ]
  },
  {
   "cell_type": "code",
   "execution_count": 6,
   "metadata": {
    "collapsed": false
   },
   "outputs": [
    {
     "data": {
      "text/html": [
       "<div>\n",
       "<table border=\"1\" class=\"dataframe\">\n",
       "  <thead>\n",
       "    <tr style=\"text-align: right;\">\n",
       "      <th></th>\n",
       "      <th>0</th>\n",
       "      <th>1</th>\n",
       "      <th>2</th>\n",
       "      <th>3</th>\n",
       "      <th>4</th>\n",
       "      <th>5</th>\n",
       "    </tr>\n",
       "  </thead>\n",
       "  <tbody>\n",
       "    <tr>\n",
       "      <th>0</th>\n",
       "      <td>10983165</td>\n",
       "      <td>4344334</td>\n",
       "      <td>there is not 24 reception staff was not always...</td>\n",
       "      <td>28642.0</td>\n",
       "      <td>2011-12-26 19:46:14</td>\n",
       "      <td>English</td>\n",
       "    </tr>\n",
       "    <tr>\n",
       "      <th>1</th>\n",
       "      <td>11138493</td>\n",
       "      <td>4350334</td>\n",
       "      <td>i booked a private double room but i totally d...</td>\n",
       "      <td>36596.0</td>\n",
       "      <td>2011-12-31 05:51:19</td>\n",
       "      <td>English</td>\n",
       "    </tr>\n",
       "  </tbody>\n",
       "</table>\n",
       "</div>"
      ],
      "text/plain": [
       "          0        1                                                  2  \\\n",
       "0  10983165  4344334  there is not 24 reception staff was not always...   \n",
       "1  11138493  4350334  i booked a private double room but i totally d...   \n",
       "\n",
       "         3                    4        5  \n",
       "0  28642.0  2011-12-26 19:46:14  English  \n",
       "1  36596.0  2011-12-31 05:51:19  English  "
      ]
     },
     "execution_count": 6,
     "metadata": {},
     "output_type": "execute_result"
    }
   ],
   "source": [
    "review.head(2)"
   ]
  },
  {
   "cell_type": "code",
   "execution_count": 7,
   "metadata": {
    "collapsed": false
   },
   "outputs": [
    {
     "data": {
      "text/html": [
       "<div>\n",
       "<table border=\"1\" class=\"dataframe\">\n",
       "  <thead>\n",
       "    <tr style=\"text-align: right;\">\n",
       "      <th></th>\n",
       "      <th>customer_id</th>\n",
       "      <th>review_id</th>\n",
       "      <th>review_text</th>\n",
       "      <th>HostelNumber</th>\n",
       "      <th>review_date</th>\n",
       "      <th>review_language</th>\n",
       "    </tr>\n",
       "  </thead>\n",
       "  <tbody>\n",
       "    <tr>\n",
       "      <th>0</th>\n",
       "      <td>331154</td>\n",
       "      <td>5642315</td>\n",
       "      <td>nice hostel well priced and very well located ...</td>\n",
       "      <td>2332</td>\n",
       "      <td>2013-07-14 13:16:38</td>\n",
       "      <td>English</td>\n",
       "    </tr>\n",
       "    <tr>\n",
       "      <th>1</th>\n",
       "      <td>1145354</td>\n",
       "      <td>8537815</td>\n",
       "      <td>i had a wonderful stay at this hostel the staf...</td>\n",
       "      <td>79412</td>\n",
       "      <td>2016-01-16 03:54:46</td>\n",
       "      <td>English</td>\n",
       "    </tr>\n",
       "  </tbody>\n",
       "</table>\n",
       "</div>"
      ],
      "text/plain": [
       "   customer_id  review_id                                        review_text  \\\n",
       "0       331154    5642315  nice hostel well priced and very well located ...   \n",
       "1      1145354    8537815  i had a wonderful stay at this hostel the staf...   \n",
       "\n",
       "   HostelNumber          review_date review_language  \n",
       "0          2332  2013-07-14 13:16:38         English  \n",
       "1         79412  2016-01-16 03:54:46         English  "
      ]
     },
     "execution_count": 7,
     "metadata": {},
     "output_type": "execute_result"
    }
   ],
   "source": [
    "test.head(2)"
   ]
  },
  {
   "cell_type": "code",
   "execution_count": 8,
   "metadata": {
    "collapsed": false
   },
   "outputs": [
    {
     "data": {
      "text/html": [
       "<div>\n",
       "<table border=\"1\" class=\"dataframe\">\n",
       "  <thead>\n",
       "    <tr style=\"text-align: right;\">\n",
       "      <th></th>\n",
       "      <th>0</th>\n",
       "      <th>1</th>\n",
       "      <th>2</th>\n",
       "      <th>3</th>\n",
       "    </tr>\n",
       "  </thead>\n",
       "  <tbody>\n",
       "    <tr>\n",
       "      <th>0</th>\n",
       "      <td>18131165</td>\n",
       "      <td>NaN</td>\n",
       "      <td>NaN</td>\n",
       "      <td>Male</td>\n",
       "    </tr>\n",
       "    <tr>\n",
       "      <th>1</th>\n",
       "      <td>15169619</td>\n",
       "      <td>NaN</td>\n",
       "      <td>NaN</td>\n",
       "      <td>Male</td>\n",
       "    </tr>\n",
       "  </tbody>\n",
       "</table>\n",
       "</div>"
      ],
      "text/plain": [
       "          0    1   2     3\n",
       "0  18131165  NaN NaN  Male\n",
       "1  15169619  NaN NaN  Male"
      ]
     },
     "execution_count": 8,
     "metadata": {},
     "output_type": "execute_result"
    }
   ],
   "source": [
    "user.head(2)"
   ]
  },
  {
   "cell_type": "code",
   "execution_count": 10,
   "metadata": {
    "collapsed": false
   },
   "outputs": [
    {
     "data": {
      "text/html": [
       "<div>\n",
       "<table border=\"1\" class=\"dataframe\">\n",
       "  <thead>\n",
       "    <tr style=\"text-align: right;\">\n",
       "      <th></th>\n",
       "      <th>customer_id</th>\n",
       "      <th>review_id</th>\n",
       "      <th>review_score</th>\n",
       "      <th>review_text</th>\n",
       "      <th>HostelNumber</th>\n",
       "      <th>review_date</th>\n",
       "      <th>review_language</th>\n",
       "      <th>nationality</th>\n",
       "      <th>age</th>\n",
       "      <th>gender</th>\n",
       "    </tr>\n",
       "  </thead>\n",
       "  <tbody>\n",
       "    <tr>\n",
       "      <th>0</th>\n",
       "      <td>309693</td>\n",
       "      <td>6085536</td>\n",
       "      <td>86</td>\n",
       "      <td>the space in the rooms is not enough specially...</td>\n",
       "      <td>4815.0</td>\n",
       "      <td>2014-01-10 15:34:36</td>\n",
       "      <td>English</td>\n",
       "      <td>NaN</td>\n",
       "      <td>NaN</td>\n",
       "      <td>Female</td>\n",
       "    </tr>\n",
       "    <tr>\n",
       "      <th>1</th>\n",
       "      <td>309693</td>\n",
       "      <td>6244624</td>\n",
       "      <td>97</td>\n",
       "      <td>the wi fi doesn t work properly</td>\n",
       "      <td>34160.0</td>\n",
       "      <td>2014-04-21 20:32:25</td>\n",
       "      <td>English</td>\n",
       "      <td>NaN</td>\n",
       "      <td>NaN</td>\n",
       "      <td>Female</td>\n",
       "    </tr>\n",
       "  </tbody>\n",
       "</table>\n",
       "</div>"
      ],
      "text/plain": [
       "   customer_id  review_id  review_score  \\\n",
       "0       309693    6085536            86   \n",
       "1       309693    6244624            97   \n",
       "\n",
       "                                         review_text  HostelNumber  \\\n",
       "0  the space in the rooms is not enough specially...        4815.0   \n",
       "1                    the wi fi doesn t work properly       34160.0   \n",
       "\n",
       "           review_date review_language nationality  age  gender  \n",
       "0  2014-01-10 15:34:36         English         NaN  NaN  Female  \n",
       "1  2014-04-21 20:32:25         English         NaN  NaN  Female  "
      ]
     },
     "execution_count": 10,
     "metadata": {},
     "output_type": "execute_result"
    }
   ],
   "source": [
    "df1 = pd.merge(train, customer, on='customer_id')\n",
    "df1.head(2)"
   ]
  },
  {
   "cell_type": "code",
   "execution_count": 12,
   "metadata": {
    "collapsed": false
   },
   "outputs": [
    {
     "data": {
      "text/html": [
       "<div>\n",
       "<table border=\"1\" class=\"dataframe\">\n",
       "  <thead>\n",
       "    <tr style=\"text-align: right;\">\n",
       "      <th></th>\n",
       "      <th>customer_id</th>\n",
       "      <th>review_id</th>\n",
       "      <th>review_score</th>\n",
       "      <th>review_text</th>\n",
       "      <th>HostelNumber</th>\n",
       "      <th>review_date</th>\n",
       "      <th>review_language</th>\n",
       "      <th>nationality</th>\n",
       "      <th>age</th>\n",
       "      <th>gender</th>\n",
       "      <th>num_reviews</th>\n",
       "      <th>description</th>\n",
       "      <th>score</th>\n",
       "      <th>features</th>\n",
       "      <th>policies</th>\n",
       "    </tr>\n",
       "  </thead>\n",
       "  <tbody>\n",
       "    <tr>\n",
       "      <th>0</th>\n",
       "      <td>309693</td>\n",
       "      <td>6085536</td>\n",
       "      <td>86</td>\n",
       "      <td>the space in the rooms is not enough specially...</td>\n",
       "      <td>4815.0</td>\n",
       "      <td>2014-01-10 15:34:36</td>\n",
       "      <td>English</td>\n",
       "      <td>NaN</td>\n",
       "      <td>NaN</td>\n",
       "      <td>Female</td>\n",
       "      <td>2065</td>\n",
       "      <td>Travelling alone? Do you like to meet other pe...</td>\n",
       "      <td>75</td>\n",
       "      <td>24 Hour Security|Bar|Book Exchange|Free Breakf...</td>\n",
       "      <td>Age Restriction|Credit Cards Accepted|No Curfe...</td>\n",
       "    </tr>\n",
       "    <tr>\n",
       "      <th>1</th>\n",
       "      <td>280960893</td>\n",
       "      <td>5054486</td>\n",
       "      <td>71</td>\n",
       "      <td>good location for train and city centre could ...</td>\n",
       "      <td>4815.0</td>\n",
       "      <td>2012-10-19 13:19:47</td>\n",
       "      <td>English</td>\n",
       "      <td>NaN</td>\n",
       "      <td>NaN</td>\n",
       "      <td>Female</td>\n",
       "      <td>2065</td>\n",
       "      <td>Travelling alone? Do you like to meet other pe...</td>\n",
       "      <td>75</td>\n",
       "      <td>24 Hour Security|Bar|Book Exchange|Free Breakf...</td>\n",
       "      <td>Age Restriction|Credit Cards Accepted|No Curfe...</td>\n",
       "    </tr>\n",
       "  </tbody>\n",
       "</table>\n",
       "</div>"
      ],
      "text/plain": [
       "   customer_id  review_id  review_score  \\\n",
       "0       309693    6085536            86   \n",
       "1    280960893    5054486            71   \n",
       "\n",
       "                                         review_text  HostelNumber  \\\n",
       "0  the space in the rooms is not enough specially...        4815.0   \n",
       "1  good location for train and city centre could ...        4815.0   \n",
       "\n",
       "           review_date review_language nationality  age  gender  num_reviews  \\\n",
       "0  2014-01-10 15:34:36         English         NaN  NaN  Female         2065   \n",
       "1  2012-10-19 13:19:47         English         NaN  NaN  Female         2065   \n",
       "\n",
       "                                         description  score  \\\n",
       "0  Travelling alone? Do you like to meet other pe...     75   \n",
       "1  Travelling alone? Do you like to meet other pe...     75   \n",
       "\n",
       "                                            features  \\\n",
       "0  24 Hour Security|Bar|Book Exchange|Free Breakf...   \n",
       "1  24 Hour Security|Bar|Book Exchange|Free Breakf...   \n",
       "\n",
       "                                            policies  \n",
       "0  Age Restriction|Credit Cards Accepted|No Curfe...  \n",
       "1  Age Restriction|Credit Cards Accepted|No Curfe...  "
      ]
     },
     "execution_count": 12,
     "metadata": {},
     "output_type": "execute_result"
    }
   ],
   "source": [
    "df2 = pd.merge(df1, hostel, on='HostelNumber')\n",
    "df2.head(2)"
   ]
  },
  {
   "cell_type": "code",
   "execution_count": 13,
   "metadata": {
    "collapsed": false
   },
   "outputs": [],
   "source": [
    "df3 = df2[['customer_id','review_id','review_score','HostelNumber','review_date','review_language','nationality','age','gender','num_reviews','score']]"
   ]
  },
  {
   "cell_type": "code",
   "execution_count": 14,
   "metadata": {
    "collapsed": false
   },
   "outputs": [
    {
     "data": {
      "text/html": [
       "<div>\n",
       "<table border=\"1\" class=\"dataframe\">\n",
       "  <thead>\n",
       "    <tr style=\"text-align: right;\">\n",
       "      <th></th>\n",
       "      <th>customer_id</th>\n",
       "      <th>review_id</th>\n",
       "      <th>review_score</th>\n",
       "      <th>HostelNumber</th>\n",
       "      <th>review_date</th>\n",
       "      <th>review_language</th>\n",
       "      <th>nationality</th>\n",
       "      <th>age</th>\n",
       "      <th>gender</th>\n",
       "      <th>num_reviews</th>\n",
       "      <th>score</th>\n",
       "    </tr>\n",
       "  </thead>\n",
       "  <tbody>\n",
       "    <tr>\n",
       "      <th>0</th>\n",
       "      <td>309693</td>\n",
       "      <td>6085536</td>\n",
       "      <td>86</td>\n",
       "      <td>4815.0</td>\n",
       "      <td>2014-01-10 15:34:36</td>\n",
       "      <td>English</td>\n",
       "      <td>NaN</td>\n",
       "      <td>NaN</td>\n",
       "      <td>Female</td>\n",
       "      <td>2065</td>\n",
       "      <td>75</td>\n",
       "    </tr>\n",
       "    <tr>\n",
       "      <th>1</th>\n",
       "      <td>280960893</td>\n",
       "      <td>5054486</td>\n",
       "      <td>71</td>\n",
       "      <td>4815.0</td>\n",
       "      <td>2012-10-19 13:19:47</td>\n",
       "      <td>English</td>\n",
       "      <td>NaN</td>\n",
       "      <td>NaN</td>\n",
       "      <td>Female</td>\n",
       "      <td>2065</td>\n",
       "      <td>75</td>\n",
       "    </tr>\n",
       "  </tbody>\n",
       "</table>\n",
       "</div>"
      ],
      "text/plain": [
       "   customer_id  review_id  review_score  HostelNumber          review_date  \\\n",
       "0       309693    6085536            86        4815.0  2014-01-10 15:34:36   \n",
       "1    280960893    5054486            71        4815.0  2012-10-19 13:19:47   \n",
       "\n",
       "  review_language nationality  age  gender  num_reviews  score  \n",
       "0         English         NaN  NaN  Female         2065     75  \n",
       "1         English         NaN  NaN  Female         2065     75  "
      ]
     },
     "execution_count": 14,
     "metadata": {},
     "output_type": "execute_result"
    }
   ],
   "source": [
    "df3.head(2)"
   ]
  },
  {
   "cell_type": "code",
   "execution_count": 15,
   "metadata": {
    "collapsed": true
   },
   "outputs": [],
   "source": [
    "test1 = test[['customer_id','review_id','HostelNumber','review_date','review_language']]"
   ]
  },
  {
   "cell_type": "code",
   "execution_count": 13,
   "metadata": {
    "collapsed": false
   },
   "outputs": [
    {
     "name": "stdout",
     "output_type": "stream",
     "text": [
      "\n",
      "\n",
      "---------------------\n",
      "TRAIN SET INFORMATION\n",
      "---------------------\n",
      "Shape of training set: (780462, 11) \n",
      "\n",
      "Column Headers: ['customer_id', 'review_id', 'review_score', 'HostelNumber', 'review_date', 'review_language', 'nationality', 'age', 'gender', 'num_reviews', 'score'] \n",
      "\n",
      "customer_id          int64\n",
      "review_id            int64\n",
      "review_score         int64\n",
      "HostelNumber       float64\n",
      "review_date         object\n",
      "review_language     object\n",
      "nationality         object\n",
      "age                float64\n",
      "gender              object\n",
      "num_reviews          int64\n",
      "score                int64\n",
      "dtype: object\n"
     ]
    }
   ],
   "source": [
    "print (\"\\n\\n---------------------\")\n",
    "print (\"TRAIN SET INFORMATION\")\n",
    "print (\"---------------------\")\n",
    "print (\"Shape of training set:\", df3.shape, \"\\n\")\n",
    "print (\"Column Headers:\", list(df3.columns.values), \"\\n\")\n",
    "print (df3.dtypes)"
   ]
  },
  {
   "cell_type": "code",
   "execution_count": 14,
   "metadata": {
    "collapsed": false
   },
   "outputs": [
    {
     "name": "stdout",
     "output_type": "stream",
     "text": [
      "TRAINING SET INFORMATION\n",
      "========================\n",
      "\n",
      "'customer_id' has 189618 unique values\n",
      "~~Listing up to 10 unique values~~\n",
      "[   309693 280960893 863260093 870460375 995749975 254134337 580047937\n",
      " 933369737 271142761 505685828]\n",
      "\n",
      "-----------------------------------------------------------------------\n",
      "\n",
      "'review_id' has 780462 unique values\n",
      "~~Listing up to 10 unique values~~\n",
      "[6085536 5054486 7186405 5517212 4903533 5158940 7395438 5529226 6424458\n",
      " 6677691]\n",
      "\n",
      "-----------------------------------------------------------------------\n",
      "\n",
      "'review_score' has 36 unique values\n",
      "~~Listing up to 10 unique values~~\n",
      "[ 86  71  80  91  66  83  74 100  77  94]\n",
      "\n",
      "-----------------------------------------------------------------------\n",
      "\n",
      "'HostelNumber' has 18788 unique values\n",
      "~~Listing up to 10 unique values~~\n",
      "[  4815.  34160.  65881.  36020.  12168.  14275.  38731.  51787.  45631.\n",
      "  47916.]\n",
      "\n",
      "-----------------------------------------------------------------------\n",
      "\n",
      "'review_date' has 777640 unique values\n",
      "~~Listing up to 10 unique values~~\n",
      "['2014-01-10 15:34:36' '2012-10-19 13:19:47' '2015-05-18 14:57:40'\n",
      " '2013-05-29 15:31:52' '2012-08-28 09:56:51' '2012-12-06 22:55:49'\n",
      " '2015-07-26 05:20:08' '2013-06-03 14:33:40' '2014-07-02 07:16:35'\n",
      " '2014-09-25 09:14:59']\n",
      "\n",
      "-----------------------------------------------------------------------\n",
      "\n",
      "'review_language' has 22 unique values\n",
      "~~Listing up to 10 unique values~~\n",
      "['English' 'Spanish' 'German' 'French' 'Chinese' 'Dutch' 'Polish'\n",
      " 'Brazilian Portuguese' 'Korean' 'Italian']\n",
      "\n",
      "-----------------------------------------------------------------------\n",
      "\n",
      "'nationality' has 254 unique values\n",
      "~~Listing up to 10 unique values~~\n",
      "[nan 'Germany' 'Turkey' 'USA' 'Chile' 'India' 'Australia' 'Argentina'\n",
      " 'Canada' 'England']\n",
      "\n",
      "-----------------------------------------------------------------------\n",
      "\n",
      "'age' has 89 unique values\n",
      "~~Listing up to 10 unique values~~\n",
      "[ nan  23.  31.  27.  28.  22.  29.  24.  41.  21.]\n",
      "\n",
      "-----------------------------------------------------------------------\n",
      "\n",
      "'gender' has 3 unique values\n",
      "['Female' 'Male' nan]\n",
      "\n",
      "-----------------------------------------------------------------------\n",
      "\n",
      "'num_reviews' has 1530 unique values\n",
      "~~Listing up to 10 unique values~~\n",
      "[2065 2546 1193  261  335  560  125  235   60  291]\n",
      "\n",
      "-----------------------------------------------------------------------\n",
      "\n",
      "'score' has 77 unique values\n",
      "~~Listing up to 10 unique values~~\n",
      "[75 90 85 91 78 93 80 99 72 88]\n",
      "\n",
      "-----------------------------------------------------------------------\n",
      "\n",
      "\n",
      "~~~~~~~~~~~~~~~~~~~~~~~~~~~~~~~~~~~~~~~~~~~~~~~~~~~~~~~~~~~~~~~~~~~~~~~~~~~~~~~~~~~~~\n",
      "\n",
      "Features with missing values:\n",
      "['nationality has 462082 missing', 'age has 494176 missing', 'gender has 138883 missing']\n",
      "\n",
      "\n",
      "Features with non-numeric values:\n",
      "['review_date', 'review_language', 'nationality', 'gender']\n",
      "\n",
      "~~~~~~~~~~~~~~~~~~~~~~~~~~~~~~~~~~~~~~~~~~~~~~~~~~~~~~~~~~~~~~~~~~~~~~~~~~~~~~~~~~~~~\n",
      "\n"
     ]
    }
   ],
   "source": [
    "import re\n",
    "missing_values = []\n",
    "nonumeric_values = []\n",
    "\n",
    "print (\"TRAINING SET INFORMATION\")\n",
    "print (\"========================\\n\")\n",
    "\n",
    "for column in df3:\n",
    "    # Find all the unique feature values\n",
    "    uniq = df3[column].unique()\n",
    "    print (\"'{}' has {} unique values\" .format(column,uniq.size))\n",
    "    if (uniq.size > 10):\n",
    "        print(\"~~Listing up to 10 unique values~~\")\n",
    "    print (uniq[0:10])\n",
    "    print (\"\\n-----------------------------------------------------------------------\\n\")\n",
    "    \n",
    "    # Find features with missing values\n",
    "    if (True in pd.isnull(uniq)):\n",
    "        s = \"{} has {} missing\" .format(column, pd.isnull(df3[column]).sum())\n",
    "        missing_values.append(s)\n",
    "    \n",
    "    # Find features with non-numeric values\n",
    "    for i in range (1, np.prod(uniq.shape)):\n",
    "        if (re.match('nan', str(uniq[i]))):\n",
    "            break\n",
    "        if not (re.search('(^\\d+\\.?\\d*$)|(^\\d*\\.?\\d+$)', str(uniq[i]))):\n",
    "            nonumeric_values.append(column)\n",
    "            break\n",
    "  \n",
    "print (\"\\n~~~~~~~~~~~~~~~~~~~~~~~~~~~~~~~~~~~~~~~~~~~~~~~~~~~~~~~~~~~~~~~~~~~~~~~~~~~~~~~~~~~~~\\n\")\n",
    "print (\"Features with missing values:\\n{}\\n\\n\" .format(missing_values))\n",
    "print (\"Features with non-numeric values:\\n{}\" .format(nonumeric_values))\n",
    "print (\"\\n~~~~~~~~~~~~~~~~~~~~~~~~~~~~~~~~~~~~~~~~~~~~~~~~~~~~~~~~~~~~~~~~~~~~~~~~~~~~~~~~~~~~~\\n\")"
   ]
  },
  {
   "cell_type": "code",
   "execution_count": 15,
   "metadata": {
    "collapsed": false
   },
   "outputs": [
    {
     "name": "stdout",
     "output_type": "stream",
     "text": [
      "\n",
      "\n",
      "---------------------\n",
      "TEST SET INFORMATION\n",
      "---------------------\n",
      "Shape of training set: (192035, 5) \n",
      "\n",
      "Column Headers: ['customer_id', 'review_id', 'HostelNumber', 'review_date', 'review_language'] \n",
      "\n",
      "customer_id         int64\n",
      "review_id           int64\n",
      "HostelNumber        int64\n",
      "review_date        object\n",
      "review_language    object\n",
      "dtype: object\n"
     ]
    }
   ],
   "source": [
    "print (\"\\n\\n---------------------\")\n",
    "print (\"TEST SET INFORMATION\")\n",
    "print (\"---------------------\")\n",
    "print (\"Shape of training set:\", test1.shape, \"\\n\")\n",
    "print (\"Column Headers:\", list(test1.columns.values), \"\\n\")\n",
    "print (test1.dtypes)"
   ]
  },
  {
   "cell_type": "code",
   "execution_count": 63,
   "metadata": {
    "collapsed": false
   },
   "outputs": [
    {
     "name": "stdout",
     "output_type": "stream",
     "text": [
      "TEST SET INFORMATION\n",
      "========================\n",
      "\n",
      "'age' has 1 unique values\n",
      "[ 29.]\n",
      "\n",
      "-----------------------------------------------------------------------\n",
      "\n",
      "'gender' has 1 unique values\n",
      "[2]\n",
      "\n",
      "-----------------------------------------------------------------------\n",
      "\n",
      "'nationality' has 1 unique values\n",
      "[168]\n",
      "\n",
      "-----------------------------------------------------------------------\n",
      "\n",
      "'num_reviews' has 1 unique values\n",
      "[ 653.]\n",
      "\n",
      "-----------------------------------------------------------------------\n",
      "\n",
      "'review_language' has 21 unique values\n",
      "~~Listing up to 10 unique values~~\n",
      "[ 5 11  0 18  4  7 12 10  8 17]\n",
      "\n",
      "-----------------------------------------------------------------------\n",
      "\n",
      "'review_score' has 1 unique values\n",
      "[ nan]\n",
      "\n",
      "-----------------------------------------------------------------------\n",
      "\n",
      "'score' has 1 unique values\n",
      "[ 86.]\n",
      "\n",
      "-----------------------------------------------------------------------\n",
      "\n",
      "\n",
      "~~~~~~~~~~~~~~~~~~~~~~~~~~~~~~~~~~~~~~~~~~~~~~~~~~~~~~~~~~~~~~~~~~~~~~~~~~~~~~~~~~~~~\n",
      "\n",
      "Features with missing values:\n",
      "['review_score has 192035 missing']\n",
      "\n",
      "\n",
      "Features with non-numeric values:\n",
      "[]\n",
      "\n",
      "~~~~~~~~~~~~~~~~~~~~~~~~~~~~~~~~~~~~~~~~~~~~~~~~~~~~~~~~~~~~~~~~~~~~~~~~~~~~~~~~~~~~~\n",
      "\n"
     ]
    }
   ],
   "source": [
    "import re\n",
    "missing_values = []\n",
    "nonumeric_values = []\n",
    "\n",
    "print (\"TEST SET INFORMATION\")\n",
    "print (\"========================\\n\")\n",
    "\n",
    "for column in test_hostel:\n",
    "    # Find all the unique feature values\n",
    "    uniq = test_hostel[column].unique()\n",
    "    print (\"'{}' has {} unique values\" .format(column,uniq.size))\n",
    "    if (uniq.size > 10):\n",
    "        print(\"~~Listing up to 10 unique values~~\")\n",
    "    print (uniq[0:10])\n",
    "    print (\"\\n-----------------------------------------------------------------------\\n\")\n",
    "    \n",
    "    # Find features with missing values\n",
    "    if (True in pd.isnull(uniq)):\n",
    "        s = \"{} has {} missing\" .format(column, pd.isnull(test_hostel[column]).sum())\n",
    "        missing_values.append(s)\n",
    "    \n",
    "    # Find features with non-numeric values\n",
    "    for i in range (1, np.prod(uniq.shape)):\n",
    "        if (re.match('nan', str(uniq[i]))):\n",
    "            break\n",
    "        if not (re.search('(^\\d+\\.?\\d*$)|(^\\d*\\.?\\d+$)', str(uniq[i]))):\n",
    "            nonumeric_values.append(column)\n",
    "            break\n",
    "  \n",
    "print (\"\\n~~~~~~~~~~~~~~~~~~~~~~~~~~~~~~~~~~~~~~~~~~~~~~~~~~~~~~~~~~~~~~~~~~~~~~~~~~~~~~~~~~~~~\\n\")\n",
    "print (\"Features with missing values:\\n{}\\n\\n\" .format(missing_values))\n",
    "print (\"Features with non-numeric values:\\n{}\" .format(nonumeric_values))\n",
    "print (\"\\n~~~~~~~~~~~~~~~~~~~~~~~~~~~~~~~~~~~~~~~~~~~~~~~~~~~~~~~~~~~~~~~~~~~~~~~~~~~~~~~~~~~~~\\n\")"
   ]
  },
  {
   "cell_type": "code",
   "execution_count": 16,
   "metadata": {
    "collapsed": true
   },
   "outputs": [],
   "source": [
    "df4 = df3.append(test1,ignore_index=True)"
   ]
  },
  {
   "cell_type": "markdown",
   "metadata": {},
   "source": [
    "#### Imputing missing values"
   ]
  },
  {
   "cell_type": "code",
   "execution_count": 53,
   "metadata": {
    "collapsed": true
   },
   "outputs": [],
   "source": [
    "df4.loc[:, \"age\"] = df4.loc[:, \"age\"].fillna(df4['age'].median())\n",
    "df4.loc[:, \"gender\"] = df4.loc[:, \"gender\"].fillna(\"None\")\n",
    "df4.loc[:, \"nationality\"] = df4.loc[:, \"nationality\"].fillna(\"None\")"
   ]
  },
  {
   "cell_type": "code",
   "execution_count": 54,
   "metadata": {
    "collapsed": true
   },
   "outputs": [],
   "source": [
    "df4.loc[:, \"num_reviews\"] = df4.loc[:, \"num_reviews\"].fillna(df4['num_reviews'].median())\n",
    "df4.loc[:, \"score\"] = df4.loc[:, \"score\"].fillna(df4['score'].median())"
   ]
  },
  {
   "cell_type": "code",
   "execution_count": 55,
   "metadata": {
    "collapsed": false
   },
   "outputs": [],
   "source": [
    "df4['HostelNumber'] = df4['HostelNumber'].astype(int)"
   ]
  },
  {
   "cell_type": "code",
   "execution_count": 56,
   "metadata": {
    "collapsed": false
   },
   "outputs": [
    {
     "data": {
      "text/plain": [
       "(972497, 11)"
      ]
     },
     "execution_count": 56,
     "metadata": {},
     "output_type": "execute_result"
    }
   ],
   "source": [
    "df4.shape"
   ]
  },
  {
   "cell_type": "code",
   "execution_count": 30,
   "metadata": {
    "collapsed": true
   },
   "outputs": [],
   "source": [
    "#removed score\n",
    "df5 = df4[['HostelNumber', 'age', 'customer_id', 'gender', 'nationality',\n",
    "       'num_reviews', 'review_id', 'review_language',\n",
    "       'review_score','score']]"
   ]
  },
  {
   "cell_type": "code",
   "execution_count": 31,
   "metadata": {
    "collapsed": true
   },
   "outputs": [],
   "source": [
    "from sklearn.preprocessing import LabelEncoder\n",
    "class_le = LabelEncoder()\n",
    "df5['gender'] = class_le.fit_transform(df5['gender'].values)\n",
    "df5['nationality'] = class_le.fit_transform(df5['nationality'].values)\n",
    "df5['review_language'] = class_le.fit_transform(df5['review_language'].values)"
   ]
  },
  {
   "cell_type": "code",
   "execution_count": 32,
   "metadata": {
    "collapsed": false
   },
   "outputs": [],
   "source": [
    "target = df5['review_score']\n",
    "df6 = df5.drop(['review_score','customer_id','review_id'], axis=1)\n",
    "\n"
   ]
  },
  {
   "cell_type": "code",
   "execution_count": 33,
   "metadata": {
    "collapsed": false
   },
   "outputs": [],
   "source": [
    "X = df6[:df3.shape[0]]\n",
    "test2 = df6[df3.shape[0]:]\n",
    "\n",
    "y = target[:df3.shape[0]]\n"
   ]
  },
  {
   "cell_type": "code",
   "execution_count": 34,
   "metadata": {
    "collapsed": false
   },
   "outputs": [],
   "source": [
    "from sklearn.preprocessing import StandardScaler\n",
    "\n",
    "# Standardize numerical features\n",
    "stdSc = StandardScaler()\n",
    "X = stdSc.fit_transform(X)\n",
    "test2 = stdSc.fit_transform(test2)\n"
   ]
  },
  {
   "cell_type": "code",
   "execution_count": 35,
   "metadata": {
    "collapsed": false
   },
   "outputs": [
    {
     "name": "stdout",
     "output_type": "stream",
     "text": [
      "780462 rows for training set\n",
      "192035 rows for test set\n",
      "780462 rows for target set\n"
     ]
    }
   ],
   "source": [
    "print (str(len(X))+\" rows for training set\")\n",
    "print (str(len(test2))+\" rows for test set\")\n",
    "print (str(len(y))+\" rows for target set\")"
   ]
  },
  {
   "cell_type": "code",
   "execution_count": 36,
   "metadata": {
    "collapsed": false
   },
   "outputs": [],
   "source": [
    "# sk learn import \n",
    "from sklearn.cross_validation import KFold, cross_val_score\n",
    "from sklearn.metrics import mean_squared_error, make_scorer\n",
    "from sklearn.grid_search import GridSearchCV\n",
    "from sklearn import linear_model\n",
    "from sklearn.ensemble import RandomForestRegressor,ExtraTreesRegressor,AdaBoostRegressor\n",
    "from sklearn.ensemble.gradient_boosting import GradientBoostingRegressor\n",
    "from sklearn.neighbors import KNeighborsRegressor\n",
    "import xgboost as xgb"
   ]
  },
  {
   "cell_type": "code",
   "execution_count": 39,
   "metadata": {
    "collapsed": false
   },
   "outputs": [
    {
     "name": "stdout",
     "output_type": "stream",
     "text": [
      "R-squared: 0.0394\n"
     ]
    }
   ],
   "source": [
    "model = xgb.XGBRegressor()\n",
    "model.fit(X, y)\n",
    "predictions = model.predict(test2).astype(int)\n",
    "\n",
    "print ('R-squared: %.4f' % model.score(X, y))"
   ]
  },
  {
   "cell_type": "code",
   "execution_count": 40,
   "metadata": {
    "collapsed": false
   },
   "outputs": [
    {
     "data": {
      "text/plain": [
       "array([81, 88, 81, ..., 91, 84, 89])"
      ]
     },
     "execution_count": 40,
     "metadata": {},
     "output_type": "execute_result"
    }
   ],
   "source": []
  },
  {
   "cell_type": "code",
   "execution_count": 41,
   "metadata": {
    "collapsed": false
   },
   "outputs": [],
   "source": [
    "solution = pd.DataFrame({\"customer_id\":test1.customer_id,\"review_id\":test1.review_id,\"HostelNumber\":test1.HostelNumber, \"predicted_score\":predictions}, columns=['customer_id','review_id','HostelNumber','predicted_score'])\n",
    "solution.to_csv(\"submission_hostelWorld_predicted scores_PiushVaish_4.csv\", index = False)"
   ]
  },
  {
   "cell_type": "markdown",
   "metadata": {},
   "source": [
    "#### Hostel Recommendation"
   ]
  },
  {
   "cell_type": "code",
   "execution_count": 100,
   "metadata": {
    "collapsed": false
   },
   "outputs": [],
   "source": [
    "df7 = df4[['customer_id','HostelNumber','score']]\n"
   ]
  },
  {
   "cell_type": "code",
   "execution_count": 101,
   "metadata": {
    "collapsed": false
   },
   "outputs": [
    {
     "data": {
      "text/html": [
       "<div>\n",
       "<table border=\"1\" class=\"dataframe\">\n",
       "  <thead>\n",
       "    <tr style=\"text-align: right;\">\n",
       "      <th></th>\n",
       "      <th>customer_id</th>\n",
       "      <th>HostelNumber</th>\n",
       "      <th>score</th>\n",
       "    </tr>\n",
       "  </thead>\n",
       "  <tbody>\n",
       "    <tr>\n",
       "      <th>0</th>\n",
       "      <td>309693</td>\n",
       "      <td>4815</td>\n",
       "      <td>75.0</td>\n",
       "    </tr>\n",
       "    <tr>\n",
       "      <th>1</th>\n",
       "      <td>280960893</td>\n",
       "      <td>4815</td>\n",
       "      <td>75.0</td>\n",
       "    </tr>\n",
       "    <tr>\n",
       "      <th>2</th>\n",
       "      <td>863260093</td>\n",
       "      <td>4815</td>\n",
       "      <td>75.0</td>\n",
       "    </tr>\n",
       "    <tr>\n",
       "      <th>3</th>\n",
       "      <td>870460375</td>\n",
       "      <td>4815</td>\n",
       "      <td>75.0</td>\n",
       "    </tr>\n",
       "    <tr>\n",
       "      <th>4</th>\n",
       "      <td>995749975</td>\n",
       "      <td>4815</td>\n",
       "      <td>75.0</td>\n",
       "    </tr>\n",
       "  </tbody>\n",
       "</table>\n",
       "</div>"
      ],
      "text/plain": [
       "   customer_id  HostelNumber  score\n",
       "0       309693          4815   75.0\n",
       "1    280960893          4815   75.0\n",
       "2    863260093          4815   75.0\n",
       "3    870460375          4815   75.0\n",
       "4    995749975          4815   75.0"
      ]
     },
     "execution_count": 101,
     "metadata": {},
     "output_type": "execute_result"
    }
   ],
   "source": [
    "df7.head()"
   ]
  },
  {
   "cell_type": "code",
   "execution_count": 102,
   "metadata": {
    "collapsed": true
   },
   "outputs": [],
   "source": [
    "X_hostel = df7[:df3.shape[0]]\n",
    "test_hostel = df7[df3.shape[0]:]"
   ]
  },
  {
   "cell_type": "code",
   "execution_count": 103,
   "metadata": {
    "collapsed": false
   },
   "outputs": [
    {
     "name": "stdout",
     "output_type": "stream",
     "text": [
      "780462 rows for training set\n",
      "192035 rows for test set\n"
     ]
    }
   ],
   "source": [
    "print (str(len(X_hostel))+\" rows for training set\")\n",
    "print (str(len(test_hostel))+\" rows for test set\")"
   ]
  },
  {
   "cell_type": "code",
   "execution_count": 104,
   "metadata": {
    "collapsed": false
   },
   "outputs": [],
   "source": [
    "test_hostel.rename(columns={'score': 'predicted_score', 'HostelNumber': 'recommended_HostelNumber'}, inplace=True)"
   ]
  },
  {
   "cell_type": "code",
   "execution_count": 106,
   "metadata": {
    "collapsed": false
   },
   "outputs": [],
   "source": [
    "test_hostel.to_csv(\"submission_hostelWorld_hostel_recommendation_PiushVaish_1.csv\", index = False)"
   ]
  },
  {
   "cell_type": "code",
   "execution_count": null,
   "metadata": {
    "collapsed": true
   },
   "outputs": [],
   "source": []
  }
 ],
 "metadata": {
  "anaconda-cloud": {},
  "kernelspec": {
   "display_name": "Python [default]",
   "language": "python",
   "name": "python3"
  },
  "language_info": {
   "codemirror_mode": {
    "name": "ipython",
    "version": 3
   },
   "file_extension": ".py",
   "mimetype": "text/x-python",
   "name": "python",
   "nbconvert_exporter": "python",
   "pygments_lexer": "ipython3",
   "version": "3.5.1"
  }
 },
 "nbformat": 4,
 "nbformat_minor": 1
}
