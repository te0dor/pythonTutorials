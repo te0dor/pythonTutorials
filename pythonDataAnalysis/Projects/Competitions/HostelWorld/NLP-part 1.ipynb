{
 "cells": [
  {
   "cell_type": "code",
   "execution_count": 1,
   "metadata": {
    "collapsed": false
   },
   "outputs": [],
   "source": [
    "# Import the pandas package, then use the \"read_csv\" function to read\n",
    "# the labeled training data\n",
    "import numpy as np \n",
    "import pandas as pd \n",
    "import seaborn as sns\n",
    "import matplotlib.pyplot as plt\n",
    "%matplotlib inline\n",
    "\n",
    "import warnings\n",
    "%config InlineBackend.figure_format = 'png' #set 'png' here when working on notebook\n",
    "warnings.filterwarnings('ignore') \n",
    "train = pd.read_csv(r\"C:\\Users\\piush\\Desktop\\Dataset\\HostelWorld\\train_review_data.csv\")"
   ]
  },
  {
   "cell_type": "code",
   "execution_count": 2,
   "metadata": {
    "collapsed": false
   },
   "outputs": [
    {
     "name": "stdout",
     "output_type": "stream",
     "text": [
      "\n",
      "\n",
      "---------------------\n",
      "TRAIN SET INFORMATION\n",
      "---------------------\n",
      "Shape of training set: (901701, 7) \n",
      "\n",
      "Column Headers: ['customer_id', 'review_id', 'review_score', 'review_text', 'HostelNumber', 'review_date', 'review_language'] \n",
      "\n",
      "customer_id          int64\n",
      "review_id            int64\n",
      "review_score         int64\n",
      "review_text         object\n",
      "HostelNumber       float64\n",
      "review_date         object\n",
      "review_language     object\n",
      "dtype: object\n"
     ]
    }
   ],
   "source": [
    "print (\"\\n\\n---------------------\")\n",
    "print (\"TRAIN SET INFORMATION\")\n",
    "print (\"---------------------\")\n",
    "print (\"Shape of training set:\", train.shape, \"\\n\")\n",
    "print (\"Column Headers:\", list(train.columns.values), \"\\n\")\n",
    "print (train.dtypes)"
   ]
  },
  {
   "cell_type": "code",
   "execution_count": 3,
   "metadata": {
    "collapsed": false
   },
   "outputs": [
    {
     "name": "stdout",
     "output_type": "stream",
     "text": [
      "TRAINING SET INFORMATION\n",
      "========================\n",
      "\n",
      "'customer_id' has 192034 unique values\n",
      "~~Listing up to 10 unique values~~\n",
      "[  309693   459093   544693  1417693  1489693  5057093  5626893  6879893\n",
      " 10077293 12690493]\n",
      "\n",
      "-----------------------------------------------------------------------\n",
      "\n",
      "'review_id' has 901701 unique values\n",
      "~~Listing up to 10 unique values~~\n",
      "[6085536 6244624 6244607 6895146 5238648 5420976 5420965 5920613 5907925\n",
      " 6154930]\n",
      "\n",
      "-----------------------------------------------------------------------\n",
      "\n",
      "'review_score' has 36 unique values\n",
      "~~Listing up to 10 unique values~~\n",
      "[ 86  97  94  91  89 100  77  60  74  66]\n",
      "\n",
      "-----------------------------------------------------------------------\n",
      "\n",
      "'review_text' has 887416 unique values\n",
      "~~Listing up to 10 unique values~~\n",
      "[ 'the space in the rooms is not enough specially when 12 people are together breakfast was simple and didn t offer fruit or alternatives for those who like balanced food i was in edinburgh backpakers and everything was perfect for less money that s why i decided to go to backpakers in oxford but at the end i felt a little bit dissapointed'\n",
      " 'the wi fi doesn t work properly'\n",
      " 'beddings and pillows need to be replaced for new ones it is necessary to let the guests pay by card not only cash excellent staff specially the american girl and the peruvian guy'\n",
      " 'i had a few problems with the free unlimited wifi which was very slow kept telling me it was limited and dropping out when i was in the middle of things the staff did try to fix the problem for me and its possible that it had more to do with the location of the town than anything else'\n",
      " 'this is a very pleasant hostel the staff were very nice and the hostel clean the kitchen was large and reasonably well equipped but a garlic crusher would have been nice and some small oven dishes would be great overall this was a nice place to stay'\n",
      " 'clean friendly homey and specially welcoming after the place we d come from private rooms are lovely kitchen small but well equipped staff very friendly nice location in parnell auckland great place to stay'\n",
      " 'this was one of the nicest hostels i ve stayed at we booked for 2 in a private room there were 2 of us but there were four beds so the room would be great for a group of friends or family plenty of space ensuite bathroom tv nice deck area the kitchen dining lounge area on the floor below was well equipped and comfortable and the hostel was well located close to everything but not too noisy the price was a little higher than other hostel private rooms but definitely worth it'\n",
      " 'loved every minute of it great central location and staff couldn t have been nicer'\n",
      " 'excellent hostel bit remote up a poor road but when you get there its worth it clean efficient and friendly especially the cat'\n",
      " 'estuvimos este verano se encuentra bastante cerca de la estacia n central a 10 minutos a unos 40 minutos andando del duomo en transporte paºblico esta s en 15 minutos en cuanto al bed and breakfast calidad precio estupenda desayuno medio buffet que por lo que pagas esta bastante bien en nuestro caso la habitacia n era gigante el personal correcto lo unico malo que esta al lado de una carretera que por la noche es bastante ruidosa asi que recomendamos encarecidamente tapones']\n",
      "\n",
      "-----------------------------------------------------------------------\n",
      "\n",
      "'HostelNumber' has 27500 unique values\n",
      "~~Listing up to 10 unique values~~\n",
      "[  4815.  34160.  65881.  36020.  12168.  14275.  38731.  51787.  45631.\n",
      "  47916.]\n",
      "\n",
      "-----------------------------------------------------------------------\n",
      "\n",
      "'review_date' has 898002 unique values\n",
      "~~Listing up to 10 unique values~~\n",
      "['2014-01-10 15:34:36' '2014-04-21 20:32:25' '2014-04-21 20:18:44'\n",
      " '2015-01-09 07:26:36' '2013-01-18 03:52:21' '2013-04-22 10:26:01'\n",
      " '2013-04-22 10:17:05' '2013-10-07 16:16:19' '2013-10-02 06:52:25'\n",
      " '2014-02-25 18:32:21']\n",
      "\n",
      "-----------------------------------------------------------------------\n",
      "\n",
      "'review_language' has 23 unique values\n",
      "~~Listing up to 10 unique values~~\n",
      "['English' 'Spanish' 'Portuguese' 'French' 'German' 'Korean'\n",
      " 'Brazilian Portuguese' 'Italian' 'Chinese' 'Dutch']\n",
      "\n",
      "-----------------------------------------------------------------------\n",
      "\n",
      "\n",
      "~~~~~~~~~~~~~~~~~~~~~~~~~~~~~~~~~~~~~~~~~~~~~~~~~~~~~~~~~~~~~~~~~~~~~~~~~~~~~~~~~~~~~\n",
      "\n",
      "Features with missing values:\n",
      "['review_text has 1570 missing', 'HostelNumber has 23 missing', 'review_date has 23 missing', 'review_language has 23 missing']\n",
      "\n",
      "\n",
      "Features with non-numeric values:\n",
      "['review_text', 'review_date', 'review_language']\n",
      "\n",
      "~~~~~~~~~~~~~~~~~~~~~~~~~~~~~~~~~~~~~~~~~~~~~~~~~~~~~~~~~~~~~~~~~~~~~~~~~~~~~~~~~~~~~\n",
      "\n"
     ]
    }
   ],
   "source": [
    "import re\n",
    "missing_values = []\n",
    "nonumeric_values = []\n",
    "\n",
    "print (\"TRAINING SET INFORMATION\")\n",
    "print (\"========================\\n\")\n",
    "\n",
    "for column in train:\n",
    "    # Find all the unique feature values\n",
    "    uniq = train[column].unique()\n",
    "    print (\"'{}' has {} unique values\" .format(column,uniq.size))\n",
    "    if (uniq.size > 10):\n",
    "        print(\"~~Listing up to 10 unique values~~\")\n",
    "    print (uniq[0:10])\n",
    "    print (\"\\n-----------------------------------------------------------------------\\n\")\n",
    "    \n",
    "    # Find features with missing values\n",
    "    if (True in pd.isnull(uniq)):\n",
    "        s = \"{} has {} missing\" .format(column, pd.isnull(train[column]).sum())\n",
    "        missing_values.append(s)\n",
    "    \n",
    "    # Find features with non-numeric values\n",
    "    for i in range (1, np.prod(uniq.shape)):\n",
    "        if (re.match('nan', str(uniq[i]))):\n",
    "            break\n",
    "        if not (re.search('(^\\d+\\.?\\d*$)|(^\\d*\\.?\\d+$)', str(uniq[i]))):\n",
    "            nonumeric_values.append(column)\n",
    "            break\n",
    "  \n",
    "print (\"\\n~~~~~~~~~~~~~~~~~~~~~~~~~~~~~~~~~~~~~~~~~~~~~~~~~~~~~~~~~~~~~~~~~~~~~~~~~~~~~~~~~~~~~\\n\")\n",
    "print (\"Features with missing values:\\n{}\\n\\n\" .format(missing_values))\n",
    "print (\"Features with non-numeric values:\\n{}\" .format(nonumeric_values))\n",
    "print (\"\\n~~~~~~~~~~~~~~~~~~~~~~~~~~~~~~~~~~~~~~~~~~~~~~~~~~~~~~~~~~~~~~~~~~~~~~~~~~~~~~~~~~~~~\\n\")"
   ]
  },
  {
   "cell_type": "code",
   "execution_count": 4,
   "metadata": {
    "collapsed": false
   },
   "outputs": [],
   "source": [
    "#remove NaN values from train for Hostel Number, review_language, review_date\n",
    "train = train[pd.notnull(train['HostelNumber'])]"
   ]
  },
  {
   "cell_type": "code",
   "execution_count": 6,
   "metadata": {
    "collapsed": false
   },
   "outputs": [],
   "source": [
    "##remove NaN values from train for review_text\n",
    "train = train[pd.notnull(train['review_text'])]"
   ]
  },
  {
   "cell_type": "code",
   "execution_count": 8,
   "metadata": {
    "collapsed": false
   },
   "outputs": [
    {
     "name": "stdout",
     "output_type": "stream",
     "text": [
      "TRAINING SET INFORMATION\n",
      "========================\n",
      "\n",
      "'customer_id' has 192016 unique values\n",
      "~~Listing up to 10 unique values~~\n",
      "[  309693   459093   544693  1417693  1489693  5057093  5626893  6879893\n",
      " 10077293 12690493]\n",
      "\n",
      "-----------------------------------------------------------------------\n",
      "\n",
      "'review_id' has 900108 unique values\n",
      "~~Listing up to 10 unique values~~\n",
      "[6085536 6244624 6244607 6895146 5238648 5420976 5420965 5920613 5907925\n",
      " 6154930]\n",
      "\n",
      "-----------------------------------------------------------------------\n",
      "\n",
      "'review_score' has 32 unique values\n",
      "~~Listing up to 10 unique values~~\n",
      "[ 86  97  94  91  89 100  77  60  74  66]\n",
      "\n",
      "-----------------------------------------------------------------------\n",
      "\n",
      "'review_text' has 887393 unique values\n",
      "~~Listing up to 10 unique values~~\n",
      "[ 'the space in the rooms is not enough specially when 12 people are together breakfast was simple and didn t offer fruit or alternatives for those who like balanced food i was in edinburgh backpakers and everything was perfect for less money that s why i decided to go to backpakers in oxford but at the end i felt a little bit dissapointed'\n",
      " 'the wi fi doesn t work properly'\n",
      " 'beddings and pillows need to be replaced for new ones it is necessary to let the guests pay by card not only cash excellent staff specially the american girl and the peruvian guy'\n",
      " 'i had a few problems with the free unlimited wifi which was very slow kept telling me it was limited and dropping out when i was in the middle of things the staff did try to fix the problem for me and its possible that it had more to do with the location of the town than anything else'\n",
      " 'this is a very pleasant hostel the staff were very nice and the hostel clean the kitchen was large and reasonably well equipped but a garlic crusher would have been nice and some small oven dishes would be great overall this was a nice place to stay'\n",
      " 'clean friendly homey and specially welcoming after the place we d come from private rooms are lovely kitchen small but well equipped staff very friendly nice location in parnell auckland great place to stay'\n",
      " 'this was one of the nicest hostels i ve stayed at we booked for 2 in a private room there were 2 of us but there were four beds so the room would be great for a group of friends or family plenty of space ensuite bathroom tv nice deck area the kitchen dining lounge area on the floor below was well equipped and comfortable and the hostel was well located close to everything but not too noisy the price was a little higher than other hostel private rooms but definitely worth it'\n",
      " 'loved every minute of it great central location and staff couldn t have been nicer'\n",
      " 'excellent hostel bit remote up a poor road but when you get there its worth it clean efficient and friendly especially the cat'\n",
      " 'estuvimos este verano se encuentra bastante cerca de la estacia n central a 10 minutos a unos 40 minutos andando del duomo en transporte paºblico esta s en 15 minutos en cuanto al bed and breakfast calidad precio estupenda desayuno medio buffet que por lo que pagas esta bastante bien en nuestro caso la habitacia n era gigante el personal correcto lo unico malo que esta al lado de una carretera que por la noche es bastante ruidosa asi que recomendamos encarecidamente tapones']\n",
      "\n",
      "-----------------------------------------------------------------------\n",
      "\n",
      "'HostelNumber' has 27489 unique values\n",
      "~~Listing up to 10 unique values~~\n",
      "[  4815.  34160.  65881.  36020.  12168.  14275.  38731.  51787.  45631.\n",
      "  47916.]\n",
      "\n",
      "-----------------------------------------------------------------------\n",
      "\n",
      "'review_date' has 896447 unique values\n",
      "~~Listing up to 10 unique values~~\n",
      "['2014-01-10 15:34:36' '2014-04-21 20:32:25' '2014-04-21 20:18:44'\n",
      " '2015-01-09 07:26:36' '2013-01-18 03:52:21' '2013-04-22 10:26:01'\n",
      " '2013-04-22 10:17:05' '2013-10-07 16:16:19' '2013-10-02 06:52:25'\n",
      " '2014-02-25 18:32:21']\n",
      "\n",
      "-----------------------------------------------------------------------\n",
      "\n",
      "'review_language' has 22 unique values\n",
      "~~Listing up to 10 unique values~~\n",
      "['English' 'Spanish' 'Portuguese' 'French' 'German' 'Korean'\n",
      " 'Brazilian Portuguese' 'Italian' 'Chinese' 'Dutch']\n",
      "\n",
      "-----------------------------------------------------------------------\n",
      "\n",
      "\n",
      "~~~~~~~~~~~~~~~~~~~~~~~~~~~~~~~~~~~~~~~~~~~~~~~~~~~~~~~~~~~~~~~~~~~~~~~~~~~~~~~~~~~~~\n",
      "\n",
      "Features with missing values:\n",
      "[]\n",
      "\n",
      "\n",
      "Features with non-numeric values:\n",
      "['review_text', 'review_date', 'review_language']\n",
      "\n",
      "~~~~~~~~~~~~~~~~~~~~~~~~~~~~~~~~~~~~~~~~~~~~~~~~~~~~~~~~~~~~~~~~~~~~~~~~~~~~~~~~~~~~~\n",
      "\n"
     ]
    }
   ],
   "source": [
    "import re\n",
    "missing_values = []\n",
    "nonumeric_values = []\n",
    "\n",
    "print (\"TRAINING SET INFORMATION\")\n",
    "print (\"========================\\n\")\n",
    "\n",
    "for column in train:\n",
    "    # Find all the unique feature values\n",
    "    uniq = train[column].unique()\n",
    "    print (\"'{}' has {} unique values\" .format(column,uniq.size))\n",
    "    if (uniq.size > 10):\n",
    "        print(\"~~Listing up to 10 unique values~~\")\n",
    "    print (uniq[0:10])\n",
    "    print (\"\\n-----------------------------------------------------------------------\\n\")\n",
    "    \n",
    "    # Find features with missing values\n",
    "    if (True in pd.isnull(uniq)):\n",
    "        s = \"{} has {} missing\" .format(column, pd.isnull(train[column]).sum())\n",
    "        missing_values.append(s)\n",
    "    \n",
    "    # Find features with non-numeric values\n",
    "    for i in range (1, np.prod(uniq.shape)):\n",
    "        if (re.match('nan', str(uniq[i]))):\n",
    "            break\n",
    "        if not (re.search('(^\\d+\\.?\\d*$)|(^\\d*\\.?\\d+$)', str(uniq[i]))):\n",
    "            nonumeric_values.append(column)\n",
    "            break\n",
    "  \n",
    "print (\"\\n~~~~~~~~~~~~~~~~~~~~~~~~~~~~~~~~~~~~~~~~~~~~~~~~~~~~~~~~~~~~~~~~~~~~~~~~~~~~~~~~~~~~~\\n\")\n",
    "print (\"Features with missing values:\\n{}\\n\\n\" .format(missing_values))\n",
    "print (\"Features with non-numeric values:\\n{}\" .format(nonumeric_values))\n",
    "print (\"\\n~~~~~~~~~~~~~~~~~~~~~~~~~~~~~~~~~~~~~~~~~~~~~~~~~~~~~~~~~~~~~~~~~~~~~~~~~~~~~~~~~~~~~\\n\")"
   ]
  },
  {
   "cell_type": "code",
   "execution_count": 9,
   "metadata": {
    "collapsed": true
   },
   "outputs": [],
   "source": [
    "train_text = train['review_text']"
   ]
  },
  {
   "cell_type": "code",
   "execution_count": 10,
   "metadata": {
    "collapsed": false
   },
   "outputs": [
    {
     "name": "stdout",
     "output_type": "stream",
     "text": [
      "Review Text size (char): 900108\n"
     ]
    }
   ],
   "source": [
    "print(\"Review Text size (char): {}\".format(len(train_text)))"
   ]
  },
  {
   "cell_type": "code",
   "execution_count": 21,
   "metadata": {
    "collapsed": false
   },
   "outputs": [
    {
     "data": {
      "text/plain": [
       "0    the space in the rooms is not enough specially...\n",
       "1                      the wi fi doesn t work properly\n",
       "2    beddings and pillows need to be replaced for n...\n",
       "3    i had a few problems with the free unlimited w...\n",
       "4    this is a very pleasant hostel the staff were ...\n",
       "Name: review_text, dtype: object"
      ]
     },
     "execution_count": 21,
     "metadata": {},
     "output_type": "execute_result"
    }
   ],
   "source": [
    "train_text.head(5)\n"
   ]
  },
  {
   "cell_type": "code",
   "execution_count": 16,
   "metadata": {
    "collapsed": false
   },
   "outputs": [],
   "source": [
    "#Tokenisation\n",
    "import nltk\n",
    "\n",
    "train['train_text'] = train.apply(lambda row: nltk.word_tokenize(row['review_text']), axis=1)"
   ]
  },
  {
   "cell_type": "code",
   "execution_count": 17,
   "metadata": {
    "collapsed": false
   },
   "outputs": [
    {
     "data": {
      "text/html": [
       "<div>\n",
       "<table border=\"1\" class=\"dataframe\">\n",
       "  <thead>\n",
       "    <tr style=\"text-align: right;\">\n",
       "      <th></th>\n",
       "      <th>customer_id</th>\n",
       "      <th>review_id</th>\n",
       "      <th>review_score</th>\n",
       "      <th>review_text</th>\n",
       "      <th>HostelNumber</th>\n",
       "      <th>review_date</th>\n",
       "      <th>review_language</th>\n",
       "      <th>train_text</th>\n",
       "    </tr>\n",
       "  </thead>\n",
       "  <tbody>\n",
       "    <tr>\n",
       "      <th>0</th>\n",
       "      <td>309693</td>\n",
       "      <td>6085536</td>\n",
       "      <td>86</td>\n",
       "      <td>the space in the rooms is not enough specially...</td>\n",
       "      <td>4815.0</td>\n",
       "      <td>2014-01-10 15:34:36</td>\n",
       "      <td>English</td>\n",
       "      <td>[the, space, in, the, rooms, is, not, enough, ...</td>\n",
       "    </tr>\n",
       "    <tr>\n",
       "      <th>1</th>\n",
       "      <td>309693</td>\n",
       "      <td>6244624</td>\n",
       "      <td>97</td>\n",
       "      <td>the wi fi doesn t work properly</td>\n",
       "      <td>34160.0</td>\n",
       "      <td>2014-04-21 20:32:25</td>\n",
       "      <td>English</td>\n",
       "      <td>[the, wi, fi, doesn, t, work, properly]</td>\n",
       "    </tr>\n",
       "    <tr>\n",
       "      <th>2</th>\n",
       "      <td>309693</td>\n",
       "      <td>6244607</td>\n",
       "      <td>94</td>\n",
       "      <td>beddings and pillows need to be replaced for n...</td>\n",
       "      <td>65881.0</td>\n",
       "      <td>2014-04-21 20:18:44</td>\n",
       "      <td>English</td>\n",
       "      <td>[beddings, and, pillows, need, to, be, replace...</td>\n",
       "    </tr>\n",
       "    <tr>\n",
       "      <th>3</th>\n",
       "      <td>459093</td>\n",
       "      <td>6895146</td>\n",
       "      <td>91</td>\n",
       "      <td>i had a few problems with the free unlimited w...</td>\n",
       "      <td>36020.0</td>\n",
       "      <td>2015-01-09 07:26:36</td>\n",
       "      <td>English</td>\n",
       "      <td>[i, had, a, few, problems, with, the, free, un...</td>\n",
       "    </tr>\n",
       "    <tr>\n",
       "      <th>4</th>\n",
       "      <td>459093</td>\n",
       "      <td>5238648</td>\n",
       "      <td>89</td>\n",
       "      <td>this is a very pleasant hostel the staff were ...</td>\n",
       "      <td>12168.0</td>\n",
       "      <td>2013-01-18 03:52:21</td>\n",
       "      <td>English</td>\n",
       "      <td>[this, is, a, very, pleasant, hostel, the, sta...</td>\n",
       "    </tr>\n",
       "  </tbody>\n",
       "</table>\n",
       "</div>"
      ],
      "text/plain": [
       "   customer_id  review_id  review_score  \\\n",
       "0       309693    6085536            86   \n",
       "1       309693    6244624            97   \n",
       "2       309693    6244607            94   \n",
       "3       459093    6895146            91   \n",
       "4       459093    5238648            89   \n",
       "\n",
       "                                         review_text  HostelNumber  \\\n",
       "0  the space in the rooms is not enough specially...        4815.0   \n",
       "1                    the wi fi doesn t work properly       34160.0   \n",
       "2  beddings and pillows need to be replaced for n...       65881.0   \n",
       "3  i had a few problems with the free unlimited w...       36020.0   \n",
       "4  this is a very pleasant hostel the staff were ...       12168.0   \n",
       "\n",
       "           review_date review_language  \\\n",
       "0  2014-01-10 15:34:36         English   \n",
       "1  2014-04-21 20:32:25         English   \n",
       "2  2014-04-21 20:18:44         English   \n",
       "3  2015-01-09 07:26:36         English   \n",
       "4  2013-01-18 03:52:21         English   \n",
       "\n",
       "                                          train_text  \n",
       "0  [the, space, in, the, rooms, is, not, enough, ...  \n",
       "1            [the, wi, fi, doesn, t, work, properly]  \n",
       "2  [beddings, and, pillows, need, to, be, replace...  \n",
       "3  [i, had, a, few, problems, with, the, free, un...  \n",
       "4  [this, is, a, very, pleasant, hostel, the, sta...  "
      ]
     },
     "execution_count": 17,
     "metadata": {},
     "output_type": "execute_result"
    }
   ],
   "source": [
    "train.head()"
   ]
  },
  {
   "cell_type": "code",
   "execution_count": 19,
   "metadata": {
    "collapsed": false
   },
   "outputs": [],
   "source": [
    "#length of each text\n",
    "train['text_length'] = train.apply(lambda row: len(row['train_text']), axis=1)"
   ]
  },
  {
   "cell_type": "code",
   "execution_count": 23,
   "metadata": {
    "collapsed": false
   },
   "outputs": [
    {
     "data": {
      "text/html": [
       "<div>\n",
       "<table border=\"1\" class=\"dataframe\">\n",
       "  <thead>\n",
       "    <tr style=\"text-align: right;\">\n",
       "      <th></th>\n",
       "      <th>customer_id</th>\n",
       "      <th>review_id</th>\n",
       "      <th>review_score</th>\n",
       "      <th>review_text</th>\n",
       "      <th>HostelNumber</th>\n",
       "      <th>review_date</th>\n",
       "      <th>review_language</th>\n",
       "      <th>train_text</th>\n",
       "      <th>text_length</th>\n",
       "    </tr>\n",
       "  </thead>\n",
       "  <tbody>\n",
       "    <tr>\n",
       "      <th>0</th>\n",
       "      <td>309693</td>\n",
       "      <td>6085536</td>\n",
       "      <td>86</td>\n",
       "      <td>the space in the rooms is not enough specially...</td>\n",
       "      <td>4815.0</td>\n",
       "      <td>2014-01-10 15:34:36</td>\n",
       "      <td>English</td>\n",
       "      <td>[the, space, in, the, rooms, is, not, enough, ...</td>\n",
       "      <td>63</td>\n",
       "    </tr>\n",
       "    <tr>\n",
       "      <th>1</th>\n",
       "      <td>309693</td>\n",
       "      <td>6244624</td>\n",
       "      <td>97</td>\n",
       "      <td>the wi fi doesn t work properly</td>\n",
       "      <td>34160.0</td>\n",
       "      <td>2014-04-21 20:32:25</td>\n",
       "      <td>English</td>\n",
       "      <td>[the, wi, fi, doesn, t, work, properly]</td>\n",
       "      <td>7</td>\n",
       "    </tr>\n",
       "  </tbody>\n",
       "</table>\n",
       "</div>"
      ],
      "text/plain": [
       "   customer_id  review_id  review_score  \\\n",
       "0       309693    6085536            86   \n",
       "1       309693    6244624            97   \n",
       "\n",
       "                                         review_text  HostelNumber  \\\n",
       "0  the space in the rooms is not enough specially...        4815.0   \n",
       "1                    the wi fi doesn t work properly       34160.0   \n",
       "\n",
       "           review_date review_language  \\\n",
       "0  2014-01-10 15:34:36         English   \n",
       "1  2014-04-21 20:32:25         English   \n",
       "\n",
       "                                          train_text  text_length  \n",
       "0  [the, space, in, the, rooms, is, not, enough, ...           63  \n",
       "1            [the, wi, fi, doesn, t, work, properly]            7  "
      ]
     },
     "execution_count": 23,
     "metadata": {},
     "output_type": "execute_result"
    }
   ],
   "source": [
    "train.head(2)"
   ]
  },
  {
   "cell_type": "code",
   "execution_count": 22,
   "metadata": {
    "collapsed": true
   },
   "outputs": [],
   "source": [
    "from nltk.corpus import stopwords\n",
    "stop = stopwords.words('english')"
   ]
  },
  {
   "cell_type": "code",
   "execution_count": 24,
   "metadata": {
    "collapsed": true
   },
   "outputs": [],
   "source": [
    "train['train_text_stop'] = train['train_text'].apply(lambda x: [item for item in x if item not in stop])"
   ]
  },
  {
   "cell_type": "code",
   "execution_count": 36,
   "metadata": {
    "collapsed": false
   },
   "outputs": [],
   "source": [
    "#Stemming is the process of reducing a word to its base/root form, called stem\n",
    "from nltk.stem import PorterStemmer\n",
    "\n",
    "stemmer = PorterStemmer()\n",
    "\n",
    "train['stemmed'] = train[\"train_text_stop\"].apply(lambda x: [stemmer.stem(y) for y in x])"
   ]
  },
  {
   "cell_type": "code",
   "execution_count": 37,
   "metadata": {
    "collapsed": false
   },
   "outputs": [
    {
     "data": {
      "text/html": [
       "<div>\n",
       "<table border=\"1\" class=\"dataframe\">\n",
       "  <thead>\n",
       "    <tr style=\"text-align: right;\">\n",
       "      <th></th>\n",
       "      <th>customer_id</th>\n",
       "      <th>review_id</th>\n",
       "      <th>review_score</th>\n",
       "      <th>review_text</th>\n",
       "      <th>HostelNumber</th>\n",
       "      <th>review_date</th>\n",
       "      <th>review_language</th>\n",
       "      <th>train_text</th>\n",
       "      <th>text_length</th>\n",
       "      <th>train_text_stop</th>\n",
       "      <th>stemmed</th>\n",
       "    </tr>\n",
       "  </thead>\n",
       "  <tbody>\n",
       "    <tr>\n",
       "      <th>0</th>\n",
       "      <td>309693</td>\n",
       "      <td>6085536</td>\n",
       "      <td>86</td>\n",
       "      <td>the space in the rooms is not enough specially...</td>\n",
       "      <td>4815.0</td>\n",
       "      <td>2014-01-10 15:34:36</td>\n",
       "      <td>English</td>\n",
       "      <td>[the, space, in, the, rooms, is, not, enough, ...</td>\n",
       "      <td>63</td>\n",
       "      <td>[space, rooms, enough, specially, 12, people, ...</td>\n",
       "      <td>[space, room, enough, special, 12, peopl, toge...</td>\n",
       "    </tr>\n",
       "    <tr>\n",
       "      <th>1</th>\n",
       "      <td>309693</td>\n",
       "      <td>6244624</td>\n",
       "      <td>97</td>\n",
       "      <td>the wi fi doesn t work properly</td>\n",
       "      <td>34160.0</td>\n",
       "      <td>2014-04-21 20:32:25</td>\n",
       "      <td>English</td>\n",
       "      <td>[the, wi, fi, doesn, t, work, properly]</td>\n",
       "      <td>7</td>\n",
       "      <td>[wi, fi, work, properly]</td>\n",
       "      <td>[wi, fi, work, properli]</td>\n",
       "    </tr>\n",
       "    <tr>\n",
       "      <th>2</th>\n",
       "      <td>309693</td>\n",
       "      <td>6244607</td>\n",
       "      <td>94</td>\n",
       "      <td>beddings and pillows need to be replaced for n...</td>\n",
       "      <td>65881.0</td>\n",
       "      <td>2014-04-21 20:18:44</td>\n",
       "      <td>English</td>\n",
       "      <td>[beddings, and, pillows, need, to, be, replace...</td>\n",
       "      <td>33</td>\n",
       "      <td>[beddings, pillows, need, replaced, new, ones,...</td>\n",
       "      <td>[bed, pillow, need, replac, new, one, necessar...</td>\n",
       "    </tr>\n",
       "    <tr>\n",
       "      <th>3</th>\n",
       "      <td>459093</td>\n",
       "      <td>6895146</td>\n",
       "      <td>91</td>\n",
       "      <td>i had a few problems with the free unlimited w...</td>\n",
       "      <td>36020.0</td>\n",
       "      <td>2015-01-09 07:26:36</td>\n",
       "      <td>English</td>\n",
       "      <td>[i, had, a, few, problems, with, the, free, un...</td>\n",
       "      <td>59</td>\n",
       "      <td>[problems, free, unlimited, wifi, slow, kept, ...</td>\n",
       "      <td>[problem, free, unlimit, wifi, slow, kept, tel...</td>\n",
       "    </tr>\n",
       "    <tr>\n",
       "      <th>4</th>\n",
       "      <td>459093</td>\n",
       "      <td>5238648</td>\n",
       "      <td>89</td>\n",
       "      <td>this is a very pleasant hostel the staff were ...</td>\n",
       "      <td>12168.0</td>\n",
       "      <td>2013-01-18 03:52:21</td>\n",
       "      <td>English</td>\n",
       "      <td>[this, is, a, very, pleasant, hostel, the, sta...</td>\n",
       "      <td>47</td>\n",
       "      <td>[pleasant, hostel, staff, nice, hostel, clean,...</td>\n",
       "      <td>[pleasant, hostel, staff, nice, hostel, clean,...</td>\n",
       "    </tr>\n",
       "  </tbody>\n",
       "</table>\n",
       "</div>"
      ],
      "text/plain": [
       "   customer_id  review_id  review_score  \\\n",
       "0       309693    6085536            86   \n",
       "1       309693    6244624            97   \n",
       "2       309693    6244607            94   \n",
       "3       459093    6895146            91   \n",
       "4       459093    5238648            89   \n",
       "\n",
       "                                         review_text  HostelNumber  \\\n",
       "0  the space in the rooms is not enough specially...        4815.0   \n",
       "1                    the wi fi doesn t work properly       34160.0   \n",
       "2  beddings and pillows need to be replaced for n...       65881.0   \n",
       "3  i had a few problems with the free unlimited w...       36020.0   \n",
       "4  this is a very pleasant hostel the staff were ...       12168.0   \n",
       "\n",
       "           review_date review_language  \\\n",
       "0  2014-01-10 15:34:36         English   \n",
       "1  2014-04-21 20:32:25         English   \n",
       "2  2014-04-21 20:18:44         English   \n",
       "3  2015-01-09 07:26:36         English   \n",
       "4  2013-01-18 03:52:21         English   \n",
       "\n",
       "                                          train_text  text_length  \\\n",
       "0  [the, space, in, the, rooms, is, not, enough, ...           63   \n",
       "1            [the, wi, fi, doesn, t, work, properly]            7   \n",
       "2  [beddings, and, pillows, need, to, be, replace...           33   \n",
       "3  [i, had, a, few, problems, with, the, free, un...           59   \n",
       "4  [this, is, a, very, pleasant, hostel, the, sta...           47   \n",
       "\n",
       "                                     train_text_stop  \\\n",
       "0  [space, rooms, enough, specially, 12, people, ...   \n",
       "1                           [wi, fi, work, properly]   \n",
       "2  [beddings, pillows, need, replaced, new, ones,...   \n",
       "3  [problems, free, unlimited, wifi, slow, kept, ...   \n",
       "4  [pleasant, hostel, staff, nice, hostel, clean,...   \n",
       "\n",
       "                                             stemmed  \n",
       "0  [space, room, enough, special, 12, peopl, toge...  \n",
       "1                           [wi, fi, work, properli]  \n",
       "2  [bed, pillow, need, replac, new, one, necessar...  \n",
       "3  [problem, free, unlimit, wifi, slow, kept, tel...  \n",
       "4  [pleasant, hostel, staff, nice, hostel, clean,...  "
      ]
     },
     "execution_count": 37,
     "metadata": {},
     "output_type": "execute_result"
    }
   ],
   "source": [
    "#n-grams\n",
    "\n",
    "train['ngram'] = train['stemmed'].apply(lambda x : [])\n"
   ]
  },
  {
   "cell_type": "code",
   "execution_count": 39,
   "metadata": {
    "collapsed": false
   },
   "outputs": [],
   "source": [
    "\n",
    "\n"
   ]
  }
 ],
 "metadata": {
  "anaconda-cloud": {},
  "kernelspec": {
   "display_name": "Python [default]",
   "language": "python",
   "name": "python3"
  },
  "language_info": {
   "codemirror_mode": {
    "name": "ipython",
    "version": 3
   },
   "file_extension": ".py",
   "mimetype": "text/x-python",
   "name": "python",
   "nbconvert_exporter": "python",
   "pygments_lexer": "ipython3",
   "version": "3.5.1"
  }
 },
 "nbformat": 4,
 "nbformat_minor": 1
}
