{
 "cells": [
  {
   "cell_type": "markdown",
   "metadata": {},
   "source": [
    "## We describe a technique to extract interesting topics from reviews and assign sentiment labels to these topics.\n",
    "\n",
    "Our aim is to automatically mine these types of topics\n",
    "from the raw review text and to automatically assign sentiment\n",
    "labels to the relevant topics and review elements. We\n",
    "describe and evaluate how such features can be used to predict\n",
    "review quality (helpfulness). Further we show how this\n",
    "can be used as the basis of a review recommendation system\n",
    "to automatically recommend high quality reviews even in the\n",
    "absence of any explicit helpfulness feedback."
   ]
  },
  {
   "cell_type": "markdown",
   "metadata": {},
   "source": [
    "#### Sentiment analysis refers to the use of natural language processing, text analysis and statistical learning to identify and extract subjective information in source materials.\n",
    "\n",
    "In simple terms, sentiment analysis aims to determine the attitude of a speaker or a writer with respect to some topic or the overall contextual polarity of a document. In our case we will use it to determine if a text has a positive, negative, or neutral mood or animosity.\n",
    "\n",
    "So in the sentiment analysis process there are a couple of stages more or less differentiated. The first is about processing natural language, and the second about training a model. The first stage is in charge of processing text in a way that, when we are ready to train our model, we already know what variables the model needs to consider as inputs. The model itself is in charge of learning how to determine the sentiment of a piece of text based on these variables. "
   ]
  },
  {
   "cell_type": "code",
   "execution_count": 1,
   "metadata": {
    "collapsed": true
   },
   "outputs": [],
   "source": [
    "# Import the pandas package, then use the \"read_csv\" function to read\n",
    "# the labeled training data\n",
    "import numpy as np \n",
    "import pandas as pd \n",
    "import seaborn as sns\n",
    "import matplotlib.pyplot as plt\n",
    "%matplotlib inline\n",
    "\n",
    "import warnings\n",
    "%config InlineBackend.figure_format = 'png' #set 'png' here when working on notebook\n",
    "warnings.filterwarnings('ignore') \n",
    "train = pd.read_csv(r\"C:\\Users\\piush\\Desktop\\Dataset\\HostelWorld\\train_review_data.csv\")"
   ]
  },
  {
   "cell_type": "markdown",
   "metadata": {},
   "source": [
    "##### Exploring the columns with Permutation and Random Sampling\n",
    "To select a random subset without replacement, one way is to slice off the k elements of an array returned by permutation, where k is the desired subet size."
   ]
  },
  {
   "cell_type": "code",
   "execution_count": 2,
   "metadata": {
    "collapsed": true
   },
   "outputs": [],
   "source": [
    "sampler = np.random.permutation(5)"
   ]
  },
  {
   "cell_type": "code",
   "execution_count": 3,
   "metadata": {
    "collapsed": false
   },
   "outputs": [
    {
     "data": {
      "text/html": [
       "<div>\n",
       "<table border=\"1\" class=\"dataframe\">\n",
       "  <thead>\n",
       "    <tr style=\"text-align: right;\">\n",
       "      <th></th>\n",
       "      <th>customer_id</th>\n",
       "      <th>review_id</th>\n",
       "      <th>review_score</th>\n",
       "      <th>review_text</th>\n",
       "      <th>HostelNumber</th>\n",
       "      <th>review_date</th>\n",
       "      <th>review_language</th>\n",
       "    </tr>\n",
       "  </thead>\n",
       "  <tbody>\n",
       "    <tr>\n",
       "      <th>0</th>\n",
       "      <td>309693</td>\n",
       "      <td>6085536</td>\n",
       "      <td>86</td>\n",
       "      <td>the space in the rooms is not enough specially...</td>\n",
       "      <td>4815.0</td>\n",
       "      <td>2014-01-10 15:34:36</td>\n",
       "      <td>English</td>\n",
       "    </tr>\n",
       "    <tr>\n",
       "      <th>1</th>\n",
       "      <td>309693</td>\n",
       "      <td>6244624</td>\n",
       "      <td>97</td>\n",
       "      <td>the wi fi doesn t work properly</td>\n",
       "      <td>34160.0</td>\n",
       "      <td>2014-04-21 20:32:25</td>\n",
       "      <td>English</td>\n",
       "    </tr>\n",
       "    <tr>\n",
       "      <th>2</th>\n",
       "      <td>309693</td>\n",
       "      <td>6244607</td>\n",
       "      <td>94</td>\n",
       "      <td>beddings and pillows need to be replaced for n...</td>\n",
       "      <td>65881.0</td>\n",
       "      <td>2014-04-21 20:18:44</td>\n",
       "      <td>English</td>\n",
       "    </tr>\n",
       "    <tr>\n",
       "      <th>3</th>\n",
       "      <td>459093</td>\n",
       "      <td>6895146</td>\n",
       "      <td>91</td>\n",
       "      <td>i had a few problems with the free unlimited w...</td>\n",
       "      <td>36020.0</td>\n",
       "      <td>2015-01-09 07:26:36</td>\n",
       "      <td>English</td>\n",
       "    </tr>\n",
       "    <tr>\n",
       "      <th>4</th>\n",
       "      <td>459093</td>\n",
       "      <td>5238648</td>\n",
       "      <td>89</td>\n",
       "      <td>this is a very pleasant hostel the staff were ...</td>\n",
       "      <td>12168.0</td>\n",
       "      <td>2013-01-18 03:52:21</td>\n",
       "      <td>English</td>\n",
       "    </tr>\n",
       "  </tbody>\n",
       "</table>\n",
       "</div>"
      ],
      "text/plain": [
       "   customer_id  review_id  review_score  \\\n",
       "0       309693    6085536            86   \n",
       "1       309693    6244624            97   \n",
       "2       309693    6244607            94   \n",
       "3       459093    6895146            91   \n",
       "4       459093    5238648            89   \n",
       "\n",
       "                                         review_text  HostelNumber  \\\n",
       "0  the space in the rooms is not enough specially...        4815.0   \n",
       "1                    the wi fi doesn t work properly       34160.0   \n",
       "2  beddings and pillows need to be replaced for n...       65881.0   \n",
       "3  i had a few problems with the free unlimited w...       36020.0   \n",
       "4  this is a very pleasant hostel the staff were ...       12168.0   \n",
       "\n",
       "           review_date review_language  \n",
       "0  2014-01-10 15:34:36         English  \n",
       "1  2014-04-21 20:32:25         English  \n",
       "2  2014-04-21 20:18:44         English  \n",
       "3  2015-01-09 07:26:36         English  \n",
       "4  2013-01-18 03:52:21         English  "
      ]
     },
     "execution_count": 3,
     "metadata": {},
     "output_type": "execute_result"
    }
   ],
   "source": [
    "# http://pandas.pydata.org/pandas-docs/stable/generated/pandas.DataFrame.take.html\n",
    "train.take(sampler)"
   ]
  },
  {
   "cell_type": "code",
   "execution_count": 6,
   "metadata": {
    "collapsed": false
   },
   "outputs": [
    {
     "data": {
      "text/html": [
       "<div>\n",
       "<table border=\"1\" class=\"dataframe\">\n",
       "  <thead>\n",
       "    <tr style=\"text-align: right;\">\n",
       "      <th></th>\n",
       "      <th>customer_id</th>\n",
       "      <th>review_id</th>\n",
       "      <th>review_score</th>\n",
       "      <th>review_text</th>\n",
       "      <th>HostelNumber</th>\n",
       "      <th>review_date</th>\n",
       "      <th>review_language</th>\n",
       "    </tr>\n",
       "  </thead>\n",
       "  <tbody>\n",
       "    <tr>\n",
       "      <th>573626</th>\n",
       "      <td>573130619</td>\n",
       "      <td>5763640</td>\n",
       "      <td>83</td>\n",
       "      <td>muy buena atencia n ubicacia n excelente pero ...</td>\n",
       "      <td>282.0</td>\n",
       "      <td>2013-08-17 12:17:06</td>\n",
       "      <td>Spanish</td>\n",
       "    </tr>\n",
       "    <tr>\n",
       "      <th>487465</th>\n",
       "      <td>551371182</td>\n",
       "      <td>4516036</td>\n",
       "      <td>100</td>\n",
       "      <td>encantados con este hostel de lo mejor que hem...</td>\n",
       "      <td>20779.0</td>\n",
       "      <td>2012-04-05 18:29:32</td>\n",
       "      <td>Spanish</td>\n",
       "    </tr>\n",
       "    <tr>\n",
       "      <th>284012</th>\n",
       "      <td>478787780</td>\n",
       "      <td>5159561</td>\n",
       "      <td>89</td>\n",
       "      <td>excelente hotel perto da estaa a o excelente c...</td>\n",
       "      <td>47841.0</td>\n",
       "      <td>2012-12-07 09:22:25</td>\n",
       "      <td>Brazilian Portuguese</td>\n",
       "    </tr>\n",
       "  </tbody>\n",
       "</table>\n",
       "</div>"
      ],
      "text/plain": [
       "        customer_id  review_id  review_score  \\\n",
       "573626    573130619    5763640            83   \n",
       "487465    551371182    4516036           100   \n",
       "284012    478787780    5159561            89   \n",
       "\n",
       "                                              review_text  HostelNumber  \\\n",
       "573626  muy buena atencia n ubicacia n excelente pero ...         282.0   \n",
       "487465  encantados con este hostel de lo mejor que hem...       20779.0   \n",
       "284012  excelente hotel perto da estaa a o excelente c...       47841.0   \n",
       "\n",
       "                review_date       review_language  \n",
       "573626  2013-08-17 12:17:06               Spanish  \n",
       "487465  2012-04-05 18:29:32               Spanish  \n",
       "284012  2012-12-07 09:22:25  Brazilian Portuguese  "
      ]
     },
     "execution_count": 6,
     "metadata": {},
     "output_type": "execute_result"
    }
   ],
   "source": [
    "randomSample = train.take(np.random.permutation(len(train))[:3])\n",
    "randomSample"
   ]
  },
  {
   "cell_type": "markdown",
   "metadata": {},
   "source": [
    "##### Let us take a small sample of 100 rows of the dataset \n",
    "http://pandas.pydata.org/pandas-docs/stable/generated/pandas.DataFrame.sample.html"
   ]
  },
  {
   "cell_type": "code",
   "execution_count": 7,
   "metadata": {
    "collapsed": true
   },
   "outputs": [],
   "source": [
    "df = train.sample(n=100)"
   ]
  },
  {
   "cell_type": "markdown",
   "metadata": {},
   "source": [
    "###### Select only review_language english"
   ]
  },
  {
   "cell_type": "code",
   "execution_count": 15,
   "metadata": {
    "collapsed": false
   },
   "outputs": [],
   "source": [
    "df = df.loc[df['review_language'] == ('English')]\n",
    "df = df.set_index('customer_id')"
   ]
  },
  {
   "cell_type": "code",
   "execution_count": 16,
   "metadata": {
    "collapsed": false
   },
   "outputs": [
    {
     "name": "stdout",
     "output_type": "stream",
     "text": [
      "\n",
      "\n",
      "---------------------\n",
      "SAMPLE SET INFORMATION\n",
      "---------------------\n",
      "Shape of df: (85, 6) \n",
      "\n",
      "Column Headers: ['review_id', 'review_score', 'review_text', 'HostelNumber', 'review_date', 'review_language'] \n",
      "\n",
      "review_id            int64\n",
      "review_score         int64\n",
      "review_text         object\n",
      "HostelNumber       float64\n",
      "review_date         object\n",
      "review_language     object\n",
      "dtype: object\n"
     ]
    }
   ],
   "source": [
    "print (\"\\n\\n---------------------\")\n",
    "print (\"SAMPLE SET INFORMATION\")\n",
    "print (\"---------------------\")\n",
    "print (\"Shape of df:\", df.shape, \"\\n\")\n",
    "print (\"Column Headers:\", list(df.columns.values), \"\\n\")\n",
    "print (df.dtypes)"
   ]
  },
  {
   "cell_type": "markdown",
   "metadata": {},
   "source": [
    "##### There are no missing values in the sample"
   ]
  },
  {
   "cell_type": "markdown",
   "metadata": {},
   "source": [
    "###### Let us just focus on review_text. I want to do some sentiment analysis"
   ]
  },
  {
   "cell_type": "markdown",
   "metadata": {},
   "source": [
    "Manually label with 1 (positive sentiment) or 0 (negative sentiment) and create a column called sentiment.\n",
    "\n",
    "http://stackoverflow.com/questions/18942506/add-new-column-in-pandas-dataframe-python"
   ]
  },
  {
   "cell_type": "code",
   "execution_count": 67,
   "metadata": {
    "collapsed": true
   },
   "outputs": [],
   "source": [
    "df['Sentiment'] = 0"
   ]
  },
  {
   "cell_type": "code",
   "execution_count": 68,
   "metadata": {
    "collapsed": false
   },
   "outputs": [],
   "source": [
    "df.to_csv(\"sub.csv\",index=False)"
   ]
  },
  {
   "cell_type": "markdown",
   "metadata": {},
   "source": [
    "##### Amended the file manually. 80 was the cut-off point. less than 80 negative reviews and more it was positive."
   ]
  },
  {
   "cell_type": "code",
   "execution_count": 69,
   "metadata": {
    "collapsed": true
   },
   "outputs": [],
   "source": [
    "#Import the amended file\n",
    "df_1 = pd.read_csv(r\"C:\\Users\\piush\\Desktop\\Dataset\\HostelWorld\\sample_data_amended.csv\")"
   ]
  },
  {
   "cell_type": "markdown",
   "metadata": {
    "collapsed": false
   },
   "source": [
    "##### Show the the values of review_score across the levels of Sentiment"
   ]
  },
  {
   "cell_type": "code",
   "execution_count": 71,
   "metadata": {
    "collapsed": false
   },
   "outputs": [
    {
     "data": {
      "image/png": "[encoded data removed]",
      "text/plain": [
       "<matplotlib.figure.Figure at 0x206057446d8>"
      ]
     },
     "metadata": {},
     "output_type": "display_data"
    }
   ],
   "source": [
    "sns.stripplot(x=\"review_score\", y=\"Sentiment\", data=df_1, jitter=True);"
   ]
  },
  {
   "cell_type": "markdown",
   "metadata": {},
   "source": [
    "### For a small dataset, most of the people's reviews are consistent with the score they give."
   ]
  },
  {
   "cell_type": "markdown",
   "metadata": {},
   "source": [
    "#### More exploration of text"
   ]
  },
  {
   "cell_type": "markdown",
   "metadata": {},
   "source": [
    "Let's calculate the average number of words per sentence. We could do the following using a list comprehension with the number of words per sentence."
   ]
  },
  {
   "cell_type": "code",
   "execution_count": 72,
   "metadata": {
    "collapsed": false
   },
   "outputs": [
    {
     "data": {
      "text/plain": [
       "45.364705882352943"
      ]
     },
     "execution_count": 72,
     "metadata": {},
     "output_type": "execute_result"
    }
   ],
   "source": [
    "np.mean([len(s.split(\" \")) for s in df_1.review_text])"
   ]
  },
  {
   "cell_type": "markdown",
   "metadata": {},
   "source": [
    "##### People have a lot to say in thier reviews"
   ]
  },
  {
   "cell_type": "markdown",
   "metadata": {},
   "source": [
    "##### Preparing a corpus\n",
    "\n",
    "In linguistics, a corpus or text corpus is a large and structured set of texts (nowadays usually electronically stored and processed). They are used to do statistical analysis and hypothesis testing, checking occurrences or validating linguistic rules within a specific language territory. In our particular case, we are talking about the collection of text fragments that we want to classify in either positive or negative sentiment."
   ]
  },
  {
   "cell_type": "markdown",
   "metadata": {},
   "source": [
    "We will also extract important words and establish them as input variables for our classifier."
   ]
  },
  {
   "cell_type": "markdown",
   "metadata": {},
   "source": [
    "http://www.cs.duke.edu/courses/spring14/compsci290/assignments/lab02.html"
   ]
  },
  {
   "cell_type": "markdown",
   "metadata": {},
   "source": [
    "The class sklearn.feature_extraction.text.CountVectorizer in the wonderful scikit learn Python library converts a collection of text documents to a matrix of token counts. This is just what we need to implement later on our bag-of-words linear classifier.\n",
    "\n",
    "First we need to init the vectoriser. We need to remove punctuations, lowercase, remove stop words, and stem words. All these steps can be directly performed by CountVectorizer if we pass the right parameter values. We can do this as follows. Notice that for the stemming step, we need to provide a stemmer ourselves. We will use a basic implementation of a Porter Stemmer, a stemmer widely used named after its creator."
   ]
  },
  {
   "cell_type": "code",
   "execution_count": 73,
   "metadata": {
    "collapsed": true
   },
   "outputs": [],
   "source": [
    "import re, nltk\n",
    "from sklearn.feature_extraction.text import CountVectorizer        \n",
    "from nltk.stem.porter import PorterStemmer\n",
    "\n",
    "#######\n",
    "# based on http://www.cs.duke.edu/courses/spring14/compsci290/assignments/lab02.html\n",
    "stemmer = PorterStemmer()\n",
    "def stem_tokens(tokens, stemmer):\n",
    "    stemmed = []\n",
    "    for item in tokens:\n",
    "        stemmed.append(stemmer.stem(item))\n",
    "    return stemmed\n",
    "\n",
    "def tokenize(text):\n",
    "    # remove non letters\n",
    "    text = re.sub(\"[^a-zA-Z]\", \" \", text)\n",
    "    # tokenize\n",
    "    tokens = nltk.word_tokenize(text)\n",
    "    # stem\n",
    "    stems = stem_tokens(tokens, stemmer)\n",
    "    return stems\n",
    "######## \n",
    "\n",
    "vectorizer = CountVectorizer(\n",
    "    analyzer = 'word',\n",
    "    tokenizer = tokenize,\n",
    "    lowercase = True,\n",
    "    stop_words = 'english',\n",
    "    max_features = 120\n",
    ")"
   ]
  },
  {
   "cell_type": "markdown",
   "metadata": {},
   "source": [
    "We pas a few parameters to the vectoriser including our tokenizer that removes non-letters and performs the stemming, together with lowercasing and removing english stop-words. Although we can also pass a sparsity coefficient to this class, we hace decided to directly specify how many terms to we want in our final vectors (i.e. 120).\n",
    "\n",
    "The method fit_transform does two functions: First, it fits the model and learns the vocabulary; second, it transforms our corpus data into feature vectors. The input to fit_transform should be a list of strings, so we concatenate train and test data as follows."
   ]
  },
  {
   "cell_type": "code",
   "execution_count": 74,
   "metadata": {
    "collapsed": false
   },
   "outputs": [],
   "source": [
    "corpus_data_features = vectorizer.fit_transform(\n",
    "    df_1.review_text.tolist())"
   ]
  },
  {
   "cell_type": "markdown",
   "metadata": {},
   "source": [
    "##### Numpy arrays are easy to work with, so convert the result to an array."
   ]
  },
  {
   "cell_type": "code",
   "execution_count": 75,
   "metadata": {
    "collapsed": false
   },
   "outputs": [
    {
     "data": {
      "text/plain": [
       "(85, 120)"
      ]
     },
     "execution_count": 75,
     "metadata": {},
     "output_type": "execute_result"
    }
   ],
   "source": [
    "corpus_data_features_nd = corpus_data_features.toarray()\n",
    "corpus_data_features_nd.shape"
   ]
  },
  {
   "cell_type": "markdown",
   "metadata": {},
   "source": [
    "##### Let take a look at the words in the vocabulary."
   ]
  },
  {
   "cell_type": "code",
   "execution_count": 76,
   "metadata": {
    "collapsed": false
   },
   "outputs": [
    {
     "name": "stdout",
     "output_type": "stream",
     "text": [
      "['alway', 'area', 'arriv', 'atmospher', 'awesom', 'bathroom', 'beach', 'beauti', 'bed', 'best', 'better', 'big', 'bit', 'block', 'book', 'breakfast', 'center', 'cheap', 'citi', 'clean', 'close', 'cold', 'comfort', 'common', 'cool', 'crawl', 'd', 'day', 'definit', 'don', 'door', 'easi', 'everyon', 'everyth', 'everywher', 'excel', 'expect', 'experi', 'facil', 'famili', 'fantast', 'free', 'friend', 'friendli', 'girl', 'good', 'got', 'great', 'ha', 'hang', 'help', 'hi', 'hostel', 'hotel', 'huge', 'includ', 'just', 'kitchen', 'light', 'like', 'littl', 'live', 'locat', 'lot', 'love', 'main', 'make', 'meet', 'minut', 'money', 'near', 'new', 'nice', 'night', 'onc', 'onli', 'outdoor', 'outsid', 'overal', 'owner', 'parti', 'pay', 'peopl', 'perfect', 'place', 'pretti', 'price', 'quiet', 'realli', 'recommend', 'relax', 'road', 'room', 's', 'secur', 'shower', 'sleep', 'small', 'somewher', 'space', 'staff', 'station', 'stay', 'super', 'sure', 't', 'thank', 'thi', 'thing', 'time', 'travel', 'use', 've', 'veri', 'wa', 'walk', 'want', 'way', 'wifi', 'work']\n"
     ]
    }
   ],
   "source": [
    "vocab = vectorizer.get_feature_names()\n",
    "print (vocab)"
   ]
  },
  {
   "cell_type": "markdown",
   "metadata": {},
   "source": [
    "###### We can also print the counts of each word in the vocabulary as follows."
   ]
  },
  {
   "cell_type": "code",
   "execution_count": 77,
   "metadata": {
    "collapsed": false
   },
   "outputs": [
    {
     "name": "stdout",
     "output_type": "stream",
     "text": [
      "4 alway\n",
      "18 area\n",
      "6 arriv\n",
      "6 atmospher\n",
      "4 awesom\n",
      "8 bathroom\n",
      "4 beach\n",
      "5 beauti\n",
      "11 bed\n",
      "5 best\n",
      "4 better\n",
      "4 big\n",
      "12 bit\n",
      "4 block\n",
      "5 book\n",
      "14 breakfast\n",
      "4 center\n",
      "5 cheap\n",
      "6 citi\n",
      "25 clean\n",
      "6 close\n",
      "6 cold\n",
      "4 comfort\n",
      "9 common\n",
      "7 cool\n",
      "4 crawl\n",
      "3 d\n",
      "7 day\n",
      "3 definit\n",
      "4 don\n",
      "5 door\n",
      "6 easi\n",
      "5 everyon\n",
      "6 everyth\n",
      "3 everywher\n",
      "4 excel\n",
      "4 expect\n",
      "5 experi\n",
      "5 facil\n",
      "6 famili\n",
      "3 fantast\n",
      "5 free\n",
      "4 friend\n",
      "23 friendli\n",
      "3 girl\n",
      "39 good\n",
      "4 got\n",
      "38 great\n",
      "6 ha\n",
      "5 hang\n",
      "21 help\n",
      "5 hi\n",
      "60 hostel\n",
      "4 hotel\n",
      "4 huge\n",
      "4 includ\n",
      "8 just\n",
      "6 kitchen\n",
      "4 light\n",
      "10 like\n",
      "6 littl\n",
      "4 live\n",
      "26 locat\n",
      "10 lot\n",
      "13 love\n",
      "7 main\n",
      "6 make\n",
      "5 meet\n",
      "6 minut\n",
      "4 money\n",
      "5 near\n",
      "7 new\n",
      "36 nice\n",
      "13 night\n",
      "3 onc\n",
      "13 onli\n",
      "3 outdoor\n",
      "3 outsid\n",
      "6 overal\n",
      "4 owner\n",
      "3 parti\n",
      "3 pay\n",
      "10 peopl\n",
      "6 perfect\n",
      "23 place\n",
      "8 pretti\n",
      "8 price\n",
      "5 quiet\n",
      "19 realli\n",
      "10 recommend\n",
      "5 relax\n",
      "4 road\n",
      "42 room\n",
      "22 s\n",
      "4 secur\n",
      "8 shower\n",
      "5 sleep\n",
      "5 small\n",
      "4 somewher\n",
      "4 space\n",
      "44 staff\n",
      "4 station\n",
      "40 stay\n",
      "6 super\n",
      "4 sure\n",
      "14 t\n",
      "4 thank\n",
      "27 thi\n",
      "5 thing\n",
      "15 time\n",
      "10 travel\n",
      "4 use\n",
      "4 ve\n",
      "49 veri\n",
      "69 wa\n",
      "17 walk\n",
      "4 want\n",
      "6 way\n",
      "5 wifi\n",
      "8 work\n"
     ]
    }
   ],
   "source": [
    "# Sum up the counts of each vocabulary word\n",
    "dist = np.sum(corpus_data_features_nd, axis=0)\n",
    "\n",
    "# For each, print the vocabulary word and the number of times it \n",
    "# appears in the data set\n",
    "for tag, count in zip(vocab, dist):\n",
    "    print (count, tag)"
   ]
  },
  {
   "cell_type": "markdown",
   "metadata": {},
   "source": [
    "#### Clean, Friendliness, stay, hostel, place, great location, good area seems to be some the most important words people use to descibe.\n",
    "\n",
    "#### Surprisingly, cheap and price is not talked much about considering we are reviewing a hostel."
   ]
  },
  {
   "cell_type": "markdown",
   "metadata": {
    "collapsed": true
   },
   "source": [
    "It is\n",
    "possible to classify a review based on the\n",
    "average semantic orientation of phrases in\n",
    "the review that contain adjectives and adverbs. We expect that there will be value\n",
    "in combining semantic orientation with more traditional text\n",
    "classification methods for review\n",
    "classification"
   ]
  },
  {
   "cell_type": "code",
   "execution_count": null,
   "metadata": {
    "collapsed": true
   },
   "outputs": [],
   "source": []
  }
 ],
 "metadata": {
  "anaconda-cloud": {},
  "kernelspec": {
   "display_name": "Python [default]",
   "language": "python",
   "name": "python3"
  },
  "language_info": {
   "codemirror_mode": {
    "name": "ipython",
    "version": 3
   },
   "file_extension": ".py",
   "mimetype": "text/x-python",
   "name": "python",
   "nbconvert_exporter": "python",
   "pygments_lexer": "ipython3",
   "version": "3.5.1"
  }
 },
 "nbformat": 4,
 "nbformat_minor": 1
}
