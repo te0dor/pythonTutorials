{
 "cells": [
  {
   "cell_type": "code",
   "execution_count": 1,
   "metadata": {},
   "outputs": [
    {
     "name": "stderr",
     "output_type": "stream",
     "text": [
      "Using TensorFlow backend.\n"
     ]
    }
   ],
   "source": [
    "import cv2 # for image processing\n",
    "import numpy as np # linear algebra\n",
    "import pandas as pd # data processing, CSV file I/O (e.g. pd.read_csv)\n",
    "import os\n",
    "from tqdm import tqdm\n",
    "from sklearn import preprocessing\n",
    "from sklearn.model_selection import train_test_split\n",
    "import cv2\n",
    "\n",
    "from __future__ import print_function\n",
    "\n",
    "from keras.models import Sequential\n",
    "from keras.layers.core import Dense, Activation\n",
    "from keras.optimizers import SGD\n",
    "from keras.utils import np_utils\n"
   ]
  },
  {
   "cell_type": "code",
   "execution_count": 2,
   "metadata": {
    "collapsed": true
   },
   "outputs": [],
   "source": [
    "np.random.seed(1671)  # for reproducibility"
   ]
  },
  {
   "cell_type": "code",
   "execution_count": 31,
   "metadata": {
    "collapsed": true
   },
   "outputs": [],
   "source": [
    "NB_EPOCH = 100\n",
    "BATCH_SIZE = 32\n",
    "VERBOSE = 1\n",
    "NB_CLASSES = 120   # number of outputs = number of digits\n",
    "OPTIMIZER = SGD() # SGD optimizer, explained later in this chapter\n",
    "N_HIDDEN = 128\n",
    "VALIDATION_SPLIT=0.2 # how much TRAIN is reserved for VALIDATION"
   ]
  },
  {
   "cell_type": "code",
   "execution_count": 4,
   "metadata": {},
   "outputs": [
    {
     "name": "stdout",
     "output_type": "stream",
     "text": [
      "                                 id             breed\n",
      "0  000bec180eb18c7604dcecc8fe0dba07       boston_bull\n",
      "1  001513dfcb2ffafc82cccf4d8bbaba97             dingo\n",
      "2  001cdf01b096e06d78e9e5112d419397          pekinese\n",
      "3  00214f311d5d2247d5dfe4fe24b2303d          bluetick\n",
      "4  0021f9ceb3235effd7fcde7f7538ed62  golden_retriever\n"
     ]
    }
   ],
   "source": [
    "# taking the labels for the images\n",
    "labels = pd.read_csv('data/Dog_breed/labels.csv/labels.csv')\n",
    "print(labels.head())"
   ]
  },
  {
   "cell_type": "code",
   "execution_count": 5,
   "metadata": {
    "collapsed": true
   },
   "outputs": [],
   "source": [
    "targets_series = pd.Series(labels['breed'])\n",
    "one_hot = pd.get_dummies(targets_series, sparse = True)"
   ]
  },
  {
   "cell_type": "code",
   "execution_count": 6,
   "metadata": {
    "collapsed": true
   },
   "outputs": [],
   "source": [
    "one_hot_labels = np.asarray(one_hot)"
   ]
  },
  {
   "cell_type": "code",
   "execution_count": 7,
   "metadata": {
    "collapsed": true
   },
   "outputs": [],
   "source": [
    "im_size = 90\n",
    "x = []\n",
    "y = []\n",
    "x_submission = []"
   ]
  },
  {
   "cell_type": "code",
   "execution_count": 8,
   "metadata": {},
   "outputs": [
    {
     "name": "stderr",
     "output_type": "stream",
     "text": [
      "100%|██████████| 10222/10222 [02:05<00:00, 81.56it/s]\n"
     ]
    }
   ],
   "source": [
    "i = 0 \n",
    "for f, breed in tqdm(labels.values):\n",
    "    img = cv2.imread('data/Dog_breed/train/{}.jpg'.format(f))\n",
    "    label = one_hot_labels[i]\n",
    "    x.append(cv2.resize(img, (im_size, im_size)))\n",
    "    y.append(label)\n",
    "    i += 1"
   ]
  },
  {
   "cell_type": "code",
   "execution_count": 9,
   "metadata": {
    "collapsed": true
   },
   "outputs": [],
   "source": [
    "df_test = pd.read_csv('data/Dog_breed/sample_submission.csv/sample_submission.csv')"
   ]
  },
  {
   "cell_type": "code",
   "execution_count": 10,
   "metadata": {},
   "outputs": [
    {
     "name": "stderr",
     "output_type": "stream",
     "text": [
      "100%|██████████| 10357/10357 [02:17<00:00, 75.44it/s]\n"
     ]
    }
   ],
   "source": [
    "for f in tqdm(df_test['id'].values):\n",
    "    img = cv2.imread('data/Dog_breed/test/{}.jpg'.format(f))\n",
    "    x_submission.append(cv2.resize(img, (im_size, im_size)))"
   ]
  },
  {
   "cell_type": "code",
   "execution_count": 11,
   "metadata": {
    "collapsed": true
   },
   "outputs": [],
   "source": [
    "x = np.array(x)"
   ]
  },
  {
   "cell_type": "code",
   "execution_count": 12,
   "metadata": {
    "collapsed": true
   },
   "outputs": [],
   "source": [
    "x_submission = np.array(x_submission)"
   ]
  },
  {
   "cell_type": "code",
   "execution_count": 13,
   "metadata": {
    "collapsed": true
   },
   "outputs": [],
   "source": [
    "RESHAPED = 24300"
   ]
  },
  {
   "cell_type": "code",
   "execution_count": 14,
   "metadata": {
    "collapsed": true
   },
   "outputs": [],
   "source": [
    "X = x.reshape(x.shape[0], RESHAPED)"
   ]
  },
  {
   "cell_type": "code",
   "execution_count": 15,
   "metadata": {
    "collapsed": true
   },
   "outputs": [],
   "source": [
    "X_submission = x_submission.reshape(x_submission.shape[0], RESHAPED)"
   ]
  },
  {
   "cell_type": "code",
   "execution_count": 16,
   "metadata": {
    "collapsed": true
   },
   "outputs": [],
   "source": [
    "X = X.astype('float32')"
   ]
  },
  {
   "cell_type": "code",
   "execution_count": 17,
   "metadata": {
    "collapsed": true
   },
   "outputs": [],
   "source": [
    "X_submission = X_submission.astype('float32')"
   ]
  },
  {
   "cell_type": "code",
   "execution_count": 18,
   "metadata": {
    "collapsed": true
   },
   "outputs": [],
   "source": [
    "X/=255\n",
    "X_submission/=255"
   ]
  },
  {
   "cell_type": "code",
   "execution_count": 19,
   "metadata": {},
   "outputs": [
    {
     "data": {
      "text/plain": [
       "(10222, 24300)"
      ]
     },
     "execution_count": 19,
     "metadata": {},
     "output_type": "execute_result"
    }
   ],
   "source": [
    "X.shape"
   ]
  },
  {
   "cell_type": "code",
   "execution_count": 20,
   "metadata": {},
   "outputs": [
    {
     "name": "stdout",
     "output_type": "stream",
     "text": [
      "10222 train samples\n",
      "10357 test samples\n"
     ]
    }
   ],
   "source": [
    "print(X.shape[0], 'train samples')\n",
    "print(X_submission.shape[0], 'test samples')\n"
   ]
  },
  {
   "cell_type": "code",
   "execution_count": 21,
   "metadata": {
    "collapsed": true
   },
   "outputs": [],
   "source": [
    "y = np.array(y)\n"
   ]
  },
  {
   "cell_type": "code",
   "execution_count": 22,
   "metadata": {
    "collapsed": true
   },
   "outputs": [],
   "source": [
    "Y = np_utils.to_categorical(y, NB_CLASSES)"
   ]
  },
  {
   "cell_type": "code",
   "execution_count": 23,
   "metadata": {},
   "outputs": [
    {
     "data": {
      "text/plain": [
       "array([[ 1.,  1.,  0., ...,  0.,  0.,  0.],\n",
       "       [ 1.,  1.,  0., ...,  0.,  0.,  0.],\n",
       "       [ 1.,  1.,  0., ...,  0.,  0.,  0.],\n",
       "       ..., \n",
       "       [ 1.,  1.,  0., ...,  0.,  0.,  0.],\n",
       "       [ 1.,  1.,  0., ...,  0.,  0.,  0.],\n",
       "       [ 1.,  1.,  0., ...,  0.,  0.,  0.]])"
      ]
     },
     "execution_count": 23,
     "metadata": {},
     "output_type": "execute_result"
    }
   ],
   "source": [
    "Y"
   ]
  },
  {
   "cell_type": "code",
   "execution_count": 32,
   "metadata": {
    "collapsed": true
   },
   "outputs": [],
   "source": [
    "from sklearn.model_selection import train_test_split\n",
    "X_train, X_test, y_train, y_test = train_test_split(X, Y, test_size=0.10, random_state=42)"
   ]
  },
  {
   "cell_type": "code",
   "execution_count": 33,
   "metadata": {},
   "outputs": [
    {
     "name": "stdout",
     "output_type": "stream",
     "text": [
      "____________________________________________________________________________________________________\n",
      "Layer (type)                     Output Shape          Param #     Connected to                     \n",
      "====================================================================================================\n",
      "dense_2 (Dense)                  (None, 120)           2916120     dense_input_2[0][0]              \n",
      "____________________________________________________________________________________________________\n",
      "activation_2 (Activation)        (None, 120)           0           dense_2[0][0]                    \n",
      "====================================================================================================\n",
      "Total params: 2,916,120\n",
      "Trainable params: 2,916,120\n",
      "Non-trainable params: 0\n",
      "____________________________________________________________________________________________________\n",
      "Train on 7359 samples, validate on 1840 samples\n",
      "Epoch 1/100\n",
      "7359/7359 [==============================] - 1s - loss: 15.9954 - acc: 0.0053 - val_loss: 16.1181 - val_acc: 0.0000e+00\n",
      "Epoch 2/100\n",
      "7359/7359 [==============================] - 1s - loss: 16.1180 - acc: 0.0000e+00 - val_loss: 16.1181 - val_acc: 0.0000e+00\n",
      "Epoch 3/100\n",
      "7359/7359 [==============================] - 1s - loss: 16.1179 - acc: 0.0000e+00 - val_loss: 16.1181 - val_acc: 0.0000e+00\n",
      "Epoch 4/100\n",
      "7359/7359 [==============================] - 1s - loss: 16.1179 - acc: 0.0000e+00 - val_loss: 16.1181 - val_acc: 0.0000e+00\n",
      "Epoch 5/100\n",
      "7359/7359 [==============================] - 1s - loss: 16.1178 - acc: 0.0000e+00 - val_loss: 16.1181 - val_acc: 0.0000e+00\n",
      "Epoch 6/100\n",
      "7359/7359 [==============================] - 1s - loss: 16.1178 - acc: 0.0000e+00 - val_loss: 16.1181 - val_acc: 0.0000e+00\n",
      "Epoch 7/100\n",
      "7359/7359 [==============================] - 1s - loss: 16.1177 - acc: 0.0000e+00 - val_loss: 16.1181 - val_acc: 0.0000e+00\n",
      "Epoch 8/100\n",
      "7359/7359 [==============================] - 1s - loss: 16.1177 - acc: 0.0000e+00 - val_loss: 16.1181 - val_acc: 0.0000e+00\n",
      "Epoch 9/100\n",
      "7359/7359 [==============================] - 1s - loss: 16.1176 - acc: 0.0000e+00 - val_loss: 16.1181 - val_acc: 0.0000e+00\n",
      "Epoch 10/100\n",
      "7359/7359 [==============================] - 1s - loss: 16.1176 - acc: 0.0000e+00 - val_loss: 16.1181 - val_acc: 0.0000e+00\n",
      "Epoch 11/100\n",
      "7359/7359 [==============================] - 1s - loss: 16.1176 - acc: 0.0000e+00 - val_loss: 16.1181 - val_acc: 0.0000e+00\n",
      "Epoch 12/100\n",
      "7359/7359 [==============================] - 1s - loss: 16.1175 - acc: 0.0000e+00 - val_loss: 16.1181 - val_acc: 0.0000e+00\n",
      "Epoch 13/100\n",
      "7359/7359 [==============================] - 1s - loss: 16.1175 - acc: 0.0000e+00 - val_loss: 16.1181 - val_acc: 0.0000e+00\n",
      "Epoch 14/100\n",
      "7359/7359 [==============================] - 1s - loss: 16.1174 - acc: 0.0000e+00 - val_loss: 16.1181 - val_acc: 0.0000e+00\n",
      "Epoch 15/100\n",
      "7359/7359 [==============================] - 1s - loss: 16.1174 - acc: 0.0000e+00 - val_loss: 16.1181 - val_acc: 0.0000e+00\n",
      "Epoch 16/100\n",
      "7359/7359 [==============================] - 1s - loss: 16.1173 - acc: 0.0000e+00 - val_loss: 16.1181 - val_acc: 0.0000e+00\n",
      "Epoch 17/100\n",
      "7359/7359 [==============================] - 1s - loss: 16.1173 - acc: 0.0000e+00 - val_loss: 16.1181 - val_acc: 0.0000e+00\n",
      "Epoch 18/100\n",
      "7359/7359 [==============================] - 1s - loss: 16.1172 - acc: 0.0000e+00 - val_loss: 16.1181 - val_acc: 0.0000e+00\n",
      "Epoch 19/100\n",
      "7359/7359 [==============================] - 1s - loss: 16.1172 - acc: 0.0000e+00 - val_loss: 16.1181 - val_acc: 0.0000e+00\n",
      "Epoch 20/100\n",
      "7359/7359 [==============================] - 1s - loss: 16.1172 - acc: 0.0000e+00 - val_loss: 16.1181 - val_acc: 0.0000e+00\n",
      "Epoch 21/100\n",
      "7359/7359 [==============================] - 1s - loss: 16.1171 - acc: 0.0000e+00 - val_loss: 16.1181 - val_acc: 0.0000e+00\n",
      "Epoch 22/100\n",
      "7359/7359 [==============================] - 1s - loss: 16.1169 - acc: 0.0000e+00 - val_loss: 16.1181 - val_acc: 0.0000e+00\n",
      "Epoch 23/100\n",
      "7359/7359 [==============================] - 1s - loss: 16.1167 - acc: 0.0000e+00 - val_loss: 16.1181 - val_acc: 0.0000e+00\n",
      "Epoch 24/100\n",
      "7359/7359 [==============================] - 1s - loss: 16.1164 - acc: 0.0000e+00 - val_loss: 16.1181 - val_acc: 0.0000e+00\n",
      "Epoch 25/100\n",
      "7359/7359 [==============================] - 1s - loss: 16.1158 - acc: 0.0000e+00 - val_loss: 16.1173 - val_acc: 0.0000e+00\n",
      "Epoch 26/100\n",
      "7359/7359 [==============================] - 1s - loss: 16.1152 - acc: 0.0000e+00 - val_loss: 16.1159 - val_acc: 0.0000e+00\n",
      "Epoch 27/100\n",
      "7359/7359 [==============================] - 1s - loss: 16.1103 - acc: 0.0000e+00 - val_loss: 16.0778 - val_acc: 0.0000e+00\n",
      "Epoch 28/100\n",
      "7359/7359 [==============================] - 1s - loss: 15.0996 - acc: 0.7066 - val_loss: 16.1121 - val_acc: 1.0000\n",
      "Epoch 29/100\n",
      "7359/7359 [==============================] - 1s - loss: 15.7558 - acc: 0.9534 - val_loss: 16.1180 - val_acc: 1.0000\n",
      "Epoch 30/100\n",
      "7359/7359 [==============================] - 1s - loss: 16.1181 - acc: 1.0000 - val_loss: 16.1180 - val_acc: 1.0000\n",
      "Epoch 31/100\n",
      "7359/7359 [==============================] - 1s - loss: 16.1181 - acc: 1.0000 - val_loss: 16.1180 - val_acc: 1.0000\n",
      "Epoch 32/100\n",
      "7359/7359 [==============================] - 1s - loss: 16.1181 - acc: 1.0000 - val_loss: 16.1180 - val_acc: 1.0000\n",
      "Epoch 33/100\n",
      "7359/7359 [==============================] - 1s - loss: 16.1181 - acc: 1.0000 - val_loss: 16.1180 - val_acc: 1.0000\n",
      "Epoch 34/100\n",
      "7359/7359 [==============================] - 1s - loss: 16.1181 - acc: 1.0000 - val_loss: 16.1180 - val_acc: 1.0000\n",
      "Epoch 35/100\n",
      "7359/7359 [==============================] - 1s - loss: 16.1181 - acc: 1.0000 - val_loss: 16.1180 - val_acc: 1.0000\n",
      "Epoch 36/100\n",
      "7359/7359 [==============================] - 1s - loss: 16.1181 - acc: 1.0000 - val_loss: 16.1180 - val_acc: 1.0000\n",
      "Epoch 37/100\n",
      "7359/7359 [==============================] - 1s - loss: 16.1181 - acc: 1.0000 - val_loss: 16.1180 - val_acc: 1.0000\n",
      "Epoch 38/100\n",
      "7359/7359 [==============================] - 1s - loss: 16.1181 - acc: 1.0000 - val_loss: 16.1180 - val_acc: 1.0000\n",
      "Epoch 39/100\n",
      "7359/7359 [==============================] - 1s - loss: 16.1181 - acc: 1.0000 - val_loss: 16.1180 - val_acc: 1.0000\n",
      "Epoch 40/100\n",
      "7359/7359 [==============================] - 1s - loss: 16.1181 - acc: 1.0000 - val_loss: 16.1180 - val_acc: 1.0000\n",
      "Epoch 41/100\n",
      "7359/7359 [==============================] - 1s - loss: 16.1181 - acc: 1.0000 - val_loss: 16.1180 - val_acc: 1.0000\n",
      "Epoch 42/100\n",
      "7359/7359 [==============================] - 1s - loss: 16.1181 - acc: 1.0000 - val_loss: 16.1180 - val_acc: 1.0000\n",
      "Epoch 43/100\n",
      "7359/7359 [==============================] - 1s - loss: 16.1181 - acc: 1.0000 - val_loss: 16.1180 - val_acc: 1.0000\n",
      "Epoch 44/100\n",
      "7359/7359 [==============================] - 1s - loss: 16.1181 - acc: 1.0000 - val_loss: 16.1180 - val_acc: 1.0000\n",
      "Epoch 45/100\n",
      "7359/7359 [==============================] - 1s - loss: 16.1181 - acc: 1.0000 - val_loss: 16.1180 - val_acc: 1.0000\n",
      "Epoch 46/100\n",
      "7359/7359 [==============================] - 1s - loss: 16.1181 - acc: 1.0000 - val_loss: 16.1180 - val_acc: 1.0000\n",
      "Epoch 47/100\n",
      "7359/7359 [==============================] - 1s - loss: 16.1181 - acc: 1.0000 - val_loss: 16.1180 - val_acc: 1.0000\n",
      "Epoch 48/100\n",
      "7359/7359 [==============================] - 1s - loss: 16.1181 - acc: 1.0000 - val_loss: 16.1180 - val_acc: 1.0000\n",
      "Epoch 49/100\n",
      "7359/7359 [==============================] - 1s - loss: 16.1181 - acc: 1.0000 - val_loss: 16.1180 - val_acc: 1.0000\n",
      "Epoch 50/100\n",
      "7359/7359 [==============================] - 1s - loss: 16.1181 - acc: 1.0000 - val_loss: 16.1180 - val_acc: 1.0000\n",
      "Epoch 51/100\n",
      "7359/7359 [==============================] - 1s - loss: 16.1181 - acc: 1.0000 - val_loss: 16.1180 - val_acc: 1.0000\n",
      "Epoch 52/100\n",
      "7359/7359 [==============================] - 1s - loss: 16.1181 - acc: 1.0000 - val_loss: 16.1180 - val_acc: 1.0000\n",
      "Epoch 53/100\n",
      "7359/7359 [==============================] - 1s - loss: 16.1181 - acc: 1.0000 - val_loss: 16.1180 - val_acc: 1.0000\n",
      "Epoch 54/100\n",
      "7359/7359 [==============================] - 1s - loss: 16.1181 - acc: 1.0000 - val_loss: 16.1180 - val_acc: 1.0000\n",
      "Epoch 55/100\n",
      "7359/7359 [==============================] - 1s - loss: 16.1181 - acc: 1.0000 - val_loss: 16.1180 - val_acc: 1.0000\n",
      "Epoch 56/100\n",
      "7359/7359 [==============================] - 1s - loss: 16.1181 - acc: 1.0000 - val_loss: 16.1180 - val_acc: 1.0000\n",
      "Epoch 57/100\n",
      "7359/7359 [==============================] - 1s - loss: 16.1181 - acc: 1.0000 - val_loss: 16.1180 - val_acc: 1.0000\n",
      "Epoch 58/100\n",
      "7359/7359 [==============================] - 1s - loss: 16.1181 - acc: 1.0000 - val_loss: 16.1180 - val_acc: 1.0000\n",
      "Epoch 59/100\n",
      "7359/7359 [==============================] - 1s - loss: 16.1181 - acc: 1.0000 - val_loss: 16.1180 - val_acc: 1.0000\n",
      "Epoch 60/100\n",
      "7359/7359 [==============================] - 1s - loss: 16.1181 - acc: 1.0000 - val_loss: 16.1180 - val_acc: 1.0000\n",
      "Epoch 61/100\n",
      "7359/7359 [==============================] - 1s - loss: 16.1181 - acc: 1.0000 - val_loss: 16.1180 - val_acc: 1.0000\n",
      "Epoch 62/100\n",
      "7359/7359 [==============================] - 1s - loss: 16.1181 - acc: 1.0000 - val_loss: 16.1180 - val_acc: 1.0000\n",
      "Epoch 63/100\n",
      "7359/7359 [==============================] - 1s - loss: 16.1181 - acc: 1.0000 - val_loss: 16.1180 - val_acc: 1.0000\n",
      "Epoch 64/100\n",
      "7359/7359 [==============================] - 1s - loss: 16.1181 - acc: 1.0000 - val_loss: 16.1180 - val_acc: 1.0000\n",
      "Epoch 65/100\n",
      "7359/7359 [==============================] - 1s - loss: 16.1181 - acc: 1.0000 - val_loss: 16.1180 - val_acc: 1.0000\n",
      "Epoch 66/100\n",
      "7359/7359 [==============================] - 1s - loss: 16.1181 - acc: 1.0000 - val_loss: 16.1180 - val_acc: 1.0000\n",
      "Epoch 67/100\n",
      "7359/7359 [==============================] - 1s - loss: 16.1181 - acc: 1.0000 - val_loss: 16.1180 - val_acc: 1.0000\n",
      "Epoch 68/100\n",
      "7359/7359 [==============================] - 1s - loss: 16.1181 - acc: 1.0000 - val_loss: 16.1180 - val_acc: 1.0000\n",
      "Epoch 69/100\n",
      "7359/7359 [==============================] - 1s - loss: 16.1181 - acc: 1.0000 - val_loss: 16.1180 - val_acc: 1.0000\n",
      "Epoch 70/100\n",
      "7359/7359 [==============================] - 1s - loss: 16.1181 - acc: 1.0000 - val_loss: 16.1180 - val_acc: 1.0000\n",
      "Epoch 71/100\n",
      "7359/7359 [==============================] - 1s - loss: 16.1181 - acc: 1.0000 - val_loss: 16.1180 - val_acc: 1.0000\n",
      "Epoch 72/100\n",
      "7359/7359 [==============================] - 1s - loss: 16.1181 - acc: 1.0000 - val_loss: 16.1180 - val_acc: 1.0000\n",
      "Epoch 73/100\n",
      "7359/7359 [==============================] - 1s - loss: 16.1181 - acc: 1.0000 - val_loss: 16.1180 - val_acc: 1.0000\n",
      "Epoch 74/100\n",
      "7359/7359 [==============================] - 1s - loss: 16.1181 - acc: 1.0000 - val_loss: 16.1180 - val_acc: 1.0000\n",
      "Epoch 75/100\n",
      "7359/7359 [==============================] - 1s - loss: 16.1181 - acc: 1.0000 - val_loss: 16.1180 - val_acc: 1.0000\n",
      "Epoch 76/100\n",
      "7359/7359 [==============================] - 1s - loss: 16.1181 - acc: 1.0000 - val_loss: 16.1180 - val_acc: 1.0000\n",
      "Epoch 77/100\n",
      "7359/7359 [==============================] - 1s - loss: 16.1181 - acc: 1.0000 - val_loss: 16.1180 - val_acc: 1.0000\n",
      "Epoch 78/100\n",
      "7359/7359 [==============================] - 1s - loss: 16.1181 - acc: 1.0000 - val_loss: 16.1180 - val_acc: 1.0000\n",
      "Epoch 79/100\n",
      "7359/7359 [==============================] - 1s - loss: 16.1181 - acc: 1.0000 - val_loss: 16.1180 - val_acc: 1.0000\n",
      "Epoch 80/100\n",
      "7359/7359 [==============================] - 1s - loss: 16.1181 - acc: 1.0000 - val_loss: 16.1180 - val_acc: 1.0000\n",
      "Epoch 81/100\n",
      "7359/7359 [==============================] - 1s - loss: 16.1181 - acc: 1.0000 - val_loss: 16.1180 - val_acc: 1.0000\n",
      "Epoch 82/100\n",
      "7359/7359 [==============================] - 1s - loss: 16.1181 - acc: 1.0000 - val_loss: 16.1180 - val_acc: 1.0000\n",
      "Epoch 83/100\n",
      "7359/7359 [==============================] - 1s - loss: 16.1181 - acc: 1.0000 - val_loss: 16.1180 - val_acc: 1.0000\n",
      "Epoch 84/100\n",
      "7359/7359 [==============================] - 1s - loss: 16.1181 - acc: 1.0000 - val_loss: 16.1180 - val_acc: 1.0000\n",
      "Epoch 85/100\n",
      "7359/7359 [==============================] - 1s - loss: 16.1181 - acc: 1.0000 - val_loss: 16.1180 - val_acc: 1.0000\n",
      "Epoch 86/100\n",
      "7359/7359 [==============================] - 1s - loss: 16.1181 - acc: 1.0000 - val_loss: 16.1180 - val_acc: 1.0000\n",
      "Epoch 87/100\n",
      "7359/7359 [==============================] - 1s - loss: 16.1181 - acc: 1.0000 - val_loss: 16.1180 - val_acc: 1.0000\n",
      "Epoch 88/100\n",
      "7359/7359 [==============================] - 1s - loss: 16.1181 - acc: 1.0000 - val_loss: 16.1180 - val_acc: 1.0000\n",
      "Epoch 89/100\n",
      "7359/7359 [==============================] - 1s - loss: 16.1181 - acc: 1.0000 - val_loss: 16.1180 - val_acc: 1.0000\n",
      "Epoch 90/100\n",
      "7359/7359 [==============================] - 1s - loss: 16.1181 - acc: 1.0000 - val_loss: 16.1180 - val_acc: 1.0000\n",
      "Epoch 91/100\n",
      "7359/7359 [==============================] - 1s - loss: 16.1181 - acc: 1.0000 - val_loss: 16.1180 - val_acc: 1.0000\n",
      "Epoch 92/100\n",
      "7359/7359 [==============================] - 1s - loss: 16.1181 - acc: 1.0000 - val_loss: 16.1180 - val_acc: 1.0000\n",
      "Epoch 93/100\n",
      "7359/7359 [==============================] - 1s - loss: 16.1181 - acc: 1.0000 - val_loss: 16.1180 - val_acc: 1.0000\n",
      "Epoch 94/100\n",
      "7359/7359 [==============================] - 1s - loss: 16.1181 - acc: 1.0000 - val_loss: 16.1180 - val_acc: 1.0000\n",
      "Epoch 95/100\n",
      "7359/7359 [==============================] - 1s - loss: 16.1181 - acc: 1.0000 - val_loss: 16.1180 - val_acc: 1.0000\n",
      "Epoch 96/100\n",
      "7359/7359 [==============================] - 1s - loss: 16.1181 - acc: 1.0000 - val_loss: 16.1180 - val_acc: 1.0000\n",
      "Epoch 97/100\n",
      "7359/7359 [==============================] - 1s - loss: 16.1181 - acc: 1.0000 - val_loss: 16.1180 - val_acc: 1.0000\n",
      "Epoch 98/100\n",
      "7359/7359 [==============================] - 1s - loss: 16.1181 - acc: 1.0000 - val_loss: 16.1180 - val_acc: 1.0000\n",
      "Epoch 99/100\n",
      "7359/7359 [==============================] - 1s - loss: 16.1181 - acc: 1.0000 - val_loss: 16.1180 - val_acc: 1.0000\n",
      "Epoch 100/100\n",
      "7359/7359 [==============================] - 1s - loss: 16.1181 - acc: 1.0000 - val_loss: 16.1180 - val_acc: 1.0000\n"
     ]
    }
   ],
   "source": [
    "model = Sequential()\n",
    "model.add(Dense(NB_CLASSES, input_shape= (RESHAPED,)))\n",
    "#Softmax squashes a k-dimensional vector of arbitrary real values into a kdimensional\n",
    "#vector of real values in the range (0, 1).\n",
    "model.add(Activation('softmax'))\n",
    "\n",
    "model.summary()\n",
    "\n",
    "model.compile(loss='categorical_crossentropy',\n",
    "              optimizer=OPTIMIZER,\n",
    "              metrics=['accuracy'])\n",
    "\n",
    "history = model.fit(X_train, y_train,\n",
    "                    batch_size=BATCH_SIZE, nb_epoch=NB_EPOCH,\n",
    "                    verbose=VERBOSE, validation_split=VALIDATION_SPLIT)\n"
   ]
  },
  {
   "cell_type": "code",
   "execution_count": 34,
   "metadata": {},
   "outputs": [
    {
     "name": "stdout",
     "output_type": "stream",
     "text": [
      " 992/1023 [============================>.] - ETA: 0s"
     ]
    }
   ],
   "source": [
    "score = model.evaluate(X_test, y_test, verbose=VERBOSE)"
   ]
  },
  {
   "cell_type": "code",
   "execution_count": 35,
   "metadata": {},
   "outputs": [
    {
     "name": "stdout",
     "output_type": "stream",
     "text": [
      "\n",
      "Test score: 16.1180953979\n",
      "Test accuracy: 1.0\n"
     ]
    }
   ],
   "source": [
    "print(\"\\nTest score:\", score[0])\n",
    "print('Test accuracy:', score[1])"
   ]
  },
  {
   "cell_type": "code",
   "execution_count": 36,
   "metadata": {},
   "outputs": [
    {
     "name": "stdout",
     "output_type": "stream",
     "text": [
      "10336/10357 [============================>.] - ETA: 0s"
     ]
    }
   ],
   "source": [
    "preds = model.predict(X_submission, verbose=1)"
   ]
  },
  {
   "cell_type": "code",
   "execution_count": 37,
   "metadata": {},
   "outputs": [
    {
     "data": {
      "text/html": [
       "<div>\n",
       "<table border=\"1\" class=\"dataframe\">\n",
       "  <thead>\n",
       "    <tr style=\"text-align: right;\">\n",
       "      <th></th>\n",
       "      <th>id</th>\n",
       "      <th>affenpinscher</th>\n",
       "      <th>afghan_hound</th>\n",
       "      <th>african_hunting_dog</th>\n",
       "      <th>airedale</th>\n",
       "      <th>american_staffordshire_terrier</th>\n",
       "      <th>appenzeller</th>\n",
       "      <th>australian_terrier</th>\n",
       "      <th>basenji</th>\n",
       "      <th>basset</th>\n",
       "      <th>...</th>\n",
       "      <th>toy_poodle</th>\n",
       "      <th>toy_terrier</th>\n",
       "      <th>vizsla</th>\n",
       "      <th>walker_hound</th>\n",
       "      <th>weimaraner</th>\n",
       "      <th>welsh_springer_spaniel</th>\n",
       "      <th>west_highland_white_terrier</th>\n",
       "      <th>whippet</th>\n",
       "      <th>wire-haired_fox_terrier</th>\n",
       "      <th>yorkshire_terrier</th>\n",
       "    </tr>\n",
       "  </thead>\n",
       "  <tbody>\n",
       "    <tr>\n",
       "      <th>0</th>\n",
       "      <td>000621fb3cbb32d8935728e48679680e</td>\n",
       "      <td>1.0</td>\n",
       "      <td>3.896380e-27</td>\n",
       "      <td>3.793541e-33</td>\n",
       "      <td>1.567988e-33</td>\n",
       "      <td>3.381416e-33</td>\n",
       "      <td>1.220703e-33</td>\n",
       "      <td>3.640289e-33</td>\n",
       "      <td>3.409887e-33</td>\n",
       "      <td>2.874920e-33</td>\n",
       "      <td>...</td>\n",
       "      <td>2.950359e-33</td>\n",
       "      <td>5.131241e-33</td>\n",
       "      <td>4.023166e-33</td>\n",
       "      <td>3.804120e-33</td>\n",
       "      <td>3.939276e-33</td>\n",
       "      <td>5.674007e-33</td>\n",
       "      <td>3.915514e-33</td>\n",
       "      <td>2.500672e-33</td>\n",
       "      <td>5.089524e-33</td>\n",
       "      <td>3.063373e-33</td>\n",
       "    </tr>\n",
       "    <tr>\n",
       "      <th>1</th>\n",
       "      <td>00102ee9d8eb90812350685311fe5890</td>\n",
       "      <td>1.0</td>\n",
       "      <td>8.713766e-33</td>\n",
       "      <td>0.000000e+00</td>\n",
       "      <td>0.000000e+00</td>\n",
       "      <td>0.000000e+00</td>\n",
       "      <td>0.000000e+00</td>\n",
       "      <td>1.815005e-38</td>\n",
       "      <td>0.000000e+00</td>\n",
       "      <td>0.000000e+00</td>\n",
       "      <td>...</td>\n",
       "      <td>2.771630e-38</td>\n",
       "      <td>1.357314e-38</td>\n",
       "      <td>1.551461e-38</td>\n",
       "      <td>1.839162e-38</td>\n",
       "      <td>1.568205e-38</td>\n",
       "      <td>1.479748e-38</td>\n",
       "      <td>2.364703e-38</td>\n",
       "      <td>0.000000e+00</td>\n",
       "      <td>0.000000e+00</td>\n",
       "      <td>0.000000e+00</td>\n",
       "    </tr>\n",
       "    <tr>\n",
       "      <th>2</th>\n",
       "      <td>0012a730dfa437f5f3613fb75efcd4ce</td>\n",
       "      <td>1.0</td>\n",
       "      <td>2.156441e-23</td>\n",
       "      <td>1.055942e-27</td>\n",
       "      <td>6.453466e-28</td>\n",
       "      <td>5.374105e-28</td>\n",
       "      <td>5.192830e-28</td>\n",
       "      <td>4.954145e-28</td>\n",
       "      <td>1.194396e-27</td>\n",
       "      <td>6.590195e-28</td>\n",
       "      <td>...</td>\n",
       "      <td>6.784881e-28</td>\n",
       "      <td>8.722733e-28</td>\n",
       "      <td>1.090285e-27</td>\n",
       "      <td>1.008641e-27</td>\n",
       "      <td>1.080064e-27</td>\n",
       "      <td>8.136501e-28</td>\n",
       "      <td>7.580206e-28</td>\n",
       "      <td>4.866261e-28</td>\n",
       "      <td>8.529745e-28</td>\n",
       "      <td>1.008171e-27</td>\n",
       "    </tr>\n",
       "    <tr>\n",
       "      <th>3</th>\n",
       "      <td>001510bc8570bbeee98c8d80c8a95ec1</td>\n",
       "      <td>1.0</td>\n",
       "      <td>1.852027e-28</td>\n",
       "      <td>4.587166e-37</td>\n",
       "      <td>3.742222e-37</td>\n",
       "      <td>6.072048e-37</td>\n",
       "      <td>3.469291e-37</td>\n",
       "      <td>4.487096e-37</td>\n",
       "      <td>5.274521e-37</td>\n",
       "      <td>6.241133e-37</td>\n",
       "      <td>...</td>\n",
       "      <td>3.658937e-37</td>\n",
       "      <td>9.368692e-37</td>\n",
       "      <td>7.286943e-37</td>\n",
       "      <td>9.101325e-37</td>\n",
       "      <td>5.655627e-37</td>\n",
       "      <td>5.633879e-37</td>\n",
       "      <td>4.667978e-37</td>\n",
       "      <td>4.011358e-37</td>\n",
       "      <td>5.240466e-37</td>\n",
       "      <td>5.587264e-37</td>\n",
       "    </tr>\n",
       "    <tr>\n",
       "      <th>4</th>\n",
       "      <td>001a5f3114548acdefa3d4da05474c2e</td>\n",
       "      <td>1.0</td>\n",
       "      <td>7.916199e-25</td>\n",
       "      <td>6.498569e-30</td>\n",
       "      <td>5.320879e-30</td>\n",
       "      <td>6.500255e-30</td>\n",
       "      <td>5.486390e-30</td>\n",
       "      <td>5.692769e-30</td>\n",
       "      <td>7.755311e-30</td>\n",
       "      <td>4.521563e-30</td>\n",
       "      <td>...</td>\n",
       "      <td>6.176520e-30</td>\n",
       "      <td>1.050790e-29</td>\n",
       "      <td>1.386981e-29</td>\n",
       "      <td>1.022407e-29</td>\n",
       "      <td>8.659468e-30</td>\n",
       "      <td>4.287892e-30</td>\n",
       "      <td>5.822792e-30</td>\n",
       "      <td>8.879509e-30</td>\n",
       "      <td>1.495663e-29</td>\n",
       "      <td>1.062689e-29</td>\n",
       "    </tr>\n",
       "  </tbody>\n",
       "</table>\n",
       "<p>5 rows × 121 columns</p>\n",
       "</div>"
      ],
      "text/plain": [
       "                                 id  affenpinscher  afghan_hound  \\\n",
       "0  000621fb3cbb32d8935728e48679680e            1.0  3.896380e-27   \n",
       "1  00102ee9d8eb90812350685311fe5890            1.0  8.713766e-33   \n",
       "2  0012a730dfa437f5f3613fb75efcd4ce            1.0  2.156441e-23   \n",
       "3  001510bc8570bbeee98c8d80c8a95ec1            1.0  1.852027e-28   \n",
       "4  001a5f3114548acdefa3d4da05474c2e            1.0  7.916199e-25   \n",
       "\n",
       "   african_hunting_dog      airedale  american_staffordshire_terrier  \\\n",
       "0         3.793541e-33  1.567988e-33                    3.381416e-33   \n",
       "1         0.000000e+00  0.000000e+00                    0.000000e+00   \n",
       "2         1.055942e-27  6.453466e-28                    5.374105e-28   \n",
       "3         4.587166e-37  3.742222e-37                    6.072048e-37   \n",
       "4         6.498569e-30  5.320879e-30                    6.500255e-30   \n",
       "\n",
       "    appenzeller  australian_terrier       basenji        basset  \\\n",
       "0  1.220703e-33        3.640289e-33  3.409887e-33  2.874920e-33   \n",
       "1  0.000000e+00        1.815005e-38  0.000000e+00  0.000000e+00   \n",
       "2  5.192830e-28        4.954145e-28  1.194396e-27  6.590195e-28   \n",
       "3  3.469291e-37        4.487096e-37  5.274521e-37  6.241133e-37   \n",
       "4  5.486390e-30        5.692769e-30  7.755311e-30  4.521563e-30   \n",
       "\n",
       "         ...            toy_poodle   toy_terrier        vizsla  walker_hound  \\\n",
       "0        ...          2.950359e-33  5.131241e-33  4.023166e-33  3.804120e-33   \n",
       "1        ...          2.771630e-38  1.357314e-38  1.551461e-38  1.839162e-38   \n",
       "2        ...          6.784881e-28  8.722733e-28  1.090285e-27  1.008641e-27   \n",
       "3        ...          3.658937e-37  9.368692e-37  7.286943e-37  9.101325e-37   \n",
       "4        ...          6.176520e-30  1.050790e-29  1.386981e-29  1.022407e-29   \n",
       "\n",
       "     weimaraner  welsh_springer_spaniel  west_highland_white_terrier  \\\n",
       "0  3.939276e-33            5.674007e-33                 3.915514e-33   \n",
       "1  1.568205e-38            1.479748e-38                 2.364703e-38   \n",
       "2  1.080064e-27            8.136501e-28                 7.580206e-28   \n",
       "3  5.655627e-37            5.633879e-37                 4.667978e-37   \n",
       "4  8.659468e-30            4.287892e-30                 5.822792e-30   \n",
       "\n",
       "        whippet  wire-haired_fox_terrier  yorkshire_terrier  \n",
       "0  2.500672e-33             5.089524e-33       3.063373e-33  \n",
       "1  0.000000e+00             0.000000e+00       0.000000e+00  \n",
       "2  4.866261e-28             8.529745e-28       1.008171e-27  \n",
       "3  4.011358e-37             5.240466e-37       5.587264e-37  \n",
       "4  8.879509e-30             1.495663e-29       1.062689e-29  \n",
       "\n",
       "[5 rows x 121 columns]"
      ]
     },
     "execution_count": 37,
     "metadata": {},
     "output_type": "execute_result"
    }
   ],
   "source": [
    "sub = pd.DataFrame(preds)\n",
    "# Set column names to those generated by the one-hot encoding earlier\n",
    "col_names = one_hot.columns.values\n",
    "sub.columns = col_names\n",
    "# Insert the column id from the sample_submission at the start of the data frame\n",
    "sub.insert(0, 'id', df_test['id'])\n",
    "sub.head(5)\n"
   ]
  },
  {
   "cell_type": "code",
   "execution_count": 38,
   "metadata": {
    "collapsed": true
   },
   "outputs": [],
   "source": [
    "sub.to_csv(\"out.csv\")"
   ]
  },
  {
   "cell_type": "markdown",
   "metadata": {
    "collapsed": true
   },
   "source": [
    "#### Even though the epochs was increased from 5 to 100 the result was still the same on the kaggle leaderboard."
   ]
  },
  {
   "cell_type": "code",
   "execution_count": null,
   "metadata": {
    "collapsed": true
   },
   "outputs": [],
   "source": []
  }
 ],
 "metadata": {
  "hide_input": false,
  "kernelspec": {
   "display_name": "Python 2",
   "language": "python",
   "name": "python2"
  },
  "language_info": {
   "codemirror_mode": {
    "name": "ipython",
    "version": 2
   },
   "file_extension": ".py",
   "mimetype": "text/x-python",
   "name": "python",
   "nbconvert_exporter": "python",
   "pygments_lexer": "ipython2",
   "version": "2.7.6"
  }
 },
 "nbformat": 4,
 "nbformat_minor": 2
}
