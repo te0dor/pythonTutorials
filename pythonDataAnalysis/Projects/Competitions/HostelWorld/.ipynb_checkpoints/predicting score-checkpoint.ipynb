{
 "cells": [
  {
   "cell_type": "code",
   "execution_count": 1,
   "metadata": {
    "collapsed": true
   },
   "outputs": [],
   "source": [
    "# Import the pandas package, then use the \"read_csv\" function to read\n",
    "# the labeled training data\n",
    "import numpy as np \n",
    "import pandas as pd \n",
    "import seaborn as sns\n",
    "import matplotlib.pyplot as plt\n",
    "%matplotlib inline\n",
    "\n",
    "import warnings\n",
    "%config InlineBackend.figure_format = 'png' #set 'png' here when working on notebook\n",
    "warnings.filterwarnings('ignore') "
   ]
  },
  {
   "cell_type": "code",
   "execution_count": 2,
   "metadata": {
    "collapsed": false
   },
   "outputs": [],
   "source": [
    "train = pd.read_csv(r\"C:\\Users\\piush\\Desktop\\Dataset\\HostelWorld\\train_review_data.csv\")\n",
    "customer = pd.read_csv(r\"C:\\Users\\piush\\Desktop\\Dataset\\HostelWorld\\customer_data.csv\")\n",
    "hostel = pd.read_csv(r\"C:\\Users\\piush\\Desktop\\Dataset\\HostelWorld\\hostel_data.csv\")\n",
    "review = pd.read_csv(r\"C:\\Users\\piush\\Desktop\\Dataset\\HostelWorld\\Review_data.csv\",header = None)\n",
    "test = pd.read_csv(r\"C:\\Users\\piush\\Desktop\\Dataset\\HostelWorld\\test_review_data.csv\")\n",
    "user = pd.read_csv(r\"C:\\Users\\piush\\Desktop\\Dataset\\HostelWorld\\user_data.csv\",header = None)"
   ]
  },
  {
   "cell_type": "code",
   "execution_count": 3,
   "metadata": {
    "collapsed": false
   },
   "outputs": [
    {
     "data": {
      "text/html": [
       "<div>\n",
       "<table border=\"1\" class=\"dataframe\">\n",
       "  <thead>\n",
       "    <tr style=\"text-align: right;\">\n",
       "      <th></th>\n",
       "      <th>customer_id</th>\n",
       "      <th>review_id</th>\n",
       "      <th>review_score</th>\n",
       "      <th>review_text</th>\n",
       "      <th>HostelNumber</th>\n",
       "      <th>review_date</th>\n",
       "      <th>review_language</th>\n",
       "    </tr>\n",
       "  </thead>\n",
       "  <tbody>\n",
       "    <tr>\n",
       "      <th>0</th>\n",
       "      <td>309693</td>\n",
       "      <td>6085536</td>\n",
       "      <td>86</td>\n",
       "      <td>the space in the rooms is not enough specially...</td>\n",
       "      <td>4815.0</td>\n",
       "      <td>2014-01-10 15:34:36</td>\n",
       "      <td>English</td>\n",
       "    </tr>\n",
       "    <tr>\n",
       "      <th>1</th>\n",
       "      <td>309693</td>\n",
       "      <td>6244624</td>\n",
       "      <td>97</td>\n",
       "      <td>the wi fi doesn t work properly</td>\n",
       "      <td>34160.0</td>\n",
       "      <td>2014-04-21 20:32:25</td>\n",
       "      <td>English</td>\n",
       "    </tr>\n",
       "  </tbody>\n",
       "</table>\n",
       "</div>"
      ],
      "text/plain": [
       "   customer_id  review_id  review_score  \\\n",
       "0       309693    6085536            86   \n",
       "1       309693    6244624            97   \n",
       "\n",
       "                                         review_text  HostelNumber  \\\n",
       "0  the space in the rooms is not enough specially...        4815.0   \n",
       "1                    the wi fi doesn t work properly       34160.0   \n",
       "\n",
       "           review_date review_language  \n",
       "0  2014-01-10 15:34:36         English  \n",
       "1  2014-04-21 20:32:25         English  "
      ]
     },
     "execution_count": 3,
     "metadata": {},
     "output_type": "execute_result"
    }
   ],
   "source": [
    "train.head(2)"
   ]
  },
  {
   "cell_type": "code",
   "execution_count": 4,
   "metadata": {
    "collapsed": false
   },
   "outputs": [
    {
     "data": {
      "text/html": [
       "<div>\n",
       "<table border=\"1\" class=\"dataframe\">\n",
       "  <thead>\n",
       "    <tr style=\"text-align: right;\">\n",
       "      <th></th>\n",
       "      <th>nationality</th>\n",
       "      <th>age</th>\n",
       "      <th>gender</th>\n",
       "      <th>customer_id</th>\n",
       "    </tr>\n",
       "  </thead>\n",
       "  <tbody>\n",
       "    <tr>\n",
       "      <th>0</th>\n",
       "      <td>France</td>\n",
       "      <td>NaN</td>\n",
       "      <td>Male</td>\n",
       "      <td>71775112</td>\n",
       "    </tr>\n",
       "    <tr>\n",
       "      <th>1</th>\n",
       "      <td>NaN</td>\n",
       "      <td>NaN</td>\n",
       "      <td>Female</td>\n",
       "      <td>17236506</td>\n",
       "    </tr>\n",
       "  </tbody>\n",
       "</table>\n",
       "</div>"
      ],
      "text/plain": [
       "  nationality  age  gender  customer_id\n",
       "0      France  NaN    Male     71775112\n",
       "1         NaN  NaN  Female     17236506"
      ]
     },
     "execution_count": 4,
     "metadata": {},
     "output_type": "execute_result"
    }
   ],
   "source": [
    "customer.head(2)"
   ]
  },
  {
   "cell_type": "code",
   "execution_count": 6,
   "metadata": {
    "collapsed": false
   },
   "outputs": [
    {
     "data": {
      "text/html": [
       "<div>\n",
       "<table border=\"1\" class=\"dataframe\">\n",
       "  <thead>\n",
       "    <tr style=\"text-align: right;\">\n",
       "      <th></th>\n",
       "      <th>HostelNumber</th>\n",
       "      <th>num_reviews</th>\n",
       "      <th>description</th>\n",
       "      <th>score</th>\n",
       "      <th>features</th>\n",
       "      <th>policies</th>\n",
       "    </tr>\n",
       "  </thead>\n",
       "  <tbody>\n",
       "    <tr>\n",
       "      <th>0</th>\n",
       "      <td>17</td>\n",
       "      <td>2289</td>\n",
       "      <td>Home Youth Hostel Valencia by Feetup Hostels o...</td>\n",
       "      <td>92</td>\n",
       "      <td>24 Hour Reception|Adaptors|Air Conditioning|Bi...</td>\n",
       "      <td>Credit Cards Accepted|No Curfew|Non Smoking</td>\n",
       "    </tr>\n",
       "    <tr>\n",
       "      <th>1</th>\n",
       "      <td>19</td>\n",
       "      <td>153</td>\n",
       "      <td>Hostal Marlasca is just in the heart of Madrid...</td>\n",
       "      <td>90</td>\n",
       "      <td>24 Hour Reception|Air Conditioning|Airport Tra...</td>\n",
       "      <td>Credit Cards Accepted|No Curfew</td>\n",
       "    </tr>\n",
       "  </tbody>\n",
       "</table>\n",
       "</div>"
      ],
      "text/plain": [
       "   HostelNumber  num_reviews  \\\n",
       "0            17         2289   \n",
       "1            19          153   \n",
       "\n",
       "                                         description  score  \\\n",
       "0  Home Youth Hostel Valencia by Feetup Hostels o...     92   \n",
       "1  Hostal Marlasca is just in the heart of Madrid...     90   \n",
       "\n",
       "                                            features  \\\n",
       "0  24 Hour Reception|Adaptors|Air Conditioning|Bi...   \n",
       "1  24 Hour Reception|Air Conditioning|Airport Tra...   \n",
       "\n",
       "                                      policies  \n",
       "0  Credit Cards Accepted|No Curfew|Non Smoking  \n",
       "1              Credit Cards Accepted|No Curfew  "
      ]
     },
     "execution_count": 6,
     "metadata": {},
     "output_type": "execute_result"
    }
   ],
   "source": [
    "hostel.columns = ['HostelNumber', 'num_reviews','description','score','features','policies']\n",
    "hostel.head(2)\n"
   ]
  },
  {
   "cell_type": "code",
   "execution_count": 7,
   "metadata": {
    "collapsed": false
   },
   "outputs": [
    {
     "data": {
      "text/html": [
       "<div>\n",
       "<table border=\"1\" class=\"dataframe\">\n",
       "  <thead>\n",
       "    <tr style=\"text-align: right;\">\n",
       "      <th></th>\n",
       "      <th>0</th>\n",
       "      <th>1</th>\n",
       "      <th>2</th>\n",
       "      <th>3</th>\n",
       "      <th>4</th>\n",
       "      <th>5</th>\n",
       "    </tr>\n",
       "  </thead>\n",
       "  <tbody>\n",
       "    <tr>\n",
       "      <th>0</th>\n",
       "      <td>10983165</td>\n",
       "      <td>4344334</td>\n",
       "      <td>there is not 24 reception staff was not always...</td>\n",
       "      <td>28642.0</td>\n",
       "      <td>2011-12-26 19:46:14</td>\n",
       "      <td>English</td>\n",
       "    </tr>\n",
       "    <tr>\n",
       "      <th>1</th>\n",
       "      <td>11138493</td>\n",
       "      <td>4350334</td>\n",
       "      <td>i booked a private double room but i totally d...</td>\n",
       "      <td>36596.0</td>\n",
       "      <td>2011-12-31 05:51:19</td>\n",
       "      <td>English</td>\n",
       "    </tr>\n",
       "  </tbody>\n",
       "</table>\n",
       "</div>"
      ],
      "text/plain": [
       "          0        1                                                  2  \\\n",
       "0  10983165  4344334  there is not 24 reception staff was not always...   \n",
       "1  11138493  4350334  i booked a private double room but i totally d...   \n",
       "\n",
       "         3                    4        5  \n",
       "0  28642.0  2011-12-26 19:46:14  English  \n",
       "1  36596.0  2011-12-31 05:51:19  English  "
      ]
     },
     "execution_count": 7,
     "metadata": {},
     "output_type": "execute_result"
    }
   ],
   "source": [
    "review.head(2)"
   ]
  },
  {
   "cell_type": "code",
   "execution_count": 8,
   "metadata": {
    "collapsed": false
   },
   "outputs": [
    {
     "data": {
      "text/html": [
       "<div>\n",
       "<table border=\"1\" class=\"dataframe\">\n",
       "  <thead>\n",
       "    <tr style=\"text-align: right;\">\n",
       "      <th></th>\n",
       "      <th>customer_id</th>\n",
       "      <th>review_id</th>\n",
       "      <th>review_text</th>\n",
       "      <th>HostelNumber</th>\n",
       "      <th>review_date</th>\n",
       "      <th>review_language</th>\n",
       "    </tr>\n",
       "  </thead>\n",
       "  <tbody>\n",
       "    <tr>\n",
       "      <th>0</th>\n",
       "      <td>331154</td>\n",
       "      <td>5642315</td>\n",
       "      <td>nice hostel well priced and very well located ...</td>\n",
       "      <td>2332</td>\n",
       "      <td>2013-07-14 13:16:38</td>\n",
       "      <td>English</td>\n",
       "    </tr>\n",
       "    <tr>\n",
       "      <th>1</th>\n",
       "      <td>1145354</td>\n",
       "      <td>8537815</td>\n",
       "      <td>i had a wonderful stay at this hostel the staf...</td>\n",
       "      <td>79412</td>\n",
       "      <td>2016-01-16 03:54:46</td>\n",
       "      <td>English</td>\n",
       "    </tr>\n",
       "  </tbody>\n",
       "</table>\n",
       "</div>"
      ],
      "text/plain": [
       "   customer_id  review_id                                        review_text  \\\n",
       "0       331154    5642315  nice hostel well priced and very well located ...   \n",
       "1      1145354    8537815  i had a wonderful stay at this hostel the staf...   \n",
       "\n",
       "   HostelNumber          review_date review_language  \n",
       "0          2332  2013-07-14 13:16:38         English  \n",
       "1         79412  2016-01-16 03:54:46         English  "
      ]
     },
     "execution_count": 8,
     "metadata": {},
     "output_type": "execute_result"
    }
   ],
   "source": [
    "test.head(2)"
   ]
  },
  {
   "cell_type": "code",
   "execution_count": 9,
   "metadata": {
    "collapsed": false
   },
   "outputs": [
    {
     "data": {
      "text/html": [
       "<div>\n",
       "<table border=\"1\" class=\"dataframe\">\n",
       "  <thead>\n",
       "    <tr style=\"text-align: right;\">\n",
       "      <th></th>\n",
       "      <th>0</th>\n",
       "      <th>1</th>\n",
       "      <th>2</th>\n",
       "      <th>3</th>\n",
       "    </tr>\n",
       "  </thead>\n",
       "  <tbody>\n",
       "    <tr>\n",
       "      <th>0</th>\n",
       "      <td>18131165</td>\n",
       "      <td>NaN</td>\n",
       "      <td>NaN</td>\n",
       "      <td>Male</td>\n",
       "    </tr>\n",
       "    <tr>\n",
       "      <th>1</th>\n",
       "      <td>15169619</td>\n",
       "      <td>NaN</td>\n",
       "      <td>NaN</td>\n",
       "      <td>Male</td>\n",
       "    </tr>\n",
       "  </tbody>\n",
       "</table>\n",
       "</div>"
      ],
      "text/plain": [
       "          0    1   2     3\n",
       "0  18131165  NaN NaN  Male\n",
       "1  15169619  NaN NaN  Male"
      ]
     },
     "execution_count": 9,
     "metadata": {},
     "output_type": "execute_result"
    }
   ],
   "source": [
    "user.head(2)"
   ]
  },
  {
   "cell_type": "code",
   "execution_count": 10,
   "metadata": {
    "collapsed": true
   },
   "outputs": [],
   "source": [
    "df1 = pd.merge(train, customer, on='customer_id')\n"
   ]
  },
  {
   "cell_type": "code",
   "execution_count": 11,
   "metadata": {
    "collapsed": false
   },
   "outputs": [],
   "source": [
    "df2 = pd.merge(df1, hostel, on='HostelNumber')"
   ]
  },
  {
   "cell_type": "code",
   "execution_count": 12,
   "metadata": {
    "collapsed": false
   },
   "outputs": [],
   "source": [
    "df3 = df2[['customer_id','review_id','review_score','HostelNumber','review_date','review_language','nationality','age','gender','num_reviews','score']]"
   ]
  },
  {
   "cell_type": "code",
   "execution_count": 13,
   "metadata": {
    "collapsed": true
   },
   "outputs": [],
   "source": [
    "test1 = test[['customer_id','review_id','HostelNumber','review_date','review_language']]"
   ]
  },
  {
   "cell_type": "code",
   "execution_count": 13,
   "metadata": {
    "collapsed": false
   },
   "outputs": [
    {
     "name": "stdout",
     "output_type": "stream",
     "text": [
      "\n",
      "\n",
      "---------------------\n",
      "TRAIN SET INFORMATION\n",
      "---------------------\n",
      "Shape of training set: (780462, 11) \n",
      "\n",
      "Column Headers: ['customer_id', 'review_id', 'review_score', 'HostelNumber', 'review_date', 'review_language', 'nationality', 'age', 'gender', 'num_reviews', 'score'] \n",
      "\n",
      "customer_id          int64\n",
      "review_id            int64\n",
      "review_score         int64\n",
      "HostelNumber       float64\n",
      "review_date         object\n",
      "review_language     object\n",
      "nationality         object\n",
      "age                float64\n",
      "gender              object\n",
      "num_reviews          int64\n",
      "score                int64\n",
      "dtype: object\n"
     ]
    }
   ],
   "source": [
    "print (\"\\n\\n---------------------\")\n",
    "print (\"TRAIN SET INFORMATION\")\n",
    "print (\"---------------------\")\n",
    "print (\"Shape of training set:\", df3.shape, \"\\n\")\n",
    "print (\"Column Headers:\", list(df3.columns.values), \"\\n\")\n",
    "print (df3.dtypes)"
   ]
  },
  {
   "cell_type": "code",
   "execution_count": 14,
   "metadata": {
    "collapsed": false
   },
   "outputs": [
    {
     "name": "stdout",
     "output_type": "stream",
     "text": [
      "TRAINING SET INFORMATION\n",
      "========================\n",
      "\n",
      "'customer_id' has 189618 unique values\n",
      "~~Listing up to 10 unique values~~\n",
      "[   309693 280960893 863260093 870460375 995749975 254134337 580047937\n",
      " 933369737 271142761 505685828]\n",
      "\n",
      "-----------------------------------------------------------------------\n",
      "\n",
      "'review_id' has 780462 unique values\n",
      "~~Listing up to 10 unique values~~\n",
      "[6085536 5054486 7186405 5517212 4903533 5158940 7395438 5529226 6424458\n",
      " 6677691]\n",
      "\n",
      "-----------------------------------------------------------------------\n",
      "\n",
      "'review_score' has 36 unique values\n",
      "~~Listing up to 10 unique values~~\n",
      "[ 86  71  80  91  66  83  74 100  77  94]\n",
      "\n",
      "-----------------------------------------------------------------------\n",
      "\n",
      "'HostelNumber' has 18788 unique values\n",
      "~~Listing up to 10 unique values~~\n",
      "[  4815.  34160.  65881.  36020.  12168.  14275.  38731.  51787.  45631.\n",
      "  47916.]\n",
      "\n",
      "-----------------------------------------------------------------------\n",
      "\n",
      "'review_date' has 777640 unique values\n",
      "~~Listing up to 10 unique values~~\n",
      "['2014-01-10 15:34:36' '2012-10-19 13:19:47' '2015-05-18 14:57:40'\n",
      " '2013-05-29 15:31:52' '2012-08-28 09:56:51' '2012-12-06 22:55:49'\n",
      " '2015-07-26 05:20:08' '2013-06-03 14:33:40' '2014-07-02 07:16:35'\n",
      " '2014-09-25 09:14:59']\n",
      "\n",
      "-----------------------------------------------------------------------\n",
      "\n",
      "'review_language' has 22 unique values\n",
      "~~Listing up to 10 unique values~~\n",
      "['English' 'Spanish' 'German' 'French' 'Chinese' 'Dutch' 'Polish'\n",
      " 'Brazilian Portuguese' 'Korean' 'Italian']\n",
      "\n",
      "-----------------------------------------------------------------------\n",
      "\n",
      "'nationality' has 254 unique values\n",
      "~~Listing up to 10 unique values~~\n",
      "[nan 'Germany' 'Turkey' 'USA' 'Chile' 'India' 'Australia' 'Argentina'\n",
      " 'Canada' 'England']\n",
      "\n",
      "-----------------------------------------------------------------------\n",
      "\n",
      "'age' has 89 unique values\n",
      "~~Listing up to 10 unique values~~\n",
      "[ nan  23.  31.  27.  28.  22.  29.  24.  41.  21.]\n",
      "\n",
      "-----------------------------------------------------------------------\n",
      "\n",
      "'gender' has 3 unique values\n",
      "['Female' 'Male' nan]\n",
      "\n",
      "-----------------------------------------------------------------------\n",
      "\n",
      "'num_reviews' has 1530 unique values\n",
      "~~Listing up to 10 unique values~~\n",
      "[2065 2546 1193  261  335  560  125  235   60  291]\n",
      "\n",
      "-----------------------------------------------------------------------\n",
      "\n",
      "'score' has 77 unique values\n",
      "~~Listing up to 10 unique values~~\n",
      "[75 90 85 91 78 93 80 99 72 88]\n",
      "\n",
      "-----------------------------------------------------------------------\n",
      "\n",
      "\n",
      "~~~~~~~~~~~~~~~~~~~~~~~~~~~~~~~~~~~~~~~~~~~~~~~~~~~~~~~~~~~~~~~~~~~~~~~~~~~~~~~~~~~~~\n",
      "\n",
      "Features with missing values:\n",
      "['nationality has 462082 missing', 'age has 494176 missing', 'gender has 138883 missing']\n",
      "\n",
      "\n",
      "Features with non-numeric values:\n",
      "['review_date', 'review_language', 'nationality', 'gender']\n",
      "\n",
      "~~~~~~~~~~~~~~~~~~~~~~~~~~~~~~~~~~~~~~~~~~~~~~~~~~~~~~~~~~~~~~~~~~~~~~~~~~~~~~~~~~~~~\n",
      "\n"
     ]
    }
   ],
   "source": [
    "import re\n",
    "missing_values = []\n",
    "nonumeric_values = []\n",
    "\n",
    "print (\"TRAINING SET INFORMATION\")\n",
    "print (\"========================\\n\")\n",
    "\n",
    "for column in df3:\n",
    "    # Find all the unique feature values\n",
    "    uniq = df3[column].unique()\n",
    "    print (\"'{}' has {} unique values\" .format(column,uniq.size))\n",
    "    if (uniq.size > 10):\n",
    "        print(\"~~Listing up to 10 unique values~~\")\n",
    "    print (uniq[0:10])\n",
    "    print (\"\\n-----------------------------------------------------------------------\\n\")\n",
    "    \n",
    "    # Find features with missing values\n",
    "    if (True in pd.isnull(uniq)):\n",
    "        s = \"{} has {} missing\" .format(column, pd.isnull(df3[column]).sum())\n",
    "        missing_values.append(s)\n",
    "    \n",
    "    # Find features with non-numeric values\n",
    "    for i in range (1, np.prod(uniq.shape)):\n",
    "        if (re.match('nan', str(uniq[i]))):\n",
    "            break\n",
    "        if not (re.search('(^\\d+\\.?\\d*$)|(^\\d*\\.?\\d+$)', str(uniq[i]))):\n",
    "            nonumeric_values.append(column)\n",
    "            break\n",
    "  \n",
    "print (\"\\n~~~~~~~~~~~~~~~~~~~~~~~~~~~~~~~~~~~~~~~~~~~~~~~~~~~~~~~~~~~~~~~~~~~~~~~~~~~~~~~~~~~~~\\n\")\n",
    "print (\"Features with missing values:\\n{}\\n\\n\" .format(missing_values))\n",
    "print (\"Features with non-numeric values:\\n{}\" .format(nonumeric_values))\n",
    "print (\"\\n~~~~~~~~~~~~~~~~~~~~~~~~~~~~~~~~~~~~~~~~~~~~~~~~~~~~~~~~~~~~~~~~~~~~~~~~~~~~~~~~~~~~~\\n\")"
   ]
  },
  {
   "cell_type": "code",
   "execution_count": 15,
   "metadata": {
    "collapsed": false
   },
   "outputs": [
    {
     "name": "stdout",
     "output_type": "stream",
     "text": [
      "\n",
      "\n",
      "---------------------\n",
      "TEST SET INFORMATION\n",
      "---------------------\n",
      "Shape of training set: (192035, 5) \n",
      "\n",
      "Column Headers: ['customer_id', 'review_id', 'HostelNumber', 'review_date', 'review_language'] \n",
      "\n",
      "customer_id         int64\n",
      "review_id           int64\n",
      "HostelNumber        int64\n",
      "review_date        object\n",
      "review_language    object\n",
      "dtype: object\n"
     ]
    }
   ],
   "source": [
    "print (\"\\n\\n---------------------\")\n",
    "print (\"TEST SET INFORMATION\")\n",
    "print (\"---------------------\")\n",
    "print (\"Shape of training set:\", test1.shape, \"\\n\")\n",
    "print (\"Column Headers:\", list(test1.columns.values), \"\\n\")\n",
    "print (test1.dtypes)"
   ]
  },
  {
   "cell_type": "code",
   "execution_count": 16,
   "metadata": {
    "collapsed": false
   },
   "outputs": [
    {
     "name": "stdout",
     "output_type": "stream",
     "text": [
      "TEST SET INFORMATION\n",
      "========================\n",
      "\n",
      "'customer_id' has 192034 unique values\n",
      "~~Listing up to 10 unique values~~\n",
      "[ 331154 1145354 1625354 1803354 2222954 3635954 4142554 5773954 5967154\n",
      " 7678154]\n",
      "\n",
      "-----------------------------------------------------------------------\n",
      "\n",
      "'review_id' has 192035 unique values\n",
      "~~Listing up to 10 unique values~~\n",
      "[5642315 8537815 7330678 8577749 7400453 6191010 7716565 7841934 7770979\n",
      " 5140130]\n",
      "\n",
      "-----------------------------------------------------------------------\n",
      "\n",
      "'HostelNumber' has 19259 unique values\n",
      "~~Listing up to 10 unique values~~\n",
      "[  2332  79412    641 263648   6494  18575  25012  14154  28983   2165]\n",
      "\n",
      "-----------------------------------------------------------------------\n",
      "\n",
      "'review_date' has 191831 unique values\n",
      "~~Listing up to 10 unique values~~\n",
      "['2013-07-14 13:16:38' '2016-01-16 03:54:46' '2015-07-07 02:43:36'\n",
      " '2016-01-31 17:18:44' '2015-07-27 09:53:37' '2014-03-22 05:45:06'\n",
      " '2015-11-05 05:57:30' '2016-01-02 15:12:26' '2015-11-30 10:08:46'\n",
      " '2012-11-27 14:23:49']\n",
      "\n",
      "-----------------------------------------------------------------------\n",
      "\n",
      "'review_language' has 21 unique values\n",
      "~~Listing up to 10 unique values~~\n",
      "['English' 'Japanese' 'Brazilian Portuguese' 'Spanish' 'Dutch' 'French'\n",
      " 'Korean' 'Italian' 'German' 'Russian']\n",
      "\n",
      "-----------------------------------------------------------------------\n",
      "\n",
      "\n",
      "~~~~~~~~~~~~~~~~~~~~~~~~~~~~~~~~~~~~~~~~~~~~~~~~~~~~~~~~~~~~~~~~~~~~~~~~~~~~~~~~~~~~~\n",
      "\n",
      "Features with missing values:\n",
      "[]\n",
      "\n",
      "\n",
      "Features with non-numeric values:\n",
      "['review_date', 'review_language']\n",
      "\n",
      "~~~~~~~~~~~~~~~~~~~~~~~~~~~~~~~~~~~~~~~~~~~~~~~~~~~~~~~~~~~~~~~~~~~~~~~~~~~~~~~~~~~~~\n",
      "\n"
     ]
    }
   ],
   "source": [
    "import re\n",
    "missing_values = []\n",
    "nonumeric_values = []\n",
    "\n",
    "print (\"TEST SET INFORMATION\")\n",
    "print (\"========================\\n\")\n",
    "\n",
    "for column in test1:\n",
    "    # Find all the unique feature values\n",
    "    uniq = test1[column].unique()\n",
    "    print (\"'{}' has {} unique values\" .format(column,uniq.size))\n",
    "    if (uniq.size > 10):\n",
    "        print(\"~~Listing up to 10 unique values~~\")\n",
    "    print (uniq[0:10])\n",
    "    print (\"\\n-----------------------------------------------------------------------\\n\")\n",
    "    \n",
    "    # Find features with missing values\n",
    "    if (True in pd.isnull(uniq)):\n",
    "        s = \"{} has {} missing\" .format(column, pd.isnull(test1[column]).sum())\n",
    "        missing_values.append(s)\n",
    "    \n",
    "    # Find features with non-numeric values\n",
    "    for i in range (1, np.prod(uniq.shape)):\n",
    "        if (re.match('nan', str(uniq[i]))):\n",
    "            break\n",
    "        if not (re.search('(^\\d+\\.?\\d*$)|(^\\d*\\.?\\d+$)', str(uniq[i]))):\n",
    "            nonumeric_values.append(column)\n",
    "            break\n",
    "  \n",
    "print (\"\\n~~~~~~~~~~~~~~~~~~~~~~~~~~~~~~~~~~~~~~~~~~~~~~~~~~~~~~~~~~~~~~~~~~~~~~~~~~~~~~~~~~~~~\\n\")\n",
    "print (\"Features with missing values:\\n{}\\n\\n\" .format(missing_values))\n",
    "print (\"Features with non-numeric values:\\n{}\" .format(nonumeric_values))\n",
    "print (\"\\n~~~~~~~~~~~~~~~~~~~~~~~~~~~~~~~~~~~~~~~~~~~~~~~~~~~~~~~~~~~~~~~~~~~~~~~~~~~~~~~~~~~~~\\n\")"
   ]
  },
  {
   "cell_type": "code",
   "execution_count": 14,
   "metadata": {
    "collapsed": true
   },
   "outputs": [],
   "source": [
    "df4 = df3.append(test1,ignore_index=True)"
   ]
  },
  {
   "cell_type": "code",
   "execution_count": 15,
   "metadata": {
    "collapsed": true
   },
   "outputs": [],
   "source": [
    "df4.loc[:, \"age\"] = df4.loc[:, \"age\"].fillna(df4['age'].median())\n",
    "df4.loc[:, \"gender\"] = df4.loc[:, \"gender\"].fillna(\"None\")\n",
    "df4.loc[:, \"nationality\"] = df4.loc[:, \"nationality\"].fillna(\"None\")"
   ]
  },
  {
   "cell_type": "code",
   "execution_count": 16,
   "metadata": {
    "collapsed": false
   },
   "outputs": [],
   "source": [
    "df4['HostelNumber'] = df4['HostelNumber'].astype(int)"
   ]
  },
  {
   "cell_type": "code",
   "execution_count": 17,
   "metadata": {
    "collapsed": false
   },
   "outputs": [
    {
     "data": {
      "text/plain": [
       "(972497, 11)"
      ]
     },
     "execution_count": 17,
     "metadata": {},
     "output_type": "execute_result"
    }
   ],
   "source": [
    "df4.shape"
   ]
  },
  {
   "cell_type": "code",
   "execution_count": 18,
   "metadata": {
    "collapsed": true
   },
   "outputs": [],
   "source": [
    "df5 = df4[['HostelNumber', 'age', 'customer_id', 'gender', 'nationality',\n",
    "       'num_reviews', 'review_id', 'review_language',\n",
    "       'review_score', 'score']]"
   ]
  },
  {
   "cell_type": "code",
   "execution_count": 22,
   "metadata": {
    "collapsed": true
   },
   "outputs": [],
   "source": [
    "from sklearn.preprocessing import LabelEncoder\n",
    "class_le = LabelEncoder()\n",
    "df5['gender'] = class_le.fit_transform(df5['gender'].values)\n",
    "df5['nationality'] = class_le.fit_transform(df5['nationality'].values)\n",
    "df5['review_language'] = class_le.fit_transform(df5['review_language'].values)"
   ]
  },
  {
   "cell_type": "code",
   "execution_count": 25,
   "metadata": {
    "collapsed": false
   },
   "outputs": [
    {
     "ename": "KeyError",
     "evalue": "'review_score'",
     "output_type": "error",
     "traceback": [
      "\u001b[0;31m---------------------------------------------------------------------------\u001b[0m",
      "\u001b[0;31mKeyError\u001b[0m                                  Traceback (most recent call last)",
      "\u001b[0;32mC:\\Anaconda3\\lib\\site-packages\\pandas\\indexes\\base.py\u001b[0m in \u001b[0;36mget_loc\u001b[0;34m(self, key, method, tolerance)\u001b[0m\n\u001b[1;32m   2103\u001b[0m             \u001b[1;32mtry\u001b[0m\u001b[1;33m:\u001b[0m\u001b[1;33m\u001b[0m\u001b[0m\n\u001b[0;32m-> 2104\u001b[0;31m                 \u001b[1;32mreturn\u001b[0m \u001b[0mself\u001b[0m\u001b[1;33m.\u001b[0m\u001b[0m_engine\u001b[0m\u001b[1;33m.\u001b[0m\u001b[0mget_loc\u001b[0m\u001b[1;33m(\u001b[0m\u001b[0mkey\u001b[0m\u001b[1;33m)\u001b[0m\u001b[1;33m\u001b[0m\u001b[0m\n\u001b[0m\u001b[1;32m   2105\u001b[0m             \u001b[1;32mexcept\u001b[0m \u001b[0mKeyError\u001b[0m\u001b[1;33m:\u001b[0m\u001b[1;33m\u001b[0m\u001b[0m\n",
      "\u001b[0;32mpandas\\index.pyx\u001b[0m in \u001b[0;36mpandas.index.IndexEngine.get_loc (pandas\\index.c:4160)\u001b[0;34m()\u001b[0m\n",
      "\u001b[0;32mpandas\\index.pyx\u001b[0m in \u001b[0;36mpandas.index.IndexEngine.get_loc (pandas\\index.c:4024)\u001b[0;34m()\u001b[0m\n",
      "\u001b[0;32mpandas\\src\\hashtable_class_helper.pxi\u001b[0m in \u001b[0;36mpandas.hashtable.PyObjectHashTable.get_item (pandas\\hashtable.c:13161)\u001b[0;34m()\u001b[0m\n",
      "\u001b[0;32mpandas\\src\\hashtable_class_helper.pxi\u001b[0m in \u001b[0;36mpandas.hashtable.PyObjectHashTable.get_item (pandas\\hashtable.c:13115)\u001b[0;34m()\u001b[0m\n",
      "\u001b[0;31mKeyError\u001b[0m: 'review_score'",
      "\nDuring handling of the above exception, another exception occurred:\n",
      "\u001b[0;31mKeyError\u001b[0m                                  Traceback (most recent call last)",
      "\u001b[0;32m<ipython-input-25-2b77a8d07dc4>\u001b[0m in \u001b[0;36m<module>\u001b[0;34m()\u001b[0m\n\u001b[0;32m----> 1\u001b[0;31m \u001b[0mtarget\u001b[0m \u001b[1;33m=\u001b[0m \u001b[0mdf5\u001b[0m\u001b[1;33m[\u001b[0m\u001b[1;34m'review_score'\u001b[0m\u001b[1;33m]\u001b[0m\u001b[1;33m\u001b[0m\u001b[0m\n\u001b[0m\u001b[1;32m      2\u001b[0m \u001b[0mdf6\u001b[0m \u001b[1;33m=\u001b[0m \u001b[0mdf5\u001b[0m\u001b[1;33m.\u001b[0m\u001b[0mdrop\u001b[0m\u001b[1;33m(\u001b[0m\u001b[1;34m'review_score'\u001b[0m\u001b[1;33m,\u001b[0m \u001b[0maxis\u001b[0m\u001b[1;33m=\u001b[0m\u001b[1;36m1\u001b[0m\u001b[1;33m,\u001b[0m\u001b[0minplace\u001b[0m\u001b[1;33m=\u001b[0m \u001b[1;32mTrue\u001b[0m\u001b[1;33m)\u001b[0m\u001b[1;33m\u001b[0m\u001b[0m\n\u001b[1;32m      3\u001b[0m \u001b[1;33m\u001b[0m\u001b[0m\n\u001b[1;32m      4\u001b[0m \u001b[0mdf6\u001b[0m\u001b[1;33m\u001b[0m\u001b[0m\n",
      "\u001b[0;32mC:\\Anaconda3\\lib\\site-packages\\pandas\\core\\frame.py\u001b[0m in \u001b[0;36m__getitem__\u001b[0;34m(self, key)\u001b[0m\n\u001b[1;32m   2055\u001b[0m             \u001b[1;32mreturn\u001b[0m \u001b[0mself\u001b[0m\u001b[1;33m.\u001b[0m\u001b[0m_getitem_multilevel\u001b[0m\u001b[1;33m(\u001b[0m\u001b[0mkey\u001b[0m\u001b[1;33m)\u001b[0m\u001b[1;33m\u001b[0m\u001b[0m\n\u001b[1;32m   2056\u001b[0m         \u001b[1;32melse\u001b[0m\u001b[1;33m:\u001b[0m\u001b[1;33m\u001b[0m\u001b[0m\n\u001b[0;32m-> 2057\u001b[0;31m             \u001b[1;32mreturn\u001b[0m \u001b[0mself\u001b[0m\u001b[1;33m.\u001b[0m\u001b[0m_getitem_column\u001b[0m\u001b[1;33m(\u001b[0m\u001b[0mkey\u001b[0m\u001b[1;33m)\u001b[0m\u001b[1;33m\u001b[0m\u001b[0m\n\u001b[0m\u001b[1;32m   2058\u001b[0m \u001b[1;33m\u001b[0m\u001b[0m\n\u001b[1;32m   2059\u001b[0m     \u001b[1;32mdef\u001b[0m \u001b[0m_getitem_column\u001b[0m\u001b[1;33m(\u001b[0m\u001b[0mself\u001b[0m\u001b[1;33m,\u001b[0m \u001b[0mkey\u001b[0m\u001b[1;33m)\u001b[0m\u001b[1;33m:\u001b[0m\u001b[1;33m\u001b[0m\u001b[0m\n",
      "\u001b[0;32mC:\\Anaconda3\\lib\\site-packages\\pandas\\core\\frame.py\u001b[0m in \u001b[0;36m_getitem_column\u001b[0;34m(self, key)\u001b[0m\n\u001b[1;32m   2062\u001b[0m         \u001b[1;31m# get column\u001b[0m\u001b[1;33m\u001b[0m\u001b[1;33m\u001b[0m\u001b[0m\n\u001b[1;32m   2063\u001b[0m         \u001b[1;32mif\u001b[0m \u001b[0mself\u001b[0m\u001b[1;33m.\u001b[0m\u001b[0mcolumns\u001b[0m\u001b[1;33m.\u001b[0m\u001b[0mis_unique\u001b[0m\u001b[1;33m:\u001b[0m\u001b[1;33m\u001b[0m\u001b[0m\n\u001b[0;32m-> 2064\u001b[0;31m             \u001b[1;32mreturn\u001b[0m \u001b[0mself\u001b[0m\u001b[1;33m.\u001b[0m\u001b[0m_get_item_cache\u001b[0m\u001b[1;33m(\u001b[0m\u001b[0mkey\u001b[0m\u001b[1;33m)\u001b[0m\u001b[1;33m\u001b[0m\u001b[0m\n\u001b[0m\u001b[1;32m   2065\u001b[0m \u001b[1;33m\u001b[0m\u001b[0m\n\u001b[1;32m   2066\u001b[0m         \u001b[1;31m# duplicate columns & possible reduce dimensionality\u001b[0m\u001b[1;33m\u001b[0m\u001b[1;33m\u001b[0m\u001b[0m\n",
      "\u001b[0;32mC:\\Anaconda3\\lib\\site-packages\\pandas\\core\\generic.py\u001b[0m in \u001b[0;36m_get_item_cache\u001b[0;34m(self, item)\u001b[0m\n\u001b[1;32m   1384\u001b[0m         \u001b[0mres\u001b[0m \u001b[1;33m=\u001b[0m \u001b[0mcache\u001b[0m\u001b[1;33m.\u001b[0m\u001b[0mget\u001b[0m\u001b[1;33m(\u001b[0m\u001b[0mitem\u001b[0m\u001b[1;33m)\u001b[0m\u001b[1;33m\u001b[0m\u001b[0m\n\u001b[1;32m   1385\u001b[0m         \u001b[1;32mif\u001b[0m \u001b[0mres\u001b[0m \u001b[1;32mis\u001b[0m \u001b[1;32mNone\u001b[0m\u001b[1;33m:\u001b[0m\u001b[1;33m\u001b[0m\u001b[0m\n\u001b[0;32m-> 1386\u001b[0;31m             \u001b[0mvalues\u001b[0m \u001b[1;33m=\u001b[0m \u001b[0mself\u001b[0m\u001b[1;33m.\u001b[0m\u001b[0m_data\u001b[0m\u001b[1;33m.\u001b[0m\u001b[0mget\u001b[0m\u001b[1;33m(\u001b[0m\u001b[0mitem\u001b[0m\u001b[1;33m)\u001b[0m\u001b[1;33m\u001b[0m\u001b[0m\n\u001b[0m\u001b[1;32m   1387\u001b[0m             \u001b[0mres\u001b[0m \u001b[1;33m=\u001b[0m \u001b[0mself\u001b[0m\u001b[1;33m.\u001b[0m\u001b[0m_box_item_values\u001b[0m\u001b[1;33m(\u001b[0m\u001b[0mitem\u001b[0m\u001b[1;33m,\u001b[0m \u001b[0mvalues\u001b[0m\u001b[1;33m)\u001b[0m\u001b[1;33m\u001b[0m\u001b[0m\n\u001b[1;32m   1388\u001b[0m             \u001b[0mcache\u001b[0m\u001b[1;33m[\u001b[0m\u001b[0mitem\u001b[0m\u001b[1;33m]\u001b[0m \u001b[1;33m=\u001b[0m \u001b[0mres\u001b[0m\u001b[1;33m\u001b[0m\u001b[0m\n",
      "\u001b[0;32mC:\\Anaconda3\\lib\\site-packages\\pandas\\core\\internals.py\u001b[0m in \u001b[0;36mget\u001b[0;34m(self, item, fastpath)\u001b[0m\n\u001b[1;32m   3518\u001b[0m \u001b[1;33m\u001b[0m\u001b[0m\n\u001b[1;32m   3519\u001b[0m             \u001b[1;32mif\u001b[0m \u001b[1;32mnot\u001b[0m \u001b[0misnull\u001b[0m\u001b[1;33m(\u001b[0m\u001b[0mitem\u001b[0m\u001b[1;33m)\u001b[0m\u001b[1;33m:\u001b[0m\u001b[1;33m\u001b[0m\u001b[0m\n\u001b[0;32m-> 3520\u001b[0;31m                 \u001b[0mloc\u001b[0m \u001b[1;33m=\u001b[0m \u001b[0mself\u001b[0m\u001b[1;33m.\u001b[0m\u001b[0mitems\u001b[0m\u001b[1;33m.\u001b[0m\u001b[0mget_loc\u001b[0m\u001b[1;33m(\u001b[0m\u001b[0mitem\u001b[0m\u001b[1;33m)\u001b[0m\u001b[1;33m\u001b[0m\u001b[0m\n\u001b[0m\u001b[1;32m   3521\u001b[0m             \u001b[1;32melse\u001b[0m\u001b[1;33m:\u001b[0m\u001b[1;33m\u001b[0m\u001b[0m\n\u001b[1;32m   3522\u001b[0m                 \u001b[0mindexer\u001b[0m \u001b[1;33m=\u001b[0m \u001b[0mnp\u001b[0m\u001b[1;33m.\u001b[0m\u001b[0marange\u001b[0m\u001b[1;33m(\u001b[0m\u001b[0mlen\u001b[0m\u001b[1;33m(\u001b[0m\u001b[0mself\u001b[0m\u001b[1;33m.\u001b[0m\u001b[0mitems\u001b[0m\u001b[1;33m)\u001b[0m\u001b[1;33m)\u001b[0m\u001b[1;33m[\u001b[0m\u001b[0misnull\u001b[0m\u001b[1;33m(\u001b[0m\u001b[0mself\u001b[0m\u001b[1;33m.\u001b[0m\u001b[0mitems\u001b[0m\u001b[1;33m)\u001b[0m\u001b[1;33m]\u001b[0m\u001b[1;33m\u001b[0m\u001b[0m\n",
      "\u001b[0;32mC:\\Anaconda3\\lib\\site-packages\\pandas\\indexes\\base.py\u001b[0m in \u001b[0;36mget_loc\u001b[0;34m(self, key, method, tolerance)\u001b[0m\n\u001b[1;32m   2104\u001b[0m                 \u001b[1;32mreturn\u001b[0m \u001b[0mself\u001b[0m\u001b[1;33m.\u001b[0m\u001b[0m_engine\u001b[0m\u001b[1;33m.\u001b[0m\u001b[0mget_loc\u001b[0m\u001b[1;33m(\u001b[0m\u001b[0mkey\u001b[0m\u001b[1;33m)\u001b[0m\u001b[1;33m\u001b[0m\u001b[0m\n\u001b[1;32m   2105\u001b[0m             \u001b[1;32mexcept\u001b[0m \u001b[0mKeyError\u001b[0m\u001b[1;33m:\u001b[0m\u001b[1;33m\u001b[0m\u001b[0m\n\u001b[0;32m-> 2106\u001b[0;31m                 \u001b[1;32mreturn\u001b[0m \u001b[0mself\u001b[0m\u001b[1;33m.\u001b[0m\u001b[0m_engine\u001b[0m\u001b[1;33m.\u001b[0m\u001b[0mget_loc\u001b[0m\u001b[1;33m(\u001b[0m\u001b[0mself\u001b[0m\u001b[1;33m.\u001b[0m\u001b[0m_maybe_cast_indexer\u001b[0m\u001b[1;33m(\u001b[0m\u001b[0mkey\u001b[0m\u001b[1;33m)\u001b[0m\u001b[1;33m)\u001b[0m\u001b[1;33m\u001b[0m\u001b[0m\n\u001b[0m\u001b[1;32m   2107\u001b[0m \u001b[1;33m\u001b[0m\u001b[0m\n\u001b[1;32m   2108\u001b[0m         \u001b[0mindexer\u001b[0m \u001b[1;33m=\u001b[0m \u001b[0mself\u001b[0m\u001b[1;33m.\u001b[0m\u001b[0mget_indexer\u001b[0m\u001b[1;33m(\u001b[0m\u001b[1;33m[\u001b[0m\u001b[0mkey\u001b[0m\u001b[1;33m]\u001b[0m\u001b[1;33m,\u001b[0m \u001b[0mmethod\u001b[0m\u001b[1;33m=\u001b[0m\u001b[0mmethod\u001b[0m\u001b[1;33m,\u001b[0m \u001b[0mtolerance\u001b[0m\u001b[1;33m=\u001b[0m\u001b[0mtolerance\u001b[0m\u001b[1;33m)\u001b[0m\u001b[1;33m\u001b[0m\u001b[0m\n",
      "\u001b[0;32mpandas\\index.pyx\u001b[0m in \u001b[0;36mpandas.index.IndexEngine.get_loc (pandas\\index.c:4160)\u001b[0;34m()\u001b[0m\n",
      "\u001b[0;32mpandas\\index.pyx\u001b[0m in \u001b[0;36mpandas.index.IndexEngine.get_loc (pandas\\index.c:4024)\u001b[0;34m()\u001b[0m\n",
      "\u001b[0;32mpandas\\src\\hashtable_class_helper.pxi\u001b[0m in \u001b[0;36mpandas.hashtable.PyObjectHashTable.get_item (pandas\\hashtable.c:13161)\u001b[0;34m()\u001b[0m\n",
      "\u001b[0;32mpandas\\src\\hashtable_class_helper.pxi\u001b[0m in \u001b[0;36mpandas.hashtable.PyObjectHashTable.get_item (pandas\\hashtable.c:13115)\u001b[0;34m()\u001b[0m\n",
      "\u001b[0;31mKeyError\u001b[0m: 'review_score'"
     ]
    }
   ],
   "source": [
    "target = df5['review_score']\n",
    "df6 = df5.drop('review_score', axis=1,inplace= True)\n",
    "\n",
    "df6"
   ]
  },
  {
   "cell_type": "code",
   "execution_count": 24,
   "metadata": {
    "collapsed": false
   },
   "outputs": [
    {
     "ename": "TypeError",
     "evalue": "'NoneType' object is not subscriptable",
     "output_type": "error",
     "traceback": [
      "\u001b[0;31m---------------------------------------------------------------------------\u001b[0m",
      "\u001b[0;31mTypeError\u001b[0m                                 Traceback (most recent call last)",
      "\u001b[0;32m<ipython-input-24-0fe6caa0d17c>\u001b[0m in \u001b[0;36m<module>\u001b[0;34m()\u001b[0m\n\u001b[0;32m----> 1\u001b[0;31m \u001b[0mX\u001b[0m \u001b[1;33m=\u001b[0m \u001b[0mdf6\u001b[0m\u001b[1;33m[\u001b[0m\u001b[1;33m:\u001b[0m\u001b[0mdf3\u001b[0m\u001b[1;33m.\u001b[0m\u001b[0mshape\u001b[0m\u001b[1;33m[\u001b[0m\u001b[1;36m0\u001b[0m\u001b[1;33m]\u001b[0m\u001b[1;33m]\u001b[0m\u001b[1;33m\u001b[0m\u001b[0m\n\u001b[0m\u001b[1;32m      2\u001b[0m \u001b[0mtest2\u001b[0m \u001b[1;33m=\u001b[0m \u001b[0mdf6\u001b[0m\u001b[1;33m[\u001b[0m\u001b[0mdf3\u001b[0m\u001b[1;33m.\u001b[0m\u001b[0mshape\u001b[0m\u001b[1;33m[\u001b[0m\u001b[1;36m0\u001b[0m\u001b[1;33m]\u001b[0m\u001b[1;33m:\u001b[0m\u001b[1;33m]\u001b[0m\u001b[1;33m\u001b[0m\u001b[0m\n\u001b[1;32m      3\u001b[0m \u001b[1;33m\u001b[0m\u001b[0m\n\u001b[1;32m      4\u001b[0m \u001b[0my\u001b[0m \u001b[1;33m=\u001b[0m \u001b[0mtarget\u001b[0m\u001b[1;33m[\u001b[0m\u001b[1;33m:\u001b[0m\u001b[0mdf3\u001b[0m\u001b[1;33m.\u001b[0m\u001b[0mshape\u001b[0m\u001b[1;33m[\u001b[0m\u001b[1;36m0\u001b[0m\u001b[1;33m]\u001b[0m\u001b[1;33m]\u001b[0m\u001b[1;33m\u001b[0m\u001b[0m\n",
      "\u001b[0;31mTypeError\u001b[0m: 'NoneType' object is not subscriptable"
     ]
    }
   ],
   "source": [
    "X = df6[:df3.shape[0]]\n",
    "test2 = df6[df3.shape[0]:]\n",
    "\n",
    "y = target[:df3.shape[0]]\n"
   ]
  },
  {
   "cell_type": "code",
   "execution_count": 71,
   "metadata": {
    "collapsed": false
   },
   "outputs": [
    {
     "name": "stdout",
     "output_type": "stream",
     "text": [
      "780462 rows for training set\n",
      "192035 rows for test set\n",
      "780462 rows for target set\n"
     ]
    }
   ],
   "source": [
    "print (str(len(X))+\" rows for training set\")\n",
    "print (str(len(test2))+\" rows for test set\")\n",
    "print (str(len(y))+\" rows for target set\")"
   ]
  },
  {
   "cell_type": "code",
   "execution_count": 76,
   "metadata": {
    "collapsed": false
   },
   "outputs": [
    {
     "name": "stdout",
     "output_type": "stream",
     "text": [
      "0.0408948600967 0.0640617015734\n"
     ]
    }
   ],
   "source": [
    "from sklearn import cross_validation\n",
    "from sklearn.linear_model import LinearRegression\n",
    "from sklearn.metrics import r2_score\n",
    "\n",
    "num_folds = 10\n",
    "num_instances = len(X)\n",
    "seed = 7\n",
    "kfold = cross_validation.KFold(n=num_instances, n_folds=num_folds, random_state=seed)\n",
    "model = LinearRegression()\n",
    "scoring = 'r2'\n",
    "results = cross_validation.cross_val_score(model, X, y, cv=kfold, scoring=scoring)\n",
    "print(results.mean(), results.std())"
   ]
  },
  {
   "cell_type": "code",
   "execution_count": null,
   "metadata": {
    "collapsed": true
   },
   "outputs": [],
   "source": [
    "from sklearn.ensemble import RandomForestRegressor\n",
    "clf_random = RandomForestRegressor(n_estimators=10, n_jobs=-1)\n",
    "\n",
    "clf_random.fit(X, y)\n",
    "y_pred = clf_random.predict(test2)\n"
   ]
  },
  {
   "cell_type": "code",
   "execution_count": null,
   "metadata": {
    "collapsed": true
   },
   "outputs": [],
   "source": [
    "solution = pd.DataFrame({\"id\":df_test.Id, \"SalePrice\":y_pred}, columns=['id', 'SalePrice'])\n",
    "solution.to_csv(\"random_regressor.csv\", index = False)"
   ]
  }
 ],
 "metadata": {
  "anaconda-cloud": {},
  "kernelspec": {
   "display_name": "Python [default]",
   "language": "python",
   "name": "python3"
  },
  "language_info": {
   "codemirror_mode": {
    "name": "ipython",
    "version": 3
   },
   "file_extension": ".py",
   "mimetype": "text/x-python",
   "name": "python",
   "nbconvert_exporter": "python",
   "pygments_lexer": "ipython3",
   "version": "3.5.1"
  }
 },
 "nbformat": 4,
 "nbformat_minor": 1
}
